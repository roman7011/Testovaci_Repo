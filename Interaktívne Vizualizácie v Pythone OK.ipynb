{
 "cells":[
  {
   "cell_type":"markdown",
   "source":[
    "# Knižnice"
   ],
   "attachments":{},
   "metadata":{
    "datalore":{
     "node_id":"Knižnice",
     "type":"MD",
     "hide_input_from_viewers":false,
     "hide_output_from_viewers":false,
     "sheet_delimiter":true
    }
   }
  },
  {
   "cell_type":"markdown",
   "source":[
    "## 🐍 Kurz Interaktívne Vizualizácie v Pythone I. Začiatočník (Plotly a Bokeh)\n",
    "**🧑‍🏫 Lektor:** Miroslav Reiter  \n",
    "**📥 LinkedIn kontakt:** https:\/\/www.linkedin.com\/in\/miroslav-reiter\/  \n",
    "\n",
    "`*Testovaci* **Text**`\n",
    "\n",
    "**✅ Osnova:** https:\/\/itkurzy.sav.sk\/node\/225\n",
    "\n",
    "**🎞️ YouTube videá:** https:\/\/www.youtube.com\/c\/IT-AcademySK  \n",
    "**📇 Zdrojové kódy a materiály:** https:\/\/github.com\/miroslav-reiter\/Kurzy_SAV_Analytika_Python_R  \n",
    "\n",
    "**😊 Emojis:** Win + .  "
   ],
   "attachments":{},
   "metadata":{
    "datalore":{
     "node_id":"gtjaH8gOiCJE2ArnONNN4I",
     "type":"MD",
     "hide_input_from_viewers":false,
     "hide_output_from_viewers":false,
     "report_properties":{
      "rowId":"BuaxZHVowM1NDgIm5SGTW6"
     }
    }
   }
  },
  {
   "cell_type":"markdown",
   "source":[
    "# ⚒️ Používané nástroje dátovej analýzy\n",
    "- 🐍 **Python** - momentálne najpopulárnejší jazyk pre vedu o údajoch (Data science). Python je síce interpretovaný a pomalší jazyk ako C\/C++, ale využitím knižníc, ako je NumPy (a Pandas navyše), sa môžeme priblížiť rýchlosti C.  \n",
    "  \n",
    "- 🪐 **Jupyter** - nástroj s prostredím interaktívneho notebooku, mocný prieskumný, vizualizačný a komunikačný nástroj.\n",
    "  \n",
    "- 🐼 **Pandas** - nástroj na manipuláciu s tabuľkovými údajmi v Pythone. Je to obrovská knižnica, ale ak poznáte správne metódy, môžeme vytvoriť výkonnú analýzu.\n",
    "  \n",
    "- 📊 **Plotly** - dynamická grafická knižnica s rôznymi grafmi a vizualizáciami. V spojení s Pandas a Jupyter môžeme rýchlo získať prehľad o našich údajoch.  \n",
    "  \n",
    "- 🚀 **Bokeh** - knižnica v Pythone určená na tvorbu interaktívnych vizualizácií, ktoré možno ľahko zobrazovať v prehliadači. Umožňuje vytvárať dynamické grafy, tabuľky a mapy s podporou pre veľké množstvo dát a interakcií.\n",
    "\n",
    "😎 Existuje 300 000+ knižníc pre Python.  "
   ],
   "attachments":{},
   "metadata":{
    "datalore":{
     "node_id":"HlJXCNvBPNinkUIhkHUYU9",
     "type":"MD",
     "hide_input_from_viewers":false,
     "hide_output_from_viewers":false,
     "report_properties":{
      "rowId":"nT01gqoCPDuxVxR1lZEjaG"
     }
    }
   }
  },
  {
   "cell_type":"markdown",
   "source":[
    "# 📚 PIP, Knižnice a ich verzie \n",
    "**PIP (package installer for Python)** - Správca Balíčkov pre moduly programovacieho jazyka Python, Tiež napísaný v Pythone, Licencia MIT.  \n",
    "Dokumentácia PIP: https:\/\/pip.pypa.io\/en\/stable\/\n",
    "\n",
    "**PyPI (The Python Package Index)** - Repozitár\/úložisko softvéru pre programovací jazyk Python  \n",
    "https:\/\/pypi.org\n",
    "1"
   ],
   "attachments":{},
   "metadata":{
    "datalore":{
     "node_id":"utjXvhnaVEZx0y9tcUL1AW",
     "type":"MD",
     "hide_input_from_viewers":false,
     "hide_output_from_viewers":false,
     "report_properties":{
      "rowId":"HnEJbqSEA5YeuN0S9J1MeG"
     }
    }
   }
  },
  {
   "cell_type":"code",
   "source":[
    "# !pip list\n",
    "!pip install plotly\n",
    "!pip install bokeh\n",
    "!pip install seaborn\n",
    "!pip install matplotlib\n",
    "!pip install squarify"
   ],
   "execution_count":6,
   "outputs":[
    {
     "name":"stdout",
     "text":[
      "Requirement already satisfied: plotly in \/opt\/python\/envs\/default\/lib\/python3.8\/site-packages (5.14.1)\r\n",
      "Requirement already satisfied: tenacity>=6.2.0 in \/opt\/python\/envs\/default\/lib\/python3.8\/site-packages (from plotly) (8.5.0)\r\n",
      "Requirement already satisfied: packaging in \/opt\/python\/envs\/default\/lib\/python3.8\/site-packages (from plotly) (24.1)\r\n",
      "\r\n",
      "\u001b[1m[\u001b[0m\u001b[34;49mnotice\u001b[0m\u001b[1;39;49m]\u001b[0m\u001b[39;49m A new release of pip is available: \u001b[0m\u001b[31;49m23.1.2\u001b[0m\u001b[39;49m -> \u001b[0m\u001b[32;49m24.2\u001b[0m\r\n",
      "\u001b[1m[\u001b[0m\u001b[34;49mnotice\u001b[0m\u001b[1;39;49m]\u001b[0m\u001b[39;49m To update, run: \u001b[0m\u001b[32;49mpip install --upgrade pip\u001b[0m\r\n",
      "Requirement already satisfied: bokeh in \/opt\/python\/envs\/default\/lib\/python3.8\/site-packages (3.1.1)\r\n",
      "Requirement already satisfied: Jinja2>=2.9 in \/opt\/python\/envs\/default\/lib\/python3.8\/site-packages (from bokeh) (3.1.4)\r\n",
      "Requirement already satisfied: contourpy>=1 in \/opt\/python\/envs\/default\/lib\/python3.8\/site-packages (from bokeh) (1.1.1)\r\n",
      "Requirement already satisfied: numpy>=1.16 in \/opt\/python\/envs\/default\/lib\/python3.8\/site-packages (from bokeh) (1.24.3)\r\n",
      "Requirement already satisfied: packaging>=16.8 in \/opt\/python\/envs\/default\/lib\/python3.8\/site-packages (from bokeh) (24.1)\r\n",
      "Requirement already satisfied: pandas>=1.2 in \/opt\/python\/envs\/default\/lib\/python3.8\/site-packages (from bokeh) (1.5.3)\r\n",
      "Requirement already satisfied: pillow>=7.1.0 in \/opt\/python\/envs\/default\/lib\/python3.8\/site-packages (from bokeh) (10.4.0)\r\n",
      "Requirement already satisfied: PyYAML>=3.10 in \/opt\/python\/envs\/default\/lib\/python3.8\/site-packages (from bokeh) (6.0.1)\r\n",
      "Requirement already satisfied: tornado>=5.1 in \/opt\/python\/envs\/default\/lib\/python3.8\/site-packages (from bokeh) (6.4.1)\r\n",
      "Requirement already satisfied: xyzservices>=2021.09.1 in \/opt\/python\/envs\/default\/lib\/python3.8\/site-packages (from bokeh) (2024.6.0)\r\n",
      "Requirement already satisfied: MarkupSafe>=2.0 in \/opt\/python\/envs\/default\/lib\/python3.8\/site-packages (from Jinja2>=2.9->bokeh) (2.1.5)\r\n",
      "Requirement already satisfied: python-dateutil>=2.8.1 in \/opt\/python\/envs\/default\/lib\/python3.8\/site-packages (from pandas>=1.2->bokeh) (2.9.0.post0)\r\n",
      "Requirement already satisfied: pytz>=2020.1 in \/opt\/python\/envs\/default\/lib\/python3.8\/site-packages (from pandas>=1.2->bokeh) (2024.1)\r\n",
      "Requirement already satisfied: six>=1.5 in \/opt\/python\/envs\/default\/lib\/python3.8\/site-packages (from python-dateutil>=2.8.1->pandas>=1.2->bokeh) (1.16.0)\r\n",
      "\r\n",
      "\u001b[1m[\u001b[0m\u001b[34;49mnotice\u001b[0m\u001b[1;39;49m]\u001b[0m\u001b[39;49m A new release of pip is available: \u001b[0m\u001b[31;49m23.1.2\u001b[0m\u001b[39;49m -> \u001b[0m\u001b[32;49m24.2\u001b[0m\r\n",
      "\u001b[1m[\u001b[0m\u001b[34;49mnotice\u001b[0m\u001b[1;39;49m]\u001b[0m\u001b[39;49m To update, run: \u001b[0m\u001b[32;49mpip install --upgrade pip\u001b[0m\r\n",
      "Requirement already satisfied: seaborn in \/opt\/python\/envs\/default\/lib\/python3.8\/site-packages (0.12.2)\r\n",
      "Requirement already satisfied: numpy!=1.24.0,>=1.17 in \/opt\/python\/envs\/default\/lib\/python3.8\/site-packages (from seaborn) (1.24.3)\r\n",
      "Requirement already satisfied: pandas>=0.25 in \/opt\/python\/envs\/default\/lib\/python3.8\/site-packages (from seaborn) (1.5.3)\r\n",
      "Requirement already satisfied: matplotlib!=3.6.1,>=3.1 in \/opt\/python\/envs\/default\/lib\/python3.8\/site-packages (from seaborn) (3.7.1)\r\n",
      "Requirement already satisfied: contourpy>=1.0.1 in \/opt\/python\/envs\/default\/lib\/python3.8\/site-packages (from matplotlib!=3.6.1,>=3.1->seaborn) (1.1.1)\r\n",
      "Requirement already satisfied: cycler>=0.10 in \/opt\/python\/envs\/default\/lib\/python3.8\/site-packages (from matplotlib!=3.6.1,>=3.1->seaborn) (0.12.1)\r\n",
      "Requirement already satisfied: fonttools>=4.22.0 in \/opt\/python\/envs\/default\/lib\/python3.8\/site-packages (from matplotlib!=3.6.1,>=3.1->seaborn) (4.53.1)\r\n",
      "Requirement already satisfied: kiwisolver>=1.0.1 in \/opt\/python\/envs\/default\/lib\/python3.8\/site-packages (from matplotlib!=3.6.1,>=3.1->seaborn) (1.4.5)\r\n",
      "Requirement already satisfied: packaging>=20.0 in \/opt\/python\/envs\/default\/lib\/python3.8\/site-packages (from matplotlib!=3.6.1,>=3.1->seaborn) (24.1)\r\n",
      "Requirement already satisfied: pillow>=6.2.0 in \/opt\/python\/envs\/default\/lib\/python3.8\/site-packages (from matplotlib!=3.6.1,>=3.1->seaborn) (10.4.0)\r\n",
      "Requirement already satisfied: pyparsing>=2.3.1 in \/opt\/python\/envs\/default\/lib\/python3.8\/site-packages (from matplotlib!=3.6.1,>=3.1->seaborn) (3.1.2)\r\n",
      "Requirement already satisfied: python-dateutil>=2.7 in \/opt\/python\/envs\/default\/lib\/python3.8\/site-packages (from matplotlib!=3.6.1,>=3.1->seaborn) (2.9.0.post0)\r\n",
      "Requirement already satisfied: importlib-resources>=3.2.0 in \/opt\/python\/envs\/default\/lib\/python3.8\/site-packages (from matplotlib!=3.6.1,>=3.1->seaborn) (6.4.0)\r\n",
      "Requirement already satisfied: pytz>=2020.1 in \/opt\/python\/envs\/default\/lib\/python3.8\/site-packages (from pandas>=0.25->seaborn) (2024.1)\r\n",
      "Requirement already satisfied: zipp>=3.1.0 in \/opt\/python\/envs\/default\/lib\/python3.8\/site-packages (from importlib-resources>=3.2.0->matplotlib!=3.6.1,>=3.1->seaborn) (3.19.2)\r\n",
      "Requirement already satisfied: six>=1.5 in \/opt\/python\/envs\/default\/lib\/python3.8\/site-packages (from python-dateutil>=2.7->matplotlib!=3.6.1,>=3.1->seaborn) (1.16.0)\r\n",
      "\r\n",
      "\u001b[1m[\u001b[0m\u001b[34;49mnotice\u001b[0m\u001b[1;39;49m]\u001b[0m\u001b[39;49m A new release of pip is available: \u001b[0m\u001b[31;49m23.1.2\u001b[0m\u001b[39;49m -> \u001b[0m\u001b[32;49m24.2\u001b[0m\r\n",
      "\u001b[1m[\u001b[0m\u001b[34;49mnotice\u001b[0m\u001b[1;39;49m]\u001b[0m\u001b[39;49m To update, run: \u001b[0m\u001b[32;49mpip install --upgrade pip\u001b[0m\r\n",
      "Requirement already satisfied: matplotlib in \/opt\/python\/envs\/default\/lib\/python3.8\/site-packages (3.7.1)\r\n",
      "Requirement already satisfied: contourpy>=1.0.1 in \/opt\/python\/envs\/default\/lib\/python3.8\/site-packages (from matplotlib) (1.1.1)\r\n",
      "Requirement already satisfied: cycler>=0.10 in \/opt\/python\/envs\/default\/lib\/python3.8\/site-packages (from matplotlib) (0.12.1)\r\n",
      "Requirement already satisfied: fonttools>=4.22.0 in \/opt\/python\/envs\/default\/lib\/python3.8\/site-packages (from matplotlib) (4.53.1)\r\n",
      "Requirement already satisfied: kiwisolver>=1.0.1 in \/opt\/python\/envs\/default\/lib\/python3.8\/site-packages (from matplotlib) (1.4.5)\r\n",
      "Requirement already satisfied: numpy>=1.20 in \/opt\/python\/envs\/default\/lib\/python3.8\/site-packages (from matplotlib) (1.24.3)\r\n",
      "Requirement already satisfied: packaging>=20.0 in \/opt\/python\/envs\/default\/lib\/python3.8\/site-packages (from matplotlib) (24.1)\r\n",
      "Requirement already satisfied: pillow>=6.2.0 in \/opt\/python\/envs\/default\/lib\/python3.8\/site-packages (from matplotlib) (10.4.0)\r\n",
      "Requirement already satisfied: pyparsing>=2.3.1 in \/opt\/python\/envs\/default\/lib\/python3.8\/site-packages (from matplotlib) (3.1.2)\r\n",
      "Requirement already satisfied: python-dateutil>=2.7 in \/opt\/python\/envs\/default\/lib\/python3.8\/site-packages (from matplotlib) (2.9.0.post0)\r\n",
      "Requirement already satisfied: importlib-resources>=3.2.0 in \/opt\/python\/envs\/default\/lib\/python3.8\/site-packages (from matplotlib) (6.4.0)\r\n",
      "Requirement already satisfied: zipp>=3.1.0 in \/opt\/python\/envs\/default\/lib\/python3.8\/site-packages (from importlib-resources>=3.2.0->matplotlib) (3.19.2)\r\n",
      "Requirement already satisfied: six>=1.5 in \/opt\/python\/envs\/default\/lib\/python3.8\/site-packages (from python-dateutil>=2.7->matplotlib) (1.16.0)\r\n",
      "\r\n",
      "\u001b[1m[\u001b[0m\u001b[34;49mnotice\u001b[0m\u001b[1;39;49m]\u001b[0m\u001b[39;49m A new release of pip is available: \u001b[0m\u001b[31;49m23.1.2\u001b[0m\u001b[39;49m -> \u001b[0m\u001b[32;49m24.2\u001b[0m\r\n",
      "\u001b[1m[\u001b[0m\u001b[34;49mnotice\u001b[0m\u001b[1;39;49m]\u001b[0m\u001b[39;49m To update, run: \u001b[0m\u001b[32;49mpip install --upgrade pip\u001b[0m\r\n",
      "Requirement already satisfied: squarify in \/opt\/python\/envs\/default\/lib\/python3.8\/site-packages (0.4.4)\r\n",
      "\r\n",
      "\u001b[1m[\u001b[0m\u001b[34;49mnotice\u001b[0m\u001b[1;39;49m]\u001b[0m\u001b[39;49m A new release of pip is available: \u001b[0m\u001b[31;49m23.1.2\u001b[0m\u001b[39;49m -> \u001b[0m\u001b[32;49m24.2\u001b[0m\r\n",
      "\u001b[1m[\u001b[0m\u001b[34;49mnotice\u001b[0m\u001b[1;39;49m]\u001b[0m\u001b[39;49m To update, run: \u001b[0m\u001b[32;49mpip install --upgrade pip\u001b[0m\r\n"
     ],
     "output_type":"stream"
    }
   ],
   "metadata":{
    "datalore":{
     "node_id":"9qcpLqqMxlDm2F9q53LHot",
     "type":"CODE",
     "hide_input_from_viewers":false,
     "hide_output_from_viewers":false,
     "report_properties":{
      "rowId":"dt5hnZzXUFlltVlRnzQ6cE"
     }
    }
   }
  },
  {
   "cell_type":"code",
   "source":[
    "!pip freeze"
   ],
   "execution_count":9,
   "outputs":[
    {
     "name":"stdout",
     "text":[
      "absl-py==2.1.0\r\n",
      "aiohttp==3.8.4\r\n",
      "aiosignal==1.3.1\r\n",
      "alabaster==0.7.13\r\n",
      "annotated-types==0.7.0\r\n",
      "anyio==3.7.1\r\n",
      "argon2-cffi==23.1.0\r\n",
      "argon2-cffi-bindings==21.2.0\r\n",
      "astunparse==1.6.3\r\n",
      "async-timeout==4.0.3\r\n",
      "attrs==23.2.0\r\n",
      "Babel==2.15.0\r\n",
      "backcall==0.2.0\r\n",
      "beautifulsoup4==4.12.3\r\n",
      "bleach==6.1.0\r\n",
      "blis==0.7.11\r\n",
      "bokeh==3.1.1\r\n",
      "boto3==1.26.133\r\n",
      "botocore==1.29.165\r\n",
      "cachetools==5.4.0\r\n",
      "catalogue==2.0.10\r\n",
      "certifi==2024.7.4\r\n",
      "cffi==1.16.0\r\n",
      "charset-normalizer==3.3.2\r\n",
      "click==8.1.7\r\n",
      "click-plugins==1.1.1\r\n",
      "cligj==0.7.2\r\n",
      "cloudpathlib==0.18.1\r\n",
      "confection==0.1.5\r\n",
      "contourpy==1.1.1\r\n",
      "cycler==0.12.1\r\n",
      "cymem==2.0.8\r\n",
      "decorator==5.1.1\r\n",
      "defusedxml==0.7.1\r\n",
      "descartes==1.1.0\r\n",
      "docutils==0.20.1\r\n",
      "duckdb==0.7.1\r\n",
      "exceptiongroup==1.2.2\r\n",
      "fastai==2.7.12\r\n",
      "fastcore==1.5.55\r\n",
      "fastdownload==0.0.7\r\n",
      "fastjsonschema==2.20.0\r\n",
      "fastprogress==1.0.3\r\n",
      "filelock==3.15.4\r\n",
      "Fiona==1.9.3\r\n",
      "flatbuffers==24.3.25\r\n",
      "fonttools==4.53.1\r\n",
      "frozenlist==1.4.1\r\n",
      "fsspec==2024.6.1\r\n",
      "gast==0.4.0\r\n",
      "gensim==4.3.1\r\n",
      "geopandas==0.13.0\r\n",
      "google-auth==2.32.0\r\n",
      "google-auth-oauthlib==0.4.6\r\n",
      "google-pasta==0.2.0\r\n",
      "greenlet==3.0.3\r\n",
      "grpcio==1.65.1\r\n",
      "h5py==3.11.0\r\n",
      "huggingface-hub==0.24.2\r\n",
      "idna==3.7\r\n",
      "imageio==2.34.2\r\n",
      "imagesize==1.4.1\r\n",
      "importlib_metadata==8.2.0\r\n",
      "importlib_resources==6.4.0\r\n",
      "ipykernel==5.5.3\r\n",
      "ipython==7.31.1\r\n",
      "ipython-genutils==0.2.0\r\n",
      "ipywidgets==7.6.5\r\n",
      "jedi==0.17.2\r\n",
      "Jinja2==3.1.4\r\n",
      "jmespath==1.0.1\r\n",
      "joblib==1.4.2\r\n",
      "jsonschema==4.23.0\r\n",
      "jsonschema-specifications==2023.12.1\r\n",
      "jupyter-client==6.1.12\r\n",
      "jupyter-server==1.24.0\r\n",
      "jupyter_core==5.7.2\r\n",
      "jupyterlab_pygments==0.3.0\r\n",
      "jupyterlab_widgets==3.0.11\r\n",
      "keras==2.10.0\r\n",
      "Keras-Preprocessing==1.1.2\r\n",
      "kiwisolver==1.4.5\r\n",
      "kotlin-jupyter-kernel==0.12.0.217\r\n",
      "langcodes==3.4.0\r\n",
      "language_data==1.2.0\r\n",
      "lazy_loader==0.4\r\n",
      "lets-plot==4.3.3\r\n",
      "libclang==18.1.1\r\n",
      "lxml==4.9.2\r\n",
      "marisa-trie==1.2.0\r\n",
      "Markdown==3.6\r\n",
      "markdown-it-py==3.0.0\r\n",
      "MarkupSafe==2.1.5\r\n",
      "matplotlib==3.7.1\r\n",
      "matplotlib-inline==0.1.7\r\n",
      "mdurl==0.1.2\r\n",
      "mistune==3.0.2\r\n",
      "mpmath==1.3.0\r\n",
      "multidict==6.0.5\r\n",
      "munch==4.0.0\r\n",
      "murmurhash==1.0.10\r\n",
      "nbclassic==1.1.0\r\n",
      "nbclient==0.10.0\r\n",
      "nbconvert==7.16.4\r\n",
      "nbformat==5.8.0\r\n",
      "nest-asyncio==1.6.0\r\n",
      "networkx==3.1\r\n",
      "notebook==6.5.7\r\n",
      "notebook_shim==0.2.4\r\n",
      "numpy==1.24.3\r\n",
      "numpydoc==1.5.0\r\n",
      "oauthlib==3.2.2\r\n",
      "opencv-python-headless==4.7.0.72\r\n",
      "opt-einsum==3.3.0\r\n",
      "packaging==24.1\r\n",
      "palettable==3.3.3\r\n",
      "pandas==1.5.3\r\n",
      "pandas-datareader==0.10.0\r\n",
      "pandocfilters==1.5.1\r\n",
      "parso==0.7.1\r\n",
      "patsy==0.5.6\r\n",
      "pexpect==4.9.0\r\n",
      "pickleshare==0.7.5\r\n",
      "pillow==10.4.0\r\n",
      "pkgutil_resolve_name==1.3.10\r\n",
      "platformdirs==4.2.2\r\n",
      "plotly==5.14.1\r\n",
      "polars==0.20.31\r\n",
      "preshed==3.0.9\r\n",
      "prometheus_client==0.20.0\r\n",
      "prompt_toolkit==3.0.47\r\n",
      "protobuf==3.19.6\r\n",
      "psycopg2-binary==2.9.6\r\n",
      "ptyprocess==0.7.0\r\n",
      "py4j==0.10.9.7\r\n",
      "pyasn1==0.6.0\r\n",
      "pyasn1_modules==0.4.0\r\n",
      "pycparser==2.22\r\n",
      "pydantic==2.8.2\r\n",
      "pydantic_core==2.20.1\r\n",
      "Pygments==2.18.0\r\n",
      "PyMySQL==1.0.3\r\n",
      "pyparsing==3.1.2\r\n",
      "pypng==0.20220715.0\r\n",
      "pyproj==3.5.0\r\n",
      "pyspark==3.4.0\r\n",
      "python-dateutil==2.9.0.post0\r\n",
      "pytz==2024.1\r\n",
      "PyWavelets==1.4.1\r\n",
      "PyYAML==6.0.1\r\n",
      "pyzmq==26.0.3\r\n",
      "referencing==0.35.1\r\n",
      "regex==2024.7.24\r\n",
      "requests==2.30.0\r\n",
      "requests-oauthlib==2.0.0\r\n",
      "rich==13.7.1\r\n",
      "rpds-py==0.19.1\r\n",
      "rsa==4.9\r\n",
      "s3transfer==0.6.2\r\n",
      "scikit-image==0.20.0\r\n",
      "scikit-learn==1.2.2\r\n",
      "scipy==1.9.1\r\n",
      "seaborn==0.12.2\r\n",
      "Send2Trash==1.8.3\r\n",
      "shapely==2.0.5\r\n",
      "shellingham==1.5.4\r\n",
      "six==1.16.0\r\n",
      "smart-open==7.0.4\r\n",
      "sniffio==1.3.1\r\n",
      "snowballstemmer==2.2.0\r\n",
      "soupsieve==2.5\r\n",
      "spacy==3.7.5\r\n",
      "spacy-legacy==3.0.12\r\n",
      "spacy-loggers==1.0.5\r\n",
      "Sphinx==7.1.2\r\n",
      "sphinxcontrib-applehelp==1.0.4\r\n",
      "sphinxcontrib-devhelp==1.0.2\r\n",
      "sphinxcontrib-htmlhelp==2.0.1\r\n",
      "sphinxcontrib-jsmath==1.0.1\r\n",
      "sphinxcontrib-qthelp==1.0.3\r\n",
      "sphinxcontrib-serializinghtml==1.1.5\r\n",
      "SQLAlchemy==2.0.13\r\n",
      "squarify==0.4.4\r\n",
      "srsly==2.4.8\r\n",
      "statsmodels==0.14.0\r\n",
      "sympy==1.12\r\n",
      "tenacity==8.5.0\r\n",
      "tensorboard==2.10.1\r\n",
      "tensorboard-data-server==0.6.1\r\n",
      "tensorboard-plugin-wit==1.8.1\r\n",
      "tensorflow-cpu==2.10.1\r\n",
      "tensorflow-estimator==2.10.0\r\n",
      "tensorflow-io-gcs-filesystem==0.34.0\r\n",
      "termcolor==2.4.0\r\n",
      "terminado==0.18.1\r\n",
      "thinc==8.2.5\r\n",
      "threadpoolctl==3.5.0\r\n",
      "tifffile==2023.7.10\r\n",
      "tinycss2==1.3.0\r\n",
      "tokenizers==0.13.3\r\n",
      "torch==2.0.1+cpu\r\n",
      "torchvision==0.15.2+cpu\r\n",
      "tornado==6.4.1\r\n",
      "tqdm==4.66.4\r\n",
      "traitlets==5.14.3\r\n",
      "transformers==4.29.1\r\n",
      "typer==0.12.3\r\n",
      "typing_extensions==4.12.2\r\n",
      "urllib3==1.26.19\r\n",
      "wasabi==1.1.3\r\n",
      "wcwidth==0.2.13\r\n",
      "weasel==0.4.1\r\n",
      "webencodings==0.5.1\r\n",
      "websocket-client==1.8.0\r\n",
      "Werkzeug==3.0.3\r\n",
      "widgetsnbextension==3.5.2\r\n",
      "wrapt==1.16.0\r\n",
      "xgboost==1.7.5\r\n",
      "xlrd==2.0.1\r\n",
      "xyzservices==2024.6.0\r\n",
      "yarl==1.9.4\r\n",
      "zipp==3.19.2\r\n"
     ],
     "output_type":"stream"
    }
   ],
   "metadata":{
    "datalore":{
     "node_id":"Qf2fGBT29Tp85ig2h3H6be",
     "type":"CODE",
     "hide_input_from_viewers":false,
     "hide_output_from_viewers":false,
     "report_properties":{
      "rowId":"iF77wHN3KjirO3UBNMvq29"
     }
    }
   }
  },
  {
   "cell_type":"markdown",
   "source":[
    "# 📜 Verzie vizualizačných knižnic \n",
    "try - except - finally  \n",
    "\n",
    "https:\/\/docs.python.org\/3\/tutorial\/errors.html "
   ],
   "attachments":{},
   "metadata":{
    "datalore":{
     "node_id":"O6f5kWGeujRXtOQVWAlLTl",
     "type":"MD",
     "hide_input_from_viewers":false,
     "hide_output_from_viewers":false,
     "report_properties":{
      "rowId":"E9cX2hSUAeBjar0TwM5syB"
     }
    }
   }
  },
  {
   "cell_type":"code",
   "source":[
    "import pandas as pd\n",
    "\n",
    "import matplotlib as plt\n",
    "import plotly\n",
    "import bokeh\n",
    "import seaborn\n",
    "import squarify\n",
    "import importlib_metadata\n",
    "\n",
    "# print(f\"squarify verzia: {squarify.__version__}\")\n",
    "print(f\"Matplotlib verzia: {plt.__version__}\")\n",
    "print(f\"Plotly verzia: {plotly.__version__}\")\n",
    "print(f\"pandas verzia: {pd.__version__}\")\n",
    "print(f\"bokeh verzia: {bokeh.__version__}\")\n",
    "print(f\"seaborn verzia: {seaborn.__version__}\")\n",
    "print(f\"squarify verzia: {importlib_metadata.version('squarify')}\")\n",
    "print(f\"seaborn verzia: {importlib_metadata.version('seaborn')}\")"
   ],
   "execution_count":20,
   "outputs":[
    {
     "name":"stdout",
     "text":[
      "Matplotlib verzia: 3.7.1\n",
      "Plotly verzia: 5.14.1\n",
      "pandas verzia: 1.5.3\n",
      "bokeh verzia: 3.1.1\n",
      "seaborn verzia: 0.12.2\n",
      "squarify verzia: 0.4.4\n",
      "seaborn verzia: 0.12.2\n"
     ],
     "output_type":"stream"
    }
   ],
   "metadata":{
    "datalore":{
     "node_id":"V0v8HOOhd9hhVxJnX8q4eL",
     "type":"CODE",
     "hide_input_from_viewers":true,
     "hide_output_from_viewers":true
    }
   }
  },
  {
   "cell_type":"code",
   "source":[
    "try:\n",
    "    # Dataframes (Datove Ramce) = Tabulky\n",
    "    # Uzitocne metody import, export, statistiky\n",
    "    import pandas as pd\n",
    "    # Grafy, Diagramy, Vizualizacie\n",
    "    import matplotlib\n",
    "    import plotly\n",
    "    import bokeh\n",
    "    import seaborn\n",
    "    import importlib.metadata\n",
    "    import squarify\n",
    "\n",
    "    print(\"TRY:\")\n",
    "    print(\"✅ Moduly\/kniznice boli nacitane\")\n",
    "    # Zobrazenie verzií knižníc\n",
    "    print(f\"Plotly verzia: {plotly.__version__}\")\n",
    "    print(f\"Bokeh verzia: {bokeh.__version__}\")\n",
    "    print(f\"Seaborn verzia: {seaborn.__version__}\")\n",
    "    print(f\"Matplotlib verzia: {matplotlib.__version__}\")\n",
    "    print(f\"Squarify verzia: {importlib.metadata.version('squarify')}\")\n",
    "    # print(f\"Squarify verzia: {squarify.__version__}\")\n",
    "\n",
    "except:\n",
    "    print(\"EXCEPT: Moduly\/Kniznice neboli nacitane, nastala chyba...\")\n",
    "\n",
    "finally:\n",
    "    print(\"\\nFINALLY: Tento text sa vypise vzdy\")"
   ],
   "execution_count":21,
   "outputs":[
    {
     "name":"stdout",
     "text":[
      "TRY:\n",
      "✅ Moduly\/kniznice boli nacitane\n",
      "Plotly verzia: 5.14.1\n",
      "Bokeh verzia: 3.1.1\n",
      "Seaborn verzia: 0.12.2\n",
      "Matplotlib verzia: 3.7.1\n",
      "Squarify verzia: 0.4.4\n",
      "\n",
      "FINALLY: Tento text sa vypise vzdy\n"
     ],
     "output_type":"stream"
    }
   ],
   "metadata":{
    "datalore":{
     "node_id":"xxC61eI2Oqyzy8GmzzwrET",
     "type":"CODE",
     "hide_input_from_viewers":false,
     "hide_output_from_viewers":false,
     "report_properties":{
      "rowId":"csTaUBzwY1G6f6IoNz36lu"
     }
    }
   }
  },
  {
   "cell_type":"markdown",
   "source":[
    "# 📊 Príklad na použitie Plotly"
   ],
   "attachments":{},
   "metadata":{
    "datalore":{
     "node_id":"9nZeU67HPQXJSgN5qZb7h6",
     "type":"MD",
     "hide_input_from_viewers":true,
     "hide_output_from_viewers":true
    }
   }
  },
  {
   "cell_type":"code",
   "source":[
    "import plotly.graph_objects as go \n",
    "\n",
    "x_hodnota = [1,2,3,4,5]\n",
    "y_hodnota = [10, 14, 12, 8, 16]\n",
    "\n",
    "fig = go.Figure(data=go.Scatter(x=x_hodnota, y=y_hodnota, name = \"Ciarovy graf 👍\"))\n",
    "\n",
    "fig.update_layout(\n",
    "    title=\"Ciarovy graf\",\n",
    "    xaxis_title = \"Os X\",\n",
    "    yaxis_title = \"Os Y\",\n",
    "    legend_title = \"Legenda\",\n",
    "    showlegend=True\n",
    ")\n",
    "\n",
    "fig.show()"
   ],
   "execution_count":6,
   "outputs":[
    {
     "data":{
      "application\/vnd.plotly.v1+json":{
       "data":[
        {
         "name":"Ciarovy graf 👍",
         "x":[
          1,
          2,
          3,
          4,
          5
         ],
         "y":[
          10,
          14,
          12,
          8,
          16
         ],
         "type":"scatter"
        }
       ],
       "layout":{
        "template":{
         "data":{
          "histogram2dcontour":[
           {
            "type":"histogram2dcontour",
            "colorbar":{
             "outlinewidth":0,
             "ticks":""
            },
            "colorscale":[
             [
              0,
              "#0d0887"
             ],
             [
              0.1111111111111111,
              "#46039f"
             ],
             [
              0.2222222222222222,
              "#7201a8"
             ],
             [
              0.3333333333333333,
              "#9c179e"
             ],
             [
              0.4444444444444444,
              "#bd3786"
             ],
             [
              0.5555555555555556,
              "#d8576b"
             ],
             [
              0.6666666666666666,
              "#ed7953"
             ],
             [
              0.7777777777777778,
              "#fb9f3a"
             ],
             [
              0.8888888888888888,
              "#fdca26"
             ],
             [
              1,
              "#f0f921"
             ]
            ]
           }
          ],
          "choropleth":[
           {
            "type":"choropleth",
            "colorbar":{
             "outlinewidth":0,
             "ticks":""
            }
           }
          ],
          "histogram2d":[
           {
            "type":"histogram2d",
            "colorbar":{
             "outlinewidth":0,
             "ticks":""
            },
            "colorscale":[
             [
              0,
              "#0d0887"
             ],
             [
              0.1111111111111111,
              "#46039f"
             ],
             [
              0.2222222222222222,
              "#7201a8"
             ],
             [
              0.3333333333333333,
              "#9c179e"
             ],
             [
              0.4444444444444444,
              "#bd3786"
             ],
             [
              0.5555555555555556,
              "#d8576b"
             ],
             [
              0.6666666666666666,
              "#ed7953"
             ],
             [
              0.7777777777777778,
              "#fb9f3a"
             ],
             [
              0.8888888888888888,
              "#fdca26"
             ],
             [
              1,
              "#f0f921"
             ]
            ]
           }
          ],
          "heatmap":[
           {
            "type":"heatmap",
            "colorbar":{
             "outlinewidth":0,
             "ticks":""
            },
            "colorscale":[
             [
              0,
              "#0d0887"
             ],
             [
              0.1111111111111111,
              "#46039f"
             ],
             [
              0.2222222222222222,
              "#7201a8"
             ],
             [
              0.3333333333333333,
              "#9c179e"
             ],
             [
              0.4444444444444444,
              "#bd3786"
             ],
             [
              0.5555555555555556,
              "#d8576b"
             ],
             [
              0.6666666666666666,
              "#ed7953"
             ],
             [
              0.7777777777777778,
              "#fb9f3a"
             ],
             [
              0.8888888888888888,
              "#fdca26"
             ],
             [
              1,
              "#f0f921"
             ]
            ]
           }
          ],
          "heatmapgl":[
           {
            "type":"heatmapgl",
            "colorbar":{
             "outlinewidth":0,
             "ticks":""
            },
            "colorscale":[
             [
              0,
              "#0d0887"
             ],
             [
              0.1111111111111111,
              "#46039f"
             ],
             [
              0.2222222222222222,
              "#7201a8"
             ],
             [
              0.3333333333333333,
              "#9c179e"
             ],
             [
              0.4444444444444444,
              "#bd3786"
             ],
             [
              0.5555555555555556,
              "#d8576b"
             ],
             [
              0.6666666666666666,
              "#ed7953"
             ],
             [
              0.7777777777777778,
              "#fb9f3a"
             ],
             [
              0.8888888888888888,
              "#fdca26"
             ],
             [
              1,
              "#f0f921"
             ]
            ]
           }
          ],
          "contourcarpet":[
           {
            "type":"contourcarpet",
            "colorbar":{
             "outlinewidth":0,
             "ticks":""
            }
           }
          ],
          "contour":[
           {
            "type":"contour",
            "colorbar":{
             "outlinewidth":0,
             "ticks":""
            },
            "colorscale":[
             [
              0,
              "#0d0887"
             ],
             [
              0.1111111111111111,
              "#46039f"
             ],
             [
              0.2222222222222222,
              "#7201a8"
             ],
             [
              0.3333333333333333,
              "#9c179e"
             ],
             [
              0.4444444444444444,
              "#bd3786"
             ],
             [
              0.5555555555555556,
              "#d8576b"
             ],
             [
              0.6666666666666666,
              "#ed7953"
             ],
             [
              0.7777777777777778,
              "#fb9f3a"
             ],
             [
              0.8888888888888888,
              "#fdca26"
             ],
             [
              1,
              "#f0f921"
             ]
            ]
           }
          ],
          "surface":[
           {
            "type":"surface",
            "colorbar":{
             "outlinewidth":0,
             "ticks":""
            },
            "colorscale":[
             [
              0,
              "#0d0887"
             ],
             [
              0.1111111111111111,
              "#46039f"
             ],
             [
              0.2222222222222222,
              "#7201a8"
             ],
             [
              0.3333333333333333,
              "#9c179e"
             ],
             [
              0.4444444444444444,
              "#bd3786"
             ],
             [
              0.5555555555555556,
              "#d8576b"
             ],
             [
              0.6666666666666666,
              "#ed7953"
             ],
             [
              0.7777777777777778,
              "#fb9f3a"
             ],
             [
              0.8888888888888888,
              "#fdca26"
             ],
             [
              1,
              "#f0f921"
             ]
            ]
           }
          ],
          "mesh3d":[
           {
            "type":"mesh3d",
            "colorbar":{
             "outlinewidth":0,
             "ticks":""
            }
           }
          ],
          "scatter":[
           {
            "fillpattern":{
             "fillmode":"overlay",
             "size":10,
             "solidity":0.2
            },
            "type":"scatter"
           }
          ],
          "parcoords":[
           {
            "type":"parcoords",
            "line":{
             "colorbar":{
              "outlinewidth":0,
              "ticks":""
             }
            }
           }
          ],
          "scatterpolargl":[
           {
            "type":"scatterpolargl",
            "marker":{
             "colorbar":{
              "outlinewidth":0,
              "ticks":""
             }
            }
           }
          ],
          "bar":[
           {
            "error_x":{
             "color":"#2a3f5f"
            },
            "error_y":{
             "color":"#2a3f5f"
            },
            "marker":{
             "line":{
              "color":"#E5ECF6",
              "width":0.5
             },
             "pattern":{
              "fillmode":"overlay",
              "size":10,
              "solidity":0.2
             }
            },
            "type":"bar"
           }
          ],
          "scattergeo":[
           {
            "type":"scattergeo",
            "marker":{
             "colorbar":{
              "outlinewidth":0,
              "ticks":""
             }
            }
           }
          ],
          "scatterpolar":[
           {
            "type":"scatterpolar",
            "marker":{
             "colorbar":{
              "outlinewidth":0,
              "ticks":""
             }
            }
           }
          ],
          "histogram":[
           {
            "marker":{
             "pattern":{
              "fillmode":"overlay",
              "size":10,
              "solidity":0.2
             }
            },
            "type":"histogram"
           }
          ],
          "scattergl":[
           {
            "type":"scattergl",
            "marker":{
             "colorbar":{
              "outlinewidth":0,
              "ticks":""
             }
            }
           }
          ],
          "scatter3d":[
           {
            "type":"scatter3d",
            "line":{
             "colorbar":{
              "outlinewidth":0,
              "ticks":""
             }
            },
            "marker":{
             "colorbar":{
              "outlinewidth":0,
              "ticks":""
             }
            }
           }
          ],
          "scattermapbox":[
           {
            "type":"scattermapbox",
            "marker":{
             "colorbar":{
              "outlinewidth":0,
              "ticks":""
             }
            }
           }
          ],
          "scatterternary":[
           {
            "type":"scatterternary",
            "marker":{
             "colorbar":{
              "outlinewidth":0,
              "ticks":""
             }
            }
           }
          ],
          "scattercarpet":[
           {
            "type":"scattercarpet",
            "marker":{
             "colorbar":{
              "outlinewidth":0,
              "ticks":""
             }
            }
           }
          ],
          "carpet":[
           {
            "aaxis":{
             "endlinecolor":"#2a3f5f",
             "gridcolor":"white",
             "linecolor":"white",
             "minorgridcolor":"white",
             "startlinecolor":"#2a3f5f"
            },
            "baxis":{
             "endlinecolor":"#2a3f5f",
             "gridcolor":"white",
             "linecolor":"white",
             "minorgridcolor":"white",
             "startlinecolor":"#2a3f5f"
            },
            "type":"carpet"
           }
          ],
          "table":[
           {
            "cells":{
             "fill":{
              "color":"#EBF0F8"
             },
             "line":{
              "color":"white"
             }
            },
            "header":{
             "fill":{
              "color":"#C8D4E3"
             },
             "line":{
              "color":"white"
             }
            },
            "type":"table"
           }
          ],
          "barpolar":[
           {
            "marker":{
             "line":{
              "color":"#E5ECF6",
              "width":0.5
             },
             "pattern":{
              "fillmode":"overlay",
              "size":10,
              "solidity":0.2
             }
            },
            "type":"barpolar"
           }
          ],
          "pie":[
           {
            "automargin":true,
            "type":"pie"
           }
          ]
         },
         "layout":{
          "autotypenumbers":"strict",
          "colorway":[
           "#636efa",
           "#EF553B",
           "#00cc96",
           "#ab63fa",
           "#FFA15A",
           "#19d3f3",
           "#FF6692",
           "#B6E880",
           "#FF97FF",
           "#FECB52"
          ],
          "font":{
           "color":"#2a3f5f"
          },
          "hovermode":"closest",
          "hoverlabel":{
           "align":"left"
          },
          "paper_bgcolor":"white",
          "plot_bgcolor":"#E5ECF6",
          "polar":{
           "bgcolor":"#E5ECF6",
           "angularaxis":{
            "gridcolor":"white",
            "linecolor":"white",
            "ticks":""
           },
           "radialaxis":{
            "gridcolor":"white",
            "linecolor":"white",
            "ticks":""
           }
          },
          "ternary":{
           "bgcolor":"#E5ECF6",
           "aaxis":{
            "gridcolor":"white",
            "linecolor":"white",
            "ticks":""
           },
           "baxis":{
            "gridcolor":"white",
            "linecolor":"white",
            "ticks":""
           },
           "caxis":{
            "gridcolor":"white",
            "linecolor":"white",
            "ticks":""
           }
          },
          "coloraxis":{
           "colorbar":{
            "outlinewidth":0,
            "ticks":""
           }
          },
          "colorscale":{
           "sequential":[
            [
             0,
             "#0d0887"
            ],
            [
             0.1111111111111111,
             "#46039f"
            ],
            [
             0.2222222222222222,
             "#7201a8"
            ],
            [
             0.3333333333333333,
             "#9c179e"
            ],
            [
             0.4444444444444444,
             "#bd3786"
            ],
            [
             0.5555555555555556,
             "#d8576b"
            ],
            [
             0.6666666666666666,
             "#ed7953"
            ],
            [
             0.7777777777777778,
             "#fb9f3a"
            ],
            [
             0.8888888888888888,
             "#fdca26"
            ],
            [
             1,
             "#f0f921"
            ]
           ],
           "sequentialminus":[
            [
             0,
             "#0d0887"
            ],
            [
             0.1111111111111111,
             "#46039f"
            ],
            [
             0.2222222222222222,
             "#7201a8"
            ],
            [
             0.3333333333333333,
             "#9c179e"
            ],
            [
             0.4444444444444444,
             "#bd3786"
            ],
            [
             0.5555555555555556,
             "#d8576b"
            ],
            [
             0.6666666666666666,
             "#ed7953"
            ],
            [
             0.7777777777777778,
             "#fb9f3a"
            ],
            [
             0.8888888888888888,
             "#fdca26"
            ],
            [
             1,
             "#f0f921"
            ]
           ],
           "diverging":[
            [
             0,
             "#8e0152"
            ],
            [
             0.1,
             "#c51b7d"
            ],
            [
             0.2,
             "#de77ae"
            ],
            [
             0.3,
             "#f1b6da"
            ],
            [
             0.4,
             "#fde0ef"
            ],
            [
             0.5,
             "#f7f7f7"
            ],
            [
             0.6,
             "#e6f5d0"
            ],
            [
             0.7,
             "#b8e186"
            ],
            [
             0.8,
             "#7fbc41"
            ],
            [
             0.9,
             "#4d9221"
            ],
            [
             1,
             "#276419"
            ]
           ]
          },
          "xaxis":{
           "gridcolor":"white",
           "linecolor":"white",
           "ticks":"",
           "title":{
            "standoff":15
           },
           "zerolinecolor":"white",
           "automargin":true,
           "zerolinewidth":2
          },
          "yaxis":{
           "gridcolor":"white",
           "linecolor":"white",
           "ticks":"",
           "title":{
            "standoff":15
           },
           "zerolinecolor":"white",
           "automargin":true,
           "zerolinewidth":2
          },
          "scene":{
           "xaxis":{
            "backgroundcolor":"#E5ECF6",
            "gridcolor":"white",
            "linecolor":"white",
            "showbackground":true,
            "ticks":"",
            "zerolinecolor":"white",
            "gridwidth":2
           },
           "yaxis":{
            "backgroundcolor":"#E5ECF6",
            "gridcolor":"white",
            "linecolor":"white",
            "showbackground":true,
            "ticks":"",
            "zerolinecolor":"white",
            "gridwidth":2
           },
           "zaxis":{
            "backgroundcolor":"#E5ECF6",
            "gridcolor":"white",
            "linecolor":"white",
            "showbackground":true,
            "ticks":"",
            "zerolinecolor":"white",
            "gridwidth":2
           }
          },
          "shapedefaults":{
           "line":{
            "color":"#2a3f5f"
           }
          },
          "annotationdefaults":{
           "arrowcolor":"#2a3f5f",
           "arrowhead":0,
           "arrowwidth":1
          },
          "geo":{
           "bgcolor":"white",
           "landcolor":"#E5ECF6",
           "subunitcolor":"white",
           "showland":true,
           "showlakes":true,
           "lakecolor":"white"
          },
          "title":{
           "x":0.05
          },
          "mapbox":{
           "style":"light"
          }
         }
        },
        "title":{
         "text":"Ciarovy graf"
        },
        "xaxis":{
         "title":{
          "text":"Os X"
         }
        },
        "yaxis":{
         "title":{
          "text":"Os Y"
         }
        },
        "legend":{
         "title":{
          "text":"Legenda"
         }
        },
        "showlegend":true
       },
       "config":{
        "plotlyServerURL":"https:\/\/plot.ly"
       }
      }
     },
     "metadata":{},
     "output_type":"display_data"
    }
   ],
   "metadata":{
    "datalore":{
     "node_id":"pJKsT83yGfF6ZUc2u9NzI6",
     "type":"CODE",
     "hide_input_from_viewers":false,
     "hide_output_from_viewers":false,
     "report_properties":{
      "rowId":"WBOAojo2SfYR7FtzUsMDna"
     }
    }
   }
  },
  {
   "cell_type":"markdown",
   "source":[
    "# 📈 Príklad na použitie Bokeh"
   ],
   "attachments":{},
   "metadata":{
    "datalore":{
     "node_id":"tsdIQ9XGjereK4lpOTMNED",
     "type":"MD",
     "hide_input_from_viewers":true,
     "hide_output_from_viewers":true
    }
   }
  },
  {
   "cell_type":"code",
   "source":[
    "from bokeh.plotting import figure, show, output_notebook\n",
    "from bokeh.io import push_notebook\n",
    "\n",
    "# Aktivacia vystupu v jupyter notebook\n",
    "output_notebook()\n",
    "\n",
    "x_hodnota = [1,2,3,4,5]\n",
    "y_hodnota = [10, 14, 12, 8, 16]\n",
    "\n",
    "graf = figure(title = \"Ciarovy graf\", x_axis_label = \"Os x\", y_axis_label = \"Os Y\")\n",
    "\n",
    "graf.line(x_hodnota, y_hodnota, legend_label = \"Ciarovy graf\")\n",
    "\n",
    "show(graf, notebook_handle=True)"
   ],
   "execution_count":10,
   "outputs":[
    {
     "data":{
      "text\/html":[
       "<style>\n",
       "        .bk-notebook-logo {\n",
       "            display: block;\n",
       "            width: 20px;\n",
       "            height: 20px;\n",
       "            background-image: url(data:image\/png;base64,iVBORw0KGgoAAAANSUhEUgAAABQAAAAUCAYAAACNiR0NAAAABHNCSVQICAgIfAhkiAAAAAlwSFlzAAALEgAACxIB0t1+\/AAAABx0RVh0U29mdHdhcmUAQWRvYmUgRmlyZXdvcmtzIENTNui8sowAAAOkSURBVDiNjZRtaJVlGMd\/1\/08zzln5zjP1LWcU9N0NkN8m2CYjpgQYQXqSs0I84OLIC0hkEKoPtiH3gmKoiJDU7QpLgoLjLIQCpEsNJ1vqUOdO7ppbuec5+V+rj4ctwzd8IIbbi6u+8f1539dt3A78eXC7QizUF7gyV1fD1Yqg4JWz84yffhm0qkFqBogB9rM8tZdtwVsPUhWhGcFJngGeWrPzHm5oaMmkfEg1usvLFyc8jLRqDOMru7AyC8saQr7GG7f5fvDeH7Ej8CM66nIF+8yngt6HWaKh7k49Soy9nXurCi1o3qUbS3zWfrYeQDTB\/Qj6kX6Ybhw4B+bOYoLKCC9H3Nu\/leUTZ1JdRWkkn2ldcCamzrcf47KKXdAJllSlxAOkRgyHsGC\/zRday5Qld9DyoM4\/q\/rUoy\/CXh3jzOu3bHUVZeU+DEn8FInkPBFlu3+nW3Nw0mk6vCDiWg8CeJaxEwuHS3+z5RgY+YBR6V1Z1nxSOfoaPa4LASWxxdNp+VWTk7+4vzaou8v8PN+xo+KY2xsw6une2frhw05CTYOmQvsEhjhWjn0bmXPjpE1+kplmmkP3suftwTubK9Vq22qKmrBhpY4jvd5afdRA3wGjFAgcnTK2s4hY0\/GPNIb0nErGMCRxWOOX64Z8RAC4oCXdklmEvcL8o0BfkNK4lUg9HTl+oPlQxdNo3Mg4Nv175e\/1LDGzZen30MEjRUtmXSfiTVu1kK8W4txyV6BMKlbgk3lMwYCiusNy9fVfvvwMxv8Ynl6vxoByANLTWplvuj\/nF9m2+PDtt1eiHPBr1oIfhCChQMBw6Aw0UulqTKZdfVvfG7VcfIqLG9bcldL\/+pdWTLxLUy8Qq38heUIjh4XlzZxzQm19lLFlr8vdQ97rjZVOLf8nclzckbcD4wxXMidpX30sFd37Fv\/GtwwhzhxGVAprjbg0gCAEeIgwCZyTV2Z1REEW8O4py0wsjeloKoMr6iCY6dP92H6Vw\/oTyICIthibxjm\/DfN9lVz8IqtqKYLUXfoKVMVQVVJOElGjrnnUt9T9wbgp8AyYKaGlqingHZU\/uG2NTZSVqwHQTWkx9hxjkpWDaCg6Ckj5qebgBVbT3V3NNXMSiWSDdGV3hrtzla7J+duwPOToIg42ChPQOQjspnSlp1V+Gjdged7+8UN5CRAV7a5EdFNwCjEaBR27b3W890TE7g24NAP\/mMDXRWrGoFPQI9ls\/MWO2dWFAar\/xcOIImbbpA3zgAAAABJRU5ErkJggg==);\n",
       "        }\n",
       "    <\/style>\n",
       "    <div>\n",
       "        <a href=\"https:\/\/bokeh.org\" target=\"_blank\" class=\"bk-notebook-logo\"><\/a>\n",
       "        <span id=\"f64fa721-e06b-4c24-a725-1cf78983d8da\">Loading BokehJS ...<\/span>\n",
       "    <\/div>\n"
      ]
     },
     "metadata":{},
     "output_type":"display_data"
    },
    {
     "data":{
      "text\/html":[
       "<script>(function(root) {\n",
       "  function now() {\n",
       "    return new Date();\n",
       "  }\n",
       "\n",
       "  const force = true;\n",
       "\n",
       "  if (typeof root._bokeh_onload_callbacks === \"undefined\" || force === true) {\n",
       "    root._bokeh_onload_callbacks = [];\n",
       "    root._bokeh_is_loading = undefined;\n",
       "  }\n",
       "\n",
       "const JS_MIME_TYPE = 'application\/javascript';\n",
       "  const HTML_MIME_TYPE = 'text\/html';\n",
       "  const EXEC_MIME_TYPE = 'application\/vnd.bokehjs_exec.v0+json';\n",
       "  const CLASS_NAME = 'output_bokeh rendered_html';\n",
       "\n",
       "  \/**\n",
       "   * Render data to the DOM node\n",
       "   *\/\n",
       "  function render(props, node) {\n",
       "    const script = document.createElement(\"script\");\n",
       "    node.appendChild(script);\n",
       "  }\n",
       "\n",
       "  \/**\n",
       "   * Handle when an output is cleared or removed\n",
       "   *\/\n",
       "  function handleClearOutput(event, handle) {\n",
       "    const cell = handle.cell;\n",
       "\n",
       "    const id = cell.output_area._bokeh_element_id;\n",
       "    const server_id = cell.output_area._bokeh_server_id;\n",
       "    \/\/ Clean up Bokeh references\n",
       "    if (id != null && id in Bokeh.index) {\n",
       "      Bokeh.index[id].model.document.clear();\n",
       "      delete Bokeh.index[id];\n",
       "    }\n",
       "\n",
       "    if (server_id !== undefined) {\n",
       "      \/\/ Clean up Bokeh references\n",
       "      const cmd_clean = \"from bokeh.io.state import curstate; print(curstate().uuid_to_server['\" + server_id + \"'].get_sessions()[0].document.roots[0]._id)\";\n",
       "      cell.notebook.kernel.execute(cmd_clean, {\n",
       "        iopub: {\n",
       "          output: function(msg) {\n",
       "            const id = msg.content.text.trim();\n",
       "            if (id in Bokeh.index) {\n",
       "              Bokeh.index[id].model.document.clear();\n",
       "              delete Bokeh.index[id];\n",
       "            }\n",
       "          }\n",
       "        }\n",
       "      });\n",
       "      \/\/ Destroy server and session\n",
       "      const cmd_destroy = \"import bokeh.io.notebook as ion; ion.destroy_server('\" + server_id + \"')\";\n",
       "      cell.notebook.kernel.execute(cmd_destroy);\n",
       "    }\n",
       "  }\n",
       "\n",
       "  \/**\n",
       "   * Handle when a new output is added\n",
       "   *\/\n",
       "  function handleAddOutput(event, handle) {\n",
       "    const output_area = handle.output_area;\n",
       "    const output = handle.output;\n",
       "\n",
       "    \/\/ limit handleAddOutput to display_data with EXEC_MIME_TYPE content only\n",
       "    if ((output.output_type != \"display_data\") || (!Object.prototype.hasOwnProperty.call(output.data, EXEC_MIME_TYPE))) {\n",
       "      return\n",
       "    }\n",
       "\n",
       "    const toinsert = output_area.element.find(\".\" + CLASS_NAME.split(' ')[0]);\n",
       "\n",
       "    if (output.metadata[EXEC_MIME_TYPE][\"id\"] !== undefined) {\n",
       "      toinsert[toinsert.length - 1].firstChild.textContent = output.data[JS_MIME_TYPE];\n",
       "      \/\/ store reference to embed id on output_area\n",
       "      output_area._bokeh_element_id = output.metadata[EXEC_MIME_TYPE][\"id\"];\n",
       "    }\n",
       "    if (output.metadata[EXEC_MIME_TYPE][\"server_id\"] !== undefined) {\n",
       "      const bk_div = document.createElement(\"div\");\n",
       "      bk_div.innerHTML = output.data[HTML_MIME_TYPE];\n",
       "      const script_attrs = bk_div.children[0].attributes;\n",
       "      for (let i = 0; i < script_attrs.length; i++) {\n",
       "        toinsert[toinsert.length - 1].firstChild.setAttribute(script_attrs[i].name, script_attrs[i].value);\n",
       "        toinsert[toinsert.length - 1].firstChild.textContent = bk_div.children[0].textContent\n",
       "      }\n",
       "      \/\/ store reference to server id on output_area\n",
       "      output_area._bokeh_server_id = output.metadata[EXEC_MIME_TYPE][\"server_id\"];\n",
       "    }\n",
       "  }\n",
       "\n",
       "  function register_renderer(events, OutputArea) {\n",
       "\n",
       "    function append_mime(data, metadata, element) {\n",
       "      \/\/ create a DOM node to render to\n",
       "      const toinsert = this.create_output_subarea(\n",
       "        metadata,\n",
       "        CLASS_NAME,\n",
       "        EXEC_MIME_TYPE\n",
       "      );\n",
       "      this.keyboard_manager.register_events(toinsert);\n",
       "      \/\/ Render to node\n",
       "      const props = {data: data, metadata: metadata[EXEC_MIME_TYPE]};\n",
       "      render(props, toinsert[toinsert.length - 1]);\n",
       "      element.append(toinsert);\n",
       "      return toinsert\n",
       "    }\n",
       "\n",
       "    \/* Handle when an output is cleared or removed *\/\n",
       "    events.on('clear_output.CodeCell', handleClearOutput);\n",
       "    events.on('delete.Cell', handleClearOutput);\n",
       "\n",
       "    \/* Handle when a new output is added *\/\n",
       "    events.on('output_added.OutputArea', handleAddOutput);\n",
       "\n",
       "    \/**\n",
       "     * Register the mime type and append_mime function with output_area\n",
       "     *\/\n",
       "    OutputArea.prototype.register_mime_type(EXEC_MIME_TYPE, append_mime, {\n",
       "      \/* Is output safe? *\/\n",
       "      safe: true,\n",
       "      \/* Index of renderer in `output_area.display_order` *\/\n",
       "      index: 0\n",
       "    });\n",
       "  }\n",
       "\n",
       "  \/\/ register the mime type if in Jupyter Notebook environment and previously unregistered\n",
       "  if (root.Jupyter !== undefined) {\n",
       "    const events = require('base\/js\/events');\n",
       "    const OutputArea = require('notebook\/js\/outputarea').OutputArea;\n",
       "\n",
       "    if (OutputArea.prototype.mime_types().indexOf(EXEC_MIME_TYPE) == -1) {\n",
       "      register_renderer(events, OutputArea);\n",
       "    }\n",
       "  }\n",
       "  if (typeof (root._bokeh_timeout) === \"undefined\" || force === true) {\n",
       "    root._bokeh_timeout = Date.now() + 5000;\n",
       "    root._bokeh_failed_load = false;\n",
       "  }\n",
       "\n",
       "  const NB_LOAD_WARNING = {'data': {'text\/html':\n",
       "     \"<div style='background-color: #fdd'>\\n\"+\n",
       "     \"<p>\\n\"+\n",
       "     \"BokehJS does not appear to have successfully loaded. If loading BokehJS from CDN, this \\n\"+\n",
       "     \"may be due to a slow or bad network connection. Possible fixes:\\n\"+\n",
       "     \"<\/p>\\n\"+\n",
       "     \"<ul>\\n\"+\n",
       "     \"<li>re-rerun `output_notebook()` to attempt to load from CDN again, or<\/li>\\n\"+\n",
       "     \"<li>use INLINE resources instead, as so:<\/li>\\n\"+\n",
       "     \"<\/ul>\\n\"+\n",
       "     \"<code>\\n\"+\n",
       "     \"from bokeh.resources import INLINE\\n\"+\n",
       "     \"output_notebook(resources=INLINE)\\n\"+\n",
       "     \"<\/code>\\n\"+\n",
       "     \"<\/div>\"}};\n",
       "\n",
       "  function display_loaded() {\n",
       "    const el = document.getElementById(\"f64fa721-e06b-4c24-a725-1cf78983d8da\");\n",
       "    if (el != null) {\n",
       "      el.textContent = \"BokehJS is loading...\";\n",
       "    }\n",
       "    if (root.Bokeh !== undefined) {\n",
       "      if (el != null) {\n",
       "        el.textContent = \"BokehJS \" + root.Bokeh.version + \" successfully loaded.\";\n",
       "      }\n",
       "    } else if (Date.now() < root._bokeh_timeout) {\n",
       "      setTimeout(display_loaded, 100)\n",
       "    }\n",
       "  }\n",
       "\n",
       "  function run_callbacks() {\n",
       "    try {\n",
       "      root._bokeh_onload_callbacks.forEach(function(callback) {\n",
       "        if (callback != null)\n",
       "          callback();\n",
       "      });\n",
       "    } finally {\n",
       "      delete root._bokeh_onload_callbacks\n",
       "    }\n",
       "    console.debug(\"Bokeh: all callbacks have finished\");\n",
       "  }\n",
       "\n",
       "  function load_libs(css_urls, js_urls, callback) {\n",
       "    if (css_urls == null) css_urls = [];\n",
       "    if (js_urls == null) js_urls = [];\n",
       "\n",
       "    root._bokeh_onload_callbacks.push(callback);\n",
       "    if (root._bokeh_is_loading > 0) {\n",
       "      console.debug(\"Bokeh: BokehJS is being loaded, scheduling callback at\", now());\n",
       "      return null;\n",
       "    }\n",
       "    if (js_urls == null || js_urls.length === 0) {\n",
       "      run_callbacks();\n",
       "      return null;\n",
       "    }\n",
       "    console.debug(\"Bokeh: BokehJS not loaded, scheduling load and callback at\", now());\n",
       "    root._bokeh_is_loading = css_urls.length + js_urls.length;\n",
       "\n",
       "    function on_load() {\n",
       "      root._bokeh_is_loading--;\n",
       "      if (root._bokeh_is_loading === 0) {\n",
       "        console.debug(\"Bokeh: all BokehJS libraries\/stylesheets loaded\");\n",
       "        run_callbacks()\n",
       "      }\n",
       "    }\n",
       "\n",
       "    function on_error(url) {\n",
       "      console.error(\"failed to load \" + url);\n",
       "    }\n",
       "\n",
       "    for (let i = 0; i < css_urls.length; i++) {\n",
       "      const url = css_urls[i];\n",
       "      const element = document.createElement(\"link\");\n",
       "      element.onload = on_load;\n",
       "      element.onerror = on_error.bind(null, url);\n",
       "      element.rel = \"stylesheet\";\n",
       "      element.type = \"text\/css\";\n",
       "      element.href = url;\n",
       "      console.debug(\"Bokeh: injecting link tag for BokehJS stylesheet: \", url);\n",
       "      document.body.appendChild(element);\n",
       "    }\n",
       "\n",
       "    for (let i = 0; i < js_urls.length; i++) {\n",
       "      const url = js_urls[i];\n",
       "      const element = document.createElement('script');\n",
       "      element.onload = on_load;\n",
       "      element.onerror = on_error.bind(null, url);\n",
       "      element.async = false;\n",
       "      element.src = url;\n",
       "      console.debug(\"Bokeh: injecting script tag for BokehJS library: \", url);\n",
       "      document.head.appendChild(element);\n",
       "    }\n",
       "  };\n",
       "\n",
       "  function inject_raw_css(css) {\n",
       "    const element = document.createElement(\"style\");\n",
       "    element.appendChild(document.createTextNode(css));\n",
       "    document.body.appendChild(element);\n",
       "  }\n",
       "\n",
       "  const js_urls = [\"https:\/\/cdn.bokeh.org\/bokeh\/release\/bokeh-3.1.1.min.js\", \"https:\/\/cdn.bokeh.org\/bokeh\/release\/bokeh-gl-3.1.1.min.js\", \"https:\/\/cdn.bokeh.org\/bokeh\/release\/bokeh-widgets-3.1.1.min.js\", \"https:\/\/cdn.bokeh.org\/bokeh\/release\/bokeh-tables-3.1.1.min.js\", \"https:\/\/cdn.bokeh.org\/bokeh\/release\/bokeh-mathjax-3.1.1.min.js\"];\n",
       "  const css_urls = [];\n",
       "\n",
       "  const inline_js = [    function(Bokeh) {\n",
       "      Bokeh.set_log_level(\"info\");\n",
       "    },\n",
       "function(Bokeh) {\n",
       "    }\n",
       "  ];\n",
       "\n",
       "  function run_inline_js() {\n",
       "    if (root.Bokeh !== undefined || force === true) {\n",
       "          for (let i = 0; i < inline_js.length; i++) {\n",
       "      inline_js[i].call(root, root.Bokeh);\n",
       "    }\n",
       "if (force === true) {\n",
       "        display_loaded();\n",
       "      }} else if (Date.now() < root._bokeh_timeout) {\n",
       "      setTimeout(run_inline_js, 100);\n",
       "    } else if (!root._bokeh_failed_load) {\n",
       "      console.log(\"Bokeh: BokehJS failed to load within specified timeout.\");\n",
       "      root._bokeh_failed_load = true;\n",
       "    } else if (force !== true) {\n",
       "      const cell = $(document.getElementById(\"f64fa721-e06b-4c24-a725-1cf78983d8da\")).parents('.cell').data().cell;\n",
       "      cell.output_area.append_execute_result(NB_LOAD_WARNING)\n",
       "    }\n",
       "  }\n",
       "\n",
       "  if (root._bokeh_is_loading === 0) {\n",
       "    console.debug(\"Bokeh: BokehJS loaded, going straight to plotting\");\n",
       "    run_inline_js();\n",
       "  } else {\n",
       "    load_libs(css_urls, js_urls, function() {\n",
       "      console.debug(\"Bokeh: BokehJS plotting callback run at\", now());\n",
       "      run_inline_js();\n",
       "    });\n",
       "  }\n",
       "}(window));<\/script><script>(function(root) {\n",
       "  function now() {\n",
       "    return new Date();\n",
       "  }\n",
       "\n",
       "  const force = true;\n",
       "\n",
       "  if (typeof root._bokeh_onload_callbacks === \"undefined\" || force === true) {\n",
       "    root._bokeh_onload_callbacks = [];\n",
       "    root._bokeh_is_loading = undefined;\n",
       "  }\n",
       "\n",
       "\n",
       "  if (typeof (root._bokeh_timeout) === \"undefined\" || force === true) {\n",
       "    root._bokeh_timeout = Date.now() + 5000;\n",
       "    root._bokeh_failed_load = false;\n",
       "  }\n",
       "\n",
       "  const NB_LOAD_WARNING = {'data': {'text\/html':\n",
       "     \"<div style='background-color: #fdd'>\\n\"+\n",
       "     \"<p>\\n\"+\n",
       "     \"BokehJS does not appear to have successfully loaded. If loading BokehJS from CDN, this \\n\"+\n",
       "     \"may be due to a slow or bad network connection. Possible fixes:\\n\"+\n",
       "     \"<\/p>\\n\"+\n",
       "     \"<ul>\\n\"+\n",
       "     \"<li>re-rerun `output_notebook()` to attempt to load from CDN again, or<\/li>\\n\"+\n",
       "     \"<li>use INLINE resources instead, as so:<\/li>\\n\"+\n",
       "     \"<\/ul>\\n\"+\n",
       "     \"<code>\\n\"+\n",
       "     \"from bokeh.resources import INLINE\\n\"+\n",
       "     \"output_notebook(resources=INLINE)\\n\"+\n",
       "     \"<\/code>\\n\"+\n",
       "     \"<\/div>\"}};\n",
       "\n",
       "  function display_loaded() {\n",
       "    const el = document.getElementById(\"f64fa721-e06b-4c24-a725-1cf78983d8da\");\n",
       "    if (el != null) {\n",
       "      el.textContent = \"BokehJS is loading...\";\n",
       "    }\n",
       "    if (root.Bokeh !== undefined) {\n",
       "      if (el != null) {\n",
       "        el.textContent = \"BokehJS \" + root.Bokeh.version + \" successfully loaded.\";\n",
       "      }\n",
       "    } else if (Date.now() < root._bokeh_timeout) {\n",
       "      setTimeout(display_loaded, 100)\n",
       "    }\n",
       "  }\n",
       "\n",
       "  function run_callbacks() {\n",
       "    try {\n",
       "      root._bokeh_onload_callbacks.forEach(function(callback) {\n",
       "        if (callback != null)\n",
       "          callback();\n",
       "      });\n",
       "    } finally {\n",
       "      delete root._bokeh_onload_callbacks\n",
       "    }\n",
       "    console.debug(\"Bokeh: all callbacks have finished\");\n",
       "  }\n",
       "\n",
       "  function load_libs(css_urls, js_urls, callback) {\n",
       "    if (css_urls == null) css_urls = [];\n",
       "    if (js_urls == null) js_urls = [];\n",
       "\n",
       "    root._bokeh_onload_callbacks.push(callback);\n",
       "    if (root._bokeh_is_loading > 0) {\n",
       "      console.debug(\"Bokeh: BokehJS is being loaded, scheduling callback at\", now());\n",
       "      return null;\n",
       "    }\n",
       "    if (js_urls == null || js_urls.length === 0) {\n",
       "      run_callbacks();\n",
       "      return null;\n",
       "    }\n",
       "    console.debug(\"Bokeh: BokehJS not loaded, scheduling load and callback at\", now());\n",
       "    root._bokeh_is_loading = css_urls.length + js_urls.length;\n",
       "\n",
       "    function on_load() {\n",
       "      root._bokeh_is_loading--;\n",
       "      if (root._bokeh_is_loading === 0) {\n",
       "        console.debug(\"Bokeh: all BokehJS libraries\/stylesheets loaded\");\n",
       "        run_callbacks()\n",
       "      }\n",
       "    }\n",
       "\n",
       "    function on_error(url) {\n",
       "      console.error(\"failed to load \" + url);\n",
       "    }\n",
       "\n",
       "    for (let i = 0; i < css_urls.length; i++) {\n",
       "      const url = css_urls[i];\n",
       "      const element = document.createElement(\"link\");\n",
       "      element.onload = on_load;\n",
       "      element.onerror = on_error.bind(null, url);\n",
       "      element.rel = \"stylesheet\";\n",
       "      element.type = \"text\/css\";\n",
       "      element.href = url;\n",
       "      console.debug(\"Bokeh: injecting link tag for BokehJS stylesheet: \", url);\n",
       "      document.body.appendChild(element);\n",
       "    }\n",
       "\n",
       "    for (let i = 0; i < js_urls.length; i++) {\n",
       "      const url = js_urls[i];\n",
       "      const element = document.createElement('script');\n",
       "      element.onload = on_load;\n",
       "      element.onerror = on_error.bind(null, url);\n",
       "      element.async = false;\n",
       "      element.src = url;\n",
       "      console.debug(\"Bokeh: injecting script tag for BokehJS library: \", url);\n",
       "      document.head.appendChild(element);\n",
       "    }\n",
       "  };\n",
       "\n",
       "  function inject_raw_css(css) {\n",
       "    const element = document.createElement(\"style\");\n",
       "    element.appendChild(document.createTextNode(css));\n",
       "    document.body.appendChild(element);\n",
       "  }\n",
       "\n",
       "  const js_urls = [\"https:\/\/cdn.bokeh.org\/bokeh\/release\/bokeh-3.1.1.min.js\", \"https:\/\/cdn.bokeh.org\/bokeh\/release\/bokeh-gl-3.1.1.min.js\", \"https:\/\/cdn.bokeh.org\/bokeh\/release\/bokeh-widgets-3.1.1.min.js\", \"https:\/\/cdn.bokeh.org\/bokeh\/release\/bokeh-tables-3.1.1.min.js\", \"https:\/\/cdn.bokeh.org\/bokeh\/release\/bokeh-mathjax-3.1.1.min.js\"];\n",
       "  const css_urls = [];\n",
       "\n",
       "  const inline_js = [    function(Bokeh) {\n",
       "      Bokeh.set_log_level(\"info\");\n",
       "    },\n",
       "function(Bokeh) {\n",
       "    }\n",
       "  ];\n",
       "\n",
       "  function run_inline_js() {\n",
       "    if (root.Bokeh !== undefined || force === true) {\n",
       "          for (let i = 0; i < inline_js.length; i++) {\n",
       "      inline_js[i].call(root, root.Bokeh);\n",
       "    }\n",
       "if (force === true) {\n",
       "        display_loaded();\n",
       "      }} else if (Date.now() < root._bokeh_timeout) {\n",
       "      setTimeout(run_inline_js, 100);\n",
       "    } else if (!root._bokeh_failed_load) {\n",
       "      console.log(\"Bokeh: BokehJS failed to load within specified timeout.\");\n",
       "      root._bokeh_failed_load = true;\n",
       "    } else if (force !== true) {\n",
       "      const cell = $(document.getElementById(\"f64fa721-e06b-4c24-a725-1cf78983d8da\")).parents('.cell').data().cell;\n",
       "      cell.output_area.append_execute_result(NB_LOAD_WARNING)\n",
       "    }\n",
       "  }\n",
       "\n",
       "  if (root._bokeh_is_loading === 0) {\n",
       "    console.debug(\"Bokeh: BokehJS loaded, going straight to plotting\");\n",
       "    run_inline_js();\n",
       "  } else {\n",
       "    load_libs(css_urls, js_urls, function() {\n",
       "      console.debug(\"Bokeh: BokehJS plotting callback run at\", now());\n",
       "      run_inline_js();\n",
       "    });\n",
       "  }\n",
       "}(window));<\/script>"
      ]
     },
     "metadata":{},
     "output_type":"display_data"
    },
    {
     "data":{
      "text\/html":[
       "\n",
       "  <div id=\"d11ea8c9-b03f-47a0-8b67-3ec4e2e6f92f\" data-root-id=\"p1144\" style=\"display: contents;\"><\/div>\n"
      ]
     },
     "metadata":{},
     "output_type":"display_data"
    },
    {
     "data":{
      "text\/html":[
       "<script>(function(root) {\n",
       "  function embed_document(root) {\n",
       "  const docs_json = {\"75dcba74-663d-4385-9122-8303f1d0272e\":{\"version\":\"3.1.1\",\"title\":\"Bokeh Application\",\"defs\":[],\"roots\":[{\"type\":\"object\",\"name\":\"Figure\",\"id\":\"p1144\",\"attributes\":{\"x_range\":{\"type\":\"object\",\"name\":\"DataRange1d\",\"id\":\"p1146\"},\"y_range\":{\"type\":\"object\",\"name\":\"DataRange1d\",\"id\":\"p1145\"},\"x_scale\":{\"type\":\"object\",\"name\":\"LinearScale\",\"id\":\"p1158\"},\"y_scale\":{\"type\":\"object\",\"name\":\"LinearScale\",\"id\":\"p1160\"},\"title\":{\"type\":\"object\",\"name\":\"Title\",\"id\":\"p1147\",\"attributes\":{\"text\":\"Ciarovy graf\"}},\"renderers\":[{\"type\":\"object\",\"name\":\"GlyphRenderer\",\"id\":\"p1197\",\"attributes\":{\"data_source\":{\"type\":\"object\",\"name\":\"ColumnDataSource\",\"id\":\"p1191\",\"attributes\":{\"selected\":{\"type\":\"object\",\"name\":\"Selection\",\"id\":\"p1193\",\"attributes\":{\"indices\":[],\"line_indices\":[]}},\"selection_policy\":{\"type\":\"object\",\"name\":\"UnionRenderers\",\"id\":\"p1192\"},\"data\":{\"type\":\"map\",\"entries\":[[\"x\",[1,2,3,4,5]],[\"y\",[10,14,12,8,16]]]}}},\"view\":{\"type\":\"object\",\"name\":\"CDSView\",\"id\":\"p1198\",\"attributes\":{\"filter\":{\"type\":\"object\",\"name\":\"AllIndices\",\"id\":\"p1199\"}}},\"glyph\":{\"type\":\"object\",\"name\":\"Line\",\"id\":\"p1194\",\"attributes\":{\"x\":{\"type\":\"field\",\"field\":\"x\"},\"y\":{\"type\":\"field\",\"field\":\"y\"},\"line_color\":\"#1f77b4\"}},\"nonselection_glyph\":{\"type\":\"object\",\"name\":\"Line\",\"id\":\"p1195\",\"attributes\":{\"x\":{\"type\":\"field\",\"field\":\"x\"},\"y\":{\"type\":\"field\",\"field\":\"y\"},\"line_color\":\"#1f77b4\",\"line_alpha\":0.1}},\"muted_glyph\":{\"type\":\"object\",\"name\":\"Line\",\"id\":\"p1196\",\"attributes\":{\"x\":{\"type\":\"field\",\"field\":\"x\"},\"y\":{\"type\":\"field\",\"field\":\"y\"},\"line_color\":\"#1f77b4\",\"line_alpha\":0.2}}}}],\"toolbar\":{\"type\":\"object\",\"name\":\"Toolbar\",\"id\":\"p1153\",\"attributes\":{\"tools\":[{\"type\":\"object\",\"name\":\"PanTool\",\"id\":\"p1176\"},{\"type\":\"object\",\"name\":\"WheelZoomTool\",\"id\":\"p1177\"},{\"type\":\"object\",\"name\":\"BoxZoomTool\",\"id\":\"p1178\",\"attributes\":{\"overlay\":{\"type\":\"object\",\"name\":\"BoxAnnotation\",\"id\":\"p1179\",\"attributes\":{\"syncable\":false,\"level\":\"overlay\",\"visible\":false,\"left_units\":\"canvas\",\"right_units\":\"canvas\",\"bottom_units\":\"canvas\",\"top_units\":\"canvas\",\"line_color\":\"black\",\"line_alpha\":1.0,\"line_width\":2,\"line_dash\":[4,4],\"fill_color\":\"lightgrey\",\"fill_alpha\":0.5}}}},{\"type\":\"object\",\"name\":\"SaveTool\",\"id\":\"p1180\"},{\"type\":\"object\",\"name\":\"ResetTool\",\"id\":\"p1181\"},{\"type\":\"object\",\"name\":\"HelpTool\",\"id\":\"p1182\"}]}},\"left\":[{\"type\":\"object\",\"name\":\"LinearAxis\",\"id\":\"p1169\",\"attributes\":{\"ticker\":{\"type\":\"object\",\"name\":\"BasicTicker\",\"id\":\"p1172\",\"attributes\":{\"mantissas\":[1,2,5]}},\"formatter\":{\"type\":\"object\",\"name\":\"BasicTickFormatter\",\"id\":\"p1170\"},\"axis_label\":\"Os Y\",\"major_label_policy\":{\"type\":\"object\",\"name\":\"AllLabels\",\"id\":\"p1171\"}}}],\"below\":[{\"type\":\"object\",\"name\":\"LinearAxis\",\"id\":\"p1162\",\"attributes\":{\"ticker\":{\"type\":\"object\",\"name\":\"BasicTicker\",\"id\":\"p1165\",\"attributes\":{\"mantissas\":[1,2,5]}},\"formatter\":{\"type\":\"object\",\"name\":\"BasicTickFormatter\",\"id\":\"p1163\"},\"axis_label\":\"Os x\",\"major_label_policy\":{\"type\":\"object\",\"name\":\"AllLabels\",\"id\":\"p1164\"}}}],\"center\":[{\"type\":\"object\",\"name\":\"Grid\",\"id\":\"p1168\",\"attributes\":{\"axis\":{\"id\":\"p1162\"}}},{\"type\":\"object\",\"name\":\"Grid\",\"id\":\"p1175\",\"attributes\":{\"dimension\":1,\"axis\":{\"id\":\"p1169\"}}},{\"type\":\"object\",\"name\":\"Legend\",\"id\":\"p1200\",\"attributes\":{\"items\":[{\"type\":\"object\",\"name\":\"LegendItem\",\"id\":\"p1201\",\"attributes\":{\"label\":{\"type\":\"value\",\"value\":\"Ciarovy graf\"},\"renderers\":[{\"id\":\"p1197\"}]}}]}}]}}],\"callbacks\":{\"type\":\"map\"}}};\n",
       "  const render_items = [{\"docid\":\"75dcba74-663d-4385-9122-8303f1d0272e\",\"roots\":{\"p1144\":\"d11ea8c9-b03f-47a0-8b67-3ec4e2e6f92f\"},\"root_ids\":[\"p1144\"],\"notebook_comms_target\":\"p1223\"}];\n",
       "  root.Bokeh.embed.embed_items_notebook(docs_json, render_items);\n",
       "  }\n",
       "  if (root.Bokeh !== undefined) {\n",
       "    embed_document(root);\n",
       "  } else {\n",
       "    let attempts = 0;\n",
       "    const timer = setInterval(function(root) {\n",
       "      if (root.Bokeh !== undefined) {\n",
       "        clearInterval(timer);\n",
       "        embed_document(root);\n",
       "      } else {\n",
       "        attempts++;\n",
       "        if (attempts > 100) {\n",
       "          clearInterval(timer);\n",
       "          console.log(\"Bokeh: ERROR: Unable to run BokehJS code because BokehJS library is missing\");\n",
       "        }\n",
       "      }\n",
       "    }, 10, root)\n",
       "  }\n",
       "})(window);<\/script><script><\/script>"
      ]
     },
     "metadata":{},
     "output_type":"display_data"
    },
    {
     "data":{
      "text\/html":[
       "<p><code>&lt;Bokeh Notebook handle for <strong>In[10]<\/strong>&gt;<\/code><\/p>"
      ]
     },
     "metadata":{},
     "output_type":"display_data"
    }
   ],
   "metadata":{
    "datalore":{
     "node_id":"lxu23ZZDtd75p5JMDyXnt8",
     "type":"CODE",
     "hide_input_from_viewers":true,
     "hide_output_from_viewers":true
    }
   }
  },
  {
   "cell_type":"code",
   "source":[],
   "execution_count":16,
   "outputs":[],
   "metadata":{
    "datalore":{
     "node_id":"Go4cn1W4BSpOvJIdPZK4vf",
     "type":"CODE",
     "hide_input_from_viewers":true,
     "hide_output_from_viewers":true
    }
   }
  },
  {
   "cell_type":"markdown",
   "source":[
    "# Plotly"
   ],
   "attachments":{},
   "metadata":{
    "datalore":{
     "node_id":"Plotly",
     "type":"MD",
     "hide_input_from_viewers":false,
     "hide_output_from_viewers":false,
     "sheet_delimiter":true
    }
   }
  },
  {
   "cell_type":"markdown",
   "source":[
    "# 📊 Čo je Plotly?\n",
    "- Najpopulárnejšia Python knižnica na vytváranie dynamických grafov\n",
    "- Tvorba interaktívnych grafov a vizualizácií\n",
    "- Vhodná pre vývojárov, dátových vedcov a analytikov\n",
    "- Stĺpcové grafy, čiarové grafy, teplotné mapy, 3D grafy, geografické mapy \n",
    "- Používatelia môžu klikať, približovať a skúmať údaje priamo v grafickom výstupe"
   ],
   "attachments":{},
   "metadata":{
    "datalore":{
     "node_id":"sBkFOJqk06JAobymyL2LIl",
     "type":"MD",
     "hide_input_from_viewers":true,
     "hide_output_from_viewers":true
    }
   }
  },
  {
   "cell_type":"markdown",
   "source":[
    "# 📊 Stĺpcový graf 1\n",
    "- Stĺpcový graf (Bar Chart) pre porovnanie kategórií\n",
    "\n",
    "**Použitie**:\n",
    "Stĺpcový graf je výborný na porovnávanie kategórií. Každý stĺpec reprezentuje určitú hodnotu pre danú kategóriu, pričom dĺžka stĺpca odráža jej veľkosť.\n",
    "\n",
    "**Aplikácie**:\n",
    "Porovnávanie kategórií: Predaj produktov, počet hlasov v prieskume, návštevnosť stránok podľa regiónov.\n",
    "Zoskupené stĺpce (grouped bar chart): Umožňuje porovnať viacero kategórií pre každú skupinu (napr. predaje produktov v rôznych rokoch).\n",
    "\n",
    "**Tipy**:\n",
    "Pri veľkom počte kategórií použite horizontálne stĺpce namiesto vertikálnych, aby sa dalo lepšie čítať názvy kategórií.\n",
    "Ak chcete porovnávať viac dátových sérií v rôznych kategóriách, použite zoskupené stĺpcové grafy.\n",
    "\n",
    "**Príklady**:\n",
    "Porovnanie predajov produktov v štyroch rôznych krajinách.\n",
    "Výsledky rôznych kandidátov v komunálnych voľbách."
   ],
   "attachments":{},
   "metadata":{
    "datalore":{
     "node_id":"hLlTpADp4yIQsrKrsr31zw",
     "type":"MD",
     "hide_input_from_viewers":true,
     "hide_output_from_viewers":true
    }
   }
  },
  {
   "cell_type":"code",
   "source":[
    "import plotly.express as px\n",
    "import pandas as pd\n",
    "\n",
    "data = {\n",
    "    'Mesiac': ['Január', 'Február', 'Marec', 'Apríl', 'Máj', 'Jún', 'Júl', 'August', 'September', 'Október', 'November', 'December'],\n",
    "    'Python': [220, 230, 210, 240, 250, 260, 270, 275, 290, 300, 320, 330],\n",
    "    'Java': [180, 190, 170, 200, 210, 215, 220, 230, 240, 250, 260, 270],\n",
    "    'JavaScript': [150, 160, 145, 155, 165, 170, 180, 185, 195, 200, 210, 220]\n",
    "}\n",
    "\n",
    "# Prevod dict na Dataframe (Tabulka)\n",
    "df_data = pd.DataFrame(data)\n",
    "\n",
    "# Vytvorenie grafu\n",
    "fig = px.bar(df_data, x = \"Mesiac\", y = ['Python','Java', 'JavaScript'], title = \"Predaje online kurzov programovania za 2024\", labels={\"value\":\"Pocet predanych kurzov\", \"Mesiac\":\"Mesiac\"})\n",
    "\n",
    "fig.show()"
   ],
   "execution_count":88,
   "outputs":[
    {
     "data":{
      "application\/vnd.plotly.v1+json":{
       "data":[
        {
         "alignmentgroup":"True",
         "hovertemplate":"variable=Python<br>Mesiac=%{x}<br>Pocet predanych kurzov=%{y}<extra><\/extra>",
         "legendgroup":"Python",
         "marker":{
          "color":"#636efa",
          "pattern":{
           "shape":""
          }
         },
         "name":"Python",
         "offsetgroup":"Python",
         "orientation":"v",
         "showlegend":true,
         "textposition":"auto",
         "x":[
          "Január",
          "Február",
          "Marec",
          "Apríl",
          "Máj",
          "Jún",
          "Júl",
          "August",
          "September",
          "Október",
          "November",
          "December"
         ],
         "xaxis":"x",
         "y":[
          220,
          230,
          210,
          240,
          250,
          260,
          270,
          275,
          290,
          300,
          320,
          330
         ],
         "yaxis":"y",
         "type":"bar"
        },
        {
         "alignmentgroup":"True",
         "hovertemplate":"variable=Java<br>Mesiac=%{x}<br>Pocet predanych kurzov=%{y}<extra><\/extra>",
         "legendgroup":"Java",
         "marker":{
          "color":"#EF553B",
          "pattern":{
           "shape":""
          }
         },
         "name":"Java",
         "offsetgroup":"Java",
         "orientation":"v",
         "showlegend":true,
         "textposition":"auto",
         "x":[
          "Január",
          "Február",
          "Marec",
          "Apríl",
          "Máj",
          "Jún",
          "Júl",
          "August",
          "September",
          "Október",
          "November",
          "December"
         ],
         "xaxis":"x",
         "y":[
          180,
          190,
          170,
          200,
          210,
          215,
          220,
          230,
          240,
          250,
          260,
          270
         ],
         "yaxis":"y",
         "type":"bar"
        },
        {
         "alignmentgroup":"True",
         "hovertemplate":"variable=JavaScript<br>Mesiac=%{x}<br>Pocet predanych kurzov=%{y}<extra><\/extra>",
         "legendgroup":"JavaScript",
         "marker":{
          "color":"#00cc96",
          "pattern":{
           "shape":""
          }
         },
         "name":"JavaScript",
         "offsetgroup":"JavaScript",
         "orientation":"v",
         "showlegend":true,
         "textposition":"auto",
         "x":[
          "Január",
          "Február",
          "Marec",
          "Apríl",
          "Máj",
          "Jún",
          "Júl",
          "August",
          "September",
          "Október",
          "November",
          "December"
         ],
         "xaxis":"x",
         "y":[
          150,
          160,
          145,
          155,
          165,
          170,
          180,
          185,
          195,
          200,
          210,
          220
         ],
         "yaxis":"y",
         "type":"bar"
        }
       ],
       "layout":{
        "template":{
         "data":{
          "histogram2dcontour":[
           {
            "type":"histogram2dcontour",
            "colorbar":{
             "outlinewidth":0,
             "ticks":""
            },
            "colorscale":[
             [
              0,
              "#0d0887"
             ],
             [
              0.1111111111111111,
              "#46039f"
             ],
             [
              0.2222222222222222,
              "#7201a8"
             ],
             [
              0.3333333333333333,
              "#9c179e"
             ],
             [
              0.4444444444444444,
              "#bd3786"
             ],
             [
              0.5555555555555556,
              "#d8576b"
             ],
             [
              0.6666666666666666,
              "#ed7953"
             ],
             [
              0.7777777777777778,
              "#fb9f3a"
             ],
             [
              0.8888888888888888,
              "#fdca26"
             ],
             [
              1,
              "#f0f921"
             ]
            ]
           }
          ],
          "choropleth":[
           {
            "type":"choropleth",
            "colorbar":{
             "outlinewidth":0,
             "ticks":""
            }
           }
          ],
          "histogram2d":[
           {
            "type":"histogram2d",
            "colorbar":{
             "outlinewidth":0,
             "ticks":""
            },
            "colorscale":[
             [
              0,
              "#0d0887"
             ],
             [
              0.1111111111111111,
              "#46039f"
             ],
             [
              0.2222222222222222,
              "#7201a8"
             ],
             [
              0.3333333333333333,
              "#9c179e"
             ],
             [
              0.4444444444444444,
              "#bd3786"
             ],
             [
              0.5555555555555556,
              "#d8576b"
             ],
             [
              0.6666666666666666,
              "#ed7953"
             ],
             [
              0.7777777777777778,
              "#fb9f3a"
             ],
             [
              0.8888888888888888,
              "#fdca26"
             ],
             [
              1,
              "#f0f921"
             ]
            ]
           }
          ],
          "heatmap":[
           {
            "type":"heatmap",
            "colorbar":{
             "outlinewidth":0,
             "ticks":""
            },
            "colorscale":[
             [
              0,
              "#0d0887"
             ],
             [
              0.1111111111111111,
              "#46039f"
             ],
             [
              0.2222222222222222,
              "#7201a8"
             ],
             [
              0.3333333333333333,
              "#9c179e"
             ],
             [
              0.4444444444444444,
              "#bd3786"
             ],
             [
              0.5555555555555556,
              "#d8576b"
             ],
             [
              0.6666666666666666,
              "#ed7953"
             ],
             [
              0.7777777777777778,
              "#fb9f3a"
             ],
             [
              0.8888888888888888,
              "#fdca26"
             ],
             [
              1,
              "#f0f921"
             ]
            ]
           }
          ],
          "heatmapgl":[
           {
            "type":"heatmapgl",
            "colorbar":{
             "outlinewidth":0,
             "ticks":""
            },
            "colorscale":[
             [
              0,
              "#0d0887"
             ],
             [
              0.1111111111111111,
              "#46039f"
             ],
             [
              0.2222222222222222,
              "#7201a8"
             ],
             [
              0.3333333333333333,
              "#9c179e"
             ],
             [
              0.4444444444444444,
              "#bd3786"
             ],
             [
              0.5555555555555556,
              "#d8576b"
             ],
             [
              0.6666666666666666,
              "#ed7953"
             ],
             [
              0.7777777777777778,
              "#fb9f3a"
             ],
             [
              0.8888888888888888,
              "#fdca26"
             ],
             [
              1,
              "#f0f921"
             ]
            ]
           }
          ],
          "contourcarpet":[
           {
            "type":"contourcarpet",
            "colorbar":{
             "outlinewidth":0,
             "ticks":""
            }
           }
          ],
          "contour":[
           {
            "type":"contour",
            "colorbar":{
             "outlinewidth":0,
             "ticks":""
            },
            "colorscale":[
             [
              0,
              "#0d0887"
             ],
             [
              0.1111111111111111,
              "#46039f"
             ],
             [
              0.2222222222222222,
              "#7201a8"
             ],
             [
              0.3333333333333333,
              "#9c179e"
             ],
             [
              0.4444444444444444,
              "#bd3786"
             ],
             [
              0.5555555555555556,
              "#d8576b"
             ],
             [
              0.6666666666666666,
              "#ed7953"
             ],
             [
              0.7777777777777778,
              "#fb9f3a"
             ],
             [
              0.8888888888888888,
              "#fdca26"
             ],
             [
              1,
              "#f0f921"
             ]
            ]
           }
          ],
          "surface":[
           {
            "type":"surface",
            "colorbar":{
             "outlinewidth":0,
             "ticks":""
            },
            "colorscale":[
             [
              0,
              "#0d0887"
             ],
             [
              0.1111111111111111,
              "#46039f"
             ],
             [
              0.2222222222222222,
              "#7201a8"
             ],
             [
              0.3333333333333333,
              "#9c179e"
             ],
             [
              0.4444444444444444,
              "#bd3786"
             ],
             [
              0.5555555555555556,
              "#d8576b"
             ],
             [
              0.6666666666666666,
              "#ed7953"
             ],
             [
              0.7777777777777778,
              "#fb9f3a"
             ],
             [
              0.8888888888888888,
              "#fdca26"
             ],
             [
              1,
              "#f0f921"
             ]
            ]
           }
          ],
          "mesh3d":[
           {
            "type":"mesh3d",
            "colorbar":{
             "outlinewidth":0,
             "ticks":""
            }
           }
          ],
          "scatter":[
           {
            "fillpattern":{
             "fillmode":"overlay",
             "size":10,
             "solidity":0.2
            },
            "type":"scatter"
           }
          ],
          "parcoords":[
           {
            "type":"parcoords",
            "line":{
             "colorbar":{
              "outlinewidth":0,
              "ticks":""
             }
            }
           }
          ],
          "scatterpolargl":[
           {
            "type":"scatterpolargl",
            "marker":{
             "colorbar":{
              "outlinewidth":0,
              "ticks":""
             }
            }
           }
          ],
          "bar":[
           {
            "error_x":{
             "color":"#2a3f5f"
            },
            "error_y":{
             "color":"#2a3f5f"
            },
            "marker":{
             "line":{
              "color":"#E5ECF6",
              "width":0.5
             },
             "pattern":{
              "fillmode":"overlay",
              "size":10,
              "solidity":0.2
             }
            },
            "type":"bar"
           }
          ],
          "scattergeo":[
           {
            "type":"scattergeo",
            "marker":{
             "colorbar":{
              "outlinewidth":0,
              "ticks":""
             }
            }
           }
          ],
          "scatterpolar":[
           {
            "type":"scatterpolar",
            "marker":{
             "colorbar":{
              "outlinewidth":0,
              "ticks":""
             }
            }
           }
          ],
          "histogram":[
           {
            "marker":{
             "pattern":{
              "fillmode":"overlay",
              "size":10,
              "solidity":0.2
             }
            },
            "type":"histogram"
           }
          ],
          "scattergl":[
           {
            "type":"scattergl",
            "marker":{
             "colorbar":{
              "outlinewidth":0,
              "ticks":""
             }
            }
           }
          ],
          "scatter3d":[
           {
            "type":"scatter3d",
            "line":{
             "colorbar":{
              "outlinewidth":0,
              "ticks":""
             }
            },
            "marker":{
             "colorbar":{
              "outlinewidth":0,
              "ticks":""
             }
            }
           }
          ],
          "scattermapbox":[
           {
            "type":"scattermapbox",
            "marker":{
             "colorbar":{
              "outlinewidth":0,
              "ticks":""
             }
            }
           }
          ],
          "scatterternary":[
           {
            "type":"scatterternary",
            "marker":{
             "colorbar":{
              "outlinewidth":0,
              "ticks":""
             }
            }
           }
          ],
          "scattercarpet":[
           {
            "type":"scattercarpet",
            "marker":{
             "colorbar":{
              "outlinewidth":0,
              "ticks":""
             }
            }
           }
          ],
          "carpet":[
           {
            "aaxis":{
             "endlinecolor":"#2a3f5f",
             "gridcolor":"white",
             "linecolor":"white",
             "minorgridcolor":"white",
             "startlinecolor":"#2a3f5f"
            },
            "baxis":{
             "endlinecolor":"#2a3f5f",
             "gridcolor":"white",
             "linecolor":"white",
             "minorgridcolor":"white",
             "startlinecolor":"#2a3f5f"
            },
            "type":"carpet"
           }
          ],
          "table":[
           {
            "cells":{
             "fill":{
              "color":"#EBF0F8"
             },
             "line":{
              "color":"white"
             }
            },
            "header":{
             "fill":{
              "color":"#C8D4E3"
             },
             "line":{
              "color":"white"
             }
            },
            "type":"table"
           }
          ],
          "barpolar":[
           {
            "marker":{
             "line":{
              "color":"#E5ECF6",
              "width":0.5
             },
             "pattern":{
              "fillmode":"overlay",
              "size":10,
              "solidity":0.2
             }
            },
            "type":"barpolar"
           }
          ],
          "pie":[
           {
            "automargin":true,
            "type":"pie"
           }
          ]
         },
         "layout":{
          "autotypenumbers":"strict",
          "colorway":[
           "#636efa",
           "#EF553B",
           "#00cc96",
           "#ab63fa",
           "#FFA15A",
           "#19d3f3",
           "#FF6692",
           "#B6E880",
           "#FF97FF",
           "#FECB52"
          ],
          "font":{
           "color":"#2a3f5f"
          },
          "hovermode":"closest",
          "hoverlabel":{
           "align":"left"
          },
          "paper_bgcolor":"white",
          "plot_bgcolor":"#E5ECF6",
          "polar":{
           "bgcolor":"#E5ECF6",
           "angularaxis":{
            "gridcolor":"white",
            "linecolor":"white",
            "ticks":""
           },
           "radialaxis":{
            "gridcolor":"white",
            "linecolor":"white",
            "ticks":""
           }
          },
          "ternary":{
           "bgcolor":"#E5ECF6",
           "aaxis":{
            "gridcolor":"white",
            "linecolor":"white",
            "ticks":""
           },
           "baxis":{
            "gridcolor":"white",
            "linecolor":"white",
            "ticks":""
           },
           "caxis":{
            "gridcolor":"white",
            "linecolor":"white",
            "ticks":""
           }
          },
          "coloraxis":{
           "colorbar":{
            "outlinewidth":0,
            "ticks":""
           }
          },
          "colorscale":{
           "sequential":[
            [
             0,
             "#0d0887"
            ],
            [
             0.1111111111111111,
             "#46039f"
            ],
            [
             0.2222222222222222,
             "#7201a8"
            ],
            [
             0.3333333333333333,
             "#9c179e"
            ],
            [
             0.4444444444444444,
             "#bd3786"
            ],
            [
             0.5555555555555556,
             "#d8576b"
            ],
            [
             0.6666666666666666,
             "#ed7953"
            ],
            [
             0.7777777777777778,
             "#fb9f3a"
            ],
            [
             0.8888888888888888,
             "#fdca26"
            ],
            [
             1,
             "#f0f921"
            ]
           ],
           "sequentialminus":[
            [
             0,
             "#0d0887"
            ],
            [
             0.1111111111111111,
             "#46039f"
            ],
            [
             0.2222222222222222,
             "#7201a8"
            ],
            [
             0.3333333333333333,
             "#9c179e"
            ],
            [
             0.4444444444444444,
             "#bd3786"
            ],
            [
             0.5555555555555556,
             "#d8576b"
            ],
            [
             0.6666666666666666,
             "#ed7953"
            ],
            [
             0.7777777777777778,
             "#fb9f3a"
            ],
            [
             0.8888888888888888,
             "#fdca26"
            ],
            [
             1,
             "#f0f921"
            ]
           ],
           "diverging":[
            [
             0,
             "#8e0152"
            ],
            [
             0.1,
             "#c51b7d"
            ],
            [
             0.2,
             "#de77ae"
            ],
            [
             0.3,
             "#f1b6da"
            ],
            [
             0.4,
             "#fde0ef"
            ],
            [
             0.5,
             "#f7f7f7"
            ],
            [
             0.6,
             "#e6f5d0"
            ],
            [
             0.7,
             "#b8e186"
            ],
            [
             0.8,
             "#7fbc41"
            ],
            [
             0.9,
             "#4d9221"
            ],
            [
             1,
             "#276419"
            ]
           ]
          },
          "xaxis":{
           "gridcolor":"white",
           "linecolor":"white",
           "ticks":"",
           "title":{
            "standoff":15
           },
           "zerolinecolor":"white",
           "automargin":true,
           "zerolinewidth":2
          },
          "yaxis":{
           "gridcolor":"white",
           "linecolor":"white",
           "ticks":"",
           "title":{
            "standoff":15
           },
           "zerolinecolor":"white",
           "automargin":true,
           "zerolinewidth":2
          },
          "scene":{
           "xaxis":{
            "backgroundcolor":"#E5ECF6",
            "gridcolor":"white",
            "linecolor":"white",
            "showbackground":true,
            "ticks":"",
            "zerolinecolor":"white",
            "gridwidth":2
           },
           "yaxis":{
            "backgroundcolor":"#E5ECF6",
            "gridcolor":"white",
            "linecolor":"white",
            "showbackground":true,
            "ticks":"",
            "zerolinecolor":"white",
            "gridwidth":2
           },
           "zaxis":{
            "backgroundcolor":"#E5ECF6",
            "gridcolor":"white",
            "linecolor":"white",
            "showbackground":true,
            "ticks":"",
            "zerolinecolor":"white",
            "gridwidth":2
           }
          },
          "shapedefaults":{
           "line":{
            "color":"#2a3f5f"
           }
          },
          "annotationdefaults":{
           "arrowcolor":"#2a3f5f",
           "arrowhead":0,
           "arrowwidth":1
          },
          "geo":{
           "bgcolor":"white",
           "landcolor":"#E5ECF6",
           "subunitcolor":"white",
           "showland":true,
           "showlakes":true,
           "lakecolor":"white"
          },
          "title":{
           "x":0.05
          },
          "mapbox":{
           "style":"light"
          }
         }
        },
        "xaxis":{
         "anchor":"y",
         "domain":[
          0,
          1
         ],
         "title":{
          "text":"Mesiac"
         }
        },
        "yaxis":{
         "anchor":"x",
         "domain":[
          0,
          1
         ],
         "title":{
          "text":"Pocet predanych kurzov"
         }
        },
        "legend":{
         "title":{
          "text":"variable"
         },
         "tracegroupgap":0
        },
        "title":{
         "text":"Predaje online kurzov programovania za 2024"
        },
        "barmode":"relative"
       },
       "config":{
        "plotlyServerURL":"https:\/\/plot.ly"
       }
      }
     },
     "metadata":{},
     "output_type":"display_data"
    }
   ],
   "metadata":{
    "datalore":{
     "node_id":"HCXmjg2bhBmX2zsVQYjBsP",
     "type":"CODE",
     "hide_input_from_viewers":true,
     "hide_output_from_viewers":true
    }
   }
  },
  {
   "cell_type":"markdown",
   "source":[
    "# 📊 Stĺpcový graf 2"
   ],
   "attachments":{},
   "metadata":{
    "datalore":{
     "node_id":"CQV7l85Erfa01Cu4IRjg2C",
     "type":"MD",
     "hide_input_from_viewers":true,
     "hide_output_from_viewers":true
    }
   }
  },
  {
   "cell_type":"code",
   "source":[
    "import plotly.express as px\n",
    "import pandas as pd\n",
    "\n",
    "data = {\n",
    "    'Mesiac': ['Január', 'Február', 'Marec', 'Apríl', 'Máj', 'Jún', 'Júl', 'August', 'September', 'Október', 'November', 'December']*3,\n",
    "    'Predaje': [220, 230, 210, 240, 250, 260, 270, 275, 290, 300, 320, 330,  # Python\n",
    "                180, 190, 170, 200, 210, 215, 220, 230, 240, 250, 260, 270,  # Java\n",
    "                150, 160, 145, 155, 165, 170, 180, 185, 195, 200, 210, 220], # JavaScript\n",
    "    'Kurz': ['Python']*12 + ['Java']*12 + ['JavaScript']*12\n",
    "}\n",
    "\n",
    "\n",
    "# Prevod dict na Dataframe (Tabulka)\n",
    "df_data = pd.DataFrame(data)\n",
    "\n",
    "# Vytvorenie grafu\n",
    "fig = px.bar(\n",
    "    df_data, \n",
    "    x = \"Mesiac\", \n",
    "    y = \"Predaje\", \n",
    "    color = \"Kurz\",\n",
    "    barmode = \"group\",\n",
    "    title = \"Predaje online kurzov programovania za 2024\",\n",
    "    labels={\"value\":\"Pocet predanych kurzov\", \"Mesiac\":\"Mesiac\"},\n",
    "    range_y= [0, 350]\n",
    ")\n",
    "\n",
    "fig.update_layout(\n",
    "    updatemenus=[{\n",
    "        'buttons': [\n",
    "            {'method': 'update', 'label': 'Všetky kurzy', 'args': [{'visible': [True, True, True]}]},\n",
    "            {'method': 'update', 'label': 'Python', 'args': [{'visible': [True, False, False]}]},\n",
    "            {'method': 'update', 'label': 'Java', 'args': [{'visible': [False, True, False]}]},\n",
    "            {'method': 'update', 'label': 'JavaScript', 'args': [{'visible': [False, False, True]}]},\n",
    "        ],\n",
    "        'direction': 'down',\n",
    "        'showactive': True\n",
    "    }]\n",
    ")\n",
    "\n",
    "fig.show()"
   ],
   "execution_count":102,
   "outputs":[
    {
     "data":{
      "application\/vnd.plotly.v1+json":{
       "data":[
        {
         "alignmentgroup":"True",
         "hovertemplate":"Kurz=Python<br>Mesiac=%{x}<br>Predaje=%{y}<extra><\/extra>",
         "legendgroup":"Python",
         "marker":{
          "color":"#636efa",
          "pattern":{
           "shape":""
          }
         },
         "name":"Python",
         "offsetgroup":"Python",
         "orientation":"v",
         "showlegend":true,
         "textposition":"auto",
         "x":[
          "Január",
          "Február",
          "Marec",
          "Apríl",
          "Máj",
          "Jún",
          "Júl",
          "August",
          "September",
          "Október",
          "November",
          "December"
         ],
         "xaxis":"x",
         "y":[
          220,
          230,
          210,
          240,
          250,
          260,
          270,
          275,
          290,
          300,
          320,
          330
         ],
         "yaxis":"y",
         "type":"bar"
        },
        {
         "alignmentgroup":"True",
         "hovertemplate":"Kurz=Java<br>Mesiac=%{x}<br>Predaje=%{y}<extra><\/extra>",
         "legendgroup":"Java",
         "marker":{
          "color":"#EF553B",
          "pattern":{
           "shape":""
          }
         },
         "name":"Java",
         "offsetgroup":"Java",
         "orientation":"v",
         "showlegend":true,
         "textposition":"auto",
         "x":[
          "Január",
          "Február",
          "Marec",
          "Apríl",
          "Máj",
          "Jún",
          "Júl",
          "August",
          "September",
          "Október",
          "November",
          "December"
         ],
         "xaxis":"x",
         "y":[
          180,
          190,
          170,
          200,
          210,
          215,
          220,
          230,
          240,
          250,
          260,
          270
         ],
         "yaxis":"y",
         "type":"bar"
        },
        {
         "alignmentgroup":"True",
         "hovertemplate":"Kurz=JavaScript<br>Mesiac=%{x}<br>Predaje=%{y}<extra><\/extra>",
         "legendgroup":"JavaScript",
         "marker":{
          "color":"#00cc96",
          "pattern":{
           "shape":""
          }
         },
         "name":"JavaScript",
         "offsetgroup":"JavaScript",
         "orientation":"v",
         "showlegend":true,
         "textposition":"auto",
         "x":[
          "Január",
          "Február",
          "Marec",
          "Apríl",
          "Máj",
          "Jún",
          "Júl",
          "August",
          "September",
          "Október",
          "November",
          "December"
         ],
         "xaxis":"x",
         "y":[
          150,
          160,
          145,
          155,
          165,
          170,
          180,
          185,
          195,
          200,
          210,
          220
         ],
         "yaxis":"y",
         "type":"bar"
        }
       ],
       "layout":{
        "template":{
         "data":{
          "histogram2dcontour":[
           {
            "type":"histogram2dcontour",
            "colorbar":{
             "outlinewidth":0,
             "ticks":""
            },
            "colorscale":[
             [
              0,
              "#0d0887"
             ],
             [
              0.1111111111111111,
              "#46039f"
             ],
             [
              0.2222222222222222,
              "#7201a8"
             ],
             [
              0.3333333333333333,
              "#9c179e"
             ],
             [
              0.4444444444444444,
              "#bd3786"
             ],
             [
              0.5555555555555556,
              "#d8576b"
             ],
             [
              0.6666666666666666,
              "#ed7953"
             ],
             [
              0.7777777777777778,
              "#fb9f3a"
             ],
             [
              0.8888888888888888,
              "#fdca26"
             ],
             [
              1,
              "#f0f921"
             ]
            ]
           }
          ],
          "choropleth":[
           {
            "type":"choropleth",
            "colorbar":{
             "outlinewidth":0,
             "ticks":""
            }
           }
          ],
          "histogram2d":[
           {
            "type":"histogram2d",
            "colorbar":{
             "outlinewidth":0,
             "ticks":""
            },
            "colorscale":[
             [
              0,
              "#0d0887"
             ],
             [
              0.1111111111111111,
              "#46039f"
             ],
             [
              0.2222222222222222,
              "#7201a8"
             ],
             [
              0.3333333333333333,
              "#9c179e"
             ],
             [
              0.4444444444444444,
              "#bd3786"
             ],
             [
              0.5555555555555556,
              "#d8576b"
             ],
             [
              0.6666666666666666,
              "#ed7953"
             ],
             [
              0.7777777777777778,
              "#fb9f3a"
             ],
             [
              0.8888888888888888,
              "#fdca26"
             ],
             [
              1,
              "#f0f921"
             ]
            ]
           }
          ],
          "heatmap":[
           {
            "type":"heatmap",
            "colorbar":{
             "outlinewidth":0,
             "ticks":""
            },
            "colorscale":[
             [
              0,
              "#0d0887"
             ],
             [
              0.1111111111111111,
              "#46039f"
             ],
             [
              0.2222222222222222,
              "#7201a8"
             ],
             [
              0.3333333333333333,
              "#9c179e"
             ],
             [
              0.4444444444444444,
              "#bd3786"
             ],
             [
              0.5555555555555556,
              "#d8576b"
             ],
             [
              0.6666666666666666,
              "#ed7953"
             ],
             [
              0.7777777777777778,
              "#fb9f3a"
             ],
             [
              0.8888888888888888,
              "#fdca26"
             ],
             [
              1,
              "#f0f921"
             ]
            ]
           }
          ],
          "heatmapgl":[
           {
            "type":"heatmapgl",
            "colorbar":{
             "outlinewidth":0,
             "ticks":""
            },
            "colorscale":[
             [
              0,
              "#0d0887"
             ],
             [
              0.1111111111111111,
              "#46039f"
             ],
             [
              0.2222222222222222,
              "#7201a8"
             ],
             [
              0.3333333333333333,
              "#9c179e"
             ],
             [
              0.4444444444444444,
              "#bd3786"
             ],
             [
              0.5555555555555556,
              "#d8576b"
             ],
             [
              0.6666666666666666,
              "#ed7953"
             ],
             [
              0.7777777777777778,
              "#fb9f3a"
             ],
             [
              0.8888888888888888,
              "#fdca26"
             ],
             [
              1,
              "#f0f921"
             ]
            ]
           }
          ],
          "contourcarpet":[
           {
            "type":"contourcarpet",
            "colorbar":{
             "outlinewidth":0,
             "ticks":""
            }
           }
          ],
          "contour":[
           {
            "type":"contour",
            "colorbar":{
             "outlinewidth":0,
             "ticks":""
            },
            "colorscale":[
             [
              0,
              "#0d0887"
             ],
             [
              0.1111111111111111,
              "#46039f"
             ],
             [
              0.2222222222222222,
              "#7201a8"
             ],
             [
              0.3333333333333333,
              "#9c179e"
             ],
             [
              0.4444444444444444,
              "#bd3786"
             ],
             [
              0.5555555555555556,
              "#d8576b"
             ],
             [
              0.6666666666666666,
              "#ed7953"
             ],
             [
              0.7777777777777778,
              "#fb9f3a"
             ],
             [
              0.8888888888888888,
              "#fdca26"
             ],
             [
              1,
              "#f0f921"
             ]
            ]
           }
          ],
          "surface":[
           {
            "type":"surface",
            "colorbar":{
             "outlinewidth":0,
             "ticks":""
            },
            "colorscale":[
             [
              0,
              "#0d0887"
             ],
             [
              0.1111111111111111,
              "#46039f"
             ],
             [
              0.2222222222222222,
              "#7201a8"
             ],
             [
              0.3333333333333333,
              "#9c179e"
             ],
             [
              0.4444444444444444,
              "#bd3786"
             ],
             [
              0.5555555555555556,
              "#d8576b"
             ],
             [
              0.6666666666666666,
              "#ed7953"
             ],
             [
              0.7777777777777778,
              "#fb9f3a"
             ],
             [
              0.8888888888888888,
              "#fdca26"
             ],
             [
              1,
              "#f0f921"
             ]
            ]
           }
          ],
          "mesh3d":[
           {
            "type":"mesh3d",
            "colorbar":{
             "outlinewidth":0,
             "ticks":""
            }
           }
          ],
          "scatter":[
           {
            "fillpattern":{
             "fillmode":"overlay",
             "size":10,
             "solidity":0.2
            },
            "type":"scatter"
           }
          ],
          "parcoords":[
           {
            "type":"parcoords",
            "line":{
             "colorbar":{
              "outlinewidth":0,
              "ticks":""
             }
            }
           }
          ],
          "scatterpolargl":[
           {
            "type":"scatterpolargl",
            "marker":{
             "colorbar":{
              "outlinewidth":0,
              "ticks":""
             }
            }
           }
          ],
          "bar":[
           {
            "error_x":{
             "color":"#2a3f5f"
            },
            "error_y":{
             "color":"#2a3f5f"
            },
            "marker":{
             "line":{
              "color":"#E5ECF6",
              "width":0.5
             },
             "pattern":{
              "fillmode":"overlay",
              "size":10,
              "solidity":0.2
             }
            },
            "type":"bar"
           }
          ],
          "scattergeo":[
           {
            "type":"scattergeo",
            "marker":{
             "colorbar":{
              "outlinewidth":0,
              "ticks":""
             }
            }
           }
          ],
          "scatterpolar":[
           {
            "type":"scatterpolar",
            "marker":{
             "colorbar":{
              "outlinewidth":0,
              "ticks":""
             }
            }
           }
          ],
          "histogram":[
           {
            "marker":{
             "pattern":{
              "fillmode":"overlay",
              "size":10,
              "solidity":0.2
             }
            },
            "type":"histogram"
           }
          ],
          "scattergl":[
           {
            "type":"scattergl",
            "marker":{
             "colorbar":{
              "outlinewidth":0,
              "ticks":""
             }
            }
           }
          ],
          "scatter3d":[
           {
            "type":"scatter3d",
            "line":{
             "colorbar":{
              "outlinewidth":0,
              "ticks":""
             }
            },
            "marker":{
             "colorbar":{
              "outlinewidth":0,
              "ticks":""
             }
            }
           }
          ],
          "scattermapbox":[
           {
            "type":"scattermapbox",
            "marker":{
             "colorbar":{
              "outlinewidth":0,
              "ticks":""
             }
            }
           }
          ],
          "scatterternary":[
           {
            "type":"scatterternary",
            "marker":{
             "colorbar":{
              "outlinewidth":0,
              "ticks":""
             }
            }
           }
          ],
          "scattercarpet":[
           {
            "type":"scattercarpet",
            "marker":{
             "colorbar":{
              "outlinewidth":0,
              "ticks":""
             }
            }
           }
          ],
          "carpet":[
           {
            "aaxis":{
             "endlinecolor":"#2a3f5f",
             "gridcolor":"white",
             "linecolor":"white",
             "minorgridcolor":"white",
             "startlinecolor":"#2a3f5f"
            },
            "baxis":{
             "endlinecolor":"#2a3f5f",
             "gridcolor":"white",
             "linecolor":"white",
             "minorgridcolor":"white",
             "startlinecolor":"#2a3f5f"
            },
            "type":"carpet"
           }
          ],
          "table":[
           {
            "cells":{
             "fill":{
              "color":"#EBF0F8"
             },
             "line":{
              "color":"white"
             }
            },
            "header":{
             "fill":{
              "color":"#C8D4E3"
             },
             "line":{
              "color":"white"
             }
            },
            "type":"table"
           }
          ],
          "barpolar":[
           {
            "marker":{
             "line":{
              "color":"#E5ECF6",
              "width":0.5
             },
             "pattern":{
              "fillmode":"overlay",
              "size":10,
              "solidity":0.2
             }
            },
            "type":"barpolar"
           }
          ],
          "pie":[
           {
            "automargin":true,
            "type":"pie"
           }
          ]
         },
         "layout":{
          "autotypenumbers":"strict",
          "colorway":[
           "#636efa",
           "#EF553B",
           "#00cc96",
           "#ab63fa",
           "#FFA15A",
           "#19d3f3",
           "#FF6692",
           "#B6E880",
           "#FF97FF",
           "#FECB52"
          ],
          "font":{
           "color":"#2a3f5f"
          },
          "hovermode":"closest",
          "hoverlabel":{
           "align":"left"
          },
          "paper_bgcolor":"white",
          "plot_bgcolor":"#E5ECF6",
          "polar":{
           "bgcolor":"#E5ECF6",
           "angularaxis":{
            "gridcolor":"white",
            "linecolor":"white",
            "ticks":""
           },
           "radialaxis":{
            "gridcolor":"white",
            "linecolor":"white",
            "ticks":""
           }
          },
          "ternary":{
           "bgcolor":"#E5ECF6",
           "aaxis":{
            "gridcolor":"white",
            "linecolor":"white",
            "ticks":""
           },
           "baxis":{
            "gridcolor":"white",
            "linecolor":"white",
            "ticks":""
           },
           "caxis":{
            "gridcolor":"white",
            "linecolor":"white",
            "ticks":""
           }
          },
          "coloraxis":{
           "colorbar":{
            "outlinewidth":0,
            "ticks":""
           }
          },
          "colorscale":{
           "sequential":[
            [
             0,
             "#0d0887"
            ],
            [
             0.1111111111111111,
             "#46039f"
            ],
            [
             0.2222222222222222,
             "#7201a8"
            ],
            [
             0.3333333333333333,
             "#9c179e"
            ],
            [
             0.4444444444444444,
             "#bd3786"
            ],
            [
             0.5555555555555556,
             "#d8576b"
            ],
            [
             0.6666666666666666,
             "#ed7953"
            ],
            [
             0.7777777777777778,
             "#fb9f3a"
            ],
            [
             0.8888888888888888,
             "#fdca26"
            ],
            [
             1,
             "#f0f921"
            ]
           ],
           "sequentialminus":[
            [
             0,
             "#0d0887"
            ],
            [
             0.1111111111111111,
             "#46039f"
            ],
            [
             0.2222222222222222,
             "#7201a8"
            ],
            [
             0.3333333333333333,
             "#9c179e"
            ],
            [
             0.4444444444444444,
             "#bd3786"
            ],
            [
             0.5555555555555556,
             "#d8576b"
            ],
            [
             0.6666666666666666,
             "#ed7953"
            ],
            [
             0.7777777777777778,
             "#fb9f3a"
            ],
            [
             0.8888888888888888,
             "#fdca26"
            ],
            [
             1,
             "#f0f921"
            ]
           ],
           "diverging":[
            [
             0,
             "#8e0152"
            ],
            [
             0.1,
             "#c51b7d"
            ],
            [
             0.2,
             "#de77ae"
            ],
            [
             0.3,
             "#f1b6da"
            ],
            [
             0.4,
             "#fde0ef"
            ],
            [
             0.5,
             "#f7f7f7"
            ],
            [
             0.6,
             "#e6f5d0"
            ],
            [
             0.7,
             "#b8e186"
            ],
            [
             0.8,
             "#7fbc41"
            ],
            [
             0.9,
             "#4d9221"
            ],
            [
             1,
             "#276419"
            ]
           ]
          },
          "xaxis":{
           "gridcolor":"white",
           "linecolor":"white",
           "ticks":"",
           "title":{
            "standoff":15
           },
           "zerolinecolor":"white",
           "automargin":true,
           "zerolinewidth":2
          },
          "yaxis":{
           "gridcolor":"white",
           "linecolor":"white",
           "ticks":"",
           "title":{
            "standoff":15
           },
           "zerolinecolor":"white",
           "automargin":true,
           "zerolinewidth":2
          },
          "scene":{
           "xaxis":{
            "backgroundcolor":"#E5ECF6",
            "gridcolor":"white",
            "linecolor":"white",
            "showbackground":true,
            "ticks":"",
            "zerolinecolor":"white",
            "gridwidth":2
           },
           "yaxis":{
            "backgroundcolor":"#E5ECF6",
            "gridcolor":"white",
            "linecolor":"white",
            "showbackground":true,
            "ticks":"",
            "zerolinecolor":"white",
            "gridwidth":2
           },
           "zaxis":{
            "backgroundcolor":"#E5ECF6",
            "gridcolor":"white",
            "linecolor":"white",
            "showbackground":true,
            "ticks":"",
            "zerolinecolor":"white",
            "gridwidth":2
           }
          },
          "shapedefaults":{
           "line":{
            "color":"#2a3f5f"
           }
          },
          "annotationdefaults":{
           "arrowcolor":"#2a3f5f",
           "arrowhead":0,
           "arrowwidth":1
          },
          "geo":{
           "bgcolor":"white",
           "landcolor":"#E5ECF6",
           "subunitcolor":"white",
           "showland":true,
           "showlakes":true,
           "lakecolor":"white"
          },
          "title":{
           "x":0.05
          },
          "mapbox":{
           "style":"light"
          }
         }
        },
        "xaxis":{
         "anchor":"y",
         "domain":[
          0,
          1
         ],
         "title":{
          "text":"Mesiac"
         }
        },
        "yaxis":{
         "anchor":"x",
         "domain":[
          0,
          1
         ],
         "title":{
          "text":"Predaje"
         },
         "range":[
          0,
          350
         ]
        },
        "legend":{
         "title":{
          "text":"Kurz"
         },
         "tracegroupgap":0
        },
        "title":{
         "text":"Predaje online kurzov programovania za 2024"
        },
        "barmode":"group",
        "updatemenus":[
         {
          "buttons":[
           {
            "args":[
             {
              "visible":[
               true,
               true,
               true
              ]
             }
            ],
            "label":"Všetky kurzy",
            "method":"update"
           },
           {
            "args":[
             {
              "visible":[
               true,
               false,
               false
              ]
             }
            ],
            "label":"Python",
            "method":"update"
           },
           {
            "args":[
             {
              "visible":[
               false,
               true,
               false
              ]
             }
            ],
            "label":"Java",
            "method":"update"
           },
           {
            "args":[
             {
              "visible":[
               false,
               false,
               true
              ]
             }
            ],
            "label":"JavaScript",
            "method":"update"
           }
          ],
          "direction":"down",
          "showactive":true
         }
        ]
       },
       "config":{
        "plotlyServerURL":"https:\/\/plot.ly"
       }
      }
     },
     "metadata":{},
     "output_type":"display_data"
    }
   ],
   "metadata":{
    "datalore":{
     "node_id":"HJD7IUdEOXJJ3Wxh45EiHE",
     "type":"CODE",
     "hide_input_from_viewers":true,
     "hide_output_from_viewers":true
    }
   }
  },
  {
   "cell_type":"markdown",
   "source":[
    "# 📊 Stĺpcový graf 3"
   ],
   "attachments":{},
   "metadata":{
    "datalore":{
     "node_id":"rJMN3M1V7RxHhh6xlZ3u1p",
     "type":"MD",
     "hide_input_from_viewers":true,
     "hide_output_from_viewers":true
    }
   }
  },
  {
   "cell_type":"code",
   "source":[
    "import plotly.express as px\n",
    "import pandas as pd\n",
    "\n",
    "# Údaje o predaji online kurzov programovania\n",
    "data = {\n",
    "    'Mesiac': ['Január', 'Február', 'Marec', 'Apríl', 'Máj', 'Jún', 'Júl', 'August', 'September', 'Október', 'November', 'December']*3,\n",
    "    'Predaje': [220, 230, 210, 240, 250, 260, 270, 275, 290, 300, 320, 330,  # Python\n",
    "                180, 190, 170, 200, 210, 215, 220, 230, 240, 250, 260, 270,  # Java\n",
    "                150, 160, 145, 155, 165, 170, 180, 185, 195, 200, 210, 220], # JavaScript\n",
    "    'Kurz': ['Python']*12 + ['Java']*12 + ['JavaScript']*12\n",
    "}\n",
    "\n",
    "# Prevod dát do DataFrame\n",
    "df = pd.DataFrame(data)\n",
    "\n",
    "# Vytvorenie stĺpcového grafu s animáciou po mesiacoch\n",
    "fig = px.bar(df, x='Kurz', y='Predaje', color='Kurz',\n",
    "             title=\"Predaje online kurzov programovania za jednotlivé mesiace\",\n",
    "             animation_frame='Mesiac', range_y=[0, 350],\n",
    "             labels={'Predaje':'Počet predaných kurzov', 'Kurz':'Názov kurzu'})\n",
    "\n",
    "# Zobrazenie grafu\n",
    "fig.show()"
   ],
   "execution_count":104,
   "outputs":[
    {
     "data":{
      "application\/vnd.plotly.v1+json":{
       "data":[
        {
         "alignmentgroup":"True",
         "hovertemplate":"Názov kurzu=%{x}<br>Mesiac=Január<br>Počet predaných kurzov=%{y}<extra><\/extra>",
         "legendgroup":"Python",
         "marker":{
          "color":"#636efa",
          "pattern":{
           "shape":""
          }
         },
         "name":"Python",
         "offsetgroup":"Python",
         "orientation":"v",
         "showlegend":true,
         "textposition":"auto",
         "x":[
          "Python"
         ],
         "xaxis":"x",
         "y":[
          220
         ],
         "yaxis":"y",
         "type":"bar"
        },
        {
         "alignmentgroup":"True",
         "hovertemplate":"Názov kurzu=%{x}<br>Mesiac=Január<br>Počet predaných kurzov=%{y}<extra><\/extra>",
         "legendgroup":"Java",
         "marker":{
          "color":"#EF553B",
          "pattern":{
           "shape":""
          }
         },
         "name":"Java",
         "offsetgroup":"Java",
         "orientation":"v",
         "showlegend":true,
         "textposition":"auto",
         "x":[
          "Java"
         ],
         "xaxis":"x",
         "y":[
          180
         ],
         "yaxis":"y",
         "type":"bar"
        },
        {
         "alignmentgroup":"True",
         "hovertemplate":"Názov kurzu=%{x}<br>Mesiac=Január<br>Počet predaných kurzov=%{y}<extra><\/extra>",
         "legendgroup":"JavaScript",
         "marker":{
          "color":"#00cc96",
          "pattern":{
           "shape":""
          }
         },
         "name":"JavaScript",
         "offsetgroup":"JavaScript",
         "orientation":"v",
         "showlegend":true,
         "textposition":"auto",
         "x":[
          "JavaScript"
         ],
         "xaxis":"x",
         "y":[
          150
         ],
         "yaxis":"y",
         "type":"bar"
        }
       ],
       "layout":{
        "template":{
         "data":{
          "histogram2dcontour":[
           {
            "type":"histogram2dcontour",
            "colorbar":{
             "outlinewidth":0,
             "ticks":""
            },
            "colorscale":[
             [
              0,
              "#0d0887"
             ],
             [
              0.1111111111111111,
              "#46039f"
             ],
             [
              0.2222222222222222,
              "#7201a8"
             ],
             [
              0.3333333333333333,
              "#9c179e"
             ],
             [
              0.4444444444444444,
              "#bd3786"
             ],
             [
              0.5555555555555556,
              "#d8576b"
             ],
             [
              0.6666666666666666,
              "#ed7953"
             ],
             [
              0.7777777777777778,
              "#fb9f3a"
             ],
             [
              0.8888888888888888,
              "#fdca26"
             ],
             [
              1,
              "#f0f921"
             ]
            ]
           }
          ],
          "choropleth":[
           {
            "type":"choropleth",
            "colorbar":{
             "outlinewidth":0,
             "ticks":""
            }
           }
          ],
          "histogram2d":[
           {
            "type":"histogram2d",
            "colorbar":{
             "outlinewidth":0,
             "ticks":""
            },
            "colorscale":[
             [
              0,
              "#0d0887"
             ],
             [
              0.1111111111111111,
              "#46039f"
             ],
             [
              0.2222222222222222,
              "#7201a8"
             ],
             [
              0.3333333333333333,
              "#9c179e"
             ],
             [
              0.4444444444444444,
              "#bd3786"
             ],
             [
              0.5555555555555556,
              "#d8576b"
             ],
             [
              0.6666666666666666,
              "#ed7953"
             ],
             [
              0.7777777777777778,
              "#fb9f3a"
             ],
             [
              0.8888888888888888,
              "#fdca26"
             ],
             [
              1,
              "#f0f921"
             ]
            ]
           }
          ],
          "heatmap":[
           {
            "type":"heatmap",
            "colorbar":{
             "outlinewidth":0,
             "ticks":""
            },
            "colorscale":[
             [
              0,
              "#0d0887"
             ],
             [
              0.1111111111111111,
              "#46039f"
             ],
             [
              0.2222222222222222,
              "#7201a8"
             ],
             [
              0.3333333333333333,
              "#9c179e"
             ],
             [
              0.4444444444444444,
              "#bd3786"
             ],
             [
              0.5555555555555556,
              "#d8576b"
             ],
             [
              0.6666666666666666,
              "#ed7953"
             ],
             [
              0.7777777777777778,
              "#fb9f3a"
             ],
             [
              0.8888888888888888,
              "#fdca26"
             ],
             [
              1,
              "#f0f921"
             ]
            ]
           }
          ],
          "heatmapgl":[
           {
            "type":"heatmapgl",
            "colorbar":{
             "outlinewidth":0,
             "ticks":""
            },
            "colorscale":[
             [
              0,
              "#0d0887"
             ],
             [
              0.1111111111111111,
              "#46039f"
             ],
             [
              0.2222222222222222,
              "#7201a8"
             ],
             [
              0.3333333333333333,
              "#9c179e"
             ],
             [
              0.4444444444444444,
              "#bd3786"
             ],
             [
              0.5555555555555556,
              "#d8576b"
             ],
             [
              0.6666666666666666,
              "#ed7953"
             ],
             [
              0.7777777777777778,
              "#fb9f3a"
             ],
             [
              0.8888888888888888,
              "#fdca26"
             ],
             [
              1,
              "#f0f921"
             ]
            ]
           }
          ],
          "contourcarpet":[
           {
            "type":"contourcarpet",
            "colorbar":{
             "outlinewidth":0,
             "ticks":""
            }
           }
          ],
          "contour":[
           {
            "type":"contour",
            "colorbar":{
             "outlinewidth":0,
             "ticks":""
            },
            "colorscale":[
             [
              0,
              "#0d0887"
             ],
             [
              0.1111111111111111,
              "#46039f"
             ],
             [
              0.2222222222222222,
              "#7201a8"
             ],
             [
              0.3333333333333333,
              "#9c179e"
             ],
             [
              0.4444444444444444,
              "#bd3786"
             ],
             [
              0.5555555555555556,
              "#d8576b"
             ],
             [
              0.6666666666666666,
              "#ed7953"
             ],
             [
              0.7777777777777778,
              "#fb9f3a"
             ],
             [
              0.8888888888888888,
              "#fdca26"
             ],
             [
              1,
              "#f0f921"
             ]
            ]
           }
          ],
          "surface":[
           {
            "type":"surface",
            "colorbar":{
             "outlinewidth":0,
             "ticks":""
            },
            "colorscale":[
             [
              0,
              "#0d0887"
             ],
             [
              0.1111111111111111,
              "#46039f"
             ],
             [
              0.2222222222222222,
              "#7201a8"
             ],
             [
              0.3333333333333333,
              "#9c179e"
             ],
             [
              0.4444444444444444,
              "#bd3786"
             ],
             [
              0.5555555555555556,
              "#d8576b"
             ],
             [
              0.6666666666666666,
              "#ed7953"
             ],
             [
              0.7777777777777778,
              "#fb9f3a"
             ],
             [
              0.8888888888888888,
              "#fdca26"
             ],
             [
              1,
              "#f0f921"
             ]
            ]
           }
          ],
          "mesh3d":[
           {
            "type":"mesh3d",
            "colorbar":{
             "outlinewidth":0,
             "ticks":""
            }
           }
          ],
          "scatter":[
           {
            "fillpattern":{
             "fillmode":"overlay",
             "size":10,
             "solidity":0.2
            },
            "type":"scatter"
           }
          ],
          "parcoords":[
           {
            "type":"parcoords",
            "line":{
             "colorbar":{
              "outlinewidth":0,
              "ticks":""
             }
            }
           }
          ],
          "scatterpolargl":[
           {
            "type":"scatterpolargl",
            "marker":{
             "colorbar":{
              "outlinewidth":0,
              "ticks":""
             }
            }
           }
          ],
          "bar":[
           {
            "error_x":{
             "color":"#2a3f5f"
            },
            "error_y":{
             "color":"#2a3f5f"
            },
            "marker":{
             "line":{
              "color":"#E5ECF6",
              "width":0.5
             },
             "pattern":{
              "fillmode":"overlay",
              "size":10,
              "solidity":0.2
             }
            },
            "type":"bar"
           }
          ],
          "scattergeo":[
           {
            "type":"scattergeo",
            "marker":{
             "colorbar":{
              "outlinewidth":0,
              "ticks":""
             }
            }
           }
          ],
          "scatterpolar":[
           {
            "type":"scatterpolar",
            "marker":{
             "colorbar":{
              "outlinewidth":0,
              "ticks":""
             }
            }
           }
          ],
          "histogram":[
           {
            "marker":{
             "pattern":{
              "fillmode":"overlay",
              "size":10,
              "solidity":0.2
             }
            },
            "type":"histogram"
           }
          ],
          "scattergl":[
           {
            "type":"scattergl",
            "marker":{
             "colorbar":{
              "outlinewidth":0,
              "ticks":""
             }
            }
           }
          ],
          "scatter3d":[
           {
            "type":"scatter3d",
            "line":{
             "colorbar":{
              "outlinewidth":0,
              "ticks":""
             }
            },
            "marker":{
             "colorbar":{
              "outlinewidth":0,
              "ticks":""
             }
            }
           }
          ],
          "scattermapbox":[
           {
            "type":"scattermapbox",
            "marker":{
             "colorbar":{
              "outlinewidth":0,
              "ticks":""
             }
            }
           }
          ],
          "scatterternary":[
           {
            "type":"scatterternary",
            "marker":{
             "colorbar":{
              "outlinewidth":0,
              "ticks":""
             }
            }
           }
          ],
          "scattercarpet":[
           {
            "type":"scattercarpet",
            "marker":{
             "colorbar":{
              "outlinewidth":0,
              "ticks":""
             }
            }
           }
          ],
          "carpet":[
           {
            "aaxis":{
             "endlinecolor":"#2a3f5f",
             "gridcolor":"white",
             "linecolor":"white",
             "minorgridcolor":"white",
             "startlinecolor":"#2a3f5f"
            },
            "baxis":{
             "endlinecolor":"#2a3f5f",
             "gridcolor":"white",
             "linecolor":"white",
             "minorgridcolor":"white",
             "startlinecolor":"#2a3f5f"
            },
            "type":"carpet"
           }
          ],
          "table":[
           {
            "cells":{
             "fill":{
              "color":"#EBF0F8"
             },
             "line":{
              "color":"white"
             }
            },
            "header":{
             "fill":{
              "color":"#C8D4E3"
             },
             "line":{
              "color":"white"
             }
            },
            "type":"table"
           }
          ],
          "barpolar":[
           {
            "marker":{
             "line":{
              "color":"#E5ECF6",
              "width":0.5
             },
             "pattern":{
              "fillmode":"overlay",
              "size":10,
              "solidity":0.2
             }
            },
            "type":"barpolar"
           }
          ],
          "pie":[
           {
            "automargin":true,
            "type":"pie"
           }
          ]
         },
         "layout":{
          "autotypenumbers":"strict",
          "colorway":[
           "#636efa",
           "#EF553B",
           "#00cc96",
           "#ab63fa",
           "#FFA15A",
           "#19d3f3",
           "#FF6692",
           "#B6E880",
           "#FF97FF",
           "#FECB52"
          ],
          "font":{
           "color":"#2a3f5f"
          },
          "hovermode":"closest",
          "hoverlabel":{
           "align":"left"
          },
          "paper_bgcolor":"white",
          "plot_bgcolor":"#E5ECF6",
          "polar":{
           "bgcolor":"#E5ECF6",
           "angularaxis":{
            "gridcolor":"white",
            "linecolor":"white",
            "ticks":""
           },
           "radialaxis":{
            "gridcolor":"white",
            "linecolor":"white",
            "ticks":""
           }
          },
          "ternary":{
           "bgcolor":"#E5ECF6",
           "aaxis":{
            "gridcolor":"white",
            "linecolor":"white",
            "ticks":""
           },
           "baxis":{
            "gridcolor":"white",
            "linecolor":"white",
            "ticks":""
           },
           "caxis":{
            "gridcolor":"white",
            "linecolor":"white",
            "ticks":""
           }
          },
          "coloraxis":{
           "colorbar":{
            "outlinewidth":0,
            "ticks":""
           }
          },
          "colorscale":{
           "sequential":[
            [
             0,
             "#0d0887"
            ],
            [
             0.1111111111111111,
             "#46039f"
            ],
            [
             0.2222222222222222,
             "#7201a8"
            ],
            [
             0.3333333333333333,
             "#9c179e"
            ],
            [
             0.4444444444444444,
             "#bd3786"
            ],
            [
             0.5555555555555556,
             "#d8576b"
            ],
            [
             0.6666666666666666,
             "#ed7953"
            ],
            [
             0.7777777777777778,
             "#fb9f3a"
            ],
            [
             0.8888888888888888,
             "#fdca26"
            ],
            [
             1,
             "#f0f921"
            ]
           ],
           "sequentialminus":[
            [
             0,
             "#0d0887"
            ],
            [
             0.1111111111111111,
             "#46039f"
            ],
            [
             0.2222222222222222,
             "#7201a8"
            ],
            [
             0.3333333333333333,
             "#9c179e"
            ],
            [
             0.4444444444444444,
             "#bd3786"
            ],
            [
             0.5555555555555556,
             "#d8576b"
            ],
            [
             0.6666666666666666,
             "#ed7953"
            ],
            [
             0.7777777777777778,
             "#fb9f3a"
            ],
            [
             0.8888888888888888,
             "#fdca26"
            ],
            [
             1,
             "#f0f921"
            ]
           ],
           "diverging":[
            [
             0,
             "#8e0152"
            ],
            [
             0.1,
             "#c51b7d"
            ],
            [
             0.2,
             "#de77ae"
            ],
            [
             0.3,
             "#f1b6da"
            ],
            [
             0.4,
             "#fde0ef"
            ],
            [
             0.5,
             "#f7f7f7"
            ],
            [
             0.6,
             "#e6f5d0"
            ],
            [
             0.7,
             "#b8e186"
            ],
            [
             0.8,
             "#7fbc41"
            ],
            [
             0.9,
             "#4d9221"
            ],
            [
             1,
             "#276419"
            ]
           ]
          },
          "xaxis":{
           "gridcolor":"white",
           "linecolor":"white",
           "ticks":"",
           "title":{
            "standoff":15
           },
           "zerolinecolor":"white",
           "automargin":true,
           "zerolinewidth":2
          },
          "yaxis":{
           "gridcolor":"white",
           "linecolor":"white",
           "ticks":"",
           "title":{
            "standoff":15
           },
           "zerolinecolor":"white",
           "automargin":true,
           "zerolinewidth":2
          },
          "scene":{
           "xaxis":{
            "backgroundcolor":"#E5ECF6",
            "gridcolor":"white",
            "linecolor":"white",
            "showbackground":true,
            "ticks":"",
            "zerolinecolor":"white",
            "gridwidth":2
           },
           "yaxis":{
            "backgroundcolor":"#E5ECF6",
            "gridcolor":"white",
            "linecolor":"white",
            "showbackground":true,
            "ticks":"",
            "zerolinecolor":"white",
            "gridwidth":2
           },
           "zaxis":{
            "backgroundcolor":"#E5ECF6",
            "gridcolor":"white",
            "linecolor":"white",
            "showbackground":true,
            "ticks":"",
            "zerolinecolor":"white",
            "gridwidth":2
           }
          },
          "shapedefaults":{
           "line":{
            "color":"#2a3f5f"
           }
          },
          "annotationdefaults":{
           "arrowcolor":"#2a3f5f",
           "arrowhead":0,
           "arrowwidth":1
          },
          "geo":{
           "bgcolor":"white",
           "landcolor":"#E5ECF6",
           "subunitcolor":"white",
           "showland":true,
           "showlakes":true,
           "lakecolor":"white"
          },
          "title":{
           "x":0.05
          },
          "mapbox":{
           "style":"light"
          }
         }
        },
        "xaxis":{
         "anchor":"y",
         "domain":[
          0,
          1
         ],
         "title":{
          "text":"Názov kurzu"
         },
         "categoryorder":"array",
         "categoryarray":[
          "Python",
          "Java",
          "JavaScript"
         ]
        },
        "yaxis":{
         "anchor":"x",
         "domain":[
          0,
          1
         ],
         "title":{
          "text":"Počet predaných kurzov"
         },
         "range":[
          0,
          350
         ]
        },
        "legend":{
         "title":{
          "text":"Názov kurzu"
         },
         "tracegroupgap":0
        },
        "title":{
         "text":"Predaje online kurzov programovania za jednotlivé mesiace"
        },
        "barmode":"relative",
        "updatemenus":[
         {
          "buttons":[
           {
            "args":[
             null,
             {
              "frame":{
               "duration":500,
               "redraw":true
              },
              "mode":"immediate",
              "fromcurrent":true,
              "transition":{
               "duration":500,
               "easing":"linear"
              }
             }
            ],
            "label":"&#9654;",
            "method":"animate"
           },
           {
            "args":[
             [
              null
             ],
             {
              "frame":{
               "duration":0,
               "redraw":true
              },
              "mode":"immediate",
              "fromcurrent":true,
              "transition":{
               "duration":0,
               "easing":"linear"
              }
             }
            ],
            "label":"&#9724;",
            "method":"animate"
           }
          ],
          "direction":"left",
          "pad":{
           "r":10,
           "t":70
          },
          "showactive":false,
          "type":"buttons",
          "x":0.1,
          "xanchor":"right",
          "y":0,
          "yanchor":"top"
         }
        ],
        "sliders":[
         {
          "active":0,
          "currentvalue":{
           "prefix":"Mesiac="
          },
          "len":0.9,
          "pad":{
           "b":10,
           "t":60
          },
          "steps":[
           {
            "args":[
             [
              "Január"
             ],
             {
              "frame":{
               "duration":0,
               "redraw":true
              },
              "mode":"immediate",
              "fromcurrent":true,
              "transition":{
               "duration":0,
               "easing":"linear"
              }
             }
            ],
            "label":"Január",
            "method":"animate"
           },
           {
            "args":[
             [
              "Február"
             ],
             {
              "frame":{
               "duration":0,
               "redraw":true
              },
              "mode":"immediate",
              "fromcurrent":true,
              "transition":{
               "duration":0,
               "easing":"linear"
              }
             }
            ],
            "label":"Február",
            "method":"animate"
           },
           {
            "args":[
             [
              "Marec"
             ],
             {
              "frame":{
               "duration":0,
               "redraw":true
              },
              "mode":"immediate",
              "fromcurrent":true,
              "transition":{
               "duration":0,
               "easing":"linear"
              }
             }
            ],
            "label":"Marec",
            "method":"animate"
           },
           {
            "args":[
             [
              "Apríl"
             ],
             {
              "frame":{
               "duration":0,
               "redraw":true
              },
              "mode":"immediate",
              "fromcurrent":true,
              "transition":{
               "duration":0,
               "easing":"linear"
              }
             }
            ],
            "label":"Apríl",
            "method":"animate"
           },
           {
            "args":[
             [
              "Máj"
             ],
             {
              "frame":{
               "duration":0,
               "redraw":true
              },
              "mode":"immediate",
              "fromcurrent":true,
              "transition":{
               "duration":0,
               "easing":"linear"
              }
             }
            ],
            "label":"Máj",
            "method":"animate"
           },
           {
            "args":[
             [
              "Jún"
             ],
             {
              "frame":{
               "duration":0,
               "redraw":true
              },
              "mode":"immediate",
              "fromcurrent":true,
              "transition":{
               "duration":0,
               "easing":"linear"
              }
             }
            ],
            "label":"Jún",
            "method":"animate"
           },
           {
            "args":[
             [
              "Júl"
             ],
             {
              "frame":{
               "duration":0,
               "redraw":true
              },
              "mode":"immediate",
              "fromcurrent":true,
              "transition":{
               "duration":0,
               "easing":"linear"
              }
             }
            ],
            "label":"Júl",
            "method":"animate"
           },
           {
            "args":[
             [
              "August"
             ],
             {
              "frame":{
               "duration":0,
               "redraw":true
              },
              "mode":"immediate",
              "fromcurrent":true,
              "transition":{
               "duration":0,
               "easing":"linear"
              }
             }
            ],
            "label":"August",
            "method":"animate"
           },
           {
            "args":[
             [
              "September"
             ],
             {
              "frame":{
               "duration":0,
               "redraw":true
              },
              "mode":"immediate",
              "fromcurrent":true,
              "transition":{
               "duration":0,
               "easing":"linear"
              }
             }
            ],
            "label":"September",
            "method":"animate"
           },
           {
            "args":[
             [
              "Október"
             ],
             {
              "frame":{
               "duration":0,
               "redraw":true
              },
              "mode":"immediate",
              "fromcurrent":true,
              "transition":{
               "duration":0,
               "easing":"linear"
              }
             }
            ],
            "label":"Október",
            "method":"animate"
           },
           {
            "args":[
             [
              "November"
             ],
             {
              "frame":{
               "duration":0,
               "redraw":true
              },
              "mode":"immediate",
              "fromcurrent":true,
              "transition":{
               "duration":0,
               "easing":"linear"
              }
             }
            ],
            "label":"November",
            "method":"animate"
           },
           {
            "args":[
             [
              "December"
             ],
             {
              "frame":{
               "duration":0,
               "redraw":true
              },
              "mode":"immediate",
              "fromcurrent":true,
              "transition":{
               "duration":0,
               "easing":"linear"
              }
             }
            ],
            "label":"December",
            "method":"animate"
           }
          ],
          "x":0.1,
          "xanchor":"left",
          "y":0,
          "yanchor":"top"
         }
        ]
       },
       "frames":[
        {
         "data":[
          {
           "alignmentgroup":"True",
           "hovertemplate":"Názov kurzu=%{x}<br>Mesiac=Január<br>Počet predaných kurzov=%{y}<extra><\/extra>",
           "legendgroup":"Python",
           "marker":{
            "color":"#636efa",
            "pattern":{
             "shape":""
            }
           },
           "name":"Python",
           "offsetgroup":"Python",
           "orientation":"v",
           "showlegend":true,
           "textposition":"auto",
           "x":[
            "Python"
           ],
           "xaxis":"x",
           "y":[
            220
           ],
           "yaxis":"y",
           "type":"bar"
          },
          {
           "alignmentgroup":"True",
           "hovertemplate":"Názov kurzu=%{x}<br>Mesiac=Január<br>Počet predaných kurzov=%{y}<extra><\/extra>",
           "legendgroup":"Java",
           "marker":{
            "color":"#EF553B",
            "pattern":{
             "shape":""
            }
           },
           "name":"Java",
           "offsetgroup":"Java",
           "orientation":"v",
           "showlegend":true,
           "textposition":"auto",
           "x":[
            "Java"
           ],
           "xaxis":"x",
           "y":[
            180
           ],
           "yaxis":"y",
           "type":"bar"
          },
          {
           "alignmentgroup":"True",
           "hovertemplate":"Názov kurzu=%{x}<br>Mesiac=Január<br>Počet predaných kurzov=%{y}<extra><\/extra>",
           "legendgroup":"JavaScript",
           "marker":{
            "color":"#00cc96",
            "pattern":{
             "shape":""
            }
           },
           "name":"JavaScript",
           "offsetgroup":"JavaScript",
           "orientation":"v",
           "showlegend":true,
           "textposition":"auto",
           "x":[
            "JavaScript"
           ],
           "xaxis":"x",
           "y":[
            150
           ],
           "yaxis":"y",
           "type":"bar"
          }
         ],
         "name":"Január"
        },
        {
         "data":[
          {
           "alignmentgroup":"True",
           "hovertemplate":"Názov kurzu=%{x}<br>Mesiac=Február<br>Počet predaných kurzov=%{y}<extra><\/extra>",
           "legendgroup":"Python",
           "marker":{
            "color":"#636efa",
            "pattern":{
             "shape":""
            }
           },
           "name":"Python",
           "offsetgroup":"Python",
           "orientation":"v",
           "showlegend":true,
           "textposition":"auto",
           "x":[
            "Python"
           ],
           "xaxis":"x",
           "y":[
            230
           ],
           "yaxis":"y",
           "type":"bar"
          },
          {
           "alignmentgroup":"True",
           "hovertemplate":"Názov kurzu=%{x}<br>Mesiac=Február<br>Počet predaných kurzov=%{y}<extra><\/extra>",
           "legendgroup":"Java",
           "marker":{
            "color":"#EF553B",
            "pattern":{
             "shape":""
            }
           },
           "name":"Java",
           "offsetgroup":"Java",
           "orientation":"v",
           "showlegend":true,
           "textposition":"auto",
           "x":[
            "Java"
           ],
           "xaxis":"x",
           "y":[
            190
           ],
           "yaxis":"y",
           "type":"bar"
          },
          {
           "alignmentgroup":"True",
           "hovertemplate":"Názov kurzu=%{x}<br>Mesiac=Február<br>Počet predaných kurzov=%{y}<extra><\/extra>",
           "legendgroup":"JavaScript",
           "marker":{
            "color":"#00cc96",
            "pattern":{
             "shape":""
            }
           },
           "name":"JavaScript",
           "offsetgroup":"JavaScript",
           "orientation":"v",
           "showlegend":true,
           "textposition":"auto",
           "x":[
            "JavaScript"
           ],
           "xaxis":"x",
           "y":[
            160
           ],
           "yaxis":"y",
           "type":"bar"
          }
         ],
         "name":"Február"
        },
        {
         "data":[
          {
           "alignmentgroup":"True",
           "hovertemplate":"Názov kurzu=%{x}<br>Mesiac=Marec<br>Počet predaných kurzov=%{y}<extra><\/extra>",
           "legendgroup":"Python",
           "marker":{
            "color":"#636efa",
            "pattern":{
             "shape":""
            }
           },
           "name":"Python",
           "offsetgroup":"Python",
           "orientation":"v",
           "showlegend":true,
           "textposition":"auto",
           "x":[
            "Python"
           ],
           "xaxis":"x",
           "y":[
            210
           ],
           "yaxis":"y",
           "type":"bar"
          },
          {
           "alignmentgroup":"True",
           "hovertemplate":"Názov kurzu=%{x}<br>Mesiac=Marec<br>Počet predaných kurzov=%{y}<extra><\/extra>",
           "legendgroup":"Java",
           "marker":{
            "color":"#EF553B",
            "pattern":{
             "shape":""
            }
           },
           "name":"Java",
           "offsetgroup":"Java",
           "orientation":"v",
           "showlegend":true,
           "textposition":"auto",
           "x":[
            "Java"
           ],
           "xaxis":"x",
           "y":[
            170
           ],
           "yaxis":"y",
           "type":"bar"
          },
          {
           "alignmentgroup":"True",
           "hovertemplate":"Názov kurzu=%{x}<br>Mesiac=Marec<br>Počet predaných kurzov=%{y}<extra><\/extra>",
           "legendgroup":"JavaScript",
           "marker":{
            "color":"#00cc96",
            "pattern":{
             "shape":""
            }
           },
           "name":"JavaScript",
           "offsetgroup":"JavaScript",
           "orientation":"v",
           "showlegend":true,
           "textposition":"auto",
           "x":[
            "JavaScript"
           ],
           "xaxis":"x",
           "y":[
            145
           ],
           "yaxis":"y",
           "type":"bar"
          }
         ],
         "name":"Marec"
        },
        {
         "data":[
          {
           "alignmentgroup":"True",
           "hovertemplate":"Názov kurzu=%{x}<br>Mesiac=Apríl<br>Počet predaných kurzov=%{y}<extra><\/extra>",
           "legendgroup":"Python",
           "marker":{
            "color":"#636efa",
            "pattern":{
             "shape":""
            }
           },
           "name":"Python",
           "offsetgroup":"Python",
           "orientation":"v",
           "showlegend":true,
           "textposition":"auto",
           "x":[
            "Python"
           ],
           "xaxis":"x",
           "y":[
            240
           ],
           "yaxis":"y",
           "type":"bar"
          },
          {
           "alignmentgroup":"True",
           "hovertemplate":"Názov kurzu=%{x}<br>Mesiac=Apríl<br>Počet predaných kurzov=%{y}<extra><\/extra>",
           "legendgroup":"Java",
           "marker":{
            "color":"#EF553B",
            "pattern":{
             "shape":""
            }
           },
           "name":"Java",
           "offsetgroup":"Java",
           "orientation":"v",
           "showlegend":true,
           "textposition":"auto",
           "x":[
            "Java"
           ],
           "xaxis":"x",
           "y":[
            200
           ],
           "yaxis":"y",
           "type":"bar"
          },
          {
           "alignmentgroup":"True",
           "hovertemplate":"Názov kurzu=%{x}<br>Mesiac=Apríl<br>Počet predaných kurzov=%{y}<extra><\/extra>",
           "legendgroup":"JavaScript",
           "marker":{
            "color":"#00cc96",
            "pattern":{
             "shape":""
            }
           },
           "name":"JavaScript",
           "offsetgroup":"JavaScript",
           "orientation":"v",
           "showlegend":true,
           "textposition":"auto",
           "x":[
            "JavaScript"
           ],
           "xaxis":"x",
           "y":[
            155
           ],
           "yaxis":"y",
           "type":"bar"
          }
         ],
         "name":"Apríl"
        },
        {
         "data":[
          {
           "alignmentgroup":"True",
           "hovertemplate":"Názov kurzu=%{x}<br>Mesiac=Máj<br>Počet predaných kurzov=%{y}<extra><\/extra>",
           "legendgroup":"Python",
           "marker":{
            "color":"#636efa",
            "pattern":{
             "shape":""
            }
           },
           "name":"Python",
           "offsetgroup":"Python",
           "orientation":"v",
           "showlegend":true,
           "textposition":"auto",
           "x":[
            "Python"
           ],
           "xaxis":"x",
           "y":[
            250
           ],
           "yaxis":"y",
           "type":"bar"
          },
          {
           "alignmentgroup":"True",
           "hovertemplate":"Názov kurzu=%{x}<br>Mesiac=Máj<br>Počet predaných kurzov=%{y}<extra><\/extra>",
           "legendgroup":"Java",
           "marker":{
            "color":"#EF553B",
            "pattern":{
             "shape":""
            }
           },
           "name":"Java",
           "offsetgroup":"Java",
           "orientation":"v",
           "showlegend":true,
           "textposition":"auto",
           "x":[
            "Java"
           ],
           "xaxis":"x",
           "y":[
            210
           ],
           "yaxis":"y",
           "type":"bar"
          },
          {
           "alignmentgroup":"True",
           "hovertemplate":"Názov kurzu=%{x}<br>Mesiac=Máj<br>Počet predaných kurzov=%{y}<extra><\/extra>",
           "legendgroup":"JavaScript",
           "marker":{
            "color":"#00cc96",
            "pattern":{
             "shape":""
            }
           },
           "name":"JavaScript",
           "offsetgroup":"JavaScript",
           "orientation":"v",
           "showlegend":true,
           "textposition":"auto",
           "x":[
            "JavaScript"
           ],
           "xaxis":"x",
           "y":[
            165
           ],
           "yaxis":"y",
           "type":"bar"
          }
         ],
         "name":"Máj"
        },
        {
         "data":[
          {
           "alignmentgroup":"True",
           "hovertemplate":"Názov kurzu=%{x}<br>Mesiac=Jún<br>Počet predaných kurzov=%{y}<extra><\/extra>",
           "legendgroup":"Python",
           "marker":{
            "color":"#636efa",
            "pattern":{
             "shape":""
            }
           },
           "name":"Python",
           "offsetgroup":"Python",
           "orientation":"v",
           "showlegend":true,
           "textposition":"auto",
           "x":[
            "Python"
           ],
           "xaxis":"x",
           "y":[
            260
           ],
           "yaxis":"y",
           "type":"bar"
          },
          {
           "alignmentgroup":"True",
           "hovertemplate":"Názov kurzu=%{x}<br>Mesiac=Jún<br>Počet predaných kurzov=%{y}<extra><\/extra>",
           "legendgroup":"Java",
           "marker":{
            "color":"#EF553B",
            "pattern":{
             "shape":""
            }
           },
           "name":"Java",
           "offsetgroup":"Java",
           "orientation":"v",
           "showlegend":true,
           "textposition":"auto",
           "x":[
            "Java"
           ],
           "xaxis":"x",
           "y":[
            215
           ],
           "yaxis":"y",
           "type":"bar"
          },
          {
           "alignmentgroup":"True",
           "hovertemplate":"Názov kurzu=%{x}<br>Mesiac=Jún<br>Počet predaných kurzov=%{y}<extra><\/extra>",
           "legendgroup":"JavaScript",
           "marker":{
            "color":"#00cc96",
            "pattern":{
             "shape":""
            }
           },
           "name":"JavaScript",
           "offsetgroup":"JavaScript",
           "orientation":"v",
           "showlegend":true,
           "textposition":"auto",
           "x":[
            "JavaScript"
           ],
           "xaxis":"x",
           "y":[
            170
           ],
           "yaxis":"y",
           "type":"bar"
          }
         ],
         "name":"Jún"
        },
        {
         "data":[
          {
           "alignmentgroup":"True",
           "hovertemplate":"Názov kurzu=%{x}<br>Mesiac=Júl<br>Počet predaných kurzov=%{y}<extra><\/extra>",
           "legendgroup":"Python",
           "marker":{
            "color":"#636efa",
            "pattern":{
             "shape":""
            }
           },
           "name":"Python",
           "offsetgroup":"Python",
           "orientation":"v",
           "showlegend":true,
           "textposition":"auto",
           "x":[
            "Python"
           ],
           "xaxis":"x",
           "y":[
            270
           ],
           "yaxis":"y",
           "type":"bar"
          },
          {
           "alignmentgroup":"True",
           "hovertemplate":"Názov kurzu=%{x}<br>Mesiac=Júl<br>Počet predaných kurzov=%{y}<extra><\/extra>",
           "legendgroup":"Java",
           "marker":{
            "color":"#EF553B",
            "pattern":{
             "shape":""
            }
           },
           "name":"Java",
           "offsetgroup":"Java",
           "orientation":"v",
           "showlegend":true,
           "textposition":"auto",
           "x":[
            "Java"
           ],
           "xaxis":"x",
           "y":[
            220
           ],
           "yaxis":"y",
           "type":"bar"
          },
          {
           "alignmentgroup":"True",
           "hovertemplate":"Názov kurzu=%{x}<br>Mesiac=Júl<br>Počet predaných kurzov=%{y}<extra><\/extra>",
           "legendgroup":"JavaScript",
           "marker":{
            "color":"#00cc96",
            "pattern":{
             "shape":""
            }
           },
           "name":"JavaScript",
           "offsetgroup":"JavaScript",
           "orientation":"v",
           "showlegend":true,
           "textposition":"auto",
           "x":[
            "JavaScript"
           ],
           "xaxis":"x",
           "y":[
            180
           ],
           "yaxis":"y",
           "type":"bar"
          }
         ],
         "name":"Júl"
        },
        {
         "data":[
          {
           "alignmentgroup":"True",
           "hovertemplate":"Názov kurzu=%{x}<br>Mesiac=August<br>Počet predaných kurzov=%{y}<extra><\/extra>",
           "legendgroup":"Python",
           "marker":{
            "color":"#636efa",
            "pattern":{
             "shape":""
            }
           },
           "name":"Python",
           "offsetgroup":"Python",
           "orientation":"v",
           "showlegend":true,
           "textposition":"auto",
           "x":[
            "Python"
           ],
           "xaxis":"x",
           "y":[
            275
           ],
           "yaxis":"y",
           "type":"bar"
          },
          {
           "alignmentgroup":"True",
           "hovertemplate":"Názov kurzu=%{x}<br>Mesiac=August<br>Počet predaných kurzov=%{y}<extra><\/extra>",
           "legendgroup":"Java",
           "marker":{
            "color":"#EF553B",
            "pattern":{
             "shape":""
            }
           },
           "name":"Java",
           "offsetgroup":"Java",
           "orientation":"v",
           "showlegend":true,
           "textposition":"auto",
           "x":[
            "Java"
           ],
           "xaxis":"x",
           "y":[
            230
           ],
           "yaxis":"y",
           "type":"bar"
          },
          {
           "alignmentgroup":"True",
           "hovertemplate":"Názov kurzu=%{x}<br>Mesiac=August<br>Počet predaných kurzov=%{y}<extra><\/extra>",
           "legendgroup":"JavaScript",
           "marker":{
            "color":"#00cc96",
            "pattern":{
             "shape":""
            }
           },
           "name":"JavaScript",
           "offsetgroup":"JavaScript",
           "orientation":"v",
           "showlegend":true,
           "textposition":"auto",
           "x":[
            "JavaScript"
           ],
           "xaxis":"x",
           "y":[
            185
           ],
           "yaxis":"y",
           "type":"bar"
          }
         ],
         "name":"August"
        },
        {
         "data":[
          {
           "alignmentgroup":"True",
           "hovertemplate":"Názov kurzu=%{x}<br>Mesiac=September<br>Počet predaných kurzov=%{y}<extra><\/extra>",
           "legendgroup":"Python",
           "marker":{
            "color":"#636efa",
            "pattern":{
             "shape":""
            }
           },
           "name":"Python",
           "offsetgroup":"Python",
           "orientation":"v",
           "showlegend":true,
           "textposition":"auto",
           "x":[
            "Python"
           ],
           "xaxis":"x",
           "y":[
            290
           ],
           "yaxis":"y",
           "type":"bar"
          },
          {
           "alignmentgroup":"True",
           "hovertemplate":"Názov kurzu=%{x}<br>Mesiac=September<br>Počet predaných kurzov=%{y}<extra><\/extra>",
           "legendgroup":"Java",
           "marker":{
            "color":"#EF553B",
            "pattern":{
             "shape":""
            }
           },
           "name":"Java",
           "offsetgroup":"Java",
           "orientation":"v",
           "showlegend":true,
           "textposition":"auto",
           "x":[
            "Java"
           ],
           "xaxis":"x",
           "y":[
            240
           ],
           "yaxis":"y",
           "type":"bar"
          },
          {
           "alignmentgroup":"True",
           "hovertemplate":"Názov kurzu=%{x}<br>Mesiac=September<br>Počet predaných kurzov=%{y}<extra><\/extra>",
           "legendgroup":"JavaScript",
           "marker":{
            "color":"#00cc96",
            "pattern":{
             "shape":""
            }
           },
           "name":"JavaScript",
           "offsetgroup":"JavaScript",
           "orientation":"v",
           "showlegend":true,
           "textposition":"auto",
           "x":[
            "JavaScript"
           ],
           "xaxis":"x",
           "y":[
            195
           ],
           "yaxis":"y",
           "type":"bar"
          }
         ],
         "name":"September"
        },
        {
         "data":[
          {
           "alignmentgroup":"True",
           "hovertemplate":"Názov kurzu=%{x}<br>Mesiac=Október<br>Počet predaných kurzov=%{y}<extra><\/extra>",
           "legendgroup":"Python",
           "marker":{
            "color":"#636efa",
            "pattern":{
             "shape":""
            }
           },
           "name":"Python",
           "offsetgroup":"Python",
           "orientation":"v",
           "showlegend":true,
           "textposition":"auto",
           "x":[
            "Python"
           ],
           "xaxis":"x",
           "y":[
            300
           ],
           "yaxis":"y",
           "type":"bar"
          },
          {
           "alignmentgroup":"True",
           "hovertemplate":"Názov kurzu=%{x}<br>Mesiac=Október<br>Počet predaných kurzov=%{y}<extra><\/extra>",
           "legendgroup":"Java",
           "marker":{
            "color":"#EF553B",
            "pattern":{
             "shape":""
            }
           },
           "name":"Java",
           "offsetgroup":"Java",
           "orientation":"v",
           "showlegend":true,
           "textposition":"auto",
           "x":[
            "Java"
           ],
           "xaxis":"x",
           "y":[
            250
           ],
           "yaxis":"y",
           "type":"bar"
          },
          {
           "alignmentgroup":"True",
           "hovertemplate":"Názov kurzu=%{x}<br>Mesiac=Október<br>Počet predaných kurzov=%{y}<extra><\/extra>",
           "legendgroup":"JavaScript",
           "marker":{
            "color":"#00cc96",
            "pattern":{
             "shape":""
            }
           },
           "name":"JavaScript",
           "offsetgroup":"JavaScript",
           "orientation":"v",
           "showlegend":true,
           "textposition":"auto",
           "x":[
            "JavaScript"
           ],
           "xaxis":"x",
           "y":[
            200
           ],
           "yaxis":"y",
           "type":"bar"
          }
         ],
         "name":"Október"
        },
        {
         "data":[
          {
           "alignmentgroup":"True",
           "hovertemplate":"Názov kurzu=%{x}<br>Mesiac=November<br>Počet predaných kurzov=%{y}<extra><\/extra>",
           "legendgroup":"Python",
           "marker":{
            "color":"#636efa",
            "pattern":{
             "shape":""
            }
           },
           "name":"Python",
           "offsetgroup":"Python",
           "orientation":"v",
           "showlegend":true,
           "textposition":"auto",
           "x":[
            "Python"
           ],
           "xaxis":"x",
           "y":[
            320
           ],
           "yaxis":"y",
           "type":"bar"
          },
          {
           "alignmentgroup":"True",
           "hovertemplate":"Názov kurzu=%{x}<br>Mesiac=November<br>Počet predaných kurzov=%{y}<extra><\/extra>",
           "legendgroup":"Java",
           "marker":{
            "color":"#EF553B",
            "pattern":{
             "shape":""
            }
           },
           "name":"Java",
           "offsetgroup":"Java",
           "orientation":"v",
           "showlegend":true,
           "textposition":"auto",
           "x":[
            "Java"
           ],
           "xaxis":"x",
           "y":[
            260
           ],
           "yaxis":"y",
           "type":"bar"
          },
          {
           "alignmentgroup":"True",
           "hovertemplate":"Názov kurzu=%{x}<br>Mesiac=November<br>Počet predaných kurzov=%{y}<extra><\/extra>",
           "legendgroup":"JavaScript",
           "marker":{
            "color":"#00cc96",
            "pattern":{
             "shape":""
            }
           },
           "name":"JavaScript",
           "offsetgroup":"JavaScript",
           "orientation":"v",
           "showlegend":true,
           "textposition":"auto",
           "x":[
            "JavaScript"
           ],
           "xaxis":"x",
           "y":[
            210
           ],
           "yaxis":"y",
           "type":"bar"
          }
         ],
         "name":"November"
        },
        {
         "data":[
          {
           "alignmentgroup":"True",
           "hovertemplate":"Názov kurzu=%{x}<br>Mesiac=December<br>Počet predaných kurzov=%{y}<extra><\/extra>",
           "legendgroup":"Python",
           "marker":{
            "color":"#636efa",
            "pattern":{
             "shape":""
            }
           },
           "name":"Python",
           "offsetgroup":"Python",
           "orientation":"v",
           "showlegend":true,
           "textposition":"auto",
           "x":[
            "Python"
           ],
           "xaxis":"x",
           "y":[
            330
           ],
           "yaxis":"y",
           "type":"bar"
          },
          {
           "alignmentgroup":"True",
           "hovertemplate":"Názov kurzu=%{x}<br>Mesiac=December<br>Počet predaných kurzov=%{y}<extra><\/extra>",
           "legendgroup":"Java",
           "marker":{
            "color":"#EF553B",
            "pattern":{
             "shape":""
            }
           },
           "name":"Java",
           "offsetgroup":"Java",
           "orientation":"v",
           "showlegend":true,
           "textposition":"auto",
           "x":[
            "Java"
           ],
           "xaxis":"x",
           "y":[
            270
           ],
           "yaxis":"y",
           "type":"bar"
          },
          {
           "alignmentgroup":"True",
           "hovertemplate":"Názov kurzu=%{x}<br>Mesiac=December<br>Počet predaných kurzov=%{y}<extra><\/extra>",
           "legendgroup":"JavaScript",
           "marker":{
            "color":"#00cc96",
            "pattern":{
             "shape":""
            }
           },
           "name":"JavaScript",
           "offsetgroup":"JavaScript",
           "orientation":"v",
           "showlegend":true,
           "textposition":"auto",
           "x":[
            "JavaScript"
           ],
           "xaxis":"x",
           "y":[
            220
           ],
           "yaxis":"y",
           "type":"bar"
          }
         ],
         "name":"December"
        }
       ],
       "config":{
        "plotlyServerURL":"https:\/\/plot.ly"
       }
      }
     },
     "metadata":{},
     "output_type":"display_data"
    }
   ],
   "metadata":{
    "datalore":{
     "node_id":"Tuo7qEaGOhukLD43n3Q2ZF",
     "type":"CODE",
     "hide_input_from_viewers":true,
     "hide_output_from_viewers":true
    }
   }
  },
  {
   "cell_type":"markdown",
   "source":[
    "# 🥧 Koláčový graf (Pie Chart)\n",
    "- na zobrazenie relatívnych proporcií alebo podielov v celku\n",
    "\n",
    "**Použitie:**\n",
    "Koláčový graf zobrazuje relatívne podiely jednotlivých kategórií ako segmenty kruhu. Je vhodný na zobrazenie rozdelenia alebo proporcií z celkového súboru dát.\n",
    "\n",
    "**Aplikácie:**\n",
    "Podiely kategórií: Zobrazenie podielu rôznych kategórií na celkovej hodnote (napr. trhový podiel firiem, percentuálne rozdelenie výdavkov).\n",
    "Percentuálne rozdelenie: Vizualizácia toho, ako sú dáta rozdelené medzi rôzne skupiny (napr. ako sa rozdeľujú náklady na projekt medzi rôzne položky).\n",
    "\n",
    "**Tipy:**\n",
    "Použite koláčový graf, iba ak máte relatívne malé množstvo kategórií (ideálne 5-6), aby bola vizualizácia prehľadná. Ak máte veľa kategórií, zvoľte iný typ grafu, napr. stĺpcový graf.\n",
    "Zvýraznite najdôležitejšie segmenty tým, že ich vizuálne oddelíte (napr. tzv. „exploded pie chart“), aby boli okamžite viditeľné.\n",
    "Každý segment by mal mať označenie (percentuálny podiel alebo hodnota), aby bol význam grafu zrejmý.\n",
    "\n",
    "**Príklad:**\n",
    "Rozdelenie firemného rozpočtu medzi rôzne oddelenia.\n",
    "Percentuálny podiel rôznych výrobkov na celkovom predaji."
   ],
   "attachments":{},
   "metadata":{
    "datalore":{
     "node_id":"BDCbfZKGaltotvkLkf2mWW",
     "type":"MD",
     "hide_input_from_viewers":true,
     "hide_output_from_viewers":true
    }
   }
  },
  {
   "cell_type":"code",
   "source":[
    "import plotly.express as px\n",
    "import pandas as pd\n",
    "\n",
    "\n",
    "data_jedla = {\n",
    "    \"Kategoria\": [\"Maso\", \"Ovocie\", \"Zelenina\", \"Mliecne vyrobky\", \"Cerealie\", \"Sladkosti\"],\n",
    "    \"Vydavky\" : [300, 150, 120, 200, 80, 100]\n",
    "}\n",
    "\n",
    "df_jedlo = pd.DataFrame(data_jedla)\n",
    "\n",
    "fig = px.pie(df_jedlo, values = \"Vydavky\", names=\"Kategoria\", title = \"Rozdelenie vydavkov na jedlo\")\n",
    "\n",
    "fig.show()"
   ],
   "execution_count":107,
   "outputs":[
    {
     "data":{
      "application\/vnd.plotly.v1+json":{
       "data":[
        {
         "domain":{
          "x":[
           0,
           1
          ],
          "y":[
           0,
           1
          ]
         },
         "hovertemplate":"Kategoria=%{label}<br>Vydavky=%{value}<extra><\/extra>",
         "labels":[
          "Maso",
          "Ovocie",
          "Zelenina",
          "Mliecne vyrobky",
          "Cerealie",
          "Sladkosti"
         ],
         "legendgroup":"",
         "name":"",
         "showlegend":true,
         "values":[
          300,
          150,
          120,
          200,
          80,
          100
         ],
         "type":"pie"
        }
       ],
       "layout":{
        "template":{
         "data":{
          "histogram2dcontour":[
           {
            "type":"histogram2dcontour",
            "colorbar":{
             "outlinewidth":0,
             "ticks":""
            },
            "colorscale":[
             [
              0,
              "#0d0887"
             ],
             [
              0.1111111111111111,
              "#46039f"
             ],
             [
              0.2222222222222222,
              "#7201a8"
             ],
             [
              0.3333333333333333,
              "#9c179e"
             ],
             [
              0.4444444444444444,
              "#bd3786"
             ],
             [
              0.5555555555555556,
              "#d8576b"
             ],
             [
              0.6666666666666666,
              "#ed7953"
             ],
             [
              0.7777777777777778,
              "#fb9f3a"
             ],
             [
              0.8888888888888888,
              "#fdca26"
             ],
             [
              1,
              "#f0f921"
             ]
            ]
           }
          ],
          "choropleth":[
           {
            "type":"choropleth",
            "colorbar":{
             "outlinewidth":0,
             "ticks":""
            }
           }
          ],
          "histogram2d":[
           {
            "type":"histogram2d",
            "colorbar":{
             "outlinewidth":0,
             "ticks":""
            },
            "colorscale":[
             [
              0,
              "#0d0887"
             ],
             [
              0.1111111111111111,
              "#46039f"
             ],
             [
              0.2222222222222222,
              "#7201a8"
             ],
             [
              0.3333333333333333,
              "#9c179e"
             ],
             [
              0.4444444444444444,
              "#bd3786"
             ],
             [
              0.5555555555555556,
              "#d8576b"
             ],
             [
              0.6666666666666666,
              "#ed7953"
             ],
             [
              0.7777777777777778,
              "#fb9f3a"
             ],
             [
              0.8888888888888888,
              "#fdca26"
             ],
             [
              1,
              "#f0f921"
             ]
            ]
           }
          ],
          "heatmap":[
           {
            "type":"heatmap",
            "colorbar":{
             "outlinewidth":0,
             "ticks":""
            },
            "colorscale":[
             [
              0,
              "#0d0887"
             ],
             [
              0.1111111111111111,
              "#46039f"
             ],
             [
              0.2222222222222222,
              "#7201a8"
             ],
             [
              0.3333333333333333,
              "#9c179e"
             ],
             [
              0.4444444444444444,
              "#bd3786"
             ],
             [
              0.5555555555555556,
              "#d8576b"
             ],
             [
              0.6666666666666666,
              "#ed7953"
             ],
             [
              0.7777777777777778,
              "#fb9f3a"
             ],
             [
              0.8888888888888888,
              "#fdca26"
             ],
             [
              1,
              "#f0f921"
             ]
            ]
           }
          ],
          "heatmapgl":[
           {
            "type":"heatmapgl",
            "colorbar":{
             "outlinewidth":0,
             "ticks":""
            },
            "colorscale":[
             [
              0,
              "#0d0887"
             ],
             [
              0.1111111111111111,
              "#46039f"
             ],
             [
              0.2222222222222222,
              "#7201a8"
             ],
             [
              0.3333333333333333,
              "#9c179e"
             ],
             [
              0.4444444444444444,
              "#bd3786"
             ],
             [
              0.5555555555555556,
              "#d8576b"
             ],
             [
              0.6666666666666666,
              "#ed7953"
             ],
             [
              0.7777777777777778,
              "#fb9f3a"
             ],
             [
              0.8888888888888888,
              "#fdca26"
             ],
             [
              1,
              "#f0f921"
             ]
            ]
           }
          ],
          "contourcarpet":[
           {
            "type":"contourcarpet",
            "colorbar":{
             "outlinewidth":0,
             "ticks":""
            }
           }
          ],
          "contour":[
           {
            "type":"contour",
            "colorbar":{
             "outlinewidth":0,
             "ticks":""
            },
            "colorscale":[
             [
              0,
              "#0d0887"
             ],
             [
              0.1111111111111111,
              "#46039f"
             ],
             [
              0.2222222222222222,
              "#7201a8"
             ],
             [
              0.3333333333333333,
              "#9c179e"
             ],
             [
              0.4444444444444444,
              "#bd3786"
             ],
             [
              0.5555555555555556,
              "#d8576b"
             ],
             [
              0.6666666666666666,
              "#ed7953"
             ],
             [
              0.7777777777777778,
              "#fb9f3a"
             ],
             [
              0.8888888888888888,
              "#fdca26"
             ],
             [
              1,
              "#f0f921"
             ]
            ]
           }
          ],
          "surface":[
           {
            "type":"surface",
            "colorbar":{
             "outlinewidth":0,
             "ticks":""
            },
            "colorscale":[
             [
              0,
              "#0d0887"
             ],
             [
              0.1111111111111111,
              "#46039f"
             ],
             [
              0.2222222222222222,
              "#7201a8"
             ],
             [
              0.3333333333333333,
              "#9c179e"
             ],
             [
              0.4444444444444444,
              "#bd3786"
             ],
             [
              0.5555555555555556,
              "#d8576b"
             ],
             [
              0.6666666666666666,
              "#ed7953"
             ],
             [
              0.7777777777777778,
              "#fb9f3a"
             ],
             [
              0.8888888888888888,
              "#fdca26"
             ],
             [
              1,
              "#f0f921"
             ]
            ]
           }
          ],
          "mesh3d":[
           {
            "type":"mesh3d",
            "colorbar":{
             "outlinewidth":0,
             "ticks":""
            }
           }
          ],
          "scatter":[
           {
            "fillpattern":{
             "fillmode":"overlay",
             "size":10,
             "solidity":0.2
            },
            "type":"scatter"
           }
          ],
          "parcoords":[
           {
            "type":"parcoords",
            "line":{
             "colorbar":{
              "outlinewidth":0,
              "ticks":""
             }
            }
           }
          ],
          "scatterpolargl":[
           {
            "type":"scatterpolargl",
            "marker":{
             "colorbar":{
              "outlinewidth":0,
              "ticks":""
             }
            }
           }
          ],
          "bar":[
           {
            "error_x":{
             "color":"#2a3f5f"
            },
            "error_y":{
             "color":"#2a3f5f"
            },
            "marker":{
             "line":{
              "color":"#E5ECF6",
              "width":0.5
             },
             "pattern":{
              "fillmode":"overlay",
              "size":10,
              "solidity":0.2
             }
            },
            "type":"bar"
           }
          ],
          "scattergeo":[
           {
            "type":"scattergeo",
            "marker":{
             "colorbar":{
              "outlinewidth":0,
              "ticks":""
             }
            }
           }
          ],
          "scatterpolar":[
           {
            "type":"scatterpolar",
            "marker":{
             "colorbar":{
              "outlinewidth":0,
              "ticks":""
             }
            }
           }
          ],
          "histogram":[
           {
            "marker":{
             "pattern":{
              "fillmode":"overlay",
              "size":10,
              "solidity":0.2
             }
            },
            "type":"histogram"
           }
          ],
          "scattergl":[
           {
            "type":"scattergl",
            "marker":{
             "colorbar":{
              "outlinewidth":0,
              "ticks":""
             }
            }
           }
          ],
          "scatter3d":[
           {
            "type":"scatter3d",
            "line":{
             "colorbar":{
              "outlinewidth":0,
              "ticks":""
             }
            },
            "marker":{
             "colorbar":{
              "outlinewidth":0,
              "ticks":""
             }
            }
           }
          ],
          "scattermapbox":[
           {
            "type":"scattermapbox",
            "marker":{
             "colorbar":{
              "outlinewidth":0,
              "ticks":""
             }
            }
           }
          ],
          "scatterternary":[
           {
            "type":"scatterternary",
            "marker":{
             "colorbar":{
              "outlinewidth":0,
              "ticks":""
             }
            }
           }
          ],
          "scattercarpet":[
           {
            "type":"scattercarpet",
            "marker":{
             "colorbar":{
              "outlinewidth":0,
              "ticks":""
             }
            }
           }
          ],
          "carpet":[
           {
            "aaxis":{
             "endlinecolor":"#2a3f5f",
             "gridcolor":"white",
             "linecolor":"white",
             "minorgridcolor":"white",
             "startlinecolor":"#2a3f5f"
            },
            "baxis":{
             "endlinecolor":"#2a3f5f",
             "gridcolor":"white",
             "linecolor":"white",
             "minorgridcolor":"white",
             "startlinecolor":"#2a3f5f"
            },
            "type":"carpet"
           }
          ],
          "table":[
           {
            "cells":{
             "fill":{
              "color":"#EBF0F8"
             },
             "line":{
              "color":"white"
             }
            },
            "header":{
             "fill":{
              "color":"#C8D4E3"
             },
             "line":{
              "color":"white"
             }
            },
            "type":"table"
           }
          ],
          "barpolar":[
           {
            "marker":{
             "line":{
              "color":"#E5ECF6",
              "width":0.5
             },
             "pattern":{
              "fillmode":"overlay",
              "size":10,
              "solidity":0.2
             }
            },
            "type":"barpolar"
           }
          ],
          "pie":[
           {
            "automargin":true,
            "type":"pie"
           }
          ]
         },
         "layout":{
          "autotypenumbers":"strict",
          "colorway":[
           "#636efa",
           "#EF553B",
           "#00cc96",
           "#ab63fa",
           "#FFA15A",
           "#19d3f3",
           "#FF6692",
           "#B6E880",
           "#FF97FF",
           "#FECB52"
          ],
          "font":{
           "color":"#2a3f5f"
          },
          "hovermode":"closest",
          "hoverlabel":{
           "align":"left"
          },
          "paper_bgcolor":"white",
          "plot_bgcolor":"#E5ECF6",
          "polar":{
           "bgcolor":"#E5ECF6",
           "angularaxis":{
            "gridcolor":"white",
            "linecolor":"white",
            "ticks":""
           },
           "radialaxis":{
            "gridcolor":"white",
            "linecolor":"white",
            "ticks":""
           }
          },
          "ternary":{
           "bgcolor":"#E5ECF6",
           "aaxis":{
            "gridcolor":"white",
            "linecolor":"white",
            "ticks":""
           },
           "baxis":{
            "gridcolor":"white",
            "linecolor":"white",
            "ticks":""
           },
           "caxis":{
            "gridcolor":"white",
            "linecolor":"white",
            "ticks":""
           }
          },
          "coloraxis":{
           "colorbar":{
            "outlinewidth":0,
            "ticks":""
           }
          },
          "colorscale":{
           "sequential":[
            [
             0,
             "#0d0887"
            ],
            [
             0.1111111111111111,
             "#46039f"
            ],
            [
             0.2222222222222222,
             "#7201a8"
            ],
            [
             0.3333333333333333,
             "#9c179e"
            ],
            [
             0.4444444444444444,
             "#bd3786"
            ],
            [
             0.5555555555555556,
             "#d8576b"
            ],
            [
             0.6666666666666666,
             "#ed7953"
            ],
            [
             0.7777777777777778,
             "#fb9f3a"
            ],
            [
             0.8888888888888888,
             "#fdca26"
            ],
            [
             1,
             "#f0f921"
            ]
           ],
           "sequentialminus":[
            [
             0,
             "#0d0887"
            ],
            [
             0.1111111111111111,
             "#46039f"
            ],
            [
             0.2222222222222222,
             "#7201a8"
            ],
            [
             0.3333333333333333,
             "#9c179e"
            ],
            [
             0.4444444444444444,
             "#bd3786"
            ],
            [
             0.5555555555555556,
             "#d8576b"
            ],
            [
             0.6666666666666666,
             "#ed7953"
            ],
            [
             0.7777777777777778,
             "#fb9f3a"
            ],
            [
             0.8888888888888888,
             "#fdca26"
            ],
            [
             1,
             "#f0f921"
            ]
           ],
           "diverging":[
            [
             0,
             "#8e0152"
            ],
            [
             0.1,
             "#c51b7d"
            ],
            [
             0.2,
             "#de77ae"
            ],
            [
             0.3,
             "#f1b6da"
            ],
            [
             0.4,
             "#fde0ef"
            ],
            [
             0.5,
             "#f7f7f7"
            ],
            [
             0.6,
             "#e6f5d0"
            ],
            [
             0.7,
             "#b8e186"
            ],
            [
             0.8,
             "#7fbc41"
            ],
            [
             0.9,
             "#4d9221"
            ],
            [
             1,
             "#276419"
            ]
           ]
          },
          "xaxis":{
           "gridcolor":"white",
           "linecolor":"white",
           "ticks":"",
           "title":{
            "standoff":15
           },
           "zerolinecolor":"white",
           "automargin":true,
           "zerolinewidth":2
          },
          "yaxis":{
           "gridcolor":"white",
           "linecolor":"white",
           "ticks":"",
           "title":{
            "standoff":15
           },
           "zerolinecolor":"white",
           "automargin":true,
           "zerolinewidth":2
          },
          "scene":{
           "xaxis":{
            "backgroundcolor":"#E5ECF6",
            "gridcolor":"white",
            "linecolor":"white",
            "showbackground":true,
            "ticks":"",
            "zerolinecolor":"white",
            "gridwidth":2
           },
           "yaxis":{
            "backgroundcolor":"#E5ECF6",
            "gridcolor":"white",
            "linecolor":"white",
            "showbackground":true,
            "ticks":"",
            "zerolinecolor":"white",
            "gridwidth":2
           },
           "zaxis":{
            "backgroundcolor":"#E5ECF6",
            "gridcolor":"white",
            "linecolor":"white",
            "showbackground":true,
            "ticks":"",
            "zerolinecolor":"white",
            "gridwidth":2
           }
          },
          "shapedefaults":{
           "line":{
            "color":"#2a3f5f"
           }
          },
          "annotationdefaults":{
           "arrowcolor":"#2a3f5f",
           "arrowhead":0,
           "arrowwidth":1
          },
          "geo":{
           "bgcolor":"white",
           "landcolor":"#E5ECF6",
           "subunitcolor":"white",
           "showland":true,
           "showlakes":true,
           "lakecolor":"white"
          },
          "title":{
           "x":0.05
          },
          "mapbox":{
           "style":"light"
          }
         }
        },
        "legend":{
         "tracegroupgap":0
        },
        "title":{
         "text":"Rozdelenie vydavkov na jedlo"
        }
       },
       "config":{
        "plotlyServerURL":"https:\/\/plot.ly"
       }
      }
     },
     "metadata":{},
     "output_type":"display_data"
    }
   ],
   "metadata":{
    "datalore":{
     "node_id":"n7XQLrfG2QQBryCdDfBWgU",
     "type":"CODE",
     "hide_input_from_viewers":true,
     "hide_output_from_viewers":true
    }
   }
  },
  {
   "cell_type":"markdown",
   "source":[
    "# 🥧 Koláčový graf (Pie Chart) 2"
   ],
   "attachments":{},
   "metadata":{
    "datalore":{
     "node_id":"tmn9GbKlrsQoFML9nF7nif",
     "type":"MD",
     "hide_input_from_viewers":true,
     "hide_output_from_viewers":true
    }
   }
  },
  {
   "cell_type":"code",
   "source":[
    "import plotly.graph_objects as go\n",
    "\n",
    "# Dáta o spotrebe jedla\n",
    "jedlo_data = {\n",
    "    'Kategória': ['Mäso', 'Ovocie', 'Zelenina', 'Mliečne výrobky', 'Cereálie', 'Sladkosti'],\n",
    "    'Výdavky': [300, 150, 120, 200, 80, 100]\n",
    "}\n",
    "\n",
    "# Vytvorenie základného koláčového grafu so všetkými kategóriami\n",
    "fig = go.Figure()\n",
    "\n",
    "# Pridanie dát pre všetky kategórie do jedného koláčového grafu\n",
    "fig.add_trace(go.Pie(labels=jedlo_data['Kategória'], values=jedlo_data['Výdavky'], name=\"Všetky kategórie\"))\n",
    "\n",
    "# Pridanie interaktívneho prepínacieho menu pre zobrazenie konkrétnych kategórií\n",
    "fig.update_layout(\n",
    "    updatemenus=[\n",
    "        {\n",
    "            'buttons': [\n",
    "                # Nastavenie tlačidla na zobrazenie všetkých kategórií\n",
    "                {'label': 'Všetky kategórie', 'method': 'update', \n",
    "                 'args': [{'labels': [jedlo_data['Kategória']], 'values': [jedlo_data['Výdavky']], 'visible': True}, \n",
    "                          {'title': 'Všetky kategórie'}]},\n",
    "                \n",
    "                # Nastavenie tlačidla na zobrazenie len kategórie Mäso\n",
    "                {'label': 'Mäso', 'method': 'update', \n",
    "                 'args': [{'labels': [['Mäso']], 'values': [[300]], 'visible': True}, \n",
    "                          {'title': 'Mäso'}]},\n",
    "                \n",
    "                # Nastavenie tlačidla na zobrazenie len kategórie Ovocie\n",
    "                {'label': 'Ovocie', 'method': 'update', \n",
    "                 'args': [{'labels': [['Ovocie']], 'values': [[150]], 'visible': True}, \n",
    "                          {'title': 'Ovocie'}]},\n",
    "                \n",
    "                # Nastavenie tlačidla na zobrazenie len kategórie Zelenina\n",
    "                {'label': 'Zelenina', 'method': 'update', \n",
    "                 'args': [{'labels': [['Zelenina']], 'values': [[120]], 'visible': True}, \n",
    "                          {'title': 'Zelenina'}]},\n",
    "                \n",
    "                # Nastavenie tlačidla na zobrazenie len kategórie Mliečne výrobky\n",
    "                {'label': 'Mliečne výrobky', 'method': 'update', \n",
    "                 'args': [{'labels': [['Mliečne výrobky']], 'values': [[200]], 'visible': True}, \n",
    "                          {'title': 'Mliečne výrobky'}]},\n",
    "                \n",
    "                # Nastavenie tlačidla na zobrazenie len kategórie Cereálie\n",
    "                {'label': 'Cereálie', 'method': 'update', \n",
    "                 'args': [{'labels': [['Cereálie']], 'values': [[80]], 'visible': True}, \n",
    "                          {'title': 'Cereálie'}]},\n",
    "                \n",
    "                # Nastavenie tlačidla na zobrazenie len kategórie Sladkosti\n",
    "                {'label': 'Sladkosti', 'method': 'update', \n",
    "                 'args': [{'labels': [['Sladkosti']], 'values': [[100]], 'visible': True}, \n",
    "                          {'title': 'Sladkosti'}]},\n",
    "            ],\n",
    "            'direction': 'down',\n",
    "            'showactive': True\n",
    "        }\n",
    "    ]\n",
    ")\n",
    "\n",
    "# Zobrazenie grafu\n",
    "fig.show()"
   ],
   "execution_count":108,
   "outputs":[
    {
     "data":{
      "application\/vnd.plotly.v1+json":{
       "data":[
        {
         "labels":[
          "Mäso",
          "Ovocie",
          "Zelenina",
          "Mliečne výrobky",
          "Cereálie",
          "Sladkosti"
         ],
         "name":"Všetky kategórie",
         "values":[
          300,
          150,
          120,
          200,
          80,
          100
         ],
         "type":"pie"
        }
       ],
       "layout":{
        "template":{
         "data":{
          "histogram2dcontour":[
           {
            "type":"histogram2dcontour",
            "colorbar":{
             "outlinewidth":0,
             "ticks":""
            },
            "colorscale":[
             [
              0,
              "#0d0887"
             ],
             [
              0.1111111111111111,
              "#46039f"
             ],
             [
              0.2222222222222222,
              "#7201a8"
             ],
             [
              0.3333333333333333,
              "#9c179e"
             ],
             [
              0.4444444444444444,
              "#bd3786"
             ],
             [
              0.5555555555555556,
              "#d8576b"
             ],
             [
              0.6666666666666666,
              "#ed7953"
             ],
             [
              0.7777777777777778,
              "#fb9f3a"
             ],
             [
              0.8888888888888888,
              "#fdca26"
             ],
             [
              1,
              "#f0f921"
             ]
            ]
           }
          ],
          "choropleth":[
           {
            "type":"choropleth",
            "colorbar":{
             "outlinewidth":0,
             "ticks":""
            }
           }
          ],
          "histogram2d":[
           {
            "type":"histogram2d",
            "colorbar":{
             "outlinewidth":0,
             "ticks":""
            },
            "colorscale":[
             [
              0,
              "#0d0887"
             ],
             [
              0.1111111111111111,
              "#46039f"
             ],
             [
              0.2222222222222222,
              "#7201a8"
             ],
             [
              0.3333333333333333,
              "#9c179e"
             ],
             [
              0.4444444444444444,
              "#bd3786"
             ],
             [
              0.5555555555555556,
              "#d8576b"
             ],
             [
              0.6666666666666666,
              "#ed7953"
             ],
             [
              0.7777777777777778,
              "#fb9f3a"
             ],
             [
              0.8888888888888888,
              "#fdca26"
             ],
             [
              1,
              "#f0f921"
             ]
            ]
           }
          ],
          "heatmap":[
           {
            "type":"heatmap",
            "colorbar":{
             "outlinewidth":0,
             "ticks":""
            },
            "colorscale":[
             [
              0,
              "#0d0887"
             ],
             [
              0.1111111111111111,
              "#46039f"
             ],
             [
              0.2222222222222222,
              "#7201a8"
             ],
             [
              0.3333333333333333,
              "#9c179e"
             ],
             [
              0.4444444444444444,
              "#bd3786"
             ],
             [
              0.5555555555555556,
              "#d8576b"
             ],
             [
              0.6666666666666666,
              "#ed7953"
             ],
             [
              0.7777777777777778,
              "#fb9f3a"
             ],
             [
              0.8888888888888888,
              "#fdca26"
             ],
             [
              1,
              "#f0f921"
             ]
            ]
           }
          ],
          "heatmapgl":[
           {
            "type":"heatmapgl",
            "colorbar":{
             "outlinewidth":0,
             "ticks":""
            },
            "colorscale":[
             [
              0,
              "#0d0887"
             ],
             [
              0.1111111111111111,
              "#46039f"
             ],
             [
              0.2222222222222222,
              "#7201a8"
             ],
             [
              0.3333333333333333,
              "#9c179e"
             ],
             [
              0.4444444444444444,
              "#bd3786"
             ],
             [
              0.5555555555555556,
              "#d8576b"
             ],
             [
              0.6666666666666666,
              "#ed7953"
             ],
             [
              0.7777777777777778,
              "#fb9f3a"
             ],
             [
              0.8888888888888888,
              "#fdca26"
             ],
             [
              1,
              "#f0f921"
             ]
            ]
           }
          ],
          "contourcarpet":[
           {
            "type":"contourcarpet",
            "colorbar":{
             "outlinewidth":0,
             "ticks":""
            }
           }
          ],
          "contour":[
           {
            "type":"contour",
            "colorbar":{
             "outlinewidth":0,
             "ticks":""
            },
            "colorscale":[
             [
              0,
              "#0d0887"
             ],
             [
              0.1111111111111111,
              "#46039f"
             ],
             [
              0.2222222222222222,
              "#7201a8"
             ],
             [
              0.3333333333333333,
              "#9c179e"
             ],
             [
              0.4444444444444444,
              "#bd3786"
             ],
             [
              0.5555555555555556,
              "#d8576b"
             ],
             [
              0.6666666666666666,
              "#ed7953"
             ],
             [
              0.7777777777777778,
              "#fb9f3a"
             ],
             [
              0.8888888888888888,
              "#fdca26"
             ],
             [
              1,
              "#f0f921"
             ]
            ]
           }
          ],
          "surface":[
           {
            "type":"surface",
            "colorbar":{
             "outlinewidth":0,
             "ticks":""
            },
            "colorscale":[
             [
              0,
              "#0d0887"
             ],
             [
              0.1111111111111111,
              "#46039f"
             ],
             [
              0.2222222222222222,
              "#7201a8"
             ],
             [
              0.3333333333333333,
              "#9c179e"
             ],
             [
              0.4444444444444444,
              "#bd3786"
             ],
             [
              0.5555555555555556,
              "#d8576b"
             ],
             [
              0.6666666666666666,
              "#ed7953"
             ],
             [
              0.7777777777777778,
              "#fb9f3a"
             ],
             [
              0.8888888888888888,
              "#fdca26"
             ],
             [
              1,
              "#f0f921"
             ]
            ]
           }
          ],
          "mesh3d":[
           {
            "type":"mesh3d",
            "colorbar":{
             "outlinewidth":0,
             "ticks":""
            }
           }
          ],
          "scatter":[
           {
            "fillpattern":{
             "fillmode":"overlay",
             "size":10,
             "solidity":0.2
            },
            "type":"scatter"
           }
          ],
          "parcoords":[
           {
            "type":"parcoords",
            "line":{
             "colorbar":{
              "outlinewidth":0,
              "ticks":""
             }
            }
           }
          ],
          "scatterpolargl":[
           {
            "type":"scatterpolargl",
            "marker":{
             "colorbar":{
              "outlinewidth":0,
              "ticks":""
             }
            }
           }
          ],
          "bar":[
           {
            "error_x":{
             "color":"#2a3f5f"
            },
            "error_y":{
             "color":"#2a3f5f"
            },
            "marker":{
             "line":{
              "color":"#E5ECF6",
              "width":0.5
             },
             "pattern":{
              "fillmode":"overlay",
              "size":10,
              "solidity":0.2
             }
            },
            "type":"bar"
           }
          ],
          "scattergeo":[
           {
            "type":"scattergeo",
            "marker":{
             "colorbar":{
              "outlinewidth":0,
              "ticks":""
             }
            }
           }
          ],
          "scatterpolar":[
           {
            "type":"scatterpolar",
            "marker":{
             "colorbar":{
              "outlinewidth":0,
              "ticks":""
             }
            }
           }
          ],
          "histogram":[
           {
            "marker":{
             "pattern":{
              "fillmode":"overlay",
              "size":10,
              "solidity":0.2
             }
            },
            "type":"histogram"
           }
          ],
          "scattergl":[
           {
            "type":"scattergl",
            "marker":{
             "colorbar":{
              "outlinewidth":0,
              "ticks":""
             }
            }
           }
          ],
          "scatter3d":[
           {
            "type":"scatter3d",
            "line":{
             "colorbar":{
              "outlinewidth":0,
              "ticks":""
             }
            },
            "marker":{
             "colorbar":{
              "outlinewidth":0,
              "ticks":""
             }
            }
           }
          ],
          "scattermapbox":[
           {
            "type":"scattermapbox",
            "marker":{
             "colorbar":{
              "outlinewidth":0,
              "ticks":""
             }
            }
           }
          ],
          "scatterternary":[
           {
            "type":"scatterternary",
            "marker":{
             "colorbar":{
              "outlinewidth":0,
              "ticks":""
             }
            }
           }
          ],
          "scattercarpet":[
           {
            "type":"scattercarpet",
            "marker":{
             "colorbar":{
              "outlinewidth":0,
              "ticks":""
             }
            }
           }
          ],
          "carpet":[
           {
            "aaxis":{
             "endlinecolor":"#2a3f5f",
             "gridcolor":"white",
             "linecolor":"white",
             "minorgridcolor":"white",
             "startlinecolor":"#2a3f5f"
            },
            "baxis":{
             "endlinecolor":"#2a3f5f",
             "gridcolor":"white",
             "linecolor":"white",
             "minorgridcolor":"white",
             "startlinecolor":"#2a3f5f"
            },
            "type":"carpet"
           }
          ],
          "table":[
           {
            "cells":{
             "fill":{
              "color":"#EBF0F8"
             },
             "line":{
              "color":"white"
             }
            },
            "header":{
             "fill":{
              "color":"#C8D4E3"
             },
             "line":{
              "color":"white"
             }
            },
            "type":"table"
           }
          ],
          "barpolar":[
           {
            "marker":{
             "line":{
              "color":"#E5ECF6",
              "width":0.5
             },
             "pattern":{
              "fillmode":"overlay",
              "size":10,
              "solidity":0.2
             }
            },
            "type":"barpolar"
           }
          ],
          "pie":[
           {
            "automargin":true,
            "type":"pie"
           }
          ]
         },
         "layout":{
          "autotypenumbers":"strict",
          "colorway":[
           "#636efa",
           "#EF553B",
           "#00cc96",
           "#ab63fa",
           "#FFA15A",
           "#19d3f3",
           "#FF6692",
           "#B6E880",
           "#FF97FF",
           "#FECB52"
          ],
          "font":{
           "color":"#2a3f5f"
          },
          "hovermode":"closest",
          "hoverlabel":{
           "align":"left"
          },
          "paper_bgcolor":"white",
          "plot_bgcolor":"#E5ECF6",
          "polar":{
           "bgcolor":"#E5ECF6",
           "angularaxis":{
            "gridcolor":"white",
            "linecolor":"white",
            "ticks":""
           },
           "radialaxis":{
            "gridcolor":"white",
            "linecolor":"white",
            "ticks":""
           }
          },
          "ternary":{
           "bgcolor":"#E5ECF6",
           "aaxis":{
            "gridcolor":"white",
            "linecolor":"white",
            "ticks":""
           },
           "baxis":{
            "gridcolor":"white",
            "linecolor":"white",
            "ticks":""
           },
           "caxis":{
            "gridcolor":"white",
            "linecolor":"white",
            "ticks":""
           }
          },
          "coloraxis":{
           "colorbar":{
            "outlinewidth":0,
            "ticks":""
           }
          },
          "colorscale":{
           "sequential":[
            [
             0,
             "#0d0887"
            ],
            [
             0.1111111111111111,
             "#46039f"
            ],
            [
             0.2222222222222222,
             "#7201a8"
            ],
            [
             0.3333333333333333,
             "#9c179e"
            ],
            [
             0.4444444444444444,
             "#bd3786"
            ],
            [
             0.5555555555555556,
             "#d8576b"
            ],
            [
             0.6666666666666666,
             "#ed7953"
            ],
            [
             0.7777777777777778,
             "#fb9f3a"
            ],
            [
             0.8888888888888888,
             "#fdca26"
            ],
            [
             1,
             "#f0f921"
            ]
           ],
           "sequentialminus":[
            [
             0,
             "#0d0887"
            ],
            [
             0.1111111111111111,
             "#46039f"
            ],
            [
             0.2222222222222222,
             "#7201a8"
            ],
            [
             0.3333333333333333,
             "#9c179e"
            ],
            [
             0.4444444444444444,
             "#bd3786"
            ],
            [
             0.5555555555555556,
             "#d8576b"
            ],
            [
             0.6666666666666666,
             "#ed7953"
            ],
            [
             0.7777777777777778,
             "#fb9f3a"
            ],
            [
             0.8888888888888888,
             "#fdca26"
            ],
            [
             1,
             "#f0f921"
            ]
           ],
           "diverging":[
            [
             0,
             "#8e0152"
            ],
            [
             0.1,
             "#c51b7d"
            ],
            [
             0.2,
             "#de77ae"
            ],
            [
             0.3,
             "#f1b6da"
            ],
            [
             0.4,
             "#fde0ef"
            ],
            [
             0.5,
             "#f7f7f7"
            ],
            [
             0.6,
             "#e6f5d0"
            ],
            [
             0.7,
             "#b8e186"
            ],
            [
             0.8,
             "#7fbc41"
            ],
            [
             0.9,
             "#4d9221"
            ],
            [
             1,
             "#276419"
            ]
           ]
          },
          "xaxis":{
           "gridcolor":"white",
           "linecolor":"white",
           "ticks":"",
           "title":{
            "standoff":15
           },
           "zerolinecolor":"white",
           "automargin":true,
           "zerolinewidth":2
          },
          "yaxis":{
           "gridcolor":"white",
           "linecolor":"white",
           "ticks":"",
           "title":{
            "standoff":15
           },
           "zerolinecolor":"white",
           "automargin":true,
           "zerolinewidth":2
          },
          "scene":{
           "xaxis":{
            "backgroundcolor":"#E5ECF6",
            "gridcolor":"white",
            "linecolor":"white",
            "showbackground":true,
            "ticks":"",
            "zerolinecolor":"white",
            "gridwidth":2
           },
           "yaxis":{
            "backgroundcolor":"#E5ECF6",
            "gridcolor":"white",
            "linecolor":"white",
            "showbackground":true,
            "ticks":"",
            "zerolinecolor":"white",
            "gridwidth":2
           },
           "zaxis":{
            "backgroundcolor":"#E5ECF6",
            "gridcolor":"white",
            "linecolor":"white",
            "showbackground":true,
            "ticks":"",
            "zerolinecolor":"white",
            "gridwidth":2
           }
          },
          "shapedefaults":{
           "line":{
            "color":"#2a3f5f"
           }
          },
          "annotationdefaults":{
           "arrowcolor":"#2a3f5f",
           "arrowhead":0,
           "arrowwidth":1
          },
          "geo":{
           "bgcolor":"white",
           "landcolor":"#E5ECF6",
           "subunitcolor":"white",
           "showland":true,
           "showlakes":true,
           "lakecolor":"white"
          },
          "title":{
           "x":0.05
          },
          "mapbox":{
           "style":"light"
          }
         }
        },
        "updatemenus":[
         {
          "buttons":[
           {
            "args":[
             {
              "labels":[
               [
                "Mäso",
                "Ovocie",
                "Zelenina",
                "Mliečne výrobky",
                "Cereálie",
                "Sladkosti"
               ]
              ],
              "values":[
               [
                300,
                150,
                120,
                200,
                80,
                100
               ]
              ],
              "visible":true
             },
             {
              "title":"Všetky kategórie"
             }
            ],
            "label":"Všetky kategórie",
            "method":"update"
           },
           {
            "args":[
             {
              "labels":[
               [
                "Mäso"
               ]
              ],
              "values":[
               [
                300
               ]
              ],
              "visible":true
             },
             {
              "title":"Mäso"
             }
            ],
            "label":"Mäso",
            "method":"update"
           },
           {
            "args":[
             {
              "labels":[
               [
                "Ovocie"
               ]
              ],
              "values":[
               [
                150
               ]
              ],
              "visible":true
             },
             {
              "title":"Ovocie"
             }
            ],
            "label":"Ovocie",
            "method":"update"
           },
           {
            "args":[
             {
              "labels":[
               [
                "Zelenina"
               ]
              ],
              "values":[
               [
                120
               ]
              ],
              "visible":true
             },
             {
              "title":"Zelenina"
             }
            ],
            "label":"Zelenina",
            "method":"update"
           },
           {
            "args":[
             {
              "labels":[
               [
                "Mliečne výrobky"
               ]
              ],
              "values":[
               [
                200
               ]
              ],
              "visible":true
             },
             {
              "title":"Mliečne výrobky"
             }
            ],
            "label":"Mliečne výrobky",
            "method":"update"
           },
           {
            "args":[
             {
              "labels":[
               [
                "Cereálie"
               ]
              ],
              "values":[
               [
                80
               ]
              ],
              "visible":true
             },
             {
              "title":"Cereálie"
             }
            ],
            "label":"Cereálie",
            "method":"update"
           },
           {
            "args":[
             {
              "labels":[
               [
                "Sladkosti"
               ]
              ],
              "values":[
               [
                100
               ]
              ],
              "visible":true
             },
             {
              "title":"Sladkosti"
             }
            ],
            "label":"Sladkosti",
            "method":"update"
           }
          ],
          "direction":"down",
          "showactive":true
         }
        ]
       },
       "config":{
        "plotlyServerURL":"https:\/\/plot.ly"
       }
      }
     },
     "metadata":{},
     "output_type":"display_data"
    }
   ],
   "metadata":{
    "datalore":{
     "node_id":"YDBKYsnJojNUusT3B4h5CM",
     "type":"CODE",
     "hide_input_from_viewers":true,
     "hide_output_from_viewers":true
    }
   }
  },
  {
   "cell_type":"markdown",
   "source":[
    "# 📈 Čiarový graf (Line Chart)\n",
    "- pre trendové zobrazenie dát v čase\n",
    "\n",
    "**Použitie**:\n",
    "Čiarový graf je ideálny na zobrazenie vývoja a zmien dát v čase. Jeho najväčšou výhodou je, že umožňuje jednoducho sledovať trendy, sezónnosť, či prípadné výkyvy.\n",
    "\n",
    "**Aplikácie**:\n",
    "Časové rady: Zmena hodnôt premenných v čase, ako sú predaje, ceny akcií, návštevnosť webu.\n",
    "Porovnanie trendov: Vizualizácia viacerých časových radov na jednom grafe (napr. porovnanie predajov medzi rôznymi produktami alebo regiónmi).\n",
    "\n",
    "**Tipy**:\n",
    "Pri viacerých čiarach na jednom grafe používajte rôzne farby alebo štýly čiar (napr. bodkovanú alebo prerušovanú čiaru) pre lepšie rozlíšenie.\n",
    "Ak máte veľké množstvo dátových bodov, skúste ich redukovať alebo zoskupiť, aby graf zostal prehľadný.\n",
    "\n",
    "**Príklady**:\n",
    "Sledovanie dennej teploty počas roka.\n",
    "Vizualizácia výnosov akcií dvoch konkurenčných spoločností za posledných 10 rokov."
   ],
   "attachments":{},
   "metadata":{
    "datalore":{
     "node_id":"FZB1U6qHJZmWPxeTCdqEgm",
     "type":"MD",
     "hide_input_from_viewers":true,
     "hide_output_from_viewers":true
    }
   }
  },
  {
   "cell_type":"code",
   "source":[
    "import plotly.express as px\n",
    "import pandas as pd\n",
    "\n",
    "# Údaje o teplotách\n",
    "data_teplota = {\n",
    "    'Hodina': list(range(24)),\n",
    "    'Teplota': [2, 3, 4, 5, 6, 8, 10, 12, 15, 18, 21, 23, 25, 27, 28, 29, 30, 28, 26, 24, 20, 18, 15, 10]\n",
    "}\n",
    "\n",
    "# Prevod do DataFrame\n",
    "df_teplota = pd.DataFrame(data_teplota)\n",
    "\n",
    "# Vytvorenie čiarového grafu\n",
    "fig = px.line(df_teplota, x='Hodina', y='Teplota', title='Vývoj teploty počas dňa')\n",
    "\n",
    "# Zobrazenie grafu\n",
    "fig.show()"
   ],
   "execution_count":117,
   "outputs":[
    {
     "data":{
      "application\/vnd.plotly.v1+json":{
       "data":[
        {
         "hovertemplate":"Hodina=%{x}<br>Teplota=%{y}<extra><\/extra>",
         "legendgroup":"",
         "line":{
          "color":"#636efa",
          "dash":"solid"
         },
         "marker":{
          "symbol":"circle"
         },
         "mode":"lines",
         "name":"",
         "orientation":"v",
         "showlegend":false,
         "x":[
          0,
          1,
          2,
          3,
          4,
          5,
          6,
          7,
          8,
          9,
          10,
          11,
          12,
          13,
          14,
          15,
          16,
          17,
          18,
          19,
          20,
          21,
          22,
          23
         ],
         "xaxis":"x",
         "y":[
          2,
          3,
          4,
          5,
          6,
          8,
          10,
          12,
          15,
          18,
          21,
          23,
          25,
          27,
          28,
          29,
          30,
          28,
          26,
          24,
          20,
          18,
          15,
          10
         ],
         "yaxis":"y",
         "type":"scatter"
        }
       ],
       "layout":{
        "template":{
         "data":{
          "histogram2dcontour":[
           {
            "type":"histogram2dcontour",
            "colorbar":{
             "outlinewidth":0,
             "ticks":""
            },
            "colorscale":[
             [
              0,
              "#0d0887"
             ],
             [
              0.1111111111111111,
              "#46039f"
             ],
             [
              0.2222222222222222,
              "#7201a8"
             ],
             [
              0.3333333333333333,
              "#9c179e"
             ],
             [
              0.4444444444444444,
              "#bd3786"
             ],
             [
              0.5555555555555556,
              "#d8576b"
             ],
             [
              0.6666666666666666,
              "#ed7953"
             ],
             [
              0.7777777777777778,
              "#fb9f3a"
             ],
             [
              0.8888888888888888,
              "#fdca26"
             ],
             [
              1,
              "#f0f921"
             ]
            ]
           }
          ],
          "choropleth":[
           {
            "type":"choropleth",
            "colorbar":{
             "outlinewidth":0,
             "ticks":""
            }
           }
          ],
          "histogram2d":[
           {
            "type":"histogram2d",
            "colorbar":{
             "outlinewidth":0,
             "ticks":""
            },
            "colorscale":[
             [
              0,
              "#0d0887"
             ],
             [
              0.1111111111111111,
              "#46039f"
             ],
             [
              0.2222222222222222,
              "#7201a8"
             ],
             [
              0.3333333333333333,
              "#9c179e"
             ],
             [
              0.4444444444444444,
              "#bd3786"
             ],
             [
              0.5555555555555556,
              "#d8576b"
             ],
             [
              0.6666666666666666,
              "#ed7953"
             ],
             [
              0.7777777777777778,
              "#fb9f3a"
             ],
             [
              0.8888888888888888,
              "#fdca26"
             ],
             [
              1,
              "#f0f921"
             ]
            ]
           }
          ],
          "heatmap":[
           {
            "type":"heatmap",
            "colorbar":{
             "outlinewidth":0,
             "ticks":""
            },
            "colorscale":[
             [
              0,
              "#0d0887"
             ],
             [
              0.1111111111111111,
              "#46039f"
             ],
             [
              0.2222222222222222,
              "#7201a8"
             ],
             [
              0.3333333333333333,
              "#9c179e"
             ],
             [
              0.4444444444444444,
              "#bd3786"
             ],
             [
              0.5555555555555556,
              "#d8576b"
             ],
             [
              0.6666666666666666,
              "#ed7953"
             ],
             [
              0.7777777777777778,
              "#fb9f3a"
             ],
             [
              0.8888888888888888,
              "#fdca26"
             ],
             [
              1,
              "#f0f921"
             ]
            ]
           }
          ],
          "heatmapgl":[
           {
            "type":"heatmapgl",
            "colorbar":{
             "outlinewidth":0,
             "ticks":""
            },
            "colorscale":[
             [
              0,
              "#0d0887"
             ],
             [
              0.1111111111111111,
              "#46039f"
             ],
             [
              0.2222222222222222,
              "#7201a8"
             ],
             [
              0.3333333333333333,
              "#9c179e"
             ],
             [
              0.4444444444444444,
              "#bd3786"
             ],
             [
              0.5555555555555556,
              "#d8576b"
             ],
             [
              0.6666666666666666,
              "#ed7953"
             ],
             [
              0.7777777777777778,
              "#fb9f3a"
             ],
             [
              0.8888888888888888,
              "#fdca26"
             ],
             [
              1,
              "#f0f921"
             ]
            ]
           }
          ],
          "contourcarpet":[
           {
            "type":"contourcarpet",
            "colorbar":{
             "outlinewidth":0,
             "ticks":""
            }
           }
          ],
          "contour":[
           {
            "type":"contour",
            "colorbar":{
             "outlinewidth":0,
             "ticks":""
            },
            "colorscale":[
             [
              0,
              "#0d0887"
             ],
             [
              0.1111111111111111,
              "#46039f"
             ],
             [
              0.2222222222222222,
              "#7201a8"
             ],
             [
              0.3333333333333333,
              "#9c179e"
             ],
             [
              0.4444444444444444,
              "#bd3786"
             ],
             [
              0.5555555555555556,
              "#d8576b"
             ],
             [
              0.6666666666666666,
              "#ed7953"
             ],
             [
              0.7777777777777778,
              "#fb9f3a"
             ],
             [
              0.8888888888888888,
              "#fdca26"
             ],
             [
              1,
              "#f0f921"
             ]
            ]
           }
          ],
          "surface":[
           {
            "type":"surface",
            "colorbar":{
             "outlinewidth":0,
             "ticks":""
            },
            "colorscale":[
             [
              0,
              "#0d0887"
             ],
             [
              0.1111111111111111,
              "#46039f"
             ],
             [
              0.2222222222222222,
              "#7201a8"
             ],
             [
              0.3333333333333333,
              "#9c179e"
             ],
             [
              0.4444444444444444,
              "#bd3786"
             ],
             [
              0.5555555555555556,
              "#d8576b"
             ],
             [
              0.6666666666666666,
              "#ed7953"
             ],
             [
              0.7777777777777778,
              "#fb9f3a"
             ],
             [
              0.8888888888888888,
              "#fdca26"
             ],
             [
              1,
              "#f0f921"
             ]
            ]
           }
          ],
          "mesh3d":[
           {
            "type":"mesh3d",
            "colorbar":{
             "outlinewidth":0,
             "ticks":""
            }
           }
          ],
          "scatter":[
           {
            "fillpattern":{
             "fillmode":"overlay",
             "size":10,
             "solidity":0.2
            },
            "type":"scatter"
           }
          ],
          "parcoords":[
           {
            "type":"parcoords",
            "line":{
             "colorbar":{
              "outlinewidth":0,
              "ticks":""
             }
            }
           }
          ],
          "scatterpolargl":[
           {
            "type":"scatterpolargl",
            "marker":{
             "colorbar":{
              "outlinewidth":0,
              "ticks":""
             }
            }
           }
          ],
          "bar":[
           {
            "error_x":{
             "color":"#2a3f5f"
            },
            "error_y":{
             "color":"#2a3f5f"
            },
            "marker":{
             "line":{
              "color":"#E5ECF6",
              "width":0.5
             },
             "pattern":{
              "fillmode":"overlay",
              "size":10,
              "solidity":0.2
             }
            },
            "type":"bar"
           }
          ],
          "scattergeo":[
           {
            "type":"scattergeo",
            "marker":{
             "colorbar":{
              "outlinewidth":0,
              "ticks":""
             }
            }
           }
          ],
          "scatterpolar":[
           {
            "type":"scatterpolar",
            "marker":{
             "colorbar":{
              "outlinewidth":0,
              "ticks":""
             }
            }
           }
          ],
          "histogram":[
           {
            "marker":{
             "pattern":{
              "fillmode":"overlay",
              "size":10,
              "solidity":0.2
             }
            },
            "type":"histogram"
           }
          ],
          "scattergl":[
           {
            "type":"scattergl",
            "marker":{
             "colorbar":{
              "outlinewidth":0,
              "ticks":""
             }
            }
           }
          ],
          "scatter3d":[
           {
            "type":"scatter3d",
            "line":{
             "colorbar":{
              "outlinewidth":0,
              "ticks":""
             }
            },
            "marker":{
             "colorbar":{
              "outlinewidth":0,
              "ticks":""
             }
            }
           }
          ],
          "scattermapbox":[
           {
            "type":"scattermapbox",
            "marker":{
             "colorbar":{
              "outlinewidth":0,
              "ticks":""
             }
            }
           }
          ],
          "scatterternary":[
           {
            "type":"scatterternary",
            "marker":{
             "colorbar":{
              "outlinewidth":0,
              "ticks":""
             }
            }
           }
          ],
          "scattercarpet":[
           {
            "type":"scattercarpet",
            "marker":{
             "colorbar":{
              "outlinewidth":0,
              "ticks":""
             }
            }
           }
          ],
          "carpet":[
           {
            "aaxis":{
             "endlinecolor":"#2a3f5f",
             "gridcolor":"white",
             "linecolor":"white",
             "minorgridcolor":"white",
             "startlinecolor":"#2a3f5f"
            },
            "baxis":{
             "endlinecolor":"#2a3f5f",
             "gridcolor":"white",
             "linecolor":"white",
             "minorgridcolor":"white",
             "startlinecolor":"#2a3f5f"
            },
            "type":"carpet"
           }
          ],
          "table":[
           {
            "cells":{
             "fill":{
              "color":"#EBF0F8"
             },
             "line":{
              "color":"white"
             }
            },
            "header":{
             "fill":{
              "color":"#C8D4E3"
             },
             "line":{
              "color":"white"
             }
            },
            "type":"table"
           }
          ],
          "barpolar":[
           {
            "marker":{
             "line":{
              "color":"#E5ECF6",
              "width":0.5
             },
             "pattern":{
              "fillmode":"overlay",
              "size":10,
              "solidity":0.2
             }
            },
            "type":"barpolar"
           }
          ],
          "pie":[
           {
            "automargin":true,
            "type":"pie"
           }
          ]
         },
         "layout":{
          "autotypenumbers":"strict",
          "colorway":[
           "#636efa",
           "#EF553B",
           "#00cc96",
           "#ab63fa",
           "#FFA15A",
           "#19d3f3",
           "#FF6692",
           "#B6E880",
           "#FF97FF",
           "#FECB52"
          ],
          "font":{
           "color":"#2a3f5f"
          },
          "hovermode":"closest",
          "hoverlabel":{
           "align":"left"
          },
          "paper_bgcolor":"white",
          "plot_bgcolor":"#E5ECF6",
          "polar":{
           "bgcolor":"#E5ECF6",
           "angularaxis":{
            "gridcolor":"white",
            "linecolor":"white",
            "ticks":""
           },
           "radialaxis":{
            "gridcolor":"white",
            "linecolor":"white",
            "ticks":""
           }
          },
          "ternary":{
           "bgcolor":"#E5ECF6",
           "aaxis":{
            "gridcolor":"white",
            "linecolor":"white",
            "ticks":""
           },
           "baxis":{
            "gridcolor":"white",
            "linecolor":"white",
            "ticks":""
           },
           "caxis":{
            "gridcolor":"white",
            "linecolor":"white",
            "ticks":""
           }
          },
          "coloraxis":{
           "colorbar":{
            "outlinewidth":0,
            "ticks":""
           }
          },
          "colorscale":{
           "sequential":[
            [
             0,
             "#0d0887"
            ],
            [
             0.1111111111111111,
             "#46039f"
            ],
            [
             0.2222222222222222,
             "#7201a8"
            ],
            [
             0.3333333333333333,
             "#9c179e"
            ],
            [
             0.4444444444444444,
             "#bd3786"
            ],
            [
             0.5555555555555556,
             "#d8576b"
            ],
            [
             0.6666666666666666,
             "#ed7953"
            ],
            [
             0.7777777777777778,
             "#fb9f3a"
            ],
            [
             0.8888888888888888,
             "#fdca26"
            ],
            [
             1,
             "#f0f921"
            ]
           ],
           "sequentialminus":[
            [
             0,
             "#0d0887"
            ],
            [
             0.1111111111111111,
             "#46039f"
            ],
            [
             0.2222222222222222,
             "#7201a8"
            ],
            [
             0.3333333333333333,
             "#9c179e"
            ],
            [
             0.4444444444444444,
             "#bd3786"
            ],
            [
             0.5555555555555556,
             "#d8576b"
            ],
            [
             0.6666666666666666,
             "#ed7953"
            ],
            [
             0.7777777777777778,
             "#fb9f3a"
            ],
            [
             0.8888888888888888,
             "#fdca26"
            ],
            [
             1,
             "#f0f921"
            ]
           ],
           "diverging":[
            [
             0,
             "#8e0152"
            ],
            [
             0.1,
             "#c51b7d"
            ],
            [
             0.2,
             "#de77ae"
            ],
            [
             0.3,
             "#f1b6da"
            ],
            [
             0.4,
             "#fde0ef"
            ],
            [
             0.5,
             "#f7f7f7"
            ],
            [
             0.6,
             "#e6f5d0"
            ],
            [
             0.7,
             "#b8e186"
            ],
            [
             0.8,
             "#7fbc41"
            ],
            [
             0.9,
             "#4d9221"
            ],
            [
             1,
             "#276419"
            ]
           ]
          },
          "xaxis":{
           "gridcolor":"white",
           "linecolor":"white",
           "ticks":"",
           "title":{
            "standoff":15
           },
           "zerolinecolor":"white",
           "automargin":true,
           "zerolinewidth":2
          },
          "yaxis":{
           "gridcolor":"white",
           "linecolor":"white",
           "ticks":"",
           "title":{
            "standoff":15
           },
           "zerolinecolor":"white",
           "automargin":true,
           "zerolinewidth":2
          },
          "scene":{
           "xaxis":{
            "backgroundcolor":"#E5ECF6",
            "gridcolor":"white",
            "linecolor":"white",
            "showbackground":true,
            "ticks":"",
            "zerolinecolor":"white",
            "gridwidth":2
           },
           "yaxis":{
            "backgroundcolor":"#E5ECF6",
            "gridcolor":"white",
            "linecolor":"white",
            "showbackground":true,
            "ticks":"",
            "zerolinecolor":"white",
            "gridwidth":2
           },
           "zaxis":{
            "backgroundcolor":"#E5ECF6",
            "gridcolor":"white",
            "linecolor":"white",
            "showbackground":true,
            "ticks":"",
            "zerolinecolor":"white",
            "gridwidth":2
           }
          },
          "shapedefaults":{
           "line":{
            "color":"#2a3f5f"
           }
          },
          "annotationdefaults":{
           "arrowcolor":"#2a3f5f",
           "arrowhead":0,
           "arrowwidth":1
          },
          "geo":{
           "bgcolor":"white",
           "landcolor":"#E5ECF6",
           "subunitcolor":"white",
           "showland":true,
           "showlakes":true,
           "lakecolor":"white"
          },
          "title":{
           "x":0.05
          },
          "mapbox":{
           "style":"light"
          }
         }
        },
        "xaxis":{
         "anchor":"y",
         "domain":[
          0,
          1
         ],
         "title":{
          "text":"Hodina"
         }
        },
        "yaxis":{
         "anchor":"x",
         "domain":[
          0,
          1
         ],
         "title":{
          "text":"Teplota"
         }
        },
        "legend":{
         "tracegroupgap":0
        },
        "title":{
         "text":"Vývoj teploty počas dňa"
        }
       },
       "config":{
        "plotlyServerURL":"https:\/\/plot.ly"
       }
      }
     },
     "metadata":{},
     "output_type":"display_data"
    }
   ],
   "metadata":{
    "datalore":{
     "node_id":"QOlZ5QKU1KTQQTMto7PgIM",
     "type":"CODE",
     "hide_input_from_viewers":true,
     "hide_output_from_viewers":true
    }
   }
  },
  {
   "cell_type":"code",
   "source":[
    "import plotly.graph_objects as go\n",
    "import pandas as pd\n",
    "\n",
    "# Dáta o teplotách počas dňa\n",
    "data_teplota = {\n",
    "    'Hodina': list(range(24)),\n",
    "    'Teplota': [2, 3, 4, 5, 6, 8, 10, 12, 15, 18, 21, 23, 25, 27, 28, 29, 30, 28, 26, 24, 20, 18, 15, 10]\n",
    "}\n",
    "\n",
    "# Prevod dát do DataFrame\n",
    "df_teplota = pd.DataFrame(data_teplota)\n",
    "\n",
    "# Vytvorenie čiarového grafu\n",
    "fig = go.Figure()\n",
    "\n",
    "# Pridanie dát pre všetky hodiny\n",
    "fig.add_trace(go.Scatter(x=df_teplota['Hodina'], y=df_teplota['Teplota'], mode='lines+markers', name='Teplota'))\n",
    "\n",
    "# Pridanie interaktívnych prvkov - tlačidla na filtrovanie podľa časti dňa\n",
    "fig.update_layout(\n",
    "    updatemenus=[\n",
    "        {\n",
    "            'buttons': [\n",
    "                {'label': 'Celý deň', 'method': 'update', 'args': [{'x': [df_teplota['Hodina']], 'y': [df_teplota['Teplota']]}, {'title': 'Teplota počas celého dňa'}]},\n",
    "                {'label': 'Ráno (0-8)', 'method': 'update', 'args': [{'x': [df_teplota['Hodina'][:9]], 'y': [df_teplota['Teplota'][:9]]}, {'title': 'Teplota počas rána'}]},\n",
    "                {'label': 'Popoludnie (9-16)', 'method': 'update', 'args': [{'x': [df_teplota['Hodina'][9:17]], 'y': [df_teplota['Teplota'][9:17]]}, {'title': 'Teplota počas popoludnia'}]},\n",
    "                {'label': 'Večer (17-23)', 'method': 'update', 'args': [{'x': [df_teplota['Hodina'][17:]], 'y': [df_teplota['Teplota'][17:]]}, {'title': 'Teplota počas večera'}]},\n",
    "            ],\n",
    "            'direction': 'down',\n",
    "            'showactive': True\n",
    "        }\n",
    "    ],\n",
    "    title=\"Vývoj teploty počas dňa\",\n",
    "    xaxis_title=\"Hodina\",\n",
    "    yaxis_title=\"Teplota (°C)\"\n",
    ")\n",
    "\n",
    "# Pridanie interaktívnych funkcií ako priblíženie a posúvanie\n",
    "fig.update_layout(\n",
    "    dragmode='zoom',  # Umožňuje používateľovi priblížiť a odzoomovať graf\n",
    "    hovermode='x unified'  # Zobrazí informácie na hover (priblíženie) pre všetky body na osi X\n",
    ")\n",
    "\n",
    "# Pridanie posuvníka pre zobrazovanie hodín počas dňa\n",
    "fig.update_layout(\n",
    "    xaxis=dict(\n",
    "        rangeslider=dict(visible=True),  # Zobrazenie posuvníka na spodnej osi\n",
    "        type=\"linear\"\n",
    "    )\n",
    ")\n",
    "\n",
    "# Zobrazenie grafu\n",
    "fig.show()"
   ],
   "execution_count":118,
   "outputs":[
    {
     "data":{
      "application\/vnd.plotly.v1+json":{
       "data":[
        {
         "mode":"lines+markers",
         "name":"Teplota",
         "x":[
          0,
          1,
          2,
          3,
          4,
          5,
          6,
          7,
          8,
          9,
          10,
          11,
          12,
          13,
          14,
          15,
          16,
          17,
          18,
          19,
          20,
          21,
          22,
          23
         ],
         "y":[
          2,
          3,
          4,
          5,
          6,
          8,
          10,
          12,
          15,
          18,
          21,
          23,
          25,
          27,
          28,
          29,
          30,
          28,
          26,
          24,
          20,
          18,
          15,
          10
         ],
         "type":"scatter"
        }
       ],
       "layout":{
        "template":{
         "data":{
          "histogram2dcontour":[
           {
            "type":"histogram2dcontour",
            "colorbar":{
             "outlinewidth":0,
             "ticks":""
            },
            "colorscale":[
             [
              0,
              "#0d0887"
             ],
             [
              0.1111111111111111,
              "#46039f"
             ],
             [
              0.2222222222222222,
              "#7201a8"
             ],
             [
              0.3333333333333333,
              "#9c179e"
             ],
             [
              0.4444444444444444,
              "#bd3786"
             ],
             [
              0.5555555555555556,
              "#d8576b"
             ],
             [
              0.6666666666666666,
              "#ed7953"
             ],
             [
              0.7777777777777778,
              "#fb9f3a"
             ],
             [
              0.8888888888888888,
              "#fdca26"
             ],
             [
              1,
              "#f0f921"
             ]
            ]
           }
          ],
          "choropleth":[
           {
            "type":"choropleth",
            "colorbar":{
             "outlinewidth":0,
             "ticks":""
            }
           }
          ],
          "histogram2d":[
           {
            "type":"histogram2d",
            "colorbar":{
             "outlinewidth":0,
             "ticks":""
            },
            "colorscale":[
             [
              0,
              "#0d0887"
             ],
             [
              0.1111111111111111,
              "#46039f"
             ],
             [
              0.2222222222222222,
              "#7201a8"
             ],
             [
              0.3333333333333333,
              "#9c179e"
             ],
             [
              0.4444444444444444,
              "#bd3786"
             ],
             [
              0.5555555555555556,
              "#d8576b"
             ],
             [
              0.6666666666666666,
              "#ed7953"
             ],
             [
              0.7777777777777778,
              "#fb9f3a"
             ],
             [
              0.8888888888888888,
              "#fdca26"
             ],
             [
              1,
              "#f0f921"
             ]
            ]
           }
          ],
          "heatmap":[
           {
            "type":"heatmap",
            "colorbar":{
             "outlinewidth":0,
             "ticks":""
            },
            "colorscale":[
             [
              0,
              "#0d0887"
             ],
             [
              0.1111111111111111,
              "#46039f"
             ],
             [
              0.2222222222222222,
              "#7201a8"
             ],
             [
              0.3333333333333333,
              "#9c179e"
             ],
             [
              0.4444444444444444,
              "#bd3786"
             ],
             [
              0.5555555555555556,
              "#d8576b"
             ],
             [
              0.6666666666666666,
              "#ed7953"
             ],
             [
              0.7777777777777778,
              "#fb9f3a"
             ],
             [
              0.8888888888888888,
              "#fdca26"
             ],
             [
              1,
              "#f0f921"
             ]
            ]
           }
          ],
          "heatmapgl":[
           {
            "type":"heatmapgl",
            "colorbar":{
             "outlinewidth":0,
             "ticks":""
            },
            "colorscale":[
             [
              0,
              "#0d0887"
             ],
             [
              0.1111111111111111,
              "#46039f"
             ],
             [
              0.2222222222222222,
              "#7201a8"
             ],
             [
              0.3333333333333333,
              "#9c179e"
             ],
             [
              0.4444444444444444,
              "#bd3786"
             ],
             [
              0.5555555555555556,
              "#d8576b"
             ],
             [
              0.6666666666666666,
              "#ed7953"
             ],
             [
              0.7777777777777778,
              "#fb9f3a"
             ],
             [
              0.8888888888888888,
              "#fdca26"
             ],
             [
              1,
              "#f0f921"
             ]
            ]
           }
          ],
          "contourcarpet":[
           {
            "type":"contourcarpet",
            "colorbar":{
             "outlinewidth":0,
             "ticks":""
            }
           }
          ],
          "contour":[
           {
            "type":"contour",
            "colorbar":{
             "outlinewidth":0,
             "ticks":""
            },
            "colorscale":[
             [
              0,
              "#0d0887"
             ],
             [
              0.1111111111111111,
              "#46039f"
             ],
             [
              0.2222222222222222,
              "#7201a8"
             ],
             [
              0.3333333333333333,
              "#9c179e"
             ],
             [
              0.4444444444444444,
              "#bd3786"
             ],
             [
              0.5555555555555556,
              "#d8576b"
             ],
             [
              0.6666666666666666,
              "#ed7953"
             ],
             [
              0.7777777777777778,
              "#fb9f3a"
             ],
             [
              0.8888888888888888,
              "#fdca26"
             ],
             [
              1,
              "#f0f921"
             ]
            ]
           }
          ],
          "surface":[
           {
            "type":"surface",
            "colorbar":{
             "outlinewidth":0,
             "ticks":""
            },
            "colorscale":[
             [
              0,
              "#0d0887"
             ],
             [
              0.1111111111111111,
              "#46039f"
             ],
             [
              0.2222222222222222,
              "#7201a8"
             ],
             [
              0.3333333333333333,
              "#9c179e"
             ],
             [
              0.4444444444444444,
              "#bd3786"
             ],
             [
              0.5555555555555556,
              "#d8576b"
             ],
             [
              0.6666666666666666,
              "#ed7953"
             ],
             [
              0.7777777777777778,
              "#fb9f3a"
             ],
             [
              0.8888888888888888,
              "#fdca26"
             ],
             [
              1,
              "#f0f921"
             ]
            ]
           }
          ],
          "mesh3d":[
           {
            "type":"mesh3d",
            "colorbar":{
             "outlinewidth":0,
             "ticks":""
            }
           }
          ],
          "scatter":[
           {
            "fillpattern":{
             "fillmode":"overlay",
             "size":10,
             "solidity":0.2
            },
            "type":"scatter"
           }
          ],
          "parcoords":[
           {
            "type":"parcoords",
            "line":{
             "colorbar":{
              "outlinewidth":0,
              "ticks":""
             }
            }
           }
          ],
          "scatterpolargl":[
           {
            "type":"scatterpolargl",
            "marker":{
             "colorbar":{
              "outlinewidth":0,
              "ticks":""
             }
            }
           }
          ],
          "bar":[
           {
            "error_x":{
             "color":"#2a3f5f"
            },
            "error_y":{
             "color":"#2a3f5f"
            },
            "marker":{
             "line":{
              "color":"#E5ECF6",
              "width":0.5
             },
             "pattern":{
              "fillmode":"overlay",
              "size":10,
              "solidity":0.2
             }
            },
            "type":"bar"
           }
          ],
          "scattergeo":[
           {
            "type":"scattergeo",
            "marker":{
             "colorbar":{
              "outlinewidth":0,
              "ticks":""
             }
            }
           }
          ],
          "scatterpolar":[
           {
            "type":"scatterpolar",
            "marker":{
             "colorbar":{
              "outlinewidth":0,
              "ticks":""
             }
            }
           }
          ],
          "histogram":[
           {
            "marker":{
             "pattern":{
              "fillmode":"overlay",
              "size":10,
              "solidity":0.2
             }
            },
            "type":"histogram"
           }
          ],
          "scattergl":[
           {
            "type":"scattergl",
            "marker":{
             "colorbar":{
              "outlinewidth":0,
              "ticks":""
             }
            }
           }
          ],
          "scatter3d":[
           {
            "type":"scatter3d",
            "line":{
             "colorbar":{
              "outlinewidth":0,
              "ticks":""
             }
            },
            "marker":{
             "colorbar":{
              "outlinewidth":0,
              "ticks":""
             }
            }
           }
          ],
          "scattermapbox":[
           {
            "type":"scattermapbox",
            "marker":{
             "colorbar":{
              "outlinewidth":0,
              "ticks":""
             }
            }
           }
          ],
          "scatterternary":[
           {
            "type":"scatterternary",
            "marker":{
             "colorbar":{
              "outlinewidth":0,
              "ticks":""
             }
            }
           }
          ],
          "scattercarpet":[
           {
            "type":"scattercarpet",
            "marker":{
             "colorbar":{
              "outlinewidth":0,
              "ticks":""
             }
            }
           }
          ],
          "carpet":[
           {
            "aaxis":{
             "endlinecolor":"#2a3f5f",
             "gridcolor":"white",
             "linecolor":"white",
             "minorgridcolor":"white",
             "startlinecolor":"#2a3f5f"
            },
            "baxis":{
             "endlinecolor":"#2a3f5f",
             "gridcolor":"white",
             "linecolor":"white",
             "minorgridcolor":"white",
             "startlinecolor":"#2a3f5f"
            },
            "type":"carpet"
           }
          ],
          "table":[
           {
            "cells":{
             "fill":{
              "color":"#EBF0F8"
             },
             "line":{
              "color":"white"
             }
            },
            "header":{
             "fill":{
              "color":"#C8D4E3"
             },
             "line":{
              "color":"white"
             }
            },
            "type":"table"
           }
          ],
          "barpolar":[
           {
            "marker":{
             "line":{
              "color":"#E5ECF6",
              "width":0.5
             },
             "pattern":{
              "fillmode":"overlay",
              "size":10,
              "solidity":0.2
             }
            },
            "type":"barpolar"
           }
          ],
          "pie":[
           {
            "automargin":true,
            "type":"pie"
           }
          ]
         },
         "layout":{
          "autotypenumbers":"strict",
          "colorway":[
           "#636efa",
           "#EF553B",
           "#00cc96",
           "#ab63fa",
           "#FFA15A",
           "#19d3f3",
           "#FF6692",
           "#B6E880",
           "#FF97FF",
           "#FECB52"
          ],
          "font":{
           "color":"#2a3f5f"
          },
          "hovermode":"closest",
          "hoverlabel":{
           "align":"left"
          },
          "paper_bgcolor":"white",
          "plot_bgcolor":"#E5ECF6",
          "polar":{
           "bgcolor":"#E5ECF6",
           "angularaxis":{
            "gridcolor":"white",
            "linecolor":"white",
            "ticks":""
           },
           "radialaxis":{
            "gridcolor":"white",
            "linecolor":"white",
            "ticks":""
           }
          },
          "ternary":{
           "bgcolor":"#E5ECF6",
           "aaxis":{
            "gridcolor":"white",
            "linecolor":"white",
            "ticks":""
           },
           "baxis":{
            "gridcolor":"white",
            "linecolor":"white",
            "ticks":""
           },
           "caxis":{
            "gridcolor":"white",
            "linecolor":"white",
            "ticks":""
           }
          },
          "coloraxis":{
           "colorbar":{
            "outlinewidth":0,
            "ticks":""
           }
          },
          "colorscale":{
           "sequential":[
            [
             0,
             "#0d0887"
            ],
            [
             0.1111111111111111,
             "#46039f"
            ],
            [
             0.2222222222222222,
             "#7201a8"
            ],
            [
             0.3333333333333333,
             "#9c179e"
            ],
            [
             0.4444444444444444,
             "#bd3786"
            ],
            [
             0.5555555555555556,
             "#d8576b"
            ],
            [
             0.6666666666666666,
             "#ed7953"
            ],
            [
             0.7777777777777778,
             "#fb9f3a"
            ],
            [
             0.8888888888888888,
             "#fdca26"
            ],
            [
             1,
             "#f0f921"
            ]
           ],
           "sequentialminus":[
            [
             0,
             "#0d0887"
            ],
            [
             0.1111111111111111,
             "#46039f"
            ],
            [
             0.2222222222222222,
             "#7201a8"
            ],
            [
             0.3333333333333333,
             "#9c179e"
            ],
            [
             0.4444444444444444,
             "#bd3786"
            ],
            [
             0.5555555555555556,
             "#d8576b"
            ],
            [
             0.6666666666666666,
             "#ed7953"
            ],
            [
             0.7777777777777778,
             "#fb9f3a"
            ],
            [
             0.8888888888888888,
             "#fdca26"
            ],
            [
             1,
             "#f0f921"
            ]
           ],
           "diverging":[
            [
             0,
             "#8e0152"
            ],
            [
             0.1,
             "#c51b7d"
            ],
            [
             0.2,
             "#de77ae"
            ],
            [
             0.3,
             "#f1b6da"
            ],
            [
             0.4,
             "#fde0ef"
            ],
            [
             0.5,
             "#f7f7f7"
            ],
            [
             0.6,
             "#e6f5d0"
            ],
            [
             0.7,
             "#b8e186"
            ],
            [
             0.8,
             "#7fbc41"
            ],
            [
             0.9,
             "#4d9221"
            ],
            [
             1,
             "#276419"
            ]
           ]
          },
          "xaxis":{
           "gridcolor":"white",
           "linecolor":"white",
           "ticks":"",
           "title":{
            "standoff":15
           },
           "zerolinecolor":"white",
           "automargin":true,
           "zerolinewidth":2
          },
          "yaxis":{
           "gridcolor":"white",
           "linecolor":"white",
           "ticks":"",
           "title":{
            "standoff":15
           },
           "zerolinecolor":"white",
           "automargin":true,
           "zerolinewidth":2
          },
          "scene":{
           "xaxis":{
            "backgroundcolor":"#E5ECF6",
            "gridcolor":"white",
            "linecolor":"white",
            "showbackground":true,
            "ticks":"",
            "zerolinecolor":"white",
            "gridwidth":2
           },
           "yaxis":{
            "backgroundcolor":"#E5ECF6",
            "gridcolor":"white",
            "linecolor":"white",
            "showbackground":true,
            "ticks":"",
            "zerolinecolor":"white",
            "gridwidth":2
           },
           "zaxis":{
            "backgroundcolor":"#E5ECF6",
            "gridcolor":"white",
            "linecolor":"white",
            "showbackground":true,
            "ticks":"",
            "zerolinecolor":"white",
            "gridwidth":2
           }
          },
          "shapedefaults":{
           "line":{
            "color":"#2a3f5f"
           }
          },
          "annotationdefaults":{
           "arrowcolor":"#2a3f5f",
           "arrowhead":0,
           "arrowwidth":1
          },
          "geo":{
           "bgcolor":"white",
           "landcolor":"#E5ECF6",
           "subunitcolor":"white",
           "showland":true,
           "showlakes":true,
           "lakecolor":"white"
          },
          "title":{
           "x":0.05
          },
          "mapbox":{
           "style":"light"
          }
         }
        },
        "updatemenus":[
         {
          "buttons":[
           {
            "args":[
             {
              "x":[
               [
                0,
                1,
                2,
                3,
                4,
                5,
                6,
                7,
                8,
                9,
                10,
                11,
                12,
                13,
                14,
                15,
                16,
                17,
                18,
                19,
                20,
                21,
                22,
                23
               ]
              ],
              "y":[
               [
                2,
                3,
                4,
                5,
                6,
                8,
                10,
                12,
                15,
                18,
                21,
                23,
                25,
                27,
                28,
                29,
                30,
                28,
                26,
                24,
                20,
                18,
                15,
                10
               ]
              ]
             },
             {
              "title":"Teplota počas celého dňa"
             }
            ],
            "label":"Celý deň",
            "method":"update"
           },
           {
            "args":[
             {
              "x":[
               [
                0,
                1,
                2,
                3,
                4,
                5,
                6,
                7,
                8
               ]
              ],
              "y":[
               [
                2,
                3,
                4,
                5,
                6,
                8,
                10,
                12,
                15
               ]
              ]
             },
             {
              "title":"Teplota počas rána"
             }
            ],
            "label":"Ráno (0-8)",
            "method":"update"
           },
           {
            "args":[
             {
              "x":[
               [
                9,
                10,
                11,
                12,
                13,
                14,
                15,
                16
               ]
              ],
              "y":[
               [
                18,
                21,
                23,
                25,
                27,
                28,
                29,
                30
               ]
              ]
             },
             {
              "title":"Teplota počas popoludnia"
             }
            ],
            "label":"Popoludnie (9-16)",
            "method":"update"
           },
           {
            "args":[
             {
              "x":[
               [
                17,
                18,
                19,
                20,
                21,
                22,
                23
               ]
              ],
              "y":[
               [
                28,
                26,
                24,
                20,
                18,
                15,
                10
               ]
              ]
             },
             {
              "title":"Teplota počas večera"
             }
            ],
            "label":"Večer (17-23)",
            "method":"update"
           }
          ],
          "direction":"down",
          "showactive":true
         }
        ],
        "title":{
         "text":"Vývoj teploty počas dňa"
        },
        "xaxis":{
         "title":{
          "text":"Hodina"
         },
         "rangeslider":{
          "visible":true
         },
         "type":"linear"
        },
        "yaxis":{
         "title":{
          "text":"Teplota (°C)"
         }
        },
        "dragmode":"zoom",
        "hovermode":"x unified"
       },
       "config":{
        "plotlyServerURL":"https:\/\/plot.ly"
       }
      }
     },
     "metadata":{},
     "output_type":"display_data"
    }
   ],
   "metadata":{
    "datalore":{
     "node_id":"iaj53EnJz4vvSwEYwcxNAK",
     "type":"CODE",
     "hide_input_from_viewers":true,
     "hide_output_from_viewers":true
    }
   }
  },
  {
   "cell_type":"markdown",
   "source":[
    "# 📈 Čiarový graf (Line Chart) 2"
   ],
   "attachments":{},
   "metadata":{
    "datalore":{
     "node_id":"lEwrLkiYnnMWzpw2daQn1t",
     "type":"MD",
     "hide_input_from_viewers":true,
     "hide_output_from_viewers":true
    }
   }
  },
  {
   "cell_type":"code",
   "source":[],
   "execution_count":23,
   "outputs":[
    {
     "data":{
      "application\/vnd.plotly.v1+json":{
       "data":[
        {
         "mode":"lines+markers",
         "name":"Teplota",
         "x":[
          0,
          1,
          2,
          3,
          4,
          5,
          6,
          7,
          8,
          9,
          10,
          11,
          12,
          13,
          14,
          15,
          16,
          17,
          18,
          19,
          20,
          21,
          22,
          23
         ],
         "y":[
          2,
          3,
          4,
          5,
          6,
          8,
          10,
          12,
          15,
          18,
          21,
          23,
          25,
          27,
          28,
          29,
          30,
          28,
          26,
          24,
          20,
          18,
          15,
          10
         ],
         "type":"scatter"
        }
       ],
       "layout":{
        "template":{
         "data":{
          "histogram2dcontour":[
           {
            "type":"histogram2dcontour",
            "colorbar":{
             "outlinewidth":0,
             "ticks":""
            },
            "colorscale":[
             [
              0,
              "#0d0887"
             ],
             [
              0.1111111111111111,
              "#46039f"
             ],
             [
              0.2222222222222222,
              "#7201a8"
             ],
             [
              0.3333333333333333,
              "#9c179e"
             ],
             [
              0.4444444444444444,
              "#bd3786"
             ],
             [
              0.5555555555555556,
              "#d8576b"
             ],
             [
              0.6666666666666666,
              "#ed7953"
             ],
             [
              0.7777777777777778,
              "#fb9f3a"
             ],
             [
              0.8888888888888888,
              "#fdca26"
             ],
             [
              1,
              "#f0f921"
             ]
            ]
           }
          ],
          "choropleth":[
           {
            "type":"choropleth",
            "colorbar":{
             "outlinewidth":0,
             "ticks":""
            }
           }
          ],
          "histogram2d":[
           {
            "type":"histogram2d",
            "colorbar":{
             "outlinewidth":0,
             "ticks":""
            },
            "colorscale":[
             [
              0,
              "#0d0887"
             ],
             [
              0.1111111111111111,
              "#46039f"
             ],
             [
              0.2222222222222222,
              "#7201a8"
             ],
             [
              0.3333333333333333,
              "#9c179e"
             ],
             [
              0.4444444444444444,
              "#bd3786"
             ],
             [
              0.5555555555555556,
              "#d8576b"
             ],
             [
              0.6666666666666666,
              "#ed7953"
             ],
             [
              0.7777777777777778,
              "#fb9f3a"
             ],
             [
              0.8888888888888888,
              "#fdca26"
             ],
             [
              1,
              "#f0f921"
             ]
            ]
           }
          ],
          "heatmap":[
           {
            "type":"heatmap",
            "colorbar":{
             "outlinewidth":0,
             "ticks":""
            },
            "colorscale":[
             [
              0,
              "#0d0887"
             ],
             [
              0.1111111111111111,
              "#46039f"
             ],
             [
              0.2222222222222222,
              "#7201a8"
             ],
             [
              0.3333333333333333,
              "#9c179e"
             ],
             [
              0.4444444444444444,
              "#bd3786"
             ],
             [
              0.5555555555555556,
              "#d8576b"
             ],
             [
              0.6666666666666666,
              "#ed7953"
             ],
             [
              0.7777777777777778,
              "#fb9f3a"
             ],
             [
              0.8888888888888888,
              "#fdca26"
             ],
             [
              1,
              "#f0f921"
             ]
            ]
           }
          ],
          "heatmapgl":[
           {
            "type":"heatmapgl",
            "colorbar":{
             "outlinewidth":0,
             "ticks":""
            },
            "colorscale":[
             [
              0,
              "#0d0887"
             ],
             [
              0.1111111111111111,
              "#46039f"
             ],
             [
              0.2222222222222222,
              "#7201a8"
             ],
             [
              0.3333333333333333,
              "#9c179e"
             ],
             [
              0.4444444444444444,
              "#bd3786"
             ],
             [
              0.5555555555555556,
              "#d8576b"
             ],
             [
              0.6666666666666666,
              "#ed7953"
             ],
             [
              0.7777777777777778,
              "#fb9f3a"
             ],
             [
              0.8888888888888888,
              "#fdca26"
             ],
             [
              1,
              "#f0f921"
             ]
            ]
           }
          ],
          "contourcarpet":[
           {
            "type":"contourcarpet",
            "colorbar":{
             "outlinewidth":0,
             "ticks":""
            }
           }
          ],
          "contour":[
           {
            "type":"contour",
            "colorbar":{
             "outlinewidth":0,
             "ticks":""
            },
            "colorscale":[
             [
              0,
              "#0d0887"
             ],
             [
              0.1111111111111111,
              "#46039f"
             ],
             [
              0.2222222222222222,
              "#7201a8"
             ],
             [
              0.3333333333333333,
              "#9c179e"
             ],
             [
              0.4444444444444444,
              "#bd3786"
             ],
             [
              0.5555555555555556,
              "#d8576b"
             ],
             [
              0.6666666666666666,
              "#ed7953"
             ],
             [
              0.7777777777777778,
              "#fb9f3a"
             ],
             [
              0.8888888888888888,
              "#fdca26"
             ],
             [
              1,
              "#f0f921"
             ]
            ]
           }
          ],
          "surface":[
           {
            "type":"surface",
            "colorbar":{
             "outlinewidth":0,
             "ticks":""
            },
            "colorscale":[
             [
              0,
              "#0d0887"
             ],
             [
              0.1111111111111111,
              "#46039f"
             ],
             [
              0.2222222222222222,
              "#7201a8"
             ],
             [
              0.3333333333333333,
              "#9c179e"
             ],
             [
              0.4444444444444444,
              "#bd3786"
             ],
             [
              0.5555555555555556,
              "#d8576b"
             ],
             [
              0.6666666666666666,
              "#ed7953"
             ],
             [
              0.7777777777777778,
              "#fb9f3a"
             ],
             [
              0.8888888888888888,
              "#fdca26"
             ],
             [
              1,
              "#f0f921"
             ]
            ]
           }
          ],
          "mesh3d":[
           {
            "type":"mesh3d",
            "colorbar":{
             "outlinewidth":0,
             "ticks":""
            }
           }
          ],
          "scatter":[
           {
            "fillpattern":{
             "fillmode":"overlay",
             "size":10,
             "solidity":0.2
            },
            "type":"scatter"
           }
          ],
          "parcoords":[
           {
            "type":"parcoords",
            "line":{
             "colorbar":{
              "outlinewidth":0,
              "ticks":""
             }
            }
           }
          ],
          "scatterpolargl":[
           {
            "type":"scatterpolargl",
            "marker":{
             "colorbar":{
              "outlinewidth":0,
              "ticks":""
             }
            }
           }
          ],
          "bar":[
           {
            "error_x":{
             "color":"#2a3f5f"
            },
            "error_y":{
             "color":"#2a3f5f"
            },
            "marker":{
             "line":{
              "color":"#E5ECF6",
              "width":0.5
             },
             "pattern":{
              "fillmode":"overlay",
              "size":10,
              "solidity":0.2
             }
            },
            "type":"bar"
           }
          ],
          "scattergeo":[
           {
            "type":"scattergeo",
            "marker":{
             "colorbar":{
              "outlinewidth":0,
              "ticks":""
             }
            }
           }
          ],
          "scatterpolar":[
           {
            "type":"scatterpolar",
            "marker":{
             "colorbar":{
              "outlinewidth":0,
              "ticks":""
             }
            }
           }
          ],
          "histogram":[
           {
            "marker":{
             "pattern":{
              "fillmode":"overlay",
              "size":10,
              "solidity":0.2
             }
            },
            "type":"histogram"
           }
          ],
          "scattergl":[
           {
            "type":"scattergl",
            "marker":{
             "colorbar":{
              "outlinewidth":0,
              "ticks":""
             }
            }
           }
          ],
          "scatter3d":[
           {
            "type":"scatter3d",
            "line":{
             "colorbar":{
              "outlinewidth":0,
              "ticks":""
             }
            },
            "marker":{
             "colorbar":{
              "outlinewidth":0,
              "ticks":""
             }
            }
           }
          ],
          "scattermapbox":[
           {
            "type":"scattermapbox",
            "marker":{
             "colorbar":{
              "outlinewidth":0,
              "ticks":""
             }
            }
           }
          ],
          "scatterternary":[
           {
            "type":"scatterternary",
            "marker":{
             "colorbar":{
              "outlinewidth":0,
              "ticks":""
             }
            }
           }
          ],
          "scattercarpet":[
           {
            "type":"scattercarpet",
            "marker":{
             "colorbar":{
              "outlinewidth":0,
              "ticks":""
             }
            }
           }
          ],
          "carpet":[
           {
            "aaxis":{
             "endlinecolor":"#2a3f5f",
             "gridcolor":"white",
             "linecolor":"white",
             "minorgridcolor":"white",
             "startlinecolor":"#2a3f5f"
            },
            "baxis":{
             "endlinecolor":"#2a3f5f",
             "gridcolor":"white",
             "linecolor":"white",
             "minorgridcolor":"white",
             "startlinecolor":"#2a3f5f"
            },
            "type":"carpet"
           }
          ],
          "table":[
           {
            "cells":{
             "fill":{
              "color":"#EBF0F8"
             },
             "line":{
              "color":"white"
             }
            },
            "header":{
             "fill":{
              "color":"#C8D4E3"
             },
             "line":{
              "color":"white"
             }
            },
            "type":"table"
           }
          ],
          "barpolar":[
           {
            "marker":{
             "line":{
              "color":"#E5ECF6",
              "width":0.5
             },
             "pattern":{
              "fillmode":"overlay",
              "size":10,
              "solidity":0.2
             }
            },
            "type":"barpolar"
           }
          ],
          "pie":[
           {
            "automargin":true,
            "type":"pie"
           }
          ]
         },
         "layout":{
          "autotypenumbers":"strict",
          "colorway":[
           "#636efa",
           "#EF553B",
           "#00cc96",
           "#ab63fa",
           "#FFA15A",
           "#19d3f3",
           "#FF6692",
           "#B6E880",
           "#FF97FF",
           "#FECB52"
          ],
          "font":{
           "color":"#2a3f5f"
          },
          "hovermode":"closest",
          "hoverlabel":{
           "align":"left"
          },
          "paper_bgcolor":"white",
          "plot_bgcolor":"#E5ECF6",
          "polar":{
           "bgcolor":"#E5ECF6",
           "angularaxis":{
            "gridcolor":"white",
            "linecolor":"white",
            "ticks":""
           },
           "radialaxis":{
            "gridcolor":"white",
            "linecolor":"white",
            "ticks":""
           }
          },
          "ternary":{
           "bgcolor":"#E5ECF6",
           "aaxis":{
            "gridcolor":"white",
            "linecolor":"white",
            "ticks":""
           },
           "baxis":{
            "gridcolor":"white",
            "linecolor":"white",
            "ticks":""
           },
           "caxis":{
            "gridcolor":"white",
            "linecolor":"white",
            "ticks":""
           }
          },
          "coloraxis":{
           "colorbar":{
            "outlinewidth":0,
            "ticks":""
           }
          },
          "colorscale":{
           "sequential":[
            [
             0,
             "#0d0887"
            ],
            [
             0.1111111111111111,
             "#46039f"
            ],
            [
             0.2222222222222222,
             "#7201a8"
            ],
            [
             0.3333333333333333,
             "#9c179e"
            ],
            [
             0.4444444444444444,
             "#bd3786"
            ],
            [
             0.5555555555555556,
             "#d8576b"
            ],
            [
             0.6666666666666666,
             "#ed7953"
            ],
            [
             0.7777777777777778,
             "#fb9f3a"
            ],
            [
             0.8888888888888888,
             "#fdca26"
            ],
            [
             1,
             "#f0f921"
            ]
           ],
           "sequentialminus":[
            [
             0,
             "#0d0887"
            ],
            [
             0.1111111111111111,
             "#46039f"
            ],
            [
             0.2222222222222222,
             "#7201a8"
            ],
            [
             0.3333333333333333,
             "#9c179e"
            ],
            [
             0.4444444444444444,
             "#bd3786"
            ],
            [
             0.5555555555555556,
             "#d8576b"
            ],
            [
             0.6666666666666666,
             "#ed7953"
            ],
            [
             0.7777777777777778,
             "#fb9f3a"
            ],
            [
             0.8888888888888888,
             "#fdca26"
            ],
            [
             1,
             "#f0f921"
            ]
           ],
           "diverging":[
            [
             0,
             "#8e0152"
            ],
            [
             0.1,
             "#c51b7d"
            ],
            [
             0.2,
             "#de77ae"
            ],
            [
             0.3,
             "#f1b6da"
            ],
            [
             0.4,
             "#fde0ef"
            ],
            [
             0.5,
             "#f7f7f7"
            ],
            [
             0.6,
             "#e6f5d0"
            ],
            [
             0.7,
             "#b8e186"
            ],
            [
             0.8,
             "#7fbc41"
            ],
            [
             0.9,
             "#4d9221"
            ],
            [
             1,
             "#276419"
            ]
           ]
          },
          "xaxis":{
           "gridcolor":"white",
           "linecolor":"white",
           "ticks":"",
           "title":{
            "standoff":15
           },
           "zerolinecolor":"white",
           "automargin":true,
           "zerolinewidth":2
          },
          "yaxis":{
           "gridcolor":"white",
           "linecolor":"white",
           "ticks":"",
           "title":{
            "standoff":15
           },
           "zerolinecolor":"white",
           "automargin":true,
           "zerolinewidth":2
          },
          "scene":{
           "xaxis":{
            "backgroundcolor":"#E5ECF6",
            "gridcolor":"white",
            "linecolor":"white",
            "showbackground":true,
            "ticks":"",
            "zerolinecolor":"white",
            "gridwidth":2
           },
           "yaxis":{
            "backgroundcolor":"#E5ECF6",
            "gridcolor":"white",
            "linecolor":"white",
            "showbackground":true,
            "ticks":"",
            "zerolinecolor":"white",
            "gridwidth":2
           },
           "zaxis":{
            "backgroundcolor":"#E5ECF6",
            "gridcolor":"white",
            "linecolor":"white",
            "showbackground":true,
            "ticks":"",
            "zerolinecolor":"white",
            "gridwidth":2
           }
          },
          "shapedefaults":{
           "line":{
            "color":"#2a3f5f"
           }
          },
          "annotationdefaults":{
           "arrowcolor":"#2a3f5f",
           "arrowhead":0,
           "arrowwidth":1
          },
          "geo":{
           "bgcolor":"white",
           "landcolor":"#E5ECF6",
           "subunitcolor":"white",
           "showland":true,
           "showlakes":true,
           "lakecolor":"white"
          },
          "title":{
           "x":0.05
          },
          "mapbox":{
           "style":"light"
          }
         }
        },
        "updatemenus":[
         {
          "buttons":[
           {
            "args":[
             {
              "x":[
               [
                0,
                1,
                2,
                3,
                4,
                5,
                6,
                7,
                8,
                9,
                10,
                11,
                12,
                13,
                14,
                15,
                16,
                17,
                18,
                19,
                20,
                21,
                22,
                23
               ]
              ],
              "y":[
               [
                2,
                3,
                4,
                5,
                6,
                8,
                10,
                12,
                15,
                18,
                21,
                23,
                25,
                27,
                28,
                29,
                30,
                28,
                26,
                24,
                20,
                18,
                15,
                10
               ]
              ]
             },
             {
              "title":"Teplota počas celého dňa"
             }
            ],
            "label":"Celý deň",
            "method":"update"
           },
           {
            "args":[
             {
              "x":[
               [
                0,
                1,
                2,
                3,
                4,
                5,
                6,
                7,
                8
               ]
              ],
              "y":[
               [
                2,
                3,
                4,
                5,
                6,
                8,
                10,
                12,
                15
               ]
              ]
             },
             {
              "title":"Teplota počas rána"
             }
            ],
            "label":"Ráno (0-8)",
            "method":"update"
           },
           {
            "args":[
             {
              "x":[
               [
                9,
                10,
                11,
                12,
                13,
                14,
                15,
                16
               ]
              ],
              "y":[
               [
                18,
                21,
                23,
                25,
                27,
                28,
                29,
                30
               ]
              ]
             },
             {
              "title":"Teplota počas popoludnia"
             }
            ],
            "label":"Popoludnie (9-16)",
            "method":"update"
           },
           {
            "args":[
             {
              "x":[
               [
                17,
                18,
                19,
                20,
                21,
                22,
                23
               ]
              ],
              "y":[
               [
                28,
                26,
                24,
                20,
                18,
                15,
                10
               ]
              ]
             },
             {
              "title":"Teplota počas večera"
             }
            ],
            "label":"Večer (17-23)",
            "method":"update"
           }
          ],
          "direction":"down",
          "showactive":true
         }
        ],
        "title":{
         "text":"Vývoj teploty počas dňa"
        },
        "xaxis":{
         "title":{
          "text":"Hodina"
         },
         "rangeslider":{
          "visible":true
         },
         "type":"linear"
        },
        "yaxis":{
         "title":{
          "text":"Teplota (°C)"
         }
        },
        "dragmode":"zoom",
        "hovermode":"x unified"
       },
       "config":{
        "plotlyServerURL":"https:\/\/plot.ly"
       }
      }
     },
     "metadata":{},
     "output_type":"display_data"
    }
   ],
   "metadata":{
    "datalore":{
     "node_id":"8KIkbepU3c4CQxGRq7oCFJ",
     "type":"CODE",
     "hide_input_from_viewers":true,
     "hide_output_from_viewers":true
    }
   }
  },
  {
   "cell_type":"markdown",
   "source":[
    "# 🗺️ Mapy\n",
    "- Mapy v Plotly umožňujú vytvárať interaktívne geografické vizualizácie s vrstvami bodov, čiar alebo farebnými plochami na základe geografických údajov.\n",
    "- Podporuje rôzne typy máp, ako sú chloropleth mapy, scattergeo a mapové grafy s prispôsobiteľnými prvkami.\n",
    "- Interaktívne funkcie umožňujú používateľom priblížiť, posúvať a skúmať údaje v reálnom geografickom kontexte priamo v prehliadači.\n",
    "\n",
    "Mapa slúži na zobrazenie geografických dát alebo na vizualizáciu dát v tabuľkovom formáte pomocou farebných odstupňovaní (heatmapa). Je vhodná na analýzu dát, ktoré súvisia s miestom alebo priestorom.\n",
    "\n",
    "**Aplikácie:**\n",
    "Geografické dáta: Vizualizácia dát podľa geografických regiónov, ako sú demografické údaje, predaje podľa regiónov, hustota obyvateľstva.\n",
    "Heatmapa (teplotná mapa): Zobrazenie intenzity alebo frekvencie výskytu hodnôt v tabuľkách alebo mriežkach (napr. korelácia medzi premennými, hustota výskytu udalostí).\n",
    "\n",
    "**Tipy:**\n",
    "Pre geografické mapy používajte choropleth maps, kde sú oblasti (napr. štáty, regióny) farebne odlíšené podľa hodnoty (napr. HDP, počet obyvateľov).\n",
    "Uistite sa, že farebná škála je dobre zvolená – mala by byť intuitívna a prehľadná (napr. teplé farby pre vyššie hodnoty, studené pre nižšie).\n",
    "Pre heatmapy, ktoré zobrazujú korelácie alebo vzory, používajte gradientné farebné schémy, ktoré umožnia jasne rozlíšiť nízke a vysoké hodnoty.\n",
    "\n",
    "**Príklad (geografická mapa):**\n",
    "Mapa zobrazujúca počet predajov v rôznych krajinách alebo regiónoch.\n",
    "Vizualizácia voličských preferencií v rámci krajiny.\n",
    "\n",
    "**Príklad (heatmapa):**\n",
    "Korelačná matica pre premenné vo výskume (napr. vzťahy medzi ekonomickými ukazovateľmi).\n",
    "Teplotná mapa zobrazujúca intenzitu návštevníkov na webovej stránke podľa miesta kliknutí."
   ],
   "attachments":{},
   "metadata":{
    "datalore":{
     "node_id":"zqxfCDqF0clud8wzf9KtMC",
     "type":"MD",
     "hide_input_from_viewers":true,
     "hide_output_from_viewers":true
    }
   }
  },
  {
   "cell_type":"code",
   "source":[
    "import plotly.express as px\n",
    "import pandas as pd\n",
    "\n",
    "# Dáta o mestách a populácii\n",
    "data_mesta = {\n",
    "    'Mesto': ['Bratislava', 'Košice', 'Prešov', 'Žilina', 'Nitra'],\n",
    "    'Populácia': [432000, 239000, 89000, 82000, 79000],\n",
    "    'Latitude': [48.14816, 48.71639, 49.00169, 49.2231, 48.30885],\n",
    "    'Longitude': [17.10674, 21.26107, 21.23943, 18.74002, 18.08685]\n",
    "}\n",
    "\n",
    "# Vytvorenie DataFrame\n",
    "df_mesta = pd.DataFrame(data_mesta)\n",
    "\n",
    "# Vytvorenie mapy\n",
    "fig = px.scatter_mapbox(df_mesta, lat=\"Latitude\", lon=\"Longitude\", size=\"Populácia\", \n",
    "                        hover_name=\"Mesto\", title=\"Populácia miest na Slovensku\",\n",
    "                        zoom=6, mapbox_style=\"open-street-map\")\n",
    "\n",
    "# Zobrazenie mapy\n",
    "fig.show()"
   ],
   "execution_count":119,
   "outputs":[
    {
     "data":{
      "application\/vnd.plotly.v1+json":{
       "data":[
        {
         "hovertemplate":"<b>%{hovertext}<\/b><br><br>Populácia=%{marker.size}<br>Latitude=%{lat}<br>Longitude=%{lon}<extra><\/extra>",
         "hovertext":[
          "Bratislava",
          "Košice",
          "Prešov",
          "Žilina",
          "Nitra"
         ],
         "lat":[
          48.14816,
          48.71639,
          49.00169,
          49.2231,
          48.30885
         ],
         "legendgroup":"",
         "lon":[
          17.10674,
          21.26107,
          21.23943,
          18.74002,
          18.08685
         ],
         "marker":{
          "color":"#636efa",
          "size":[
           432000,
           239000,
           89000,
           82000,
           79000
          ],
          "sizemode":"area",
          "sizeref":1080
         },
         "mode":"markers",
         "name":"",
         "showlegend":false,
         "subplot":"mapbox",
         "type":"scattermapbox"
        }
       ],
       "layout":{
        "template":{
         "data":{
          "histogram2dcontour":[
           {
            "type":"histogram2dcontour",
            "colorbar":{
             "outlinewidth":0,
             "ticks":""
            },
            "colorscale":[
             [
              0,
              "#0d0887"
             ],
             [
              0.1111111111111111,
              "#46039f"
             ],
             [
              0.2222222222222222,
              "#7201a8"
             ],
             [
              0.3333333333333333,
              "#9c179e"
             ],
             [
              0.4444444444444444,
              "#bd3786"
             ],
             [
              0.5555555555555556,
              "#d8576b"
             ],
             [
              0.6666666666666666,
              "#ed7953"
             ],
             [
              0.7777777777777778,
              "#fb9f3a"
             ],
             [
              0.8888888888888888,
              "#fdca26"
             ],
             [
              1,
              "#f0f921"
             ]
            ]
           }
          ],
          "choropleth":[
           {
            "type":"choropleth",
            "colorbar":{
             "outlinewidth":0,
             "ticks":""
            }
           }
          ],
          "histogram2d":[
           {
            "type":"histogram2d",
            "colorbar":{
             "outlinewidth":0,
             "ticks":""
            },
            "colorscale":[
             [
              0,
              "#0d0887"
             ],
             [
              0.1111111111111111,
              "#46039f"
             ],
             [
              0.2222222222222222,
              "#7201a8"
             ],
             [
              0.3333333333333333,
              "#9c179e"
             ],
             [
              0.4444444444444444,
              "#bd3786"
             ],
             [
              0.5555555555555556,
              "#d8576b"
             ],
             [
              0.6666666666666666,
              "#ed7953"
             ],
             [
              0.7777777777777778,
              "#fb9f3a"
             ],
             [
              0.8888888888888888,
              "#fdca26"
             ],
             [
              1,
              "#f0f921"
             ]
            ]
           }
          ],
          "heatmap":[
           {
            "type":"heatmap",
            "colorbar":{
             "outlinewidth":0,
             "ticks":""
            },
            "colorscale":[
             [
              0,
              "#0d0887"
             ],
             [
              0.1111111111111111,
              "#46039f"
             ],
             [
              0.2222222222222222,
              "#7201a8"
             ],
             [
              0.3333333333333333,
              "#9c179e"
             ],
             [
              0.4444444444444444,
              "#bd3786"
             ],
             [
              0.5555555555555556,
              "#d8576b"
             ],
             [
              0.6666666666666666,
              "#ed7953"
             ],
             [
              0.7777777777777778,
              "#fb9f3a"
             ],
             [
              0.8888888888888888,
              "#fdca26"
             ],
             [
              1,
              "#f0f921"
             ]
            ]
           }
          ],
          "heatmapgl":[
           {
            "type":"heatmapgl",
            "colorbar":{
             "outlinewidth":0,
             "ticks":""
            },
            "colorscale":[
             [
              0,
              "#0d0887"
             ],
             [
              0.1111111111111111,
              "#46039f"
             ],
             [
              0.2222222222222222,
              "#7201a8"
             ],
             [
              0.3333333333333333,
              "#9c179e"
             ],
             [
              0.4444444444444444,
              "#bd3786"
             ],
             [
              0.5555555555555556,
              "#d8576b"
             ],
             [
              0.6666666666666666,
              "#ed7953"
             ],
             [
              0.7777777777777778,
              "#fb9f3a"
             ],
             [
              0.8888888888888888,
              "#fdca26"
             ],
             [
              1,
              "#f0f921"
             ]
            ]
           }
          ],
          "contourcarpet":[
           {
            "type":"contourcarpet",
            "colorbar":{
             "outlinewidth":0,
             "ticks":""
            }
           }
          ],
          "contour":[
           {
            "type":"contour",
            "colorbar":{
             "outlinewidth":0,
             "ticks":""
            },
            "colorscale":[
             [
              0,
              "#0d0887"
             ],
             [
              0.1111111111111111,
              "#46039f"
             ],
             [
              0.2222222222222222,
              "#7201a8"
             ],
             [
              0.3333333333333333,
              "#9c179e"
             ],
             [
              0.4444444444444444,
              "#bd3786"
             ],
             [
              0.5555555555555556,
              "#d8576b"
             ],
             [
              0.6666666666666666,
              "#ed7953"
             ],
             [
              0.7777777777777778,
              "#fb9f3a"
             ],
             [
              0.8888888888888888,
              "#fdca26"
             ],
             [
              1,
              "#f0f921"
             ]
            ]
           }
          ],
          "surface":[
           {
            "type":"surface",
            "colorbar":{
             "outlinewidth":0,
             "ticks":""
            },
            "colorscale":[
             [
              0,
              "#0d0887"
             ],
             [
              0.1111111111111111,
              "#46039f"
             ],
             [
              0.2222222222222222,
              "#7201a8"
             ],
             [
              0.3333333333333333,
              "#9c179e"
             ],
             [
              0.4444444444444444,
              "#bd3786"
             ],
             [
              0.5555555555555556,
              "#d8576b"
             ],
             [
              0.6666666666666666,
              "#ed7953"
             ],
             [
              0.7777777777777778,
              "#fb9f3a"
             ],
             [
              0.8888888888888888,
              "#fdca26"
             ],
             [
              1,
              "#f0f921"
             ]
            ]
           }
          ],
          "mesh3d":[
           {
            "type":"mesh3d",
            "colorbar":{
             "outlinewidth":0,
             "ticks":""
            }
           }
          ],
          "scatter":[
           {
            "fillpattern":{
             "fillmode":"overlay",
             "size":10,
             "solidity":0.2
            },
            "type":"scatter"
           }
          ],
          "parcoords":[
           {
            "type":"parcoords",
            "line":{
             "colorbar":{
              "outlinewidth":0,
              "ticks":""
             }
            }
           }
          ],
          "scatterpolargl":[
           {
            "type":"scatterpolargl",
            "marker":{
             "colorbar":{
              "outlinewidth":0,
              "ticks":""
             }
            }
           }
          ],
          "bar":[
           {
            "error_x":{
             "color":"#2a3f5f"
            },
            "error_y":{
             "color":"#2a3f5f"
            },
            "marker":{
             "line":{
              "color":"#E5ECF6",
              "width":0.5
             },
             "pattern":{
              "fillmode":"overlay",
              "size":10,
              "solidity":0.2
             }
            },
            "type":"bar"
           }
          ],
          "scattergeo":[
           {
            "type":"scattergeo",
            "marker":{
             "colorbar":{
              "outlinewidth":0,
              "ticks":""
             }
            }
           }
          ],
          "scatterpolar":[
           {
            "type":"scatterpolar",
            "marker":{
             "colorbar":{
              "outlinewidth":0,
              "ticks":""
             }
            }
           }
          ],
          "histogram":[
           {
            "marker":{
             "pattern":{
              "fillmode":"overlay",
              "size":10,
              "solidity":0.2
             }
            },
            "type":"histogram"
           }
          ],
          "scattergl":[
           {
            "type":"scattergl",
            "marker":{
             "colorbar":{
              "outlinewidth":0,
              "ticks":""
             }
            }
           }
          ],
          "scatter3d":[
           {
            "type":"scatter3d",
            "line":{
             "colorbar":{
              "outlinewidth":0,
              "ticks":""
             }
            },
            "marker":{
             "colorbar":{
              "outlinewidth":0,
              "ticks":""
             }
            }
           }
          ],
          "scattermapbox":[
           {
            "type":"scattermapbox",
            "marker":{
             "colorbar":{
              "outlinewidth":0,
              "ticks":""
             }
            }
           }
          ],
          "scatterternary":[
           {
            "type":"scatterternary",
            "marker":{
             "colorbar":{
              "outlinewidth":0,
              "ticks":""
             }
            }
           }
          ],
          "scattercarpet":[
           {
            "type":"scattercarpet",
            "marker":{
             "colorbar":{
              "outlinewidth":0,
              "ticks":""
             }
            }
           }
          ],
          "carpet":[
           {
            "aaxis":{
             "endlinecolor":"#2a3f5f",
             "gridcolor":"white",
             "linecolor":"white",
             "minorgridcolor":"white",
             "startlinecolor":"#2a3f5f"
            },
            "baxis":{
             "endlinecolor":"#2a3f5f",
             "gridcolor":"white",
             "linecolor":"white",
             "minorgridcolor":"white",
             "startlinecolor":"#2a3f5f"
            },
            "type":"carpet"
           }
          ],
          "table":[
           {
            "cells":{
             "fill":{
              "color":"#EBF0F8"
             },
             "line":{
              "color":"white"
             }
            },
            "header":{
             "fill":{
              "color":"#C8D4E3"
             },
             "line":{
              "color":"white"
             }
            },
            "type":"table"
           }
          ],
          "barpolar":[
           {
            "marker":{
             "line":{
              "color":"#E5ECF6",
              "width":0.5
             },
             "pattern":{
              "fillmode":"overlay",
              "size":10,
              "solidity":0.2
             }
            },
            "type":"barpolar"
           }
          ],
          "pie":[
           {
            "automargin":true,
            "type":"pie"
           }
          ]
         },
         "layout":{
          "autotypenumbers":"strict",
          "colorway":[
           "#636efa",
           "#EF553B",
           "#00cc96",
           "#ab63fa",
           "#FFA15A",
           "#19d3f3",
           "#FF6692",
           "#B6E880",
           "#FF97FF",
           "#FECB52"
          ],
          "font":{
           "color":"#2a3f5f"
          },
          "hovermode":"closest",
          "hoverlabel":{
           "align":"left"
          },
          "paper_bgcolor":"white",
          "plot_bgcolor":"#E5ECF6",
          "polar":{
           "bgcolor":"#E5ECF6",
           "angularaxis":{
            "gridcolor":"white",
            "linecolor":"white",
            "ticks":""
           },
           "radialaxis":{
            "gridcolor":"white",
            "linecolor":"white",
            "ticks":""
           }
          },
          "ternary":{
           "bgcolor":"#E5ECF6",
           "aaxis":{
            "gridcolor":"white",
            "linecolor":"white",
            "ticks":""
           },
           "baxis":{
            "gridcolor":"white",
            "linecolor":"white",
            "ticks":""
           },
           "caxis":{
            "gridcolor":"white",
            "linecolor":"white",
            "ticks":""
           }
          },
          "coloraxis":{
           "colorbar":{
            "outlinewidth":0,
            "ticks":""
           }
          },
          "colorscale":{
           "sequential":[
            [
             0,
             "#0d0887"
            ],
            [
             0.1111111111111111,
             "#46039f"
            ],
            [
             0.2222222222222222,
             "#7201a8"
            ],
            [
             0.3333333333333333,
             "#9c179e"
            ],
            [
             0.4444444444444444,
             "#bd3786"
            ],
            [
             0.5555555555555556,
             "#d8576b"
            ],
            [
             0.6666666666666666,
             "#ed7953"
            ],
            [
             0.7777777777777778,
             "#fb9f3a"
            ],
            [
             0.8888888888888888,
             "#fdca26"
            ],
            [
             1,
             "#f0f921"
            ]
           ],
           "sequentialminus":[
            [
             0,
             "#0d0887"
            ],
            [
             0.1111111111111111,
             "#46039f"
            ],
            [
             0.2222222222222222,
             "#7201a8"
            ],
            [
             0.3333333333333333,
             "#9c179e"
            ],
            [
             0.4444444444444444,
             "#bd3786"
            ],
            [
             0.5555555555555556,
             "#d8576b"
            ],
            [
             0.6666666666666666,
             "#ed7953"
            ],
            [
             0.7777777777777778,
             "#fb9f3a"
            ],
            [
             0.8888888888888888,
             "#fdca26"
            ],
            [
             1,
             "#f0f921"
            ]
           ],
           "diverging":[
            [
             0,
             "#8e0152"
            ],
            [
             0.1,
             "#c51b7d"
            ],
            [
             0.2,
             "#de77ae"
            ],
            [
             0.3,
             "#f1b6da"
            ],
            [
             0.4,
             "#fde0ef"
            ],
            [
             0.5,
             "#f7f7f7"
            ],
            [
             0.6,
             "#e6f5d0"
            ],
            [
             0.7,
             "#b8e186"
            ],
            [
             0.8,
             "#7fbc41"
            ],
            [
             0.9,
             "#4d9221"
            ],
            [
             1,
             "#276419"
            ]
           ]
          },
          "xaxis":{
           "gridcolor":"white",
           "linecolor":"white",
           "ticks":"",
           "title":{
            "standoff":15
           },
           "zerolinecolor":"white",
           "automargin":true,
           "zerolinewidth":2
          },
          "yaxis":{
           "gridcolor":"white",
           "linecolor":"white",
           "ticks":"",
           "title":{
            "standoff":15
           },
           "zerolinecolor":"white",
           "automargin":true,
           "zerolinewidth":2
          },
          "scene":{
           "xaxis":{
            "backgroundcolor":"#E5ECF6",
            "gridcolor":"white",
            "linecolor":"white",
            "showbackground":true,
            "ticks":"",
            "zerolinecolor":"white",
            "gridwidth":2
           },
           "yaxis":{
            "backgroundcolor":"#E5ECF6",
            "gridcolor":"white",
            "linecolor":"white",
            "showbackground":true,
            "ticks":"",
            "zerolinecolor":"white",
            "gridwidth":2
           },
           "zaxis":{
            "backgroundcolor":"#E5ECF6",
            "gridcolor":"white",
            "linecolor":"white",
            "showbackground":true,
            "ticks":"",
            "zerolinecolor":"white",
            "gridwidth":2
           }
          },
          "shapedefaults":{
           "line":{
            "color":"#2a3f5f"
           }
          },
          "annotationdefaults":{
           "arrowcolor":"#2a3f5f",
           "arrowhead":0,
           "arrowwidth":1
          },
          "geo":{
           "bgcolor":"white",
           "landcolor":"#E5ECF6",
           "subunitcolor":"white",
           "showland":true,
           "showlakes":true,
           "lakecolor":"white"
          },
          "title":{
           "x":0.05
          },
          "mapbox":{
           "style":"light"
          }
         }
        },
        "mapbox":{
         "domain":{
          "x":[
           0,
           1
          ],
          "y":[
           0,
           1
          ]
         },
         "center":{
          "lat":48.679638,
          "lon":19.286822
         },
         "zoom":6,
         "style":"open-street-map"
        },
        "legend":{
         "tracegroupgap":0,
         "itemsizing":"constant"
        },
        "title":{
         "text":"Populácia miest na Slovensku"
        }
       },
       "config":{
        "plotlyServerURL":"https:\/\/plot.ly"
       }
      }
     },
     "metadata":{},
     "output_type":"display_data"
    }
   ],
   "metadata":{
    "datalore":{
     "node_id":"J9mX1Ug4BZruON8lYaEJDM",
     "type":"CODE",
     "hide_input_from_viewers":true,
     "hide_output_from_viewers":true
    }
   }
  },
  {
   "cell_type":"markdown",
   "source":[
    "# 🗺️ Mapy 2"
   ],
   "attachments":{},
   "metadata":{
    "datalore":{
     "node_id":"abfDbwEYUxBIqaUOAhO0Hy",
     "type":"MD",
     "hide_input_from_viewers":true,
     "hide_output_from_viewers":true
    }
   }
  },
  {
   "cell_type":"code",
   "source":[
    "import plotly.graph_objects as go\n",
    "import pandas as pd\n",
    "\n",
    "# Rozšírené údaje o mestách a populácii na Slovensku\n",
    "data_mesta = {\n",
    "    'Mesto': ['Bratislava', 'Košice', 'Prešov', 'Žilina', 'Nitra', 'Trnava', 'Trenčín', 'Banská Bystrica', 'Poprad', 'Martin'],\n",
    "    'Populácia': [432000, 239000, 89000, 82000, 79000, 65000, 56000, 78000, 52000, 54000],\n",
    "    'Latitude': [48.14816, 48.71639, 49.00169, 49.2231, 48.30885, 48.37741, 48.89452, 48.73949, 49.05827, 49.06632],\n",
    "    'Longitude': [17.10674, 21.26107, 21.23943, 18.74002, 18.08685, 17.58844, 18.04497, 19.14619, 20.29753, 18.92255]\n",
    "}\n",
    "\n",
    "# Prevod dát do DataFrame\n",
    "df_mesta = pd.DataFrame(data_mesta)\n",
    "\n",
    "# Vytvorenie mapy pomocou Graph Objects\n",
    "fig = go.Figure()\n",
    "\n",
    "# Pridanie dát pre všetky mestá\n",
    "fig.add_trace(go.Scattermapbox(\n",
    "    lat=df_mesta['Latitude'],\n",
    "    lon=df_mesta['Longitude'],\n",
    "    mode='markers',\n",
    "    marker=go.scattermapbox.Marker(\n",
    "        size=df_mesta['Populácia'] \/ 5000,  # Zvýšenie veľkosti bublín\n",
    "        color=df_mesta['Populácia'],\n",
    "        colorscale='Plasma',  # Použitie jasnejšej farebnej škály\n",
    "        showscale=True,\n",
    "        sizemode='area',\n",
    "        sizeref=0.05  # Zníženie sizeref pre zväčšenie bublín\n",
    "    ),\n",
    "    text=df_mesta['Mesto'] + ' - Populácia: ' + df_mesta['Populácia'].astype(str),\n",
    "    hoverinfo='text',\n",
    "    name=\"Všetky mestá\",\n",
    "    visible=True\n",
    "))\n",
    "\n",
    "# Pridanie dát pre veľké mestá\n",
    "df_velke_mesta = df_mesta[df_mesta['Populácia'] > 100000]\n",
    "fig.add_trace(go.Scattermapbox(\n",
    "    lat=df_velke_mesta['Latitude'],\n",
    "    lon=df_velke_mesta['Longitude'],\n",
    "    mode='markers',\n",
    "    marker=go.scattermapbox.Marker(\n",
    "        size=df_velke_mesta['Populácia'] \/ 5000,\n",
    "        color=df_velke_mesta['Populácia'],\n",
    "        colorscale='Plasma',\n",
    "        showscale=False,\n",
    "        sizemode='area',\n",
    "        sizeref=0.05\n",
    "    ),\n",
    "    text=df_velke_mesta['Mesto'] + ' - Populácia: ' + df_velke_mesta['Populácia'].astype(str),\n",
    "    hoverinfo='text',\n",
    "    name=\"Veľké mestá\",\n",
    "    visible=False\n",
    "))\n",
    "\n",
    "# Pridanie dát pre stredné mestá\n",
    "df_stredne_mesta = df_mesta[(df_mesta['Populácia'] >= 50000) & (df_mesta['Populácia'] <= 100000)]\n",
    "\n",
    "fig.add_trace(go.Scattermapbox(\n",
    "    lat=df_stredne_mesta['Latitude'],\n",
    "    lon=df_stredne_mesta['Longitude'],\n",
    "    mode='markers',\n",
    "    marker=go.scattermapbox.Marker(\n",
    "        size=df_stredne_mesta['Populácia'] \/ 5000,\n",
    "        color=df_stredne_mesta['Populácia'],\n",
    "        colorscale='Plasma',\n",
    "        showscale=False,\n",
    "        sizemode='area',\n",
    "        sizeref=0.05\n",
    "    ),\n",
    "    text=df_stredne_mesta['Mesto'] + ' - Populácia: ' + df_stredne_mesta['Populácia'].astype(str),\n",
    "    hoverinfo='text',\n",
    "    name=\"Stredné mestá\",\n",
    "    visible=False\n",
    "))\n",
    "\n",
    "# Nastavenie interaktívneho rozbaľovacieho menu\n",
    "fig.update_layout(\n",
    "    updatemenus=[\n",
    "        {\n",
    "            'buttons': [\n",
    "                {'label': 'Všetky mestá', 'method': 'update', 'args': [{'visible': [True, False, False]}, {'title': 'Všetky mestá'}]},\n",
    "                {'label': 'Veľké mestá', 'method': 'update', 'args': [{'visible': [False, True, False]}, {'title': 'Veľké mestá (nad 100 000)'}]},\n",
    "                {'label': 'Stredné mestá', 'method': 'update', 'args': [{'visible': [False, False, True]}, {'title': 'Stredné mestá (50 000 - 100 000)'}]}\n",
    "            ],\n",
    "            'direction': 'down',\n",
    "            'showactive': True\n",
    "        }\n",
    "    ]\n",
    ")\n",
    "\n",
    "# Povolenie priblíženia a posúvania na mape\n",
    "fig.update_layout(\n",
    "    mapbox=dict(\n",
    "        style=\"open-street-map\",\n",
    "        zoom=6,  # Štandardný zoom\n",
    "        center={\"lat\": 48.5, \"lon\": 19.0}  # Centrum mapy na Slovensku\n",
    "    ),\n",
    "    margin={\"r\": 0, \"t\": 40, \"l\": 0, \"b\": 0}  # Zmenšené okraje pre lepšie zobrazenie mapy\n",
    ")\n",
    "\n",
    "# Zobrazenie mapy\n",
    "fig.show()"
   ],
   "execution_count":120,
   "outputs":[
    {
     "data":{
      "application\/vnd.plotly.v1+json":{
       "data":[
        {
         "hoverinfo":"text",
         "lat":[
          48.14816,
          48.71639,
          49.00169,
          49.2231,
          48.30885,
          48.37741,
          48.89452,
          48.73949,
          49.05827,
          49.06632
         ],
         "lon":[
          17.10674,
          21.26107,
          21.23943,
          18.74002,
          18.08685,
          17.58844,
          18.04497,
          19.14619,
          20.29753,
          18.92255
         ],
         "marker":{
          "color":[
           432000,
           239000,
           89000,
           82000,
           79000,
           65000,
           56000,
           78000,
           52000,
           54000
          ],
          "colorscale":[
           [
            0,
            "#0d0887"
           ],
           [
            0.1111111111111111,
            "#46039f"
           ],
           [
            0.2222222222222222,
            "#7201a8"
           ],
           [
            0.3333333333333333,
            "#9c179e"
           ],
           [
            0.4444444444444444,
            "#bd3786"
           ],
           [
            0.5555555555555556,
            "#d8576b"
           ],
           [
            0.6666666666666666,
            "#ed7953"
           ],
           [
            0.7777777777777778,
            "#fb9f3a"
           ],
           [
            0.8888888888888888,
            "#fdca26"
           ],
           [
            1,
            "#f0f921"
           ]
          ],
          "showscale":true,
          "size":[
           86.4,
           47.8,
           17.8,
           16.4,
           15.8,
           13,
           11.2,
           15.6,
           10.4,
           10.8
          ],
          "sizemode":"area",
          "sizeref":0.05
         },
         "mode":"markers",
         "name":"Všetky mestá",
         "text":[
          "Bratislava - Populácia: 432000",
          "Košice - Populácia: 239000",
          "Prešov - Populácia: 89000",
          "Žilina - Populácia: 82000",
          "Nitra - Populácia: 79000",
          "Trnava - Populácia: 65000",
          "Trenčín - Populácia: 56000",
          "Banská Bystrica - Populácia: 78000",
          "Poprad - Populácia: 52000",
          "Martin - Populácia: 54000"
         ],
         "visible":true,
         "type":"scattermapbox"
        },
        {
         "hoverinfo":"text",
         "lat":[
          48.14816,
          48.71639
         ],
         "lon":[
          17.10674,
          21.26107
         ],
         "marker":{
          "color":[
           432000,
           239000
          ],
          "colorscale":[
           [
            0,
            "#0d0887"
           ],
           [
            0.1111111111111111,
            "#46039f"
           ],
           [
            0.2222222222222222,
            "#7201a8"
           ],
           [
            0.3333333333333333,
            "#9c179e"
           ],
           [
            0.4444444444444444,
            "#bd3786"
           ],
           [
            0.5555555555555556,
            "#d8576b"
           ],
           [
            0.6666666666666666,
            "#ed7953"
           ],
           [
            0.7777777777777778,
            "#fb9f3a"
           ],
           [
            0.8888888888888888,
            "#fdca26"
           ],
           [
            1,
            "#f0f921"
           ]
          ],
          "showscale":false,
          "size":[
           86.4,
           47.8
          ],
          "sizemode":"area",
          "sizeref":0.05
         },
         "mode":"markers",
         "name":"Veľké mestá",
         "text":[
          "Bratislava - Populácia: 432000",
          "Košice - Populácia: 239000"
         ],
         "visible":false,
         "type":"scattermapbox"
        },
        {
         "hoverinfo":"text",
         "lat":[
          49.00169,
          49.2231,
          48.30885,
          48.37741,
          48.89452,
          48.73949,
          49.05827,
          49.06632
         ],
         "lon":[
          21.23943,
          18.74002,
          18.08685,
          17.58844,
          18.04497,
          19.14619,
          20.29753,
          18.92255
         ],
         "marker":{
          "color":[
           89000,
           82000,
           79000,
           65000,
           56000,
           78000,
           52000,
           54000
          ],
          "colorscale":[
           [
            0,
            "#0d0887"
           ],
           [
            0.1111111111111111,
            "#46039f"
           ],
           [
            0.2222222222222222,
            "#7201a8"
           ],
           [
            0.3333333333333333,
            "#9c179e"
           ],
           [
            0.4444444444444444,
            "#bd3786"
           ],
           [
            0.5555555555555556,
            "#d8576b"
           ],
           [
            0.6666666666666666,
            "#ed7953"
           ],
           [
            0.7777777777777778,
            "#fb9f3a"
           ],
           [
            0.8888888888888888,
            "#fdca26"
           ],
           [
            1,
            "#f0f921"
           ]
          ],
          "showscale":false,
          "size":[
           17.8,
           16.4,
           15.8,
           13,
           11.2,
           15.6,
           10.4,
           10.8
          ],
          "sizemode":"area",
          "sizeref":0.05
         },
         "mode":"markers",
         "name":"Stredné mestá",
         "text":[
          "Prešov - Populácia: 89000",
          "Žilina - Populácia: 82000",
          "Nitra - Populácia: 79000",
          "Trnava - Populácia: 65000",
          "Trenčín - Populácia: 56000",
          "Banská Bystrica - Populácia: 78000",
          "Poprad - Populácia: 52000",
          "Martin - Populácia: 54000"
         ],
         "visible":false,
         "type":"scattermapbox"
        }
       ],
       "layout":{
        "template":{
         "data":{
          "histogram2dcontour":[
           {
            "type":"histogram2dcontour",
            "colorbar":{
             "outlinewidth":0,
             "ticks":""
            },
            "colorscale":[
             [
              0,
              "#0d0887"
             ],
             [
              0.1111111111111111,
              "#46039f"
             ],
             [
              0.2222222222222222,
              "#7201a8"
             ],
             [
              0.3333333333333333,
              "#9c179e"
             ],
             [
              0.4444444444444444,
              "#bd3786"
             ],
             [
              0.5555555555555556,
              "#d8576b"
             ],
             [
              0.6666666666666666,
              "#ed7953"
             ],
             [
              0.7777777777777778,
              "#fb9f3a"
             ],
             [
              0.8888888888888888,
              "#fdca26"
             ],
             [
              1,
              "#f0f921"
             ]
            ]
           }
          ],
          "choropleth":[
           {
            "type":"choropleth",
            "colorbar":{
             "outlinewidth":0,
             "ticks":""
            }
           }
          ],
          "histogram2d":[
           {
            "type":"histogram2d",
            "colorbar":{
             "outlinewidth":0,
             "ticks":""
            },
            "colorscale":[
             [
              0,
              "#0d0887"
             ],
             [
              0.1111111111111111,
              "#46039f"
             ],
             [
              0.2222222222222222,
              "#7201a8"
             ],
             [
              0.3333333333333333,
              "#9c179e"
             ],
             [
              0.4444444444444444,
              "#bd3786"
             ],
             [
              0.5555555555555556,
              "#d8576b"
             ],
             [
              0.6666666666666666,
              "#ed7953"
             ],
             [
              0.7777777777777778,
              "#fb9f3a"
             ],
             [
              0.8888888888888888,
              "#fdca26"
             ],
             [
              1,
              "#f0f921"
             ]
            ]
           }
          ],
          "heatmap":[
           {
            "type":"heatmap",
            "colorbar":{
             "outlinewidth":0,
             "ticks":""
            },
            "colorscale":[
             [
              0,
              "#0d0887"
             ],
             [
              0.1111111111111111,
              "#46039f"
             ],
             [
              0.2222222222222222,
              "#7201a8"
             ],
             [
              0.3333333333333333,
              "#9c179e"
             ],
             [
              0.4444444444444444,
              "#bd3786"
             ],
             [
              0.5555555555555556,
              "#d8576b"
             ],
             [
              0.6666666666666666,
              "#ed7953"
             ],
             [
              0.7777777777777778,
              "#fb9f3a"
             ],
             [
              0.8888888888888888,
              "#fdca26"
             ],
             [
              1,
              "#f0f921"
             ]
            ]
           }
          ],
          "heatmapgl":[
           {
            "type":"heatmapgl",
            "colorbar":{
             "outlinewidth":0,
             "ticks":""
            },
            "colorscale":[
             [
              0,
              "#0d0887"
             ],
             [
              0.1111111111111111,
              "#46039f"
             ],
             [
              0.2222222222222222,
              "#7201a8"
             ],
             [
              0.3333333333333333,
              "#9c179e"
             ],
             [
              0.4444444444444444,
              "#bd3786"
             ],
             [
              0.5555555555555556,
              "#d8576b"
             ],
             [
              0.6666666666666666,
              "#ed7953"
             ],
             [
              0.7777777777777778,
              "#fb9f3a"
             ],
             [
              0.8888888888888888,
              "#fdca26"
             ],
             [
              1,
              "#f0f921"
             ]
            ]
           }
          ],
          "contourcarpet":[
           {
            "type":"contourcarpet",
            "colorbar":{
             "outlinewidth":0,
             "ticks":""
            }
           }
          ],
          "contour":[
           {
            "type":"contour",
            "colorbar":{
             "outlinewidth":0,
             "ticks":""
            },
            "colorscale":[
             [
              0,
              "#0d0887"
             ],
             [
              0.1111111111111111,
              "#46039f"
             ],
             [
              0.2222222222222222,
              "#7201a8"
             ],
             [
              0.3333333333333333,
              "#9c179e"
             ],
             [
              0.4444444444444444,
              "#bd3786"
             ],
             [
              0.5555555555555556,
              "#d8576b"
             ],
             [
              0.6666666666666666,
              "#ed7953"
             ],
             [
              0.7777777777777778,
              "#fb9f3a"
             ],
             [
              0.8888888888888888,
              "#fdca26"
             ],
             [
              1,
              "#f0f921"
             ]
            ]
           }
          ],
          "surface":[
           {
            "type":"surface",
            "colorbar":{
             "outlinewidth":0,
             "ticks":""
            },
            "colorscale":[
             [
              0,
              "#0d0887"
             ],
             [
              0.1111111111111111,
              "#46039f"
             ],
             [
              0.2222222222222222,
              "#7201a8"
             ],
             [
              0.3333333333333333,
              "#9c179e"
             ],
             [
              0.4444444444444444,
              "#bd3786"
             ],
             [
              0.5555555555555556,
              "#d8576b"
             ],
             [
              0.6666666666666666,
              "#ed7953"
             ],
             [
              0.7777777777777778,
              "#fb9f3a"
             ],
             [
              0.8888888888888888,
              "#fdca26"
             ],
             [
              1,
              "#f0f921"
             ]
            ]
           }
          ],
          "mesh3d":[
           {
            "type":"mesh3d",
            "colorbar":{
             "outlinewidth":0,
             "ticks":""
            }
           }
          ],
          "scatter":[
           {
            "fillpattern":{
             "fillmode":"overlay",
             "size":10,
             "solidity":0.2
            },
            "type":"scatter"
           }
          ],
          "parcoords":[
           {
            "type":"parcoords",
            "line":{
             "colorbar":{
              "outlinewidth":0,
              "ticks":""
             }
            }
           }
          ],
          "scatterpolargl":[
           {
            "type":"scatterpolargl",
            "marker":{
             "colorbar":{
              "outlinewidth":0,
              "ticks":""
             }
            }
           }
          ],
          "bar":[
           {
            "error_x":{
             "color":"#2a3f5f"
            },
            "error_y":{
             "color":"#2a3f5f"
            },
            "marker":{
             "line":{
              "color":"#E5ECF6",
              "width":0.5
             },
             "pattern":{
              "fillmode":"overlay",
              "size":10,
              "solidity":0.2
             }
            },
            "type":"bar"
           }
          ],
          "scattergeo":[
           {
            "type":"scattergeo",
            "marker":{
             "colorbar":{
              "outlinewidth":0,
              "ticks":""
             }
            }
           }
          ],
          "scatterpolar":[
           {
            "type":"scatterpolar",
            "marker":{
             "colorbar":{
              "outlinewidth":0,
              "ticks":""
             }
            }
           }
          ],
          "histogram":[
           {
            "marker":{
             "pattern":{
              "fillmode":"overlay",
              "size":10,
              "solidity":0.2
             }
            },
            "type":"histogram"
           }
          ],
          "scattergl":[
           {
            "type":"scattergl",
            "marker":{
             "colorbar":{
              "outlinewidth":0,
              "ticks":""
             }
            }
           }
          ],
          "scatter3d":[
           {
            "type":"scatter3d",
            "line":{
             "colorbar":{
              "outlinewidth":0,
              "ticks":""
             }
            },
            "marker":{
             "colorbar":{
              "outlinewidth":0,
              "ticks":""
             }
            }
           }
          ],
          "scattermapbox":[
           {
            "type":"scattermapbox",
            "marker":{
             "colorbar":{
              "outlinewidth":0,
              "ticks":""
             }
            }
           }
          ],
          "scatterternary":[
           {
            "type":"scatterternary",
            "marker":{
             "colorbar":{
              "outlinewidth":0,
              "ticks":""
             }
            }
           }
          ],
          "scattercarpet":[
           {
            "type":"scattercarpet",
            "marker":{
             "colorbar":{
              "outlinewidth":0,
              "ticks":""
             }
            }
           }
          ],
          "carpet":[
           {
            "aaxis":{
             "endlinecolor":"#2a3f5f",
             "gridcolor":"white",
             "linecolor":"white",
             "minorgridcolor":"white",
             "startlinecolor":"#2a3f5f"
            },
            "baxis":{
             "endlinecolor":"#2a3f5f",
             "gridcolor":"white",
             "linecolor":"white",
             "minorgridcolor":"white",
             "startlinecolor":"#2a3f5f"
            },
            "type":"carpet"
           }
          ],
          "table":[
           {
            "cells":{
             "fill":{
              "color":"#EBF0F8"
             },
             "line":{
              "color":"white"
             }
            },
            "header":{
             "fill":{
              "color":"#C8D4E3"
             },
             "line":{
              "color":"white"
             }
            },
            "type":"table"
           }
          ],
          "barpolar":[
           {
            "marker":{
             "line":{
              "color":"#E5ECF6",
              "width":0.5
             },
             "pattern":{
              "fillmode":"overlay",
              "size":10,
              "solidity":0.2
             }
            },
            "type":"barpolar"
           }
          ],
          "pie":[
           {
            "automargin":true,
            "type":"pie"
           }
          ]
         },
         "layout":{
          "autotypenumbers":"strict",
          "colorway":[
           "#636efa",
           "#EF553B",
           "#00cc96",
           "#ab63fa",
           "#FFA15A",
           "#19d3f3",
           "#FF6692",
           "#B6E880",
           "#FF97FF",
           "#FECB52"
          ],
          "font":{
           "color":"#2a3f5f"
          },
          "hovermode":"closest",
          "hoverlabel":{
           "align":"left"
          },
          "paper_bgcolor":"white",
          "plot_bgcolor":"#E5ECF6",
          "polar":{
           "bgcolor":"#E5ECF6",
           "angularaxis":{
            "gridcolor":"white",
            "linecolor":"white",
            "ticks":""
           },
           "radialaxis":{
            "gridcolor":"white",
            "linecolor":"white",
            "ticks":""
           }
          },
          "ternary":{
           "bgcolor":"#E5ECF6",
           "aaxis":{
            "gridcolor":"white",
            "linecolor":"white",
            "ticks":""
           },
           "baxis":{
            "gridcolor":"white",
            "linecolor":"white",
            "ticks":""
           },
           "caxis":{
            "gridcolor":"white",
            "linecolor":"white",
            "ticks":""
           }
          },
          "coloraxis":{
           "colorbar":{
            "outlinewidth":0,
            "ticks":""
           }
          },
          "colorscale":{
           "sequential":[
            [
             0,
             "#0d0887"
            ],
            [
             0.1111111111111111,
             "#46039f"
            ],
            [
             0.2222222222222222,
             "#7201a8"
            ],
            [
             0.3333333333333333,
             "#9c179e"
            ],
            [
             0.4444444444444444,
             "#bd3786"
            ],
            [
             0.5555555555555556,
             "#d8576b"
            ],
            [
             0.6666666666666666,
             "#ed7953"
            ],
            [
             0.7777777777777778,
             "#fb9f3a"
            ],
            [
             0.8888888888888888,
             "#fdca26"
            ],
            [
             1,
             "#f0f921"
            ]
           ],
           "sequentialminus":[
            [
             0,
             "#0d0887"
            ],
            [
             0.1111111111111111,
             "#46039f"
            ],
            [
             0.2222222222222222,
             "#7201a8"
            ],
            [
             0.3333333333333333,
             "#9c179e"
            ],
            [
             0.4444444444444444,
             "#bd3786"
            ],
            [
             0.5555555555555556,
             "#d8576b"
            ],
            [
             0.6666666666666666,
             "#ed7953"
            ],
            [
             0.7777777777777778,
             "#fb9f3a"
            ],
            [
             0.8888888888888888,
             "#fdca26"
            ],
            [
             1,
             "#f0f921"
            ]
           ],
           "diverging":[
            [
             0,
             "#8e0152"
            ],
            [
             0.1,
             "#c51b7d"
            ],
            [
             0.2,
             "#de77ae"
            ],
            [
             0.3,
             "#f1b6da"
            ],
            [
             0.4,
             "#fde0ef"
            ],
            [
             0.5,
             "#f7f7f7"
            ],
            [
             0.6,
             "#e6f5d0"
            ],
            [
             0.7,
             "#b8e186"
            ],
            [
             0.8,
             "#7fbc41"
            ],
            [
             0.9,
             "#4d9221"
            ],
            [
             1,
             "#276419"
            ]
           ]
          },
          "xaxis":{
           "gridcolor":"white",
           "linecolor":"white",
           "ticks":"",
           "title":{
            "standoff":15
           },
           "zerolinecolor":"white",
           "automargin":true,
           "zerolinewidth":2
          },
          "yaxis":{
           "gridcolor":"white",
           "linecolor":"white",
           "ticks":"",
           "title":{
            "standoff":15
           },
           "zerolinecolor":"white",
           "automargin":true,
           "zerolinewidth":2
          },
          "scene":{
           "xaxis":{
            "backgroundcolor":"#E5ECF6",
            "gridcolor":"white",
            "linecolor":"white",
            "showbackground":true,
            "ticks":"",
            "zerolinecolor":"white",
            "gridwidth":2
           },
           "yaxis":{
            "backgroundcolor":"#E5ECF6",
            "gridcolor":"white",
            "linecolor":"white",
            "showbackground":true,
            "ticks":"",
            "zerolinecolor":"white",
            "gridwidth":2
           },
           "zaxis":{
            "backgroundcolor":"#E5ECF6",
            "gridcolor":"white",
            "linecolor":"white",
            "showbackground":true,
            "ticks":"",
            "zerolinecolor":"white",
            "gridwidth":2
           }
          },
          "shapedefaults":{
           "line":{
            "color":"#2a3f5f"
           }
          },
          "annotationdefaults":{
           "arrowcolor":"#2a3f5f",
           "arrowhead":0,
           "arrowwidth":1
          },
          "geo":{
           "bgcolor":"white",
           "landcolor":"#E5ECF6",
           "subunitcolor":"white",
           "showland":true,
           "showlakes":true,
           "lakecolor":"white"
          },
          "title":{
           "x":0.05
          },
          "mapbox":{
           "style":"light"
          }
         }
        },
        "updatemenus":[
         {
          "buttons":[
           {
            "args":[
             {
              "visible":[
               true,
               false,
               false
              ]
             },
             {
              "title":"Všetky mestá"
             }
            ],
            "label":"Všetky mestá",
            "method":"update"
           },
           {
            "args":[
             {
              "visible":[
               false,
               true,
               false
              ]
             },
             {
              "title":"Veľké mestá (nad 100 000)"
             }
            ],
            "label":"Veľké mestá",
            "method":"update"
           },
           {
            "args":[
             {
              "visible":[
               false,
               false,
               true
              ]
             },
             {
              "title":"Stredné mestá (50 000 - 100 000)"
             }
            ],
            "label":"Stredné mestá",
            "method":"update"
           }
          ],
          "direction":"down",
          "showactive":true
         }
        ],
        "mapbox":{
         "center":{
          "lat":48.5,
          "lon":19
         },
         "style":"open-street-map",
         "zoom":6
        },
        "margin":{
         "r":0,
         "t":40,
         "l":0,
         "b":0
        }
       },
       "config":{
        "plotlyServerURL":"https:\/\/plot.ly"
       }
      }
     },
     "metadata":{},
     "output_type":"display_data"
    }
   ],
   "metadata":{
    "datalore":{
     "node_id":"D6wrjF6uzX7oRhwMAjcl3f",
     "type":"CODE",
     "hide_input_from_viewers":true,
     "hide_output_from_viewers":true
    }
   }
  },
  {
   "cell_type":"markdown",
   "source":[
    "# 🌐 Kombinovaný graf"
   ],
   "attachments":{},
   "metadata":{
    "datalore":{
     "node_id":"tWs8r0XlzGKmaCF2nzo4og",
     "type":"MD",
     "hide_input_from_viewers":true,
     "hide_output_from_viewers":true
    }
   }
  },
  {
   "cell_type":"code",
   "source":[
    "import plotly.graph_objects as go\n",
    "import plotly.express as px\n",
    "import pandas as pd\n",
    "from plotly.subplots import make_subplots  # Importovanie make_subplots\n",
    "\n",
    "# Dáta pre grafy\n",
    "data = {\n",
    "    'Kategória': ['A', 'B', 'C', 'D'],\n",
    "    'Hodnota1': [10, 20, 30, 40],\n",
    "    'Hodnota2': [15, 25, 35, 45],\n",
    "    'Hodnota3': [50, 30, 40, 60],\n",
    "    'Hodnota4': [100, 150, 200, 250]\n",
    "}\n",
    "\n",
    "# Prevod dát do DataFrame\n",
    "df = pd.DataFrame(data)\n",
    "\n",
    "# Vytvorenie dashboardu s viacerými grafmi v jednom rozložení\n",
    "fig_dashboard = make_subplots(\n",
    "    rows=2, cols=2, \n",
    "    specs=[[{\"type\": \"xy\"}, {\"type\": \"domain\"}], [{\"type\": \"xy\"}, {\"type\": \"xy\"}]],\n",
    "    subplot_titles=(\"Stĺpcový graf\", \"Koláčový graf\", \"Čiarový graf\", \"Bodový graf\")\n",
    ")\n",
    "\n",
    "# Pridanie stĺpcového grafu\n",
    "fig_dashboard.add_trace(\n",
    "    go.Bar(\n",
    "        x=df['Kategória'], \n",
    "        y=df['Hodnota1'], \n",
    "        name=\"Stĺpcový graf\"), \n",
    "    row=1, \n",
    "    col=1)\n",
    "\n",
    "# Pridanie koláčového grafu\n",
    "fig_dashboard.add_trace(\n",
    "    go.Pie(\n",
    "        labels=df['Kategória'], \n",
    "        values=df['Hodnota3'], \n",
    "        name=\"Koláčový graf\"), \n",
    "    row=1, \n",
    "    col=2)\n",
    "\n",
    "# Pridanie čiarového grafu\n",
    "fig_dashboard.add_trace(\n",
    "    go.Scatter(\n",
    "        x=df['Kategória'], \n",
    "        y=df['Hodnota2'], \n",
    "        mode='lines+markers', \n",
    "        name=\"Čiarový graf\"), \n",
    "    row=2, col=1)\n",
    "\n",
    "# Pridanie bodového grafu\n",
    "fig_dashboard.add_trace(go.Scatter(x=df['Kategória'], y=df['Hodnota4'], mode='markers', name=\"Bodový graf\"), row=2, col=2)\n",
    "\n",
    "# Nastavenie layoutu dashboardu\n",
    "fig_dashboard.update_layout(\n",
    "    title_text=\"Interaktívny Dashboard so Štyrmi Grafmi\",\n",
    "    height=800,\n",
    "    showlegend=False\n",
    ")\n",
    "\n",
    "# Zobrazenie dashboardu\n",
    "fig_dashboard.show()"
   ],
   "execution_count":122,
   "outputs":[
    {
     "data":{
      "application\/vnd.plotly.v1+json":{
       "data":[
        {
         "name":"Stĺpcový graf",
         "x":[
          "A",
          "B",
          "C",
          "D"
         ],
         "y":[
          10,
          20,
          30,
          40
         ],
         "type":"bar",
         "xaxis":"x",
         "yaxis":"y"
        },
        {
         "labels":[
          "A",
          "B",
          "C",
          "D"
         ],
         "name":"Koláčový graf",
         "values":[
          50,
          30,
          40,
          60
         ],
         "type":"pie",
         "domain":{
          "x":[
           0.55,
           1
          ],
          "y":[
           0.625,
           1
          ]
         }
        },
        {
         "mode":"lines+markers",
         "name":"Čiarový graf",
         "x":[
          "A",
          "B",
          "C",
          "D"
         ],
         "y":[
          15,
          25,
          35,
          45
         ],
         "type":"scatter",
         "xaxis":"x2",
         "yaxis":"y2"
        },
        {
         "mode":"markers",
         "name":"Bodový graf",
         "x":[
          "A",
          "B",
          "C",
          "D"
         ],
         "y":[
          100,
          150,
          200,
          250
         ],
         "type":"scatter",
         "xaxis":"x3",
         "yaxis":"y3"
        }
       ],
       "layout":{
        "template":{
         "data":{
          "histogram2dcontour":[
           {
            "type":"histogram2dcontour",
            "colorbar":{
             "outlinewidth":0,
             "ticks":""
            },
            "colorscale":[
             [
              0,
              "#0d0887"
             ],
             [
              0.1111111111111111,
              "#46039f"
             ],
             [
              0.2222222222222222,
              "#7201a8"
             ],
             [
              0.3333333333333333,
              "#9c179e"
             ],
             [
              0.4444444444444444,
              "#bd3786"
             ],
             [
              0.5555555555555556,
              "#d8576b"
             ],
             [
              0.6666666666666666,
              "#ed7953"
             ],
             [
              0.7777777777777778,
              "#fb9f3a"
             ],
             [
              0.8888888888888888,
              "#fdca26"
             ],
             [
              1,
              "#f0f921"
             ]
            ]
           }
          ],
          "choropleth":[
           {
            "type":"choropleth",
            "colorbar":{
             "outlinewidth":0,
             "ticks":""
            }
           }
          ],
          "histogram2d":[
           {
            "type":"histogram2d",
            "colorbar":{
             "outlinewidth":0,
             "ticks":""
            },
            "colorscale":[
             [
              0,
              "#0d0887"
             ],
             [
              0.1111111111111111,
              "#46039f"
             ],
             [
              0.2222222222222222,
              "#7201a8"
             ],
             [
              0.3333333333333333,
              "#9c179e"
             ],
             [
              0.4444444444444444,
              "#bd3786"
             ],
             [
              0.5555555555555556,
              "#d8576b"
             ],
             [
              0.6666666666666666,
              "#ed7953"
             ],
             [
              0.7777777777777778,
              "#fb9f3a"
             ],
             [
              0.8888888888888888,
              "#fdca26"
             ],
             [
              1,
              "#f0f921"
             ]
            ]
           }
          ],
          "heatmap":[
           {
            "type":"heatmap",
            "colorbar":{
             "outlinewidth":0,
             "ticks":""
            },
            "colorscale":[
             [
              0,
              "#0d0887"
             ],
             [
              0.1111111111111111,
              "#46039f"
             ],
             [
              0.2222222222222222,
              "#7201a8"
             ],
             [
              0.3333333333333333,
              "#9c179e"
             ],
             [
              0.4444444444444444,
              "#bd3786"
             ],
             [
              0.5555555555555556,
              "#d8576b"
             ],
             [
              0.6666666666666666,
              "#ed7953"
             ],
             [
              0.7777777777777778,
              "#fb9f3a"
             ],
             [
              0.8888888888888888,
              "#fdca26"
             ],
             [
              1,
              "#f0f921"
             ]
            ]
           }
          ],
          "heatmapgl":[
           {
            "type":"heatmapgl",
            "colorbar":{
             "outlinewidth":0,
             "ticks":""
            },
            "colorscale":[
             [
              0,
              "#0d0887"
             ],
             [
              0.1111111111111111,
              "#46039f"
             ],
             [
              0.2222222222222222,
              "#7201a8"
             ],
             [
              0.3333333333333333,
              "#9c179e"
             ],
             [
              0.4444444444444444,
              "#bd3786"
             ],
             [
              0.5555555555555556,
              "#d8576b"
             ],
             [
              0.6666666666666666,
              "#ed7953"
             ],
             [
              0.7777777777777778,
              "#fb9f3a"
             ],
             [
              0.8888888888888888,
              "#fdca26"
             ],
             [
              1,
              "#f0f921"
             ]
            ]
           }
          ],
          "contourcarpet":[
           {
            "type":"contourcarpet",
            "colorbar":{
             "outlinewidth":0,
             "ticks":""
            }
           }
          ],
          "contour":[
           {
            "type":"contour",
            "colorbar":{
             "outlinewidth":0,
             "ticks":""
            },
            "colorscale":[
             [
              0,
              "#0d0887"
             ],
             [
              0.1111111111111111,
              "#46039f"
             ],
             [
              0.2222222222222222,
              "#7201a8"
             ],
             [
              0.3333333333333333,
              "#9c179e"
             ],
             [
              0.4444444444444444,
              "#bd3786"
             ],
             [
              0.5555555555555556,
              "#d8576b"
             ],
             [
              0.6666666666666666,
              "#ed7953"
             ],
             [
              0.7777777777777778,
              "#fb9f3a"
             ],
             [
              0.8888888888888888,
              "#fdca26"
             ],
             [
              1,
              "#f0f921"
             ]
            ]
           }
          ],
          "surface":[
           {
            "type":"surface",
            "colorbar":{
             "outlinewidth":0,
             "ticks":""
            },
            "colorscale":[
             [
              0,
              "#0d0887"
             ],
             [
              0.1111111111111111,
              "#46039f"
             ],
             [
              0.2222222222222222,
              "#7201a8"
             ],
             [
              0.3333333333333333,
              "#9c179e"
             ],
             [
              0.4444444444444444,
              "#bd3786"
             ],
             [
              0.5555555555555556,
              "#d8576b"
             ],
             [
              0.6666666666666666,
              "#ed7953"
             ],
             [
              0.7777777777777778,
              "#fb9f3a"
             ],
             [
              0.8888888888888888,
              "#fdca26"
             ],
             [
              1,
              "#f0f921"
             ]
            ]
           }
          ],
          "mesh3d":[
           {
            "type":"mesh3d",
            "colorbar":{
             "outlinewidth":0,
             "ticks":""
            }
           }
          ],
          "scatter":[
           {
            "fillpattern":{
             "fillmode":"overlay",
             "size":10,
             "solidity":0.2
            },
            "type":"scatter"
           }
          ],
          "parcoords":[
           {
            "type":"parcoords",
            "line":{
             "colorbar":{
              "outlinewidth":0,
              "ticks":""
             }
            }
           }
          ],
          "scatterpolargl":[
           {
            "type":"scatterpolargl",
            "marker":{
             "colorbar":{
              "outlinewidth":0,
              "ticks":""
             }
            }
           }
          ],
          "bar":[
           {
            "error_x":{
             "color":"#2a3f5f"
            },
            "error_y":{
             "color":"#2a3f5f"
            },
            "marker":{
             "line":{
              "color":"#E5ECF6",
              "width":0.5
             },
             "pattern":{
              "fillmode":"overlay",
              "size":10,
              "solidity":0.2
             }
            },
            "type":"bar"
           }
          ],
          "scattergeo":[
           {
            "type":"scattergeo",
            "marker":{
             "colorbar":{
              "outlinewidth":0,
              "ticks":""
             }
            }
           }
          ],
          "scatterpolar":[
           {
            "type":"scatterpolar",
            "marker":{
             "colorbar":{
              "outlinewidth":0,
              "ticks":""
             }
            }
           }
          ],
          "histogram":[
           {
            "marker":{
             "pattern":{
              "fillmode":"overlay",
              "size":10,
              "solidity":0.2
             }
            },
            "type":"histogram"
           }
          ],
          "scattergl":[
           {
            "type":"scattergl",
            "marker":{
             "colorbar":{
              "outlinewidth":0,
              "ticks":""
             }
            }
           }
          ],
          "scatter3d":[
           {
            "type":"scatter3d",
            "line":{
             "colorbar":{
              "outlinewidth":0,
              "ticks":""
             }
            },
            "marker":{
             "colorbar":{
              "outlinewidth":0,
              "ticks":""
             }
            }
           }
          ],
          "scattermapbox":[
           {
            "type":"scattermapbox",
            "marker":{
             "colorbar":{
              "outlinewidth":0,
              "ticks":""
             }
            }
           }
          ],
          "scatterternary":[
           {
            "type":"scatterternary",
            "marker":{
             "colorbar":{
              "outlinewidth":0,
              "ticks":""
             }
            }
           }
          ],
          "scattercarpet":[
           {
            "type":"scattercarpet",
            "marker":{
             "colorbar":{
              "outlinewidth":0,
              "ticks":""
             }
            }
           }
          ],
          "carpet":[
           {
            "aaxis":{
             "endlinecolor":"#2a3f5f",
             "gridcolor":"white",
             "linecolor":"white",
             "minorgridcolor":"white",
             "startlinecolor":"#2a3f5f"
            },
            "baxis":{
             "endlinecolor":"#2a3f5f",
             "gridcolor":"white",
             "linecolor":"white",
             "minorgridcolor":"white",
             "startlinecolor":"#2a3f5f"
            },
            "type":"carpet"
           }
          ],
          "table":[
           {
            "cells":{
             "fill":{
              "color":"#EBF0F8"
             },
             "line":{
              "color":"white"
             }
            },
            "header":{
             "fill":{
              "color":"#C8D4E3"
             },
             "line":{
              "color":"white"
             }
            },
            "type":"table"
           }
          ],
          "barpolar":[
           {
            "marker":{
             "line":{
              "color":"#E5ECF6",
              "width":0.5
             },
             "pattern":{
              "fillmode":"overlay",
              "size":10,
              "solidity":0.2
             }
            },
            "type":"barpolar"
           }
          ],
          "pie":[
           {
            "automargin":true,
            "type":"pie"
           }
          ]
         },
         "layout":{
          "autotypenumbers":"strict",
          "colorway":[
           "#636efa",
           "#EF553B",
           "#00cc96",
           "#ab63fa",
           "#FFA15A",
           "#19d3f3",
           "#FF6692",
           "#B6E880",
           "#FF97FF",
           "#FECB52"
          ],
          "font":{
           "color":"#2a3f5f"
          },
          "hovermode":"closest",
          "hoverlabel":{
           "align":"left"
          },
          "paper_bgcolor":"white",
          "plot_bgcolor":"#E5ECF6",
          "polar":{
           "bgcolor":"#E5ECF6",
           "angularaxis":{
            "gridcolor":"white",
            "linecolor":"white",
            "ticks":""
           },
           "radialaxis":{
            "gridcolor":"white",
            "linecolor":"white",
            "ticks":""
           }
          },
          "ternary":{
           "bgcolor":"#E5ECF6",
           "aaxis":{
            "gridcolor":"white",
            "linecolor":"white",
            "ticks":""
           },
           "baxis":{
            "gridcolor":"white",
            "linecolor":"white",
            "ticks":""
           },
           "caxis":{
            "gridcolor":"white",
            "linecolor":"white",
            "ticks":""
           }
          },
          "coloraxis":{
           "colorbar":{
            "outlinewidth":0,
            "ticks":""
           }
          },
          "colorscale":{
           "sequential":[
            [
             0,
             "#0d0887"
            ],
            [
             0.1111111111111111,
             "#46039f"
            ],
            [
             0.2222222222222222,
             "#7201a8"
            ],
            [
             0.3333333333333333,
             "#9c179e"
            ],
            [
             0.4444444444444444,
             "#bd3786"
            ],
            [
             0.5555555555555556,
             "#d8576b"
            ],
            [
             0.6666666666666666,
             "#ed7953"
            ],
            [
             0.7777777777777778,
             "#fb9f3a"
            ],
            [
             0.8888888888888888,
             "#fdca26"
            ],
            [
             1,
             "#f0f921"
            ]
           ],
           "sequentialminus":[
            [
             0,
             "#0d0887"
            ],
            [
             0.1111111111111111,
             "#46039f"
            ],
            [
             0.2222222222222222,
             "#7201a8"
            ],
            [
             0.3333333333333333,
             "#9c179e"
            ],
            [
             0.4444444444444444,
             "#bd3786"
            ],
            [
             0.5555555555555556,
             "#d8576b"
            ],
            [
             0.6666666666666666,
             "#ed7953"
            ],
            [
             0.7777777777777778,
             "#fb9f3a"
            ],
            [
             0.8888888888888888,
             "#fdca26"
            ],
            [
             1,
             "#f0f921"
            ]
           ],
           "diverging":[
            [
             0,
             "#8e0152"
            ],
            [
             0.1,
             "#c51b7d"
            ],
            [
             0.2,
             "#de77ae"
            ],
            [
             0.3,
             "#f1b6da"
            ],
            [
             0.4,
             "#fde0ef"
            ],
            [
             0.5,
             "#f7f7f7"
            ],
            [
             0.6,
             "#e6f5d0"
            ],
            [
             0.7,
             "#b8e186"
            ],
            [
             0.8,
             "#7fbc41"
            ],
            [
             0.9,
             "#4d9221"
            ],
            [
             1,
             "#276419"
            ]
           ]
          },
          "xaxis":{
           "gridcolor":"white",
           "linecolor":"white",
           "ticks":"",
           "title":{
            "standoff":15
           },
           "zerolinecolor":"white",
           "automargin":true,
           "zerolinewidth":2
          },
          "yaxis":{
           "gridcolor":"white",
           "linecolor":"white",
           "ticks":"",
           "title":{
            "standoff":15
           },
           "zerolinecolor":"white",
           "automargin":true,
           "zerolinewidth":2
          },
          "scene":{
           "xaxis":{
            "backgroundcolor":"#E5ECF6",
            "gridcolor":"white",
            "linecolor":"white",
            "showbackground":true,
            "ticks":"",
            "zerolinecolor":"white",
            "gridwidth":2
           },
           "yaxis":{
            "backgroundcolor":"#E5ECF6",
            "gridcolor":"white",
            "linecolor":"white",
            "showbackground":true,
            "ticks":"",
            "zerolinecolor":"white",
            "gridwidth":2
           },
           "zaxis":{
            "backgroundcolor":"#E5ECF6",
            "gridcolor":"white",
            "linecolor":"white",
            "showbackground":true,
            "ticks":"",
            "zerolinecolor":"white",
            "gridwidth":2
           }
          },
          "shapedefaults":{
           "line":{
            "color":"#2a3f5f"
           }
          },
          "annotationdefaults":{
           "arrowcolor":"#2a3f5f",
           "arrowhead":0,
           "arrowwidth":1
          },
          "geo":{
           "bgcolor":"white",
           "landcolor":"#E5ECF6",
           "subunitcolor":"white",
           "showland":true,
           "showlakes":true,
           "lakecolor":"white"
          },
          "title":{
           "x":0.05
          },
          "mapbox":{
           "style":"light"
          }
         }
        },
        "xaxis":{
         "anchor":"y",
         "domain":[
          0,
          0.45
         ]
        },
        "yaxis":{
         "anchor":"x",
         "domain":[
          0.625,
          1
         ]
        },
        "xaxis2":{
         "anchor":"y2",
         "domain":[
          0,
          0.45
         ]
        },
        "yaxis2":{
         "anchor":"x2",
         "domain":[
          0,
          0.375
         ]
        },
        "xaxis3":{
         "anchor":"y3",
         "domain":[
          0.55,
          1
         ]
        },
        "yaxis3":{
         "anchor":"x3",
         "domain":[
          0,
          0.375
         ]
        },
        "annotations":[
         {
          "font":{
           "size":16
          },
          "showarrow":false,
          "text":"Stĺpcový graf",
          "x":0.225,
          "xanchor":"center",
          "xref":"paper",
          "y":1,
          "yanchor":"bottom",
          "yref":"paper"
         },
         {
          "font":{
           "size":16
          },
          "showarrow":false,
          "text":"Koláčový graf",
          "x":0.775,
          "xanchor":"center",
          "xref":"paper",
          "y":1,
          "yanchor":"bottom",
          "yref":"paper"
         },
         {
          "font":{
           "size":16
          },
          "showarrow":false,
          "text":"Čiarový graf",
          "x":0.225,
          "xanchor":"center",
          "xref":"paper",
          "y":0.375,
          "yanchor":"bottom",
          "yref":"paper"
         },
         {
          "font":{
           "size":16
          },
          "showarrow":false,
          "text":"Bodový graf",
          "x":0.775,
          "xanchor":"center",
          "xref":"paper",
          "y":0.375,
          "yanchor":"bottom",
          "yref":"paper"
         }
        ],
        "title":{
         "text":"Interaktívny Dashboard so Štyrmi Grafmi"
        },
        "height":800,
        "showlegend":false
       },
       "config":{
        "plotlyServerURL":"https:\/\/plot.ly"
       }
      }
     },
     "metadata":{},
     "output_type":"display_data"
    }
   ],
   "metadata":{
    "datalore":{
     "node_id":"AcjP47GY6Dqv1ye9E4jJwL",
     "type":"CODE",
     "hide_input_from_viewers":true,
     "hide_output_from_viewers":true
    }
   }
  },
  {
   "cell_type":"markdown",
   "source":[
    "# Plotly Príklady"
   ],
   "attachments":{},
   "metadata":{
    "datalore":{
     "node_id":"Plotly Príklady",
     "type":"MD",
     "hide_input_from_viewers":false,
     "hide_output_from_viewers":false,
     "sheet_delimiter":true
    }
   }
  },
  {
   "cell_type":"markdown",
   "source":[
    "# Plotly \n",
    "- Výkonná knižnica pre Python, ktorá sa používa na vytváranie interaktívnych a vizuálne atraktívnych grafikov a vizualizácií dát"
   ],
   "attachments":{},
   "metadata":{
    "datalore":{
     "node_id":"3eyieyIrQw4zfCcPbHhmAK",
     "type":"MD",
     "hide_input_from_viewers":true,
     "hide_output_from_viewers":true
    }
   }
  },
  {
   "cell_type":"markdown",
   "source":[
    "# 📈 Základný čiarový graf"
   ],
   "attachments":{},
   "metadata":{
    "datalore":{
     "node_id":"RLltO2aqbBlKJYtShNJEwS",
     "type":"MD",
     "hide_input_from_viewers":true,
     "hide_output_from_viewers":true
    }
   }
  },
  {
   "cell_type":"code",
   "source":[
    "import plotly.graph_objects as go\n",
    "\n",
    "x_data = [\"Január\", \"Február\", \"Marec\", \"Apríl\"]\n",
    "y_data = [10, 15, 13, 17]\n",
    "\n",
    "# Vytvorenie grafu\n",
    "fig = go.Figure(\n",
    "    data = go.Scatter(\n",
    "        x = x_data, \n",
    "        y = y_data,\n",
    "        mode = \"text+markers+lines\",\n",
    "        text = [\"A\", \"B\", \"C\", \"D\"],\n",
    "        textfont = dict(size=24),\n",
    "        textposition= \"top center\"\n",
    "    )\n",
    ")\n",
    "\n",
    "fig.show()"
   ],
   "execution_count":26,
   "outputs":[
    {
     "data":{
      "application\/vnd.plotly.v1+json":{
       "data":[
        {
         "mode":"text+markers+lines",
         "text":[
          "A",
          "B",
          "C",
          "D"
         ],
         "textfont":{
          "size":24
         },
         "textposition":"top center",
         "x":[
          "Január",
          "Február",
          "Marec",
          "Apríl"
         ],
         "y":[
          10,
          15,
          13,
          17
         ],
         "type":"scatter"
        }
       ],
       "layout":{
        "template":{
         "data":{
          "histogram2dcontour":[
           {
            "type":"histogram2dcontour",
            "colorbar":{
             "outlinewidth":0,
             "ticks":""
            },
            "colorscale":[
             [
              0,
              "#0d0887"
             ],
             [
              0.1111111111111111,
              "#46039f"
             ],
             [
              0.2222222222222222,
              "#7201a8"
             ],
             [
              0.3333333333333333,
              "#9c179e"
             ],
             [
              0.4444444444444444,
              "#bd3786"
             ],
             [
              0.5555555555555556,
              "#d8576b"
             ],
             [
              0.6666666666666666,
              "#ed7953"
             ],
             [
              0.7777777777777778,
              "#fb9f3a"
             ],
             [
              0.8888888888888888,
              "#fdca26"
             ],
             [
              1,
              "#f0f921"
             ]
            ]
           }
          ],
          "choropleth":[
           {
            "type":"choropleth",
            "colorbar":{
             "outlinewidth":0,
             "ticks":""
            }
           }
          ],
          "histogram2d":[
           {
            "type":"histogram2d",
            "colorbar":{
             "outlinewidth":0,
             "ticks":""
            },
            "colorscale":[
             [
              0,
              "#0d0887"
             ],
             [
              0.1111111111111111,
              "#46039f"
             ],
             [
              0.2222222222222222,
              "#7201a8"
             ],
             [
              0.3333333333333333,
              "#9c179e"
             ],
             [
              0.4444444444444444,
              "#bd3786"
             ],
             [
              0.5555555555555556,
              "#d8576b"
             ],
             [
              0.6666666666666666,
              "#ed7953"
             ],
             [
              0.7777777777777778,
              "#fb9f3a"
             ],
             [
              0.8888888888888888,
              "#fdca26"
             ],
             [
              1,
              "#f0f921"
             ]
            ]
           }
          ],
          "heatmap":[
           {
            "type":"heatmap",
            "colorbar":{
             "outlinewidth":0,
             "ticks":""
            },
            "colorscale":[
             [
              0,
              "#0d0887"
             ],
             [
              0.1111111111111111,
              "#46039f"
             ],
             [
              0.2222222222222222,
              "#7201a8"
             ],
             [
              0.3333333333333333,
              "#9c179e"
             ],
             [
              0.4444444444444444,
              "#bd3786"
             ],
             [
              0.5555555555555556,
              "#d8576b"
             ],
             [
              0.6666666666666666,
              "#ed7953"
             ],
             [
              0.7777777777777778,
              "#fb9f3a"
             ],
             [
              0.8888888888888888,
              "#fdca26"
             ],
             [
              1,
              "#f0f921"
             ]
            ]
           }
          ],
          "heatmapgl":[
           {
            "type":"heatmapgl",
            "colorbar":{
             "outlinewidth":0,
             "ticks":""
            },
            "colorscale":[
             [
              0,
              "#0d0887"
             ],
             [
              0.1111111111111111,
              "#46039f"
             ],
             [
              0.2222222222222222,
              "#7201a8"
             ],
             [
              0.3333333333333333,
              "#9c179e"
             ],
             [
              0.4444444444444444,
              "#bd3786"
             ],
             [
              0.5555555555555556,
              "#d8576b"
             ],
             [
              0.6666666666666666,
              "#ed7953"
             ],
             [
              0.7777777777777778,
              "#fb9f3a"
             ],
             [
              0.8888888888888888,
              "#fdca26"
             ],
             [
              1,
              "#f0f921"
             ]
            ]
           }
          ],
          "contourcarpet":[
           {
            "type":"contourcarpet",
            "colorbar":{
             "outlinewidth":0,
             "ticks":""
            }
           }
          ],
          "contour":[
           {
            "type":"contour",
            "colorbar":{
             "outlinewidth":0,
             "ticks":""
            },
            "colorscale":[
             [
              0,
              "#0d0887"
             ],
             [
              0.1111111111111111,
              "#46039f"
             ],
             [
              0.2222222222222222,
              "#7201a8"
             ],
             [
              0.3333333333333333,
              "#9c179e"
             ],
             [
              0.4444444444444444,
              "#bd3786"
             ],
             [
              0.5555555555555556,
              "#d8576b"
             ],
             [
              0.6666666666666666,
              "#ed7953"
             ],
             [
              0.7777777777777778,
              "#fb9f3a"
             ],
             [
              0.8888888888888888,
              "#fdca26"
             ],
             [
              1,
              "#f0f921"
             ]
            ]
           }
          ],
          "surface":[
           {
            "type":"surface",
            "colorbar":{
             "outlinewidth":0,
             "ticks":""
            },
            "colorscale":[
             [
              0,
              "#0d0887"
             ],
             [
              0.1111111111111111,
              "#46039f"
             ],
             [
              0.2222222222222222,
              "#7201a8"
             ],
             [
              0.3333333333333333,
              "#9c179e"
             ],
             [
              0.4444444444444444,
              "#bd3786"
             ],
             [
              0.5555555555555556,
              "#d8576b"
             ],
             [
              0.6666666666666666,
              "#ed7953"
             ],
             [
              0.7777777777777778,
              "#fb9f3a"
             ],
             [
              0.8888888888888888,
              "#fdca26"
             ],
             [
              1,
              "#f0f921"
             ]
            ]
           }
          ],
          "mesh3d":[
           {
            "type":"mesh3d",
            "colorbar":{
             "outlinewidth":0,
             "ticks":""
            }
           }
          ],
          "scatter":[
           {
            "fillpattern":{
             "fillmode":"overlay",
             "size":10,
             "solidity":0.2
            },
            "type":"scatter"
           }
          ],
          "parcoords":[
           {
            "type":"parcoords",
            "line":{
             "colorbar":{
              "outlinewidth":0,
              "ticks":""
             }
            }
           }
          ],
          "scatterpolargl":[
           {
            "type":"scatterpolargl",
            "marker":{
             "colorbar":{
              "outlinewidth":0,
              "ticks":""
             }
            }
           }
          ],
          "bar":[
           {
            "error_x":{
             "color":"#2a3f5f"
            },
            "error_y":{
             "color":"#2a3f5f"
            },
            "marker":{
             "line":{
              "color":"#E5ECF6",
              "width":0.5
             },
             "pattern":{
              "fillmode":"overlay",
              "size":10,
              "solidity":0.2
             }
            },
            "type":"bar"
           }
          ],
          "scattergeo":[
           {
            "type":"scattergeo",
            "marker":{
             "colorbar":{
              "outlinewidth":0,
              "ticks":""
             }
            }
           }
          ],
          "scatterpolar":[
           {
            "type":"scatterpolar",
            "marker":{
             "colorbar":{
              "outlinewidth":0,
              "ticks":""
             }
            }
           }
          ],
          "histogram":[
           {
            "marker":{
             "pattern":{
              "fillmode":"overlay",
              "size":10,
              "solidity":0.2
             }
            },
            "type":"histogram"
           }
          ],
          "scattergl":[
           {
            "type":"scattergl",
            "marker":{
             "colorbar":{
              "outlinewidth":0,
              "ticks":""
             }
            }
           }
          ],
          "scatter3d":[
           {
            "type":"scatter3d",
            "line":{
             "colorbar":{
              "outlinewidth":0,
              "ticks":""
             }
            },
            "marker":{
             "colorbar":{
              "outlinewidth":0,
              "ticks":""
             }
            }
           }
          ],
          "scattermapbox":[
           {
            "type":"scattermapbox",
            "marker":{
             "colorbar":{
              "outlinewidth":0,
              "ticks":""
             }
            }
           }
          ],
          "scatterternary":[
           {
            "type":"scatterternary",
            "marker":{
             "colorbar":{
              "outlinewidth":0,
              "ticks":""
             }
            }
           }
          ],
          "scattercarpet":[
           {
            "type":"scattercarpet",
            "marker":{
             "colorbar":{
              "outlinewidth":0,
              "ticks":""
             }
            }
           }
          ],
          "carpet":[
           {
            "aaxis":{
             "endlinecolor":"#2a3f5f",
             "gridcolor":"white",
             "linecolor":"white",
             "minorgridcolor":"white",
             "startlinecolor":"#2a3f5f"
            },
            "baxis":{
             "endlinecolor":"#2a3f5f",
             "gridcolor":"white",
             "linecolor":"white",
             "minorgridcolor":"white",
             "startlinecolor":"#2a3f5f"
            },
            "type":"carpet"
           }
          ],
          "table":[
           {
            "cells":{
             "fill":{
              "color":"#EBF0F8"
             },
             "line":{
              "color":"white"
             }
            },
            "header":{
             "fill":{
              "color":"#C8D4E3"
             },
             "line":{
              "color":"white"
             }
            },
            "type":"table"
           }
          ],
          "barpolar":[
           {
            "marker":{
             "line":{
              "color":"#E5ECF6",
              "width":0.5
             },
             "pattern":{
              "fillmode":"overlay",
              "size":10,
              "solidity":0.2
             }
            },
            "type":"barpolar"
           }
          ],
          "pie":[
           {
            "automargin":true,
            "type":"pie"
           }
          ]
         },
         "layout":{
          "autotypenumbers":"strict",
          "colorway":[
           "#636efa",
           "#EF553B",
           "#00cc96",
           "#ab63fa",
           "#FFA15A",
           "#19d3f3",
           "#FF6692",
           "#B6E880",
           "#FF97FF",
           "#FECB52"
          ],
          "font":{
           "color":"#2a3f5f"
          },
          "hovermode":"closest",
          "hoverlabel":{
           "align":"left"
          },
          "paper_bgcolor":"white",
          "plot_bgcolor":"#E5ECF6",
          "polar":{
           "bgcolor":"#E5ECF6",
           "angularaxis":{
            "gridcolor":"white",
            "linecolor":"white",
            "ticks":""
           },
           "radialaxis":{
            "gridcolor":"white",
            "linecolor":"white",
            "ticks":""
           }
          },
          "ternary":{
           "bgcolor":"#E5ECF6",
           "aaxis":{
            "gridcolor":"white",
            "linecolor":"white",
            "ticks":""
           },
           "baxis":{
            "gridcolor":"white",
            "linecolor":"white",
            "ticks":""
           },
           "caxis":{
            "gridcolor":"white",
            "linecolor":"white",
            "ticks":""
           }
          },
          "coloraxis":{
           "colorbar":{
            "outlinewidth":0,
            "ticks":""
           }
          },
          "colorscale":{
           "sequential":[
            [
             0,
             "#0d0887"
            ],
            [
             0.1111111111111111,
             "#46039f"
            ],
            [
             0.2222222222222222,
             "#7201a8"
            ],
            [
             0.3333333333333333,
             "#9c179e"
            ],
            [
             0.4444444444444444,
             "#bd3786"
            ],
            [
             0.5555555555555556,
             "#d8576b"
            ],
            [
             0.6666666666666666,
             "#ed7953"
            ],
            [
             0.7777777777777778,
             "#fb9f3a"
            ],
            [
             0.8888888888888888,
             "#fdca26"
            ],
            [
             1,
             "#f0f921"
            ]
           ],
           "sequentialminus":[
            [
             0,
             "#0d0887"
            ],
            [
             0.1111111111111111,
             "#46039f"
            ],
            [
             0.2222222222222222,
             "#7201a8"
            ],
            [
             0.3333333333333333,
             "#9c179e"
            ],
            [
             0.4444444444444444,
             "#bd3786"
            ],
            [
             0.5555555555555556,
             "#d8576b"
            ],
            [
             0.6666666666666666,
             "#ed7953"
            ],
            [
             0.7777777777777778,
             "#fb9f3a"
            ],
            [
             0.8888888888888888,
             "#fdca26"
            ],
            [
             1,
             "#f0f921"
            ]
           ],
           "diverging":[
            [
             0,
             "#8e0152"
            ],
            [
             0.1,
             "#c51b7d"
            ],
            [
             0.2,
             "#de77ae"
            ],
            [
             0.3,
             "#f1b6da"
            ],
            [
             0.4,
             "#fde0ef"
            ],
            [
             0.5,
             "#f7f7f7"
            ],
            [
             0.6,
             "#e6f5d0"
            ],
            [
             0.7,
             "#b8e186"
            ],
            [
             0.8,
             "#7fbc41"
            ],
            [
             0.9,
             "#4d9221"
            ],
            [
             1,
             "#276419"
            ]
           ]
          },
          "xaxis":{
           "gridcolor":"white",
           "linecolor":"white",
           "ticks":"",
           "title":{
            "standoff":15
           },
           "zerolinecolor":"white",
           "automargin":true,
           "zerolinewidth":2
          },
          "yaxis":{
           "gridcolor":"white",
           "linecolor":"white",
           "ticks":"",
           "title":{
            "standoff":15
           },
           "zerolinecolor":"white",
           "automargin":true,
           "zerolinewidth":2
          },
          "scene":{
           "xaxis":{
            "backgroundcolor":"#E5ECF6",
            "gridcolor":"white",
            "linecolor":"white",
            "showbackground":true,
            "ticks":"",
            "zerolinecolor":"white",
            "gridwidth":2
           },
           "yaxis":{
            "backgroundcolor":"#E5ECF6",
            "gridcolor":"white",
            "linecolor":"white",
            "showbackground":true,
            "ticks":"",
            "zerolinecolor":"white",
            "gridwidth":2
           },
           "zaxis":{
            "backgroundcolor":"#E5ECF6",
            "gridcolor":"white",
            "linecolor":"white",
            "showbackground":true,
            "ticks":"",
            "zerolinecolor":"white",
            "gridwidth":2
           }
          },
          "shapedefaults":{
           "line":{
            "color":"#2a3f5f"
           }
          },
          "annotationdefaults":{
           "arrowcolor":"#2a3f5f",
           "arrowhead":0,
           "arrowwidth":1
          },
          "geo":{
           "bgcolor":"white",
           "landcolor":"#E5ECF6",
           "subunitcolor":"white",
           "showland":true,
           "showlakes":true,
           "lakecolor":"white"
          },
          "title":{
           "x":0.05
          },
          "mapbox":{
           "style":"light"
          }
         }
        }
       },
       "config":{
        "plotlyServerURL":"https:\/\/plot.ly"
       }
      }
     },
     "metadata":{},
     "output_type":"display_data"
    }
   ],
   "metadata":{
    "datalore":{
     "node_id":"JBw5UCgKmzMgRVB5zesAdP",
     "type":"CODE",
     "hide_input_from_viewers":true,
     "hide_output_from_viewers":true
    }
   }
  },
  {
   "cell_type":"markdown",
   "source":[
    "# 📊 Stĺpcový graf\n",
    "Sú užitočné na porovnávanie hodnôt medzi rôznymi kategóriami. Tento príklad ukazuje, ako vytvoriť základný stĺpcový graf."
   ],
   "attachments":{},
   "metadata":{
    "datalore":{
     "node_id":"7F3RFA8bbMClK4G7LAhgcJ",
     "type":"MD",
     "hide_input_from_viewers":true,
     "hide_output_from_viewers":true
    }
   }
  },
  {
   "cell_type":"code",
   "source":[
    "import plotly.graph_objects as go\n",
    "\n",
    "kategorie_produkty = [\"Produkt A\", \"Produkt B\", \"Produkt C\"]\n",
    "hodnoty = [20, 34, 30]\n",
    "\n",
    "# Vytvorenie grafu\n",
    "fig = go.Figure(\n",
    "    data = go.Bar(\n",
    "        x = kategorie_produkty, \n",
    "        y = hodnoty,\n",
    "        text = hodnoty,\n",
    "        textposition=\"inside\",\n",
    "        marker=dict(color=[\"#000000\", \"#FF0000\", \"#00FF00\"])\n",
    "    )\n",
    ")\n",
    "\n",
    "\n",
    "# Nastavenia grafu, osi, titulok\n",
    "fig.update_layout(\n",
    "    title = \"Predaj produktov\/kurzy\",\n",
    "    xaxis_title = \"Kategorie produktov\",\n",
    "    yaxis_title = \"Pocet predanych produktov\",\n",
    "    plot_bgcolor = \"rgba(0,0,0,0)\",\n",
    "    yaxis = dict(showgrid = True, gridcolor = \"lightgray\")\n",
    ")\n",
    "\n",
    "fig.show()"
   ],
   "execution_count":40,
   "outputs":[
    {
     "data":{
      "application\/vnd.plotly.v1+json":{
       "data":[
        {
         "marker":{
          "color":[
           "#000000",
           "#FF0000",
           "#00FF00"
          ]
         },
         "text":[
          "20",
          "34",
          "30"
         ],
         "textposition":"inside",
         "x":[
          "Produkt A",
          "Produkt B",
          "Produkt C"
         ],
         "y":[
          20,
          34,
          30
         ],
         "type":"bar"
        }
       ],
       "layout":{
        "template":{
         "data":{
          "histogram2dcontour":[
           {
            "type":"histogram2dcontour",
            "colorbar":{
             "outlinewidth":0,
             "ticks":""
            },
            "colorscale":[
             [
              0,
              "#0d0887"
             ],
             [
              0.1111111111111111,
              "#46039f"
             ],
             [
              0.2222222222222222,
              "#7201a8"
             ],
             [
              0.3333333333333333,
              "#9c179e"
             ],
             [
              0.4444444444444444,
              "#bd3786"
             ],
             [
              0.5555555555555556,
              "#d8576b"
             ],
             [
              0.6666666666666666,
              "#ed7953"
             ],
             [
              0.7777777777777778,
              "#fb9f3a"
             ],
             [
              0.8888888888888888,
              "#fdca26"
             ],
             [
              1,
              "#f0f921"
             ]
            ]
           }
          ],
          "choropleth":[
           {
            "type":"choropleth",
            "colorbar":{
             "outlinewidth":0,
             "ticks":""
            }
           }
          ],
          "histogram2d":[
           {
            "type":"histogram2d",
            "colorbar":{
             "outlinewidth":0,
             "ticks":""
            },
            "colorscale":[
             [
              0,
              "#0d0887"
             ],
             [
              0.1111111111111111,
              "#46039f"
             ],
             [
              0.2222222222222222,
              "#7201a8"
             ],
             [
              0.3333333333333333,
              "#9c179e"
             ],
             [
              0.4444444444444444,
              "#bd3786"
             ],
             [
              0.5555555555555556,
              "#d8576b"
             ],
             [
              0.6666666666666666,
              "#ed7953"
             ],
             [
              0.7777777777777778,
              "#fb9f3a"
             ],
             [
              0.8888888888888888,
              "#fdca26"
             ],
             [
              1,
              "#f0f921"
             ]
            ]
           }
          ],
          "heatmap":[
           {
            "type":"heatmap",
            "colorbar":{
             "outlinewidth":0,
             "ticks":""
            },
            "colorscale":[
             [
              0,
              "#0d0887"
             ],
             [
              0.1111111111111111,
              "#46039f"
             ],
             [
              0.2222222222222222,
              "#7201a8"
             ],
             [
              0.3333333333333333,
              "#9c179e"
             ],
             [
              0.4444444444444444,
              "#bd3786"
             ],
             [
              0.5555555555555556,
              "#d8576b"
             ],
             [
              0.6666666666666666,
              "#ed7953"
             ],
             [
              0.7777777777777778,
              "#fb9f3a"
             ],
             [
              0.8888888888888888,
              "#fdca26"
             ],
             [
              1,
              "#f0f921"
             ]
            ]
           }
          ],
          "heatmapgl":[
           {
            "type":"heatmapgl",
            "colorbar":{
             "outlinewidth":0,
             "ticks":""
            },
            "colorscale":[
             [
              0,
              "#0d0887"
             ],
             [
              0.1111111111111111,
              "#46039f"
             ],
             [
              0.2222222222222222,
              "#7201a8"
             ],
             [
              0.3333333333333333,
              "#9c179e"
             ],
             [
              0.4444444444444444,
              "#bd3786"
             ],
             [
              0.5555555555555556,
              "#d8576b"
             ],
             [
              0.6666666666666666,
              "#ed7953"
             ],
             [
              0.7777777777777778,
              "#fb9f3a"
             ],
             [
              0.8888888888888888,
              "#fdca26"
             ],
             [
              1,
              "#f0f921"
             ]
            ]
           }
          ],
          "contourcarpet":[
           {
            "type":"contourcarpet",
            "colorbar":{
             "outlinewidth":0,
             "ticks":""
            }
           }
          ],
          "contour":[
           {
            "type":"contour",
            "colorbar":{
             "outlinewidth":0,
             "ticks":""
            },
            "colorscale":[
             [
              0,
              "#0d0887"
             ],
             [
              0.1111111111111111,
              "#46039f"
             ],
             [
              0.2222222222222222,
              "#7201a8"
             ],
             [
              0.3333333333333333,
              "#9c179e"
             ],
             [
              0.4444444444444444,
              "#bd3786"
             ],
             [
              0.5555555555555556,
              "#d8576b"
             ],
             [
              0.6666666666666666,
              "#ed7953"
             ],
             [
              0.7777777777777778,
              "#fb9f3a"
             ],
             [
              0.8888888888888888,
              "#fdca26"
             ],
             [
              1,
              "#f0f921"
             ]
            ]
           }
          ],
          "surface":[
           {
            "type":"surface",
            "colorbar":{
             "outlinewidth":0,
             "ticks":""
            },
            "colorscale":[
             [
              0,
              "#0d0887"
             ],
             [
              0.1111111111111111,
              "#46039f"
             ],
             [
              0.2222222222222222,
              "#7201a8"
             ],
             [
              0.3333333333333333,
              "#9c179e"
             ],
             [
              0.4444444444444444,
              "#bd3786"
             ],
             [
              0.5555555555555556,
              "#d8576b"
             ],
             [
              0.6666666666666666,
              "#ed7953"
             ],
             [
              0.7777777777777778,
              "#fb9f3a"
             ],
             [
              0.8888888888888888,
              "#fdca26"
             ],
             [
              1,
              "#f0f921"
             ]
            ]
           }
          ],
          "mesh3d":[
           {
            "type":"mesh3d",
            "colorbar":{
             "outlinewidth":0,
             "ticks":""
            }
           }
          ],
          "scatter":[
           {
            "fillpattern":{
             "fillmode":"overlay",
             "size":10,
             "solidity":0.2
            },
            "type":"scatter"
           }
          ],
          "parcoords":[
           {
            "type":"parcoords",
            "line":{
             "colorbar":{
              "outlinewidth":0,
              "ticks":""
             }
            }
           }
          ],
          "scatterpolargl":[
           {
            "type":"scatterpolargl",
            "marker":{
             "colorbar":{
              "outlinewidth":0,
              "ticks":""
             }
            }
           }
          ],
          "bar":[
           {
            "error_x":{
             "color":"#2a3f5f"
            },
            "error_y":{
             "color":"#2a3f5f"
            },
            "marker":{
             "line":{
              "color":"#E5ECF6",
              "width":0.5
             },
             "pattern":{
              "fillmode":"overlay",
              "size":10,
              "solidity":0.2
             }
            },
            "type":"bar"
           }
          ],
          "scattergeo":[
           {
            "type":"scattergeo",
            "marker":{
             "colorbar":{
              "outlinewidth":0,
              "ticks":""
             }
            }
           }
          ],
          "scatterpolar":[
           {
            "type":"scatterpolar",
            "marker":{
             "colorbar":{
              "outlinewidth":0,
              "ticks":""
             }
            }
           }
          ],
          "histogram":[
           {
            "marker":{
             "pattern":{
              "fillmode":"overlay",
              "size":10,
              "solidity":0.2
             }
            },
            "type":"histogram"
           }
          ],
          "scattergl":[
           {
            "type":"scattergl",
            "marker":{
             "colorbar":{
              "outlinewidth":0,
              "ticks":""
             }
            }
           }
          ],
          "scatter3d":[
           {
            "type":"scatter3d",
            "line":{
             "colorbar":{
              "outlinewidth":0,
              "ticks":""
             }
            },
            "marker":{
             "colorbar":{
              "outlinewidth":0,
              "ticks":""
             }
            }
           }
          ],
          "scattermapbox":[
           {
            "type":"scattermapbox",
            "marker":{
             "colorbar":{
              "outlinewidth":0,
              "ticks":""
             }
            }
           }
          ],
          "scatterternary":[
           {
            "type":"scatterternary",
            "marker":{
             "colorbar":{
              "outlinewidth":0,
              "ticks":""
             }
            }
           }
          ],
          "scattercarpet":[
           {
            "type":"scattercarpet",
            "marker":{
             "colorbar":{
              "outlinewidth":0,
              "ticks":""
             }
            }
           }
          ],
          "carpet":[
           {
            "aaxis":{
             "endlinecolor":"#2a3f5f",
             "gridcolor":"white",
             "linecolor":"white",
             "minorgridcolor":"white",
             "startlinecolor":"#2a3f5f"
            },
            "baxis":{
             "endlinecolor":"#2a3f5f",
             "gridcolor":"white",
             "linecolor":"white",
             "minorgridcolor":"white",
             "startlinecolor":"#2a3f5f"
            },
            "type":"carpet"
           }
          ],
          "table":[
           {
            "cells":{
             "fill":{
              "color":"#EBF0F8"
             },
             "line":{
              "color":"white"
             }
            },
            "header":{
             "fill":{
              "color":"#C8D4E3"
             },
             "line":{
              "color":"white"
             }
            },
            "type":"table"
           }
          ],
          "barpolar":[
           {
            "marker":{
             "line":{
              "color":"#E5ECF6",
              "width":0.5
             },
             "pattern":{
              "fillmode":"overlay",
              "size":10,
              "solidity":0.2
             }
            },
            "type":"barpolar"
           }
          ],
          "pie":[
           {
            "automargin":true,
            "type":"pie"
           }
          ]
         },
         "layout":{
          "autotypenumbers":"strict",
          "colorway":[
           "#636efa",
           "#EF553B",
           "#00cc96",
           "#ab63fa",
           "#FFA15A",
           "#19d3f3",
           "#FF6692",
           "#B6E880",
           "#FF97FF",
           "#FECB52"
          ],
          "font":{
           "color":"#2a3f5f"
          },
          "hovermode":"closest",
          "hoverlabel":{
           "align":"left"
          },
          "paper_bgcolor":"white",
          "plot_bgcolor":"#E5ECF6",
          "polar":{
           "bgcolor":"#E5ECF6",
           "angularaxis":{
            "gridcolor":"white",
            "linecolor":"white",
            "ticks":""
           },
           "radialaxis":{
            "gridcolor":"white",
            "linecolor":"white",
            "ticks":""
           }
          },
          "ternary":{
           "bgcolor":"#E5ECF6",
           "aaxis":{
            "gridcolor":"white",
            "linecolor":"white",
            "ticks":""
           },
           "baxis":{
            "gridcolor":"white",
            "linecolor":"white",
            "ticks":""
           },
           "caxis":{
            "gridcolor":"white",
            "linecolor":"white",
            "ticks":""
           }
          },
          "coloraxis":{
           "colorbar":{
            "outlinewidth":0,
            "ticks":""
           }
          },
          "colorscale":{
           "sequential":[
            [
             0,
             "#0d0887"
            ],
            [
             0.1111111111111111,
             "#46039f"
            ],
            [
             0.2222222222222222,
             "#7201a8"
            ],
            [
             0.3333333333333333,
             "#9c179e"
            ],
            [
             0.4444444444444444,
             "#bd3786"
            ],
            [
             0.5555555555555556,
             "#d8576b"
            ],
            [
             0.6666666666666666,
             "#ed7953"
            ],
            [
             0.7777777777777778,
             "#fb9f3a"
            ],
            [
             0.8888888888888888,
             "#fdca26"
            ],
            [
             1,
             "#f0f921"
            ]
           ],
           "sequentialminus":[
            [
             0,
             "#0d0887"
            ],
            [
             0.1111111111111111,
             "#46039f"
            ],
            [
             0.2222222222222222,
             "#7201a8"
            ],
            [
             0.3333333333333333,
             "#9c179e"
            ],
            [
             0.4444444444444444,
             "#bd3786"
            ],
            [
             0.5555555555555556,
             "#d8576b"
            ],
            [
             0.6666666666666666,
             "#ed7953"
            ],
            [
             0.7777777777777778,
             "#fb9f3a"
            ],
            [
             0.8888888888888888,
             "#fdca26"
            ],
            [
             1,
             "#f0f921"
            ]
           ],
           "diverging":[
            [
             0,
             "#8e0152"
            ],
            [
             0.1,
             "#c51b7d"
            ],
            [
             0.2,
             "#de77ae"
            ],
            [
             0.3,
             "#f1b6da"
            ],
            [
             0.4,
             "#fde0ef"
            ],
            [
             0.5,
             "#f7f7f7"
            ],
            [
             0.6,
             "#e6f5d0"
            ],
            [
             0.7,
             "#b8e186"
            ],
            [
             0.8,
             "#7fbc41"
            ],
            [
             0.9,
             "#4d9221"
            ],
            [
             1,
             "#276419"
            ]
           ]
          },
          "xaxis":{
           "gridcolor":"white",
           "linecolor":"white",
           "ticks":"",
           "title":{
            "standoff":15
           },
           "zerolinecolor":"white",
           "automargin":true,
           "zerolinewidth":2
          },
          "yaxis":{
           "gridcolor":"white",
           "linecolor":"white",
           "ticks":"",
           "title":{
            "standoff":15
           },
           "zerolinecolor":"white",
           "automargin":true,
           "zerolinewidth":2
          },
          "scene":{
           "xaxis":{
            "backgroundcolor":"#E5ECF6",
            "gridcolor":"white",
            "linecolor":"white",
            "showbackground":true,
            "ticks":"",
            "zerolinecolor":"white",
            "gridwidth":2
           },
           "yaxis":{
            "backgroundcolor":"#E5ECF6",
            "gridcolor":"white",
            "linecolor":"white",
            "showbackground":true,
            "ticks":"",
            "zerolinecolor":"white",
            "gridwidth":2
           },
           "zaxis":{
            "backgroundcolor":"#E5ECF6",
            "gridcolor":"white",
            "linecolor":"white",
            "showbackground":true,
            "ticks":"",
            "zerolinecolor":"white",
            "gridwidth":2
           }
          },
          "shapedefaults":{
           "line":{
            "color":"#2a3f5f"
           }
          },
          "annotationdefaults":{
           "arrowcolor":"#2a3f5f",
           "arrowhead":0,
           "arrowwidth":1
          },
          "geo":{
           "bgcolor":"white",
           "landcolor":"#E5ECF6",
           "subunitcolor":"white",
           "showland":true,
           "showlakes":true,
           "lakecolor":"white"
          },
          "title":{
           "x":0.05
          },
          "mapbox":{
           "style":"light"
          }
         }
        },
        "yaxis":{
         "title":{
          "text":"Pocet predanych produktov"
         },
         "showgrid":true,
         "gridcolor":"lightgray"
        },
        "title":{
         "text":"Predaj produktov\/kurzy"
        },
        "xaxis":{
         "title":{
          "text":"Kategorie produktov"
         }
        },
        "plot_bgcolor":"rgba(0,0,0,0)"
       },
       "config":{
        "plotlyServerURL":"https:\/\/plot.ly"
       }
      }
     },
     "metadata":{},
     "output_type":"display_data"
    }
   ],
   "metadata":{
    "datalore":{
     "node_id":"eb49T3dmTBnl2P9Pl6xX2v",
     "type":"CODE",
     "hide_input_from_viewers":true,
     "hide_output_from_viewers":true
    }
   }
  },
  {
   "cell_type":"markdown",
   "source":[
    "# 🥧 Koláčový graf\n",
    "Sú vhodné na zobrazovanie percentuálneho rozdelenia kategórií voči celku."
   ],
   "attachments":{},
   "metadata":{
    "datalore":{
     "node_id":"LwlKFqoy2iGASvdTjD1AZC",
     "type":"MD",
     "hide_input_from_viewers":true,
     "hide_output_from_viewers":true
    }
   }
  },
  {
   "cell_type":"code",
   "source":[
    "import plotly.graph_objects as go\n",
    "\n",
    "menovky = [\"Oddelenie A\", \"Oddelenia B\", \"Oddelenie C\"]\n",
    "hodnoty = [450, 300, 250]\n",
    "\n",
    "fig = go.Figure(\n",
    "    data = go.Pie(\n",
    "        labels = menovky,\n",
    "        values=hodnoty,\n",
    "        textinfo = \"label+percent\",\n",
    "        hole = 0.2,\n",
    "        marker = dict(colors = [\"1f77b4\", \"ff7f0e\", \"2ca02c\"]),\n",
    "        pull = [0.2, 0, 0]\n",
    "        \n",
    "    )\n",
    ")\n",
    "\n",
    "fig.update_layout(\n",
    "    title = \"Rozdelenie pracovnych oddeleni\",\n",
    "    showlegend = True,\n",
    "    annotations = [dict\n",
    "    (text = \"Oddelenia\", x = 0.5, y = 0.5, font_size = 20, showarrow = False)\n",
    "                   ]\n",
    "\n",
    ")\n",
    "\n",
    "fig.show()"
   ],
   "execution_count":60,
   "outputs":[
    {
     "data":{
      "application\/vnd.plotly.v1+json":{
       "data":[
        {
         "hole":0.2,
         "labels":[
          "Oddelenie A",
          "Oddelenia B",
          "Oddelenie C"
         ],
         "marker":{
          "colors":[
           "1f77b4",
           "ff7f0e",
           "2ca02c"
          ]
         },
         "pull":[
          0.2,
          0,
          0
         ],
         "textinfo":"label+percent",
         "values":[
          450,
          300,
          250
         ],
         "type":"pie"
        }
       ],
       "layout":{
        "template":{
         "data":{
          "histogram2dcontour":[
           {
            "type":"histogram2dcontour",
            "colorbar":{
             "outlinewidth":0,
             "ticks":""
            },
            "colorscale":[
             [
              0,
              "#0d0887"
             ],
             [
              0.1111111111111111,
              "#46039f"
             ],
             [
              0.2222222222222222,
              "#7201a8"
             ],
             [
              0.3333333333333333,
              "#9c179e"
             ],
             [
              0.4444444444444444,
              "#bd3786"
             ],
             [
              0.5555555555555556,
              "#d8576b"
             ],
             [
              0.6666666666666666,
              "#ed7953"
             ],
             [
              0.7777777777777778,
              "#fb9f3a"
             ],
             [
              0.8888888888888888,
              "#fdca26"
             ],
             [
              1,
              "#f0f921"
             ]
            ]
           }
          ],
          "choropleth":[
           {
            "type":"choropleth",
            "colorbar":{
             "outlinewidth":0,
             "ticks":""
            }
           }
          ],
          "histogram2d":[
           {
            "type":"histogram2d",
            "colorbar":{
             "outlinewidth":0,
             "ticks":""
            },
            "colorscale":[
             [
              0,
              "#0d0887"
             ],
             [
              0.1111111111111111,
              "#46039f"
             ],
             [
              0.2222222222222222,
              "#7201a8"
             ],
             [
              0.3333333333333333,
              "#9c179e"
             ],
             [
              0.4444444444444444,
              "#bd3786"
             ],
             [
              0.5555555555555556,
              "#d8576b"
             ],
             [
              0.6666666666666666,
              "#ed7953"
             ],
             [
              0.7777777777777778,
              "#fb9f3a"
             ],
             [
              0.8888888888888888,
              "#fdca26"
             ],
             [
              1,
              "#f0f921"
             ]
            ]
           }
          ],
          "heatmap":[
           {
            "type":"heatmap",
            "colorbar":{
             "outlinewidth":0,
             "ticks":""
            },
            "colorscale":[
             [
              0,
              "#0d0887"
             ],
             [
              0.1111111111111111,
              "#46039f"
             ],
             [
              0.2222222222222222,
              "#7201a8"
             ],
             [
              0.3333333333333333,
              "#9c179e"
             ],
             [
              0.4444444444444444,
              "#bd3786"
             ],
             [
              0.5555555555555556,
              "#d8576b"
             ],
             [
              0.6666666666666666,
              "#ed7953"
             ],
             [
              0.7777777777777778,
              "#fb9f3a"
             ],
             [
              0.8888888888888888,
              "#fdca26"
             ],
             [
              1,
              "#f0f921"
             ]
            ]
           }
          ],
          "heatmapgl":[
           {
            "type":"heatmapgl",
            "colorbar":{
             "outlinewidth":0,
             "ticks":""
            },
            "colorscale":[
             [
              0,
              "#0d0887"
             ],
             [
              0.1111111111111111,
              "#46039f"
             ],
             [
              0.2222222222222222,
              "#7201a8"
             ],
             [
              0.3333333333333333,
              "#9c179e"
             ],
             [
              0.4444444444444444,
              "#bd3786"
             ],
             [
              0.5555555555555556,
              "#d8576b"
             ],
             [
              0.6666666666666666,
              "#ed7953"
             ],
             [
              0.7777777777777778,
              "#fb9f3a"
             ],
             [
              0.8888888888888888,
              "#fdca26"
             ],
             [
              1,
              "#f0f921"
             ]
            ]
           }
          ],
          "contourcarpet":[
           {
            "type":"contourcarpet",
            "colorbar":{
             "outlinewidth":0,
             "ticks":""
            }
           }
          ],
          "contour":[
           {
            "type":"contour",
            "colorbar":{
             "outlinewidth":0,
             "ticks":""
            },
            "colorscale":[
             [
              0,
              "#0d0887"
             ],
             [
              0.1111111111111111,
              "#46039f"
             ],
             [
              0.2222222222222222,
              "#7201a8"
             ],
             [
              0.3333333333333333,
              "#9c179e"
             ],
             [
              0.4444444444444444,
              "#bd3786"
             ],
             [
              0.5555555555555556,
              "#d8576b"
             ],
             [
              0.6666666666666666,
              "#ed7953"
             ],
             [
              0.7777777777777778,
              "#fb9f3a"
             ],
             [
              0.8888888888888888,
              "#fdca26"
             ],
             [
              1,
              "#f0f921"
             ]
            ]
           }
          ],
          "surface":[
           {
            "type":"surface",
            "colorbar":{
             "outlinewidth":0,
             "ticks":""
            },
            "colorscale":[
             [
              0,
              "#0d0887"
             ],
             [
              0.1111111111111111,
              "#46039f"
             ],
             [
              0.2222222222222222,
              "#7201a8"
             ],
             [
              0.3333333333333333,
              "#9c179e"
             ],
             [
              0.4444444444444444,
              "#bd3786"
             ],
             [
              0.5555555555555556,
              "#d8576b"
             ],
             [
              0.6666666666666666,
              "#ed7953"
             ],
             [
              0.7777777777777778,
              "#fb9f3a"
             ],
             [
              0.8888888888888888,
              "#fdca26"
             ],
             [
              1,
              "#f0f921"
             ]
            ]
           }
          ],
          "mesh3d":[
           {
            "type":"mesh3d",
            "colorbar":{
             "outlinewidth":0,
             "ticks":""
            }
           }
          ],
          "scatter":[
           {
            "fillpattern":{
             "fillmode":"overlay",
             "size":10,
             "solidity":0.2
            },
            "type":"scatter"
           }
          ],
          "parcoords":[
           {
            "type":"parcoords",
            "line":{
             "colorbar":{
              "outlinewidth":0,
              "ticks":""
             }
            }
           }
          ],
          "scatterpolargl":[
           {
            "type":"scatterpolargl",
            "marker":{
             "colorbar":{
              "outlinewidth":0,
              "ticks":""
             }
            }
           }
          ],
          "bar":[
           {
            "error_x":{
             "color":"#2a3f5f"
            },
            "error_y":{
             "color":"#2a3f5f"
            },
            "marker":{
             "line":{
              "color":"#E5ECF6",
              "width":0.5
             },
             "pattern":{
              "fillmode":"overlay",
              "size":10,
              "solidity":0.2
             }
            },
            "type":"bar"
           }
          ],
          "scattergeo":[
           {
            "type":"scattergeo",
            "marker":{
             "colorbar":{
              "outlinewidth":0,
              "ticks":""
             }
            }
           }
          ],
          "scatterpolar":[
           {
            "type":"scatterpolar",
            "marker":{
             "colorbar":{
              "outlinewidth":0,
              "ticks":""
             }
            }
           }
          ],
          "histogram":[
           {
            "marker":{
             "pattern":{
              "fillmode":"overlay",
              "size":10,
              "solidity":0.2
             }
            },
            "type":"histogram"
           }
          ],
          "scattergl":[
           {
            "type":"scattergl",
            "marker":{
             "colorbar":{
              "outlinewidth":0,
              "ticks":""
             }
            }
           }
          ],
          "scatter3d":[
           {
            "type":"scatter3d",
            "line":{
             "colorbar":{
              "outlinewidth":0,
              "ticks":""
             }
            },
            "marker":{
             "colorbar":{
              "outlinewidth":0,
              "ticks":""
             }
            }
           }
          ],
          "scattermapbox":[
           {
            "type":"scattermapbox",
            "marker":{
             "colorbar":{
              "outlinewidth":0,
              "ticks":""
             }
            }
           }
          ],
          "scatterternary":[
           {
            "type":"scatterternary",
            "marker":{
             "colorbar":{
              "outlinewidth":0,
              "ticks":""
             }
            }
           }
          ],
          "scattercarpet":[
           {
            "type":"scattercarpet",
            "marker":{
             "colorbar":{
              "outlinewidth":0,
              "ticks":""
             }
            }
           }
          ],
          "carpet":[
           {
            "aaxis":{
             "endlinecolor":"#2a3f5f",
             "gridcolor":"white",
             "linecolor":"white",
             "minorgridcolor":"white",
             "startlinecolor":"#2a3f5f"
            },
            "baxis":{
             "endlinecolor":"#2a3f5f",
             "gridcolor":"white",
             "linecolor":"white",
             "minorgridcolor":"white",
             "startlinecolor":"#2a3f5f"
            },
            "type":"carpet"
           }
          ],
          "table":[
           {
            "cells":{
             "fill":{
              "color":"#EBF0F8"
             },
             "line":{
              "color":"white"
             }
            },
            "header":{
             "fill":{
              "color":"#C8D4E3"
             },
             "line":{
              "color":"white"
             }
            },
            "type":"table"
           }
          ],
          "barpolar":[
           {
            "marker":{
             "line":{
              "color":"#E5ECF6",
              "width":0.5
             },
             "pattern":{
              "fillmode":"overlay",
              "size":10,
              "solidity":0.2
             }
            },
            "type":"barpolar"
           }
          ],
          "pie":[
           {
            "automargin":true,
            "type":"pie"
           }
          ]
         },
         "layout":{
          "autotypenumbers":"strict",
          "colorway":[
           "#636efa",
           "#EF553B",
           "#00cc96",
           "#ab63fa",
           "#FFA15A",
           "#19d3f3",
           "#FF6692",
           "#B6E880",
           "#FF97FF",
           "#FECB52"
          ],
          "font":{
           "color":"#2a3f5f"
          },
          "hovermode":"closest",
          "hoverlabel":{
           "align":"left"
          },
          "paper_bgcolor":"white",
          "plot_bgcolor":"#E5ECF6",
          "polar":{
           "bgcolor":"#E5ECF6",
           "angularaxis":{
            "gridcolor":"white",
            "linecolor":"white",
            "ticks":""
           },
           "radialaxis":{
            "gridcolor":"white",
            "linecolor":"white",
            "ticks":""
           }
          },
          "ternary":{
           "bgcolor":"#E5ECF6",
           "aaxis":{
            "gridcolor":"white",
            "linecolor":"white",
            "ticks":""
           },
           "baxis":{
            "gridcolor":"white",
            "linecolor":"white",
            "ticks":""
           },
           "caxis":{
            "gridcolor":"white",
            "linecolor":"white",
            "ticks":""
           }
          },
          "coloraxis":{
           "colorbar":{
            "outlinewidth":0,
            "ticks":""
           }
          },
          "colorscale":{
           "sequential":[
            [
             0,
             "#0d0887"
            ],
            [
             0.1111111111111111,
             "#46039f"
            ],
            [
             0.2222222222222222,
             "#7201a8"
            ],
            [
             0.3333333333333333,
             "#9c179e"
            ],
            [
             0.4444444444444444,
             "#bd3786"
            ],
            [
             0.5555555555555556,
             "#d8576b"
            ],
            [
             0.6666666666666666,
             "#ed7953"
            ],
            [
             0.7777777777777778,
             "#fb9f3a"
            ],
            [
             0.8888888888888888,
             "#fdca26"
            ],
            [
             1,
             "#f0f921"
            ]
           ],
           "sequentialminus":[
            [
             0,
             "#0d0887"
            ],
            [
             0.1111111111111111,
             "#46039f"
            ],
            [
             0.2222222222222222,
             "#7201a8"
            ],
            [
             0.3333333333333333,
             "#9c179e"
            ],
            [
             0.4444444444444444,
             "#bd3786"
            ],
            [
             0.5555555555555556,
             "#d8576b"
            ],
            [
             0.6666666666666666,
             "#ed7953"
            ],
            [
             0.7777777777777778,
             "#fb9f3a"
            ],
            [
             0.8888888888888888,
             "#fdca26"
            ],
            [
             1,
             "#f0f921"
            ]
           ],
           "diverging":[
            [
             0,
             "#8e0152"
            ],
            [
             0.1,
             "#c51b7d"
            ],
            [
             0.2,
             "#de77ae"
            ],
            [
             0.3,
             "#f1b6da"
            ],
            [
             0.4,
             "#fde0ef"
            ],
            [
             0.5,
             "#f7f7f7"
            ],
            [
             0.6,
             "#e6f5d0"
            ],
            [
             0.7,
             "#b8e186"
            ],
            [
             0.8,
             "#7fbc41"
            ],
            [
             0.9,
             "#4d9221"
            ],
            [
             1,
             "#276419"
            ]
           ]
          },
          "xaxis":{
           "gridcolor":"white",
           "linecolor":"white",
           "ticks":"",
           "title":{
            "standoff":15
           },
           "zerolinecolor":"white",
           "automargin":true,
           "zerolinewidth":2
          },
          "yaxis":{
           "gridcolor":"white",
           "linecolor":"white",
           "ticks":"",
           "title":{
            "standoff":15
           },
           "zerolinecolor":"white",
           "automargin":true,
           "zerolinewidth":2
          },
          "scene":{
           "xaxis":{
            "backgroundcolor":"#E5ECF6",
            "gridcolor":"white",
            "linecolor":"white",
            "showbackground":true,
            "ticks":"",
            "zerolinecolor":"white",
            "gridwidth":2
           },
           "yaxis":{
            "backgroundcolor":"#E5ECF6",
            "gridcolor":"white",
            "linecolor":"white",
            "showbackground":true,
            "ticks":"",
            "zerolinecolor":"white",
            "gridwidth":2
           },
           "zaxis":{
            "backgroundcolor":"#E5ECF6",
            "gridcolor":"white",
            "linecolor":"white",
            "showbackground":true,
            "ticks":"",
            "zerolinecolor":"white",
            "gridwidth":2
           }
          },
          "shapedefaults":{
           "line":{
            "color":"#2a3f5f"
           }
          },
          "annotationdefaults":{
           "arrowcolor":"#2a3f5f",
           "arrowhead":0,
           "arrowwidth":1
          },
          "geo":{
           "bgcolor":"white",
           "landcolor":"#E5ECF6",
           "subunitcolor":"white",
           "showland":true,
           "showlakes":true,
           "lakecolor":"white"
          },
          "title":{
           "x":0.05
          },
          "mapbox":{
           "style":"light"
          }
         }
        },
        "title":{
         "text":"Rozdelenie pracovnych oddeleni"
        },
        "showlegend":true,
        "annotations":[
         {
          "showarrow":false,
          "text":"Oddelenia",
          "x":0.5,
          "y":0.5,
          "font":{
           "size":20
          }
         }
        ]
       },
       "config":{
        "plotlyServerURL":"https:\/\/plot.ly"
       }
      }
     },
     "metadata":{},
     "output_type":"display_data"
    }
   ],
   "metadata":{
    "datalore":{
     "node_id":"dvZo6KJYDUMF1A6olkiQtf",
     "type":"CODE",
     "hide_input_from_viewers":true,
     "hide_output_from_viewers":true
    }
   }
  },
  {
   "cell_type":"markdown",
   "source":[
    "## 3D Scatter Plot\n",
    "Sú užitočné na zobrazovanie vzťahov medzi 3 premennými"
   ],
   "attachments":{},
   "metadata":{
    "datalore":{
     "node_id":"DjJt8bc888p2k7cm9lLcNk",
     "type":"MD",
     "hide_input_from_viewers":true,
     "hide_output_from_viewers":true
    }
   }
  },
  {
   "cell_type":"code",
   "source":[
    "import plotly.graph_objects as go\n",
    "import numpy as np\n",
    "\n",
    "x, y, z = np.random.random(100), np.random.random(100), np.random.random(100)\n",
    "\n",
    "fig = go.Figure(data = [\n",
    "    go.Scatter3d(\n",
    "        x = x,\n",
    "        y = y,\n",
    "        z = z,\n",
    "        mode = \"markers\",\n",
    "        marker = dict(size = 10, color = z, colorscale = \"ice\", opacity = 0.5)\n",
    "    \n",
    "    )\n",
    "])\n",
    "\n",
    "fig.update_layout(\n",
    "    scene = dict(\n",
    "        xaxis_title = \"Os X\",\n",
    "        yaxis_title = \"Os Y\",\n",
    "        zaxis_title = \"Os Z\",\n",
    "    ),\n",
    "\n",
    "    title = \"3D graf\",\n",
    "    width = 1000,\n",
    "    margin = dict(r=20, b=20, l=10, t=50)\n",
    "\n",
    ")\n",
    "\n",
    "fig.show()"
   ],
   "execution_count":82,
   "outputs":[
    {
     "data":{
      "application\/vnd.plotly.v1+json":{
       "data":[
        {
         "marker":{
          "color":[
           0.259494894040748,
           0.21735374891481363,
           0.30168442485384894,
           0.7002831248156988,
           0.6993348822096866,
           0.2888288153072248,
           0.31181037815603563,
           0.6260873350269649,
           0.7492456383752928,
           0.5365494829580513,
           0.9427477431641113,
           0.6642788030111767,
           0.11714703408932514,
           0.6685664348041424,
           0.2442908494205207,
           0.2980624941540849,
           0.4719680570216982,
           0.7662103871041597,
           0.12705008730760659,
           0.2925650735383232,
           0.6872502498155254,
           0.23926197448733733,
           0.17054206002082983,
           0.1443653284366233,
           0.8899206113350342,
           0.5399717806881719,
           0.46857729597574804,
           0.6526676736623173,
           0.5984073954743394,
           0.6972621010311791,
           0.6432937331760927,
           0.33269474110151975,
           0.27591127255809167,
           0.04343452191567587,
           0.6215857346876226,
           0.6357156386134,
           0.10749840734164007,
           0.28933098853898753,
           0.21172237878760347,
           0.15842940585669907,
           0.3230958593528742,
           0.7024278700730076,
           0.45719999043890913,
           0.4353661176225796,
           0.3852084101760418,
           0.12275257881224966,
           0.9627310406523113,
           0.2828996791105427,
           0.3800007904848187,
           0.058779337790716424,
           0.7171513692557568,
           0.21993439624739364,
           0.8792206405751108,
           0.039698663909687903,
           0.5636662996807363,
           0.5209484001790987,
           0.20272095755917496,
           0.623596345011411,
           0.38082977597454415,
           0.9835256838620254,
           0.13503375899753456,
           0.789012868617254,
           0.5081578098671978,
           0.0854799795368818,
           0.35161545968024976,
           0.1015051560690069,
           0.07933345802019853,
           0.4000133643910251,
           0.9034023299296486,
           0.13585780734283492,
           0.6896835736216705,
           0.8883209477599427,
           0.9154997425556246,
           0.3085184466739914,
           0.03427709524051037,
           0.6778608648991408,
           0.08142534903355025,
           0.79126552410217,
           0.16590464972917385,
           0.12174799537629855,
           0.41957078932770997,
           0.283026793685773,
           0.695565387604628,
           0.47191432124510124,
           0.6399496421293923,
           0.8083703610934377,
           0.21083942359114538,
           0.9592652791917085,
           0.08172332986104458,
           0.21949399844237938,
           0.2592027350701276,
           0.3378952157644891,
           0.4546227998188386,
           0.2591472085721005,
           0.03043104122241891,
           0.3474095626071221,
           0.9545939840779004,
           0.19565622472212651,
           0.6998141021184785,
           0.06429351953692952
          ],
          "colorscale":[
           [
            0,
            "rgb(3, 5, 18)"
           ],
           [
            0.09090909090909091,
            "rgb(25, 25, 51)"
           ],
           [
            0.18181818181818182,
            "rgb(44, 42, 87)"
           ],
           [
            0.2727272727272727,
            "rgb(58, 60, 125)"
           ],
           [
            0.36363636363636365,
            "rgb(62, 83, 160)"
           ],
           [
            0.45454545454545453,
            "rgb(62, 109, 178)"
           ],
           [
            0.5454545454545454,
            "rgb(72, 134, 187)"
           ],
           [
            0.6363636363636364,
            "rgb(89, 159, 196)"
           ],
           [
            0.7272727272727273,
            "rgb(114, 184, 205)"
           ],
           [
            0.8181818181818182,
            "rgb(149, 207, 216)"
           ],
           [
            0.9090909090909091,
            "rgb(192, 229, 232)"
           ],
           [
            1,
            "rgb(234, 252, 253)"
           ]
          ],
          "opacity":0.5,
          "size":10
         },
         "mode":"markers",
         "x":[
          0.012709598110679177,
          0.02929005927762851,
          0.7344086240274685,
          0.35119115375611953,
          0.012653220111715546,
          0.7861946250046584,
          0.12418658580695985,
          0.3655993832347624,
          0.05577978300224984,
          0.5566979189875682,
          0.8728609492093494,
          0.2515383608003361,
          0.871734572483625,
          0.17250638842529287,
          0.9078549190484493,
          0.8597546229460263,
          0.26754290905638145,
          0.7767533626730813,
          0.16009195356367523,
          0.38694063297054027,
          0.4412094973149884,
          0.941189880033532,
          0.7475627370734261,
          0.8463985133954409,
          0.7320484011081377,
          0.794361355136732,
          0.1287618863176957,
          0.7433760745060235,
          0.7879452834410758,
          0.4480475199422307,
          0.5949784135082181,
          0.3019328369313622,
          0.24153473293151595,
          0.7033881519389923,
          0.017881449811741668,
          0.4846295983787635,
          0.06012829527567676,
          0.9563843902235067,
          0.08666073071644931,
          0.7451097883558985,
          0.6304542829980287,
          0.037207963399506605,
          0.10446187768600668,
          0.56634860630138,
          0.00817026229797857,
          0.0735530363246304,
          0.8467416335570341,
          0.27547811332586536,
          0.540978650147895,
          0.7603741715866302,
          0.09710445008583435,
          0.500323931627429,
          0.8985782020360984,
          0.20588278596929044,
          0.6829834179812064,
          0.2382987326979621,
          0.014775483637761821,
          0.6646503555322698,
          0.6509685624831689,
          0.7413590938035265,
          0.8760513378455433,
          0.9961292111121774,
          0.9075381712479624,
          0.8794516281285625,
          0.23384913161727927,
          0.1712715645109777,
          0.9653797109348216,
          0.9526489537984071,
          0.4194556092354583,
          0.09884580884857441,
          0.43863482870562076,
          0.5686873689133481,
          0.2808726182860546,
          0.5384968269538662,
          0.8354772809477514,
          0.896100441749026,
          0.24807143405503684,
          0.9769978592626155,
          0.8789489345014715,
          0.9785467347418454,
          0.07973272427947797,
          0.05714272929400932,
          0.7857860027117072,
          0.1556329131228208,
          0.8590668114058345,
          0.2889076915102522,
          0.9453329364984648,
          0.2222115145051604,
          0.86031177610321,
          0.4753766473425126,
          0.17333192411848453,
          0.01838774929450626,
          0.6057375693366016,
          0.09577385674570937,
          0.37768852800069097,
          0.6591174611357653,
          0.35511222333088666,
          0.031115677475038628,
          0.21946472573909814,
          0.3388581675269845
         ],
         "y":[
          0.7793487125565507,
          0.6162229094578996,
          0.7324036560378033,
          0.08681157644234783,
          0.6968856348584965,
          0.22592309795221865,
          0.35535676801466476,
          0.6141156619071625,
          0.5407680432839232,
          0.03883724749873896,
          0.37077725937391315,
          0.6909764399054961,
          0.24739268474065557,
          0.5467398081295817,
          0.9747855149171392,
          0.28058027504445193,
          0.8341068799379063,
          0.4951501991601944,
          0.38326820902292524,
          0.9062676877018014,
          0.7973265874342871,
          0.0676058301268102,
          0.4598616875352294,
          0.8606876952278673,
          0.8126222291646543,
          0.200414352553138,
          0.22872875177900798,
          0.48713145974378613,
          0.46151649661154504,
          0.10219027265255587,
          0.9515182664974736,
          0.36266599787363885,
          0.8213685552970404,
          0.914242161391188,
          0.3954833493911636,
          0.3735146275007998,
          0.19589106305443105,
          0.29171973583733346,
          0.6935919433200821,
          0.2255859467816318,
          0.01997505704611635,
          0.16208823112006532,
          0.5583403501817171,
          0.4927238409217488,
          0.8626937266627558,
          0.9013600088633307,
          0.9651916980803713,
          0.5332771558482693,
          0.4892228516934102,
          0.5464274123249306,
          0.7789773484634975,
          0.31151592393402805,
          0.8424820085597392,
          0.6485893919150497,
          0.5202734204144108,
          0.7696378532508714,
          0.8672006860655374,
          0.054868256689149075,
          0.04591435243131503,
          0.1635102810414848,
          0.8077071094513756,
          0.17365322690038043,
          0.5980017348244939,
          0.9993230374645191,
          0.7572023983092201,
          0.41373119962542715,
          0.4212416510753074,
          0.4257126756251295,
          0.5486648960087698,
          0.3232574883908186,
          0.6489665204874712,
          0.3548622825171597,
          0.11305377890658463,
          0.41933244075951925,
          0.5870564555982111,
          0.9311541655194022,
          0.15317342871226414,
          0.8144914279284988,
          0.20822971344373586,
          0.1428042420727772,
          0.6643576610332375,
          0.2507202703219086,
          0.4688648271286505,
          0.39615613105287484,
          0.5636098690221697,
          0.35869237430332235,
          0.23795601034520397,
          0.5931884173288494,
          0.5015279108032907,
          0.9627920697311649,
          0.33026369849733295,
          0.8650793996958495,
          0.8537136675528866,
          0.9083429515540198,
          0.39679852434950025,
          0.06816587588154499,
          0.8444205584020609,
          0.06545853296424209,
          0.18039104546748974,
          0.9218556301477049
         ],
         "z":[
          0.259494894040748,
          0.21735374891481363,
          0.30168442485384894,
          0.7002831248156988,
          0.6993348822096866,
          0.2888288153072248,
          0.31181037815603563,
          0.6260873350269649,
          0.7492456383752928,
          0.5365494829580513,
          0.9427477431641113,
          0.6642788030111767,
          0.11714703408932514,
          0.6685664348041424,
          0.2442908494205207,
          0.2980624941540849,
          0.4719680570216982,
          0.7662103871041597,
          0.12705008730760659,
          0.2925650735383232,
          0.6872502498155254,
          0.23926197448733733,
          0.17054206002082983,
          0.1443653284366233,
          0.8899206113350342,
          0.5399717806881719,
          0.46857729597574804,
          0.6526676736623173,
          0.5984073954743394,
          0.6972621010311791,
          0.6432937331760927,
          0.33269474110151975,
          0.27591127255809167,
          0.04343452191567587,
          0.6215857346876226,
          0.6357156386134,
          0.10749840734164007,
          0.28933098853898753,
          0.21172237878760347,
          0.15842940585669907,
          0.3230958593528742,
          0.7024278700730076,
          0.45719999043890913,
          0.4353661176225796,
          0.3852084101760418,
          0.12275257881224966,
          0.9627310406523113,
          0.2828996791105427,
          0.3800007904848187,
          0.058779337790716424,
          0.7171513692557568,
          0.21993439624739364,
          0.8792206405751108,
          0.039698663909687903,
          0.5636662996807363,
          0.5209484001790987,
          0.20272095755917496,
          0.623596345011411,
          0.38082977597454415,
          0.9835256838620254,
          0.13503375899753456,
          0.789012868617254,
          0.5081578098671978,
          0.0854799795368818,
          0.35161545968024976,
          0.1015051560690069,
          0.07933345802019853,
          0.4000133643910251,
          0.9034023299296486,
          0.13585780734283492,
          0.6896835736216705,
          0.8883209477599427,
          0.9154997425556246,
          0.3085184466739914,
          0.03427709524051037,
          0.6778608648991408,
          0.08142534903355025,
          0.79126552410217,
          0.16590464972917385,
          0.12174799537629855,
          0.41957078932770997,
          0.283026793685773,
          0.695565387604628,
          0.47191432124510124,
          0.6399496421293923,
          0.8083703610934377,
          0.21083942359114538,
          0.9592652791917085,
          0.08172332986104458,
          0.21949399844237938,
          0.2592027350701276,
          0.3378952157644891,
          0.4546227998188386,
          0.2591472085721005,
          0.03043104122241891,
          0.3474095626071221,
          0.9545939840779004,
          0.19565622472212651,
          0.6998141021184785,
          0.06429351953692952
         ],
         "type":"scatter3d"
        }
       ],
       "layout":{
        "template":{
         "data":{
          "histogram2dcontour":[
           {
            "type":"histogram2dcontour",
            "colorbar":{
             "outlinewidth":0,
             "ticks":""
            },
            "colorscale":[
             [
              0,
              "#0d0887"
             ],
             [
              0.1111111111111111,
              "#46039f"
             ],
             [
              0.2222222222222222,
              "#7201a8"
             ],
             [
              0.3333333333333333,
              "#9c179e"
             ],
             [
              0.4444444444444444,
              "#bd3786"
             ],
             [
              0.5555555555555556,
              "#d8576b"
             ],
             [
              0.6666666666666666,
              "#ed7953"
             ],
             [
              0.7777777777777778,
              "#fb9f3a"
             ],
             [
              0.8888888888888888,
              "#fdca26"
             ],
             [
              1,
              "#f0f921"
             ]
            ]
           }
          ],
          "choropleth":[
           {
            "type":"choropleth",
            "colorbar":{
             "outlinewidth":0,
             "ticks":""
            }
           }
          ],
          "histogram2d":[
           {
            "type":"histogram2d",
            "colorbar":{
             "outlinewidth":0,
             "ticks":""
            },
            "colorscale":[
             [
              0,
              "#0d0887"
             ],
             [
              0.1111111111111111,
              "#46039f"
             ],
             [
              0.2222222222222222,
              "#7201a8"
             ],
             [
              0.3333333333333333,
              "#9c179e"
             ],
             [
              0.4444444444444444,
              "#bd3786"
             ],
             [
              0.5555555555555556,
              "#d8576b"
             ],
             [
              0.6666666666666666,
              "#ed7953"
             ],
             [
              0.7777777777777778,
              "#fb9f3a"
             ],
             [
              0.8888888888888888,
              "#fdca26"
             ],
             [
              1,
              "#f0f921"
             ]
            ]
           }
          ],
          "heatmap":[
           {
            "type":"heatmap",
            "colorbar":{
             "outlinewidth":0,
             "ticks":""
            },
            "colorscale":[
             [
              0,
              "#0d0887"
             ],
             [
              0.1111111111111111,
              "#46039f"
             ],
             [
              0.2222222222222222,
              "#7201a8"
             ],
             [
              0.3333333333333333,
              "#9c179e"
             ],
             [
              0.4444444444444444,
              "#bd3786"
             ],
             [
              0.5555555555555556,
              "#d8576b"
             ],
             [
              0.6666666666666666,
              "#ed7953"
             ],
             [
              0.7777777777777778,
              "#fb9f3a"
             ],
             [
              0.8888888888888888,
              "#fdca26"
             ],
             [
              1,
              "#f0f921"
             ]
            ]
           }
          ],
          "heatmapgl":[
           {
            "type":"heatmapgl",
            "colorbar":{
             "outlinewidth":0,
             "ticks":""
            },
            "colorscale":[
             [
              0,
              "#0d0887"
             ],
             [
              0.1111111111111111,
              "#46039f"
             ],
             [
              0.2222222222222222,
              "#7201a8"
             ],
             [
              0.3333333333333333,
              "#9c179e"
             ],
             [
              0.4444444444444444,
              "#bd3786"
             ],
             [
              0.5555555555555556,
              "#d8576b"
             ],
             [
              0.6666666666666666,
              "#ed7953"
             ],
             [
              0.7777777777777778,
              "#fb9f3a"
             ],
             [
              0.8888888888888888,
              "#fdca26"
             ],
             [
              1,
              "#f0f921"
             ]
            ]
           }
          ],
          "contourcarpet":[
           {
            "type":"contourcarpet",
            "colorbar":{
             "outlinewidth":0,
             "ticks":""
            }
           }
          ],
          "contour":[
           {
            "type":"contour",
            "colorbar":{
             "outlinewidth":0,
             "ticks":""
            },
            "colorscale":[
             [
              0,
              "#0d0887"
             ],
             [
              0.1111111111111111,
              "#46039f"
             ],
             [
              0.2222222222222222,
              "#7201a8"
             ],
             [
              0.3333333333333333,
              "#9c179e"
             ],
             [
              0.4444444444444444,
              "#bd3786"
             ],
             [
              0.5555555555555556,
              "#d8576b"
             ],
             [
              0.6666666666666666,
              "#ed7953"
             ],
             [
              0.7777777777777778,
              "#fb9f3a"
             ],
             [
              0.8888888888888888,
              "#fdca26"
             ],
             [
              1,
              "#f0f921"
             ]
            ]
           }
          ],
          "surface":[
           {
            "type":"surface",
            "colorbar":{
             "outlinewidth":0,
             "ticks":""
            },
            "colorscale":[
             [
              0,
              "#0d0887"
             ],
             [
              0.1111111111111111,
              "#46039f"
             ],
             [
              0.2222222222222222,
              "#7201a8"
             ],
             [
              0.3333333333333333,
              "#9c179e"
             ],
             [
              0.4444444444444444,
              "#bd3786"
             ],
             [
              0.5555555555555556,
              "#d8576b"
             ],
             [
              0.6666666666666666,
              "#ed7953"
             ],
             [
              0.7777777777777778,
              "#fb9f3a"
             ],
             [
              0.8888888888888888,
              "#fdca26"
             ],
             [
              1,
              "#f0f921"
             ]
            ]
           }
          ],
          "mesh3d":[
           {
            "type":"mesh3d",
            "colorbar":{
             "outlinewidth":0,
             "ticks":""
            }
           }
          ],
          "scatter":[
           {
            "fillpattern":{
             "fillmode":"overlay",
             "size":10,
             "solidity":0.2
            },
            "type":"scatter"
           }
          ],
          "parcoords":[
           {
            "type":"parcoords",
            "line":{
             "colorbar":{
              "outlinewidth":0,
              "ticks":""
             }
            }
           }
          ],
          "scatterpolargl":[
           {
            "type":"scatterpolargl",
            "marker":{
             "colorbar":{
              "outlinewidth":0,
              "ticks":""
             }
            }
           }
          ],
          "bar":[
           {
            "error_x":{
             "color":"#2a3f5f"
            },
            "error_y":{
             "color":"#2a3f5f"
            },
            "marker":{
             "line":{
              "color":"#E5ECF6",
              "width":0.5
             },
             "pattern":{
              "fillmode":"overlay",
              "size":10,
              "solidity":0.2
             }
            },
            "type":"bar"
           }
          ],
          "scattergeo":[
           {
            "type":"scattergeo",
            "marker":{
             "colorbar":{
              "outlinewidth":0,
              "ticks":""
             }
            }
           }
          ],
          "scatterpolar":[
           {
            "type":"scatterpolar",
            "marker":{
             "colorbar":{
              "outlinewidth":0,
              "ticks":""
             }
            }
           }
          ],
          "histogram":[
           {
            "marker":{
             "pattern":{
              "fillmode":"overlay",
              "size":10,
              "solidity":0.2
             }
            },
            "type":"histogram"
           }
          ],
          "scattergl":[
           {
            "type":"scattergl",
            "marker":{
             "colorbar":{
              "outlinewidth":0,
              "ticks":""
             }
            }
           }
          ],
          "scatter3d":[
           {
            "type":"scatter3d",
            "line":{
             "colorbar":{
              "outlinewidth":0,
              "ticks":""
             }
            },
            "marker":{
             "colorbar":{
              "outlinewidth":0,
              "ticks":""
             }
            }
           }
          ],
          "scattermapbox":[
           {
            "type":"scattermapbox",
            "marker":{
             "colorbar":{
              "outlinewidth":0,
              "ticks":""
             }
            }
           }
          ],
          "scatterternary":[
           {
            "type":"scatterternary",
            "marker":{
             "colorbar":{
              "outlinewidth":0,
              "ticks":""
             }
            }
           }
          ],
          "scattercarpet":[
           {
            "type":"scattercarpet",
            "marker":{
             "colorbar":{
              "outlinewidth":0,
              "ticks":""
             }
            }
           }
          ],
          "carpet":[
           {
            "aaxis":{
             "endlinecolor":"#2a3f5f",
             "gridcolor":"white",
             "linecolor":"white",
             "minorgridcolor":"white",
             "startlinecolor":"#2a3f5f"
            },
            "baxis":{
             "endlinecolor":"#2a3f5f",
             "gridcolor":"white",
             "linecolor":"white",
             "minorgridcolor":"white",
             "startlinecolor":"#2a3f5f"
            },
            "type":"carpet"
           }
          ],
          "table":[
           {
            "cells":{
             "fill":{
              "color":"#EBF0F8"
             },
             "line":{
              "color":"white"
             }
            },
            "header":{
             "fill":{
              "color":"#C8D4E3"
             },
             "line":{
              "color":"white"
             }
            },
            "type":"table"
           }
          ],
          "barpolar":[
           {
            "marker":{
             "line":{
              "color":"#E5ECF6",
              "width":0.5
             },
             "pattern":{
              "fillmode":"overlay",
              "size":10,
              "solidity":0.2
             }
            },
            "type":"barpolar"
           }
          ],
          "pie":[
           {
            "automargin":true,
            "type":"pie"
           }
          ]
         },
         "layout":{
          "autotypenumbers":"strict",
          "colorway":[
           "#636efa",
           "#EF553B",
           "#00cc96",
           "#ab63fa",
           "#FFA15A",
           "#19d3f3",
           "#FF6692",
           "#B6E880",
           "#FF97FF",
           "#FECB52"
          ],
          "font":{
           "color":"#2a3f5f"
          },
          "hovermode":"closest",
          "hoverlabel":{
           "align":"left"
          },
          "paper_bgcolor":"white",
          "plot_bgcolor":"#E5ECF6",
          "polar":{
           "bgcolor":"#E5ECF6",
           "angularaxis":{
            "gridcolor":"white",
            "linecolor":"white",
            "ticks":""
           },
           "radialaxis":{
            "gridcolor":"white",
            "linecolor":"white",
            "ticks":""
           }
          },
          "ternary":{
           "bgcolor":"#E5ECF6",
           "aaxis":{
            "gridcolor":"white",
            "linecolor":"white",
            "ticks":""
           },
           "baxis":{
            "gridcolor":"white",
            "linecolor":"white",
            "ticks":""
           },
           "caxis":{
            "gridcolor":"white",
            "linecolor":"white",
            "ticks":""
           }
          },
          "coloraxis":{
           "colorbar":{
            "outlinewidth":0,
            "ticks":""
           }
          },
          "colorscale":{
           "sequential":[
            [
             0,
             "#0d0887"
            ],
            [
             0.1111111111111111,
             "#46039f"
            ],
            [
             0.2222222222222222,
             "#7201a8"
            ],
            [
             0.3333333333333333,
             "#9c179e"
            ],
            [
             0.4444444444444444,
             "#bd3786"
            ],
            [
             0.5555555555555556,
             "#d8576b"
            ],
            [
             0.6666666666666666,
             "#ed7953"
            ],
            [
             0.7777777777777778,
             "#fb9f3a"
            ],
            [
             0.8888888888888888,
             "#fdca26"
            ],
            [
             1,
             "#f0f921"
            ]
           ],
           "sequentialminus":[
            [
             0,
             "#0d0887"
            ],
            [
             0.1111111111111111,
             "#46039f"
            ],
            [
             0.2222222222222222,
             "#7201a8"
            ],
            [
             0.3333333333333333,
             "#9c179e"
            ],
            [
             0.4444444444444444,
             "#bd3786"
            ],
            [
             0.5555555555555556,
             "#d8576b"
            ],
            [
             0.6666666666666666,
             "#ed7953"
            ],
            [
             0.7777777777777778,
             "#fb9f3a"
            ],
            [
             0.8888888888888888,
             "#fdca26"
            ],
            [
             1,
             "#f0f921"
            ]
           ],
           "diverging":[
            [
             0,
             "#8e0152"
            ],
            [
             0.1,
             "#c51b7d"
            ],
            [
             0.2,
             "#de77ae"
            ],
            [
             0.3,
             "#f1b6da"
            ],
            [
             0.4,
             "#fde0ef"
            ],
            [
             0.5,
             "#f7f7f7"
            ],
            [
             0.6,
             "#e6f5d0"
            ],
            [
             0.7,
             "#b8e186"
            ],
            [
             0.8,
             "#7fbc41"
            ],
            [
             0.9,
             "#4d9221"
            ],
            [
             1,
             "#276419"
            ]
           ]
          },
          "xaxis":{
           "gridcolor":"white",
           "linecolor":"white",
           "ticks":"",
           "title":{
            "standoff":15
           },
           "zerolinecolor":"white",
           "automargin":true,
           "zerolinewidth":2
          },
          "yaxis":{
           "gridcolor":"white",
           "linecolor":"white",
           "ticks":"",
           "title":{
            "standoff":15
           },
           "zerolinecolor":"white",
           "automargin":true,
           "zerolinewidth":2
          },
          "scene":{
           "xaxis":{
            "backgroundcolor":"#E5ECF6",
            "gridcolor":"white",
            "linecolor":"white",
            "showbackground":true,
            "ticks":"",
            "zerolinecolor":"white",
            "gridwidth":2
           },
           "yaxis":{
            "backgroundcolor":"#E5ECF6",
            "gridcolor":"white",
            "linecolor":"white",
            "showbackground":true,
            "ticks":"",
            "zerolinecolor":"white",
            "gridwidth":2
           },
           "zaxis":{
            "backgroundcolor":"#E5ECF6",
            "gridcolor":"white",
            "linecolor":"white",
            "showbackground":true,
            "ticks":"",
            "zerolinecolor":"white",
            "gridwidth":2
           }
          },
          "shapedefaults":{
           "line":{
            "color":"#2a3f5f"
           }
          },
          "annotationdefaults":{
           "arrowcolor":"#2a3f5f",
           "arrowhead":0,
           "arrowwidth":1
          },
          "geo":{
           "bgcolor":"white",
           "landcolor":"#E5ECF6",
           "subunitcolor":"white",
           "showland":true,
           "showlakes":true,
           "lakecolor":"white"
          },
          "title":{
           "x":0.05
          },
          "mapbox":{
           "style":"light"
          }
         }
        },
        "margin":{
         "r":20,
         "b":20,
         "l":10,
         "t":50
        },
        "scene":{
         "xaxis":{
          "title":{
           "text":"Os X"
          }
         },
         "yaxis":{
          "title":{
           "text":"Os Y"
          }
         },
         "zaxis":{
          "title":{
           "text":"Os Z"
          }
         }
        },
        "title":{
         "text":"3D graf"
        },
        "width":1000
       },
       "config":{
        "plotlyServerURL":"https:\/\/plot.ly"
       }
      }
     },
     "metadata":{},
     "output_type":"display_data"
    }
   ],
   "metadata":{
    "datalore":{
     "node_id":"6K8doCB8zxdoIbnUnzlBtH",
     "type":"CODE",
     "hide_input_from_viewers":true,
     "hide_output_from_viewers":true
    }
   }
  },
  {
   "cell_type":"markdown",
   "source":[
    "## 🌡️ Heatmapy\n",
    "Sú užitočné na zobrazovanie intenzity alebo četnosti v dvojrozmernom formáte, často používané pre zobrazovanie dát v mriežke."
   ],
   "attachments":{},
   "metadata":{
    "datalore":{
     "node_id":"ei7ggPIQ0AC83FCprDaK0J",
     "type":"MD",
     "hide_input_from_viewers":true,
     "hide_output_from_viewers":true
    }
   }
  },
  {
   "cell_type":"code",
   "source":[],
   "execution_count":25,
   "outputs":[
    {
     "data":{
      "application\/vnd.plotly.v1+json":{
       "data":[
        {
         "z":[
          [
           1,
           20,
           30
          ],
          [
           20,
           1,
           60
          ],
          [
           30,
           60,
           1
          ]
         ],
         "type":"heatmap"
        }
       ],
       "layout":{
        "template":{
         "data":{
          "histogram2dcontour":[
           {
            "type":"histogram2dcontour",
            "colorbar":{
             "outlinewidth":0,
             "ticks":""
            },
            "colorscale":[
             [
              0,
              "#0d0887"
             ],
             [
              0.1111111111111111,
              "#46039f"
             ],
             [
              0.2222222222222222,
              "#7201a8"
             ],
             [
              0.3333333333333333,
              "#9c179e"
             ],
             [
              0.4444444444444444,
              "#bd3786"
             ],
             [
              0.5555555555555556,
              "#d8576b"
             ],
             [
              0.6666666666666666,
              "#ed7953"
             ],
             [
              0.7777777777777778,
              "#fb9f3a"
             ],
             [
              0.8888888888888888,
              "#fdca26"
             ],
             [
              1,
              "#f0f921"
             ]
            ]
           }
          ],
          "choropleth":[
           {
            "type":"choropleth",
            "colorbar":{
             "outlinewidth":0,
             "ticks":""
            }
           }
          ],
          "histogram2d":[
           {
            "type":"histogram2d",
            "colorbar":{
             "outlinewidth":0,
             "ticks":""
            },
            "colorscale":[
             [
              0,
              "#0d0887"
             ],
             [
              0.1111111111111111,
              "#46039f"
             ],
             [
              0.2222222222222222,
              "#7201a8"
             ],
             [
              0.3333333333333333,
              "#9c179e"
             ],
             [
              0.4444444444444444,
              "#bd3786"
             ],
             [
              0.5555555555555556,
              "#d8576b"
             ],
             [
              0.6666666666666666,
              "#ed7953"
             ],
             [
              0.7777777777777778,
              "#fb9f3a"
             ],
             [
              0.8888888888888888,
              "#fdca26"
             ],
             [
              1,
              "#f0f921"
             ]
            ]
           }
          ],
          "heatmap":[
           {
            "type":"heatmap",
            "colorbar":{
             "outlinewidth":0,
             "ticks":""
            },
            "colorscale":[
             [
              0,
              "#0d0887"
             ],
             [
              0.1111111111111111,
              "#46039f"
             ],
             [
              0.2222222222222222,
              "#7201a8"
             ],
             [
              0.3333333333333333,
              "#9c179e"
             ],
             [
              0.4444444444444444,
              "#bd3786"
             ],
             [
              0.5555555555555556,
              "#d8576b"
             ],
             [
              0.6666666666666666,
              "#ed7953"
             ],
             [
              0.7777777777777778,
              "#fb9f3a"
             ],
             [
              0.8888888888888888,
              "#fdca26"
             ],
             [
              1,
              "#f0f921"
             ]
            ]
           }
          ],
          "heatmapgl":[
           {
            "type":"heatmapgl",
            "colorbar":{
             "outlinewidth":0,
             "ticks":""
            },
            "colorscale":[
             [
              0,
              "#0d0887"
             ],
             [
              0.1111111111111111,
              "#46039f"
             ],
             [
              0.2222222222222222,
              "#7201a8"
             ],
             [
              0.3333333333333333,
              "#9c179e"
             ],
             [
              0.4444444444444444,
              "#bd3786"
             ],
             [
              0.5555555555555556,
              "#d8576b"
             ],
             [
              0.6666666666666666,
              "#ed7953"
             ],
             [
              0.7777777777777778,
              "#fb9f3a"
             ],
             [
              0.8888888888888888,
              "#fdca26"
             ],
             [
              1,
              "#f0f921"
             ]
            ]
           }
          ],
          "contourcarpet":[
           {
            "type":"contourcarpet",
            "colorbar":{
             "outlinewidth":0,
             "ticks":""
            }
           }
          ],
          "contour":[
           {
            "type":"contour",
            "colorbar":{
             "outlinewidth":0,
             "ticks":""
            },
            "colorscale":[
             [
              0,
              "#0d0887"
             ],
             [
              0.1111111111111111,
              "#46039f"
             ],
             [
              0.2222222222222222,
              "#7201a8"
             ],
             [
              0.3333333333333333,
              "#9c179e"
             ],
             [
              0.4444444444444444,
              "#bd3786"
             ],
             [
              0.5555555555555556,
              "#d8576b"
             ],
             [
              0.6666666666666666,
              "#ed7953"
             ],
             [
              0.7777777777777778,
              "#fb9f3a"
             ],
             [
              0.8888888888888888,
              "#fdca26"
             ],
             [
              1,
              "#f0f921"
             ]
            ]
           }
          ],
          "surface":[
           {
            "type":"surface",
            "colorbar":{
             "outlinewidth":0,
             "ticks":""
            },
            "colorscale":[
             [
              0,
              "#0d0887"
             ],
             [
              0.1111111111111111,
              "#46039f"
             ],
             [
              0.2222222222222222,
              "#7201a8"
             ],
             [
              0.3333333333333333,
              "#9c179e"
             ],
             [
              0.4444444444444444,
              "#bd3786"
             ],
             [
              0.5555555555555556,
              "#d8576b"
             ],
             [
              0.6666666666666666,
              "#ed7953"
             ],
             [
              0.7777777777777778,
              "#fb9f3a"
             ],
             [
              0.8888888888888888,
              "#fdca26"
             ],
             [
              1,
              "#f0f921"
             ]
            ]
           }
          ],
          "mesh3d":[
           {
            "type":"mesh3d",
            "colorbar":{
             "outlinewidth":0,
             "ticks":""
            }
           }
          ],
          "scatter":[
           {
            "fillpattern":{
             "fillmode":"overlay",
             "size":10,
             "solidity":0.2
            },
            "type":"scatter"
           }
          ],
          "parcoords":[
           {
            "type":"parcoords",
            "line":{
             "colorbar":{
              "outlinewidth":0,
              "ticks":""
             }
            }
           }
          ],
          "scatterpolargl":[
           {
            "type":"scatterpolargl",
            "marker":{
             "colorbar":{
              "outlinewidth":0,
              "ticks":""
             }
            }
           }
          ],
          "bar":[
           {
            "error_x":{
             "color":"#2a3f5f"
            },
            "error_y":{
             "color":"#2a3f5f"
            },
            "marker":{
             "line":{
              "color":"#E5ECF6",
              "width":0.5
             },
             "pattern":{
              "fillmode":"overlay",
              "size":10,
              "solidity":0.2
             }
            },
            "type":"bar"
           }
          ],
          "scattergeo":[
           {
            "type":"scattergeo",
            "marker":{
             "colorbar":{
              "outlinewidth":0,
              "ticks":""
             }
            }
           }
          ],
          "scatterpolar":[
           {
            "type":"scatterpolar",
            "marker":{
             "colorbar":{
              "outlinewidth":0,
              "ticks":""
             }
            }
           }
          ],
          "histogram":[
           {
            "marker":{
             "pattern":{
              "fillmode":"overlay",
              "size":10,
              "solidity":0.2
             }
            },
            "type":"histogram"
           }
          ],
          "scattergl":[
           {
            "type":"scattergl",
            "marker":{
             "colorbar":{
              "outlinewidth":0,
              "ticks":""
             }
            }
           }
          ],
          "scatter3d":[
           {
            "type":"scatter3d",
            "line":{
             "colorbar":{
              "outlinewidth":0,
              "ticks":""
             }
            },
            "marker":{
             "colorbar":{
              "outlinewidth":0,
              "ticks":""
             }
            }
           }
          ],
          "scattermapbox":[
           {
            "type":"scattermapbox",
            "marker":{
             "colorbar":{
              "outlinewidth":0,
              "ticks":""
             }
            }
           }
          ],
          "scatterternary":[
           {
            "type":"scatterternary",
            "marker":{
             "colorbar":{
              "outlinewidth":0,
              "ticks":""
             }
            }
           }
          ],
          "scattercarpet":[
           {
            "type":"scattercarpet",
            "marker":{
             "colorbar":{
              "outlinewidth":0,
              "ticks":""
             }
            }
           }
          ],
          "carpet":[
           {
            "aaxis":{
             "endlinecolor":"#2a3f5f",
             "gridcolor":"white",
             "linecolor":"white",
             "minorgridcolor":"white",
             "startlinecolor":"#2a3f5f"
            },
            "baxis":{
             "endlinecolor":"#2a3f5f",
             "gridcolor":"white",
             "linecolor":"white",
             "minorgridcolor":"white",
             "startlinecolor":"#2a3f5f"
            },
            "type":"carpet"
           }
          ],
          "table":[
           {
            "cells":{
             "fill":{
              "color":"#EBF0F8"
             },
             "line":{
              "color":"white"
             }
            },
            "header":{
             "fill":{
              "color":"#C8D4E3"
             },
             "line":{
              "color":"white"
             }
            },
            "type":"table"
           }
          ],
          "barpolar":[
           {
            "marker":{
             "line":{
              "color":"#E5ECF6",
              "width":0.5
             },
             "pattern":{
              "fillmode":"overlay",
              "size":10,
              "solidity":0.2
             }
            },
            "type":"barpolar"
           }
          ],
          "pie":[
           {
            "automargin":true,
            "type":"pie"
           }
          ]
         },
         "layout":{
          "autotypenumbers":"strict",
          "colorway":[
           "#636efa",
           "#EF553B",
           "#00cc96",
           "#ab63fa",
           "#FFA15A",
           "#19d3f3",
           "#FF6692",
           "#B6E880",
           "#FF97FF",
           "#FECB52"
          ],
          "font":{
           "color":"#2a3f5f"
          },
          "hovermode":"closest",
          "hoverlabel":{
           "align":"left"
          },
          "paper_bgcolor":"white",
          "plot_bgcolor":"#E5ECF6",
          "polar":{
           "bgcolor":"#E5ECF6",
           "angularaxis":{
            "gridcolor":"white",
            "linecolor":"white",
            "ticks":""
           },
           "radialaxis":{
            "gridcolor":"white",
            "linecolor":"white",
            "ticks":""
           }
          },
          "ternary":{
           "bgcolor":"#E5ECF6",
           "aaxis":{
            "gridcolor":"white",
            "linecolor":"white",
            "ticks":""
           },
           "baxis":{
            "gridcolor":"white",
            "linecolor":"white",
            "ticks":""
           },
           "caxis":{
            "gridcolor":"white",
            "linecolor":"white",
            "ticks":""
           }
          },
          "coloraxis":{
           "colorbar":{
            "outlinewidth":0,
            "ticks":""
           }
          },
          "colorscale":{
           "sequential":[
            [
             0,
             "#0d0887"
            ],
            [
             0.1111111111111111,
             "#46039f"
            ],
            [
             0.2222222222222222,
             "#7201a8"
            ],
            [
             0.3333333333333333,
             "#9c179e"
            ],
            [
             0.4444444444444444,
             "#bd3786"
            ],
            [
             0.5555555555555556,
             "#d8576b"
            ],
            [
             0.6666666666666666,
             "#ed7953"
            ],
            [
             0.7777777777777778,
             "#fb9f3a"
            ],
            [
             0.8888888888888888,
             "#fdca26"
            ],
            [
             1,
             "#f0f921"
            ]
           ],
           "sequentialminus":[
            [
             0,
             "#0d0887"
            ],
            [
             0.1111111111111111,
             "#46039f"
            ],
            [
             0.2222222222222222,
             "#7201a8"
            ],
            [
             0.3333333333333333,
             "#9c179e"
            ],
            [
             0.4444444444444444,
             "#bd3786"
            ],
            [
             0.5555555555555556,
             "#d8576b"
            ],
            [
             0.6666666666666666,
             "#ed7953"
            ],
            [
             0.7777777777777778,
             "#fb9f3a"
            ],
            [
             0.8888888888888888,
             "#fdca26"
            ],
            [
             1,
             "#f0f921"
            ]
           ],
           "diverging":[
            [
             0,
             "#8e0152"
            ],
            [
             0.1,
             "#c51b7d"
            ],
            [
             0.2,
             "#de77ae"
            ],
            [
             0.3,
             "#f1b6da"
            ],
            [
             0.4,
             "#fde0ef"
            ],
            [
             0.5,
             "#f7f7f7"
            ],
            [
             0.6,
             "#e6f5d0"
            ],
            [
             0.7,
             "#b8e186"
            ],
            [
             0.8,
             "#7fbc41"
            ],
            [
             0.9,
             "#4d9221"
            ],
            [
             1,
             "#276419"
            ]
           ]
          },
          "xaxis":{
           "gridcolor":"white",
           "linecolor":"white",
           "ticks":"",
           "title":{
            "standoff":15
           },
           "zerolinecolor":"white",
           "automargin":true,
           "zerolinewidth":2
          },
          "yaxis":{
           "gridcolor":"white",
           "linecolor":"white",
           "ticks":"",
           "title":{
            "standoff":15
           },
           "zerolinecolor":"white",
           "automargin":true,
           "zerolinewidth":2
          },
          "scene":{
           "xaxis":{
            "backgroundcolor":"#E5ECF6",
            "gridcolor":"white",
            "linecolor":"white",
            "showbackground":true,
            "ticks":"",
            "zerolinecolor":"white",
            "gridwidth":2
           },
           "yaxis":{
            "backgroundcolor":"#E5ECF6",
            "gridcolor":"white",
            "linecolor":"white",
            "showbackground":true,
            "ticks":"",
            "zerolinecolor":"white",
            "gridwidth":2
           },
           "zaxis":{
            "backgroundcolor":"#E5ECF6",
            "gridcolor":"white",
            "linecolor":"white",
            "showbackground":true,
            "ticks":"",
            "zerolinecolor":"white",
            "gridwidth":2
           }
          },
          "shapedefaults":{
           "line":{
            "color":"#2a3f5f"
           }
          },
          "annotationdefaults":{
           "arrowcolor":"#2a3f5f",
           "arrowhead":0,
           "arrowwidth":1
          },
          "geo":{
           "bgcolor":"white",
           "landcolor":"#E5ECF6",
           "subunitcolor":"white",
           "showland":true,
           "showlakes":true,
           "lakecolor":"white"
          },
          "title":{
           "x":0.05
          },
          "mapbox":{
           "style":"light"
          }
         }
        }
       },
       "config":{
        "plotlyServerURL":"https:\/\/plot.ly"
       }
      }
     },
     "metadata":{},
     "output_type":"display_data"
    }
   ],
   "metadata":{
    "datalore":{
     "node_id":"7iJPtTJJo5jr8kN9EObvDh",
     "type":"CODE",
     "hide_input_from_viewers":true,
     "hide_output_from_viewers":true
    }
   }
  },
  {
   "cell_type":"markdown",
   "source":[
    "# Bublinový graf\n",
    "Bublinové grafy rozširujú scatter ploty tým, že veľkosť bubliny reprezentuje ďalšiu dimenziu dát"
   ],
   "attachments":{},
   "metadata":{
    "datalore":{
     "node_id":"JoYxDS2SrasUNmwX7yekpB",
     "type":"MD",
     "hide_input_from_viewers":true,
     "hide_output_from_viewers":true
    }
   }
  },
  {
   "cell_type":"code",
   "source":[],
   "execution_count":27,
   "outputs":[
    {
     "data":{
      "application\/vnd.plotly.v1+json":{
       "data":[
        {
         "marker":{
          "size":[
           30,
           80,
           200,
           100
          ]
         },
         "mode":"markers",
         "x":[
          1,
          2,
          3,
          4
         ],
         "y":[
          10,
          11,
          12,
          13
         ],
         "type":"scatter"
        }
       ],
       "layout":{
        "template":{
         "data":{
          "histogram2dcontour":[
           {
            "type":"histogram2dcontour",
            "colorbar":{
             "outlinewidth":0,
             "ticks":""
            },
            "colorscale":[
             [
              0,
              "#0d0887"
             ],
             [
              0.1111111111111111,
              "#46039f"
             ],
             [
              0.2222222222222222,
              "#7201a8"
             ],
             [
              0.3333333333333333,
              "#9c179e"
             ],
             [
              0.4444444444444444,
              "#bd3786"
             ],
             [
              0.5555555555555556,
              "#d8576b"
             ],
             [
              0.6666666666666666,
              "#ed7953"
             ],
             [
              0.7777777777777778,
              "#fb9f3a"
             ],
             [
              0.8888888888888888,
              "#fdca26"
             ],
             [
              1,
              "#f0f921"
             ]
            ]
           }
          ],
          "choropleth":[
           {
            "type":"choropleth",
            "colorbar":{
             "outlinewidth":0,
             "ticks":""
            }
           }
          ],
          "histogram2d":[
           {
            "type":"histogram2d",
            "colorbar":{
             "outlinewidth":0,
             "ticks":""
            },
            "colorscale":[
             [
              0,
              "#0d0887"
             ],
             [
              0.1111111111111111,
              "#46039f"
             ],
             [
              0.2222222222222222,
              "#7201a8"
             ],
             [
              0.3333333333333333,
              "#9c179e"
             ],
             [
              0.4444444444444444,
              "#bd3786"
             ],
             [
              0.5555555555555556,
              "#d8576b"
             ],
             [
              0.6666666666666666,
              "#ed7953"
             ],
             [
              0.7777777777777778,
              "#fb9f3a"
             ],
             [
              0.8888888888888888,
              "#fdca26"
             ],
             [
              1,
              "#f0f921"
             ]
            ]
           }
          ],
          "heatmap":[
           {
            "type":"heatmap",
            "colorbar":{
             "outlinewidth":0,
             "ticks":""
            },
            "colorscale":[
             [
              0,
              "#0d0887"
             ],
             [
              0.1111111111111111,
              "#46039f"
             ],
             [
              0.2222222222222222,
              "#7201a8"
             ],
             [
              0.3333333333333333,
              "#9c179e"
             ],
             [
              0.4444444444444444,
              "#bd3786"
             ],
             [
              0.5555555555555556,
              "#d8576b"
             ],
             [
              0.6666666666666666,
              "#ed7953"
             ],
             [
              0.7777777777777778,
              "#fb9f3a"
             ],
             [
              0.8888888888888888,
              "#fdca26"
             ],
             [
              1,
              "#f0f921"
             ]
            ]
           }
          ],
          "heatmapgl":[
           {
            "type":"heatmapgl",
            "colorbar":{
             "outlinewidth":0,
             "ticks":""
            },
            "colorscale":[
             [
              0,
              "#0d0887"
             ],
             [
              0.1111111111111111,
              "#46039f"
             ],
             [
              0.2222222222222222,
              "#7201a8"
             ],
             [
              0.3333333333333333,
              "#9c179e"
             ],
             [
              0.4444444444444444,
              "#bd3786"
             ],
             [
              0.5555555555555556,
              "#d8576b"
             ],
             [
              0.6666666666666666,
              "#ed7953"
             ],
             [
              0.7777777777777778,
              "#fb9f3a"
             ],
             [
              0.8888888888888888,
              "#fdca26"
             ],
             [
              1,
              "#f0f921"
             ]
            ]
           }
          ],
          "contourcarpet":[
           {
            "type":"contourcarpet",
            "colorbar":{
             "outlinewidth":0,
             "ticks":""
            }
           }
          ],
          "contour":[
           {
            "type":"contour",
            "colorbar":{
             "outlinewidth":0,
             "ticks":""
            },
            "colorscale":[
             [
              0,
              "#0d0887"
             ],
             [
              0.1111111111111111,
              "#46039f"
             ],
             [
              0.2222222222222222,
              "#7201a8"
             ],
             [
              0.3333333333333333,
              "#9c179e"
             ],
             [
              0.4444444444444444,
              "#bd3786"
             ],
             [
              0.5555555555555556,
              "#d8576b"
             ],
             [
              0.6666666666666666,
              "#ed7953"
             ],
             [
              0.7777777777777778,
              "#fb9f3a"
             ],
             [
              0.8888888888888888,
              "#fdca26"
             ],
             [
              1,
              "#f0f921"
             ]
            ]
           }
          ],
          "surface":[
           {
            "type":"surface",
            "colorbar":{
             "outlinewidth":0,
             "ticks":""
            },
            "colorscale":[
             [
              0,
              "#0d0887"
             ],
             [
              0.1111111111111111,
              "#46039f"
             ],
             [
              0.2222222222222222,
              "#7201a8"
             ],
             [
              0.3333333333333333,
              "#9c179e"
             ],
             [
              0.4444444444444444,
              "#bd3786"
             ],
             [
              0.5555555555555556,
              "#d8576b"
             ],
             [
              0.6666666666666666,
              "#ed7953"
             ],
             [
              0.7777777777777778,
              "#fb9f3a"
             ],
             [
              0.8888888888888888,
              "#fdca26"
             ],
             [
              1,
              "#f0f921"
             ]
            ]
           }
          ],
          "mesh3d":[
           {
            "type":"mesh3d",
            "colorbar":{
             "outlinewidth":0,
             "ticks":""
            }
           }
          ],
          "scatter":[
           {
            "fillpattern":{
             "fillmode":"overlay",
             "size":10,
             "solidity":0.2
            },
            "type":"scatter"
           }
          ],
          "parcoords":[
           {
            "type":"parcoords",
            "line":{
             "colorbar":{
              "outlinewidth":0,
              "ticks":""
             }
            }
           }
          ],
          "scatterpolargl":[
           {
            "type":"scatterpolargl",
            "marker":{
             "colorbar":{
              "outlinewidth":0,
              "ticks":""
             }
            }
           }
          ],
          "bar":[
           {
            "error_x":{
             "color":"#2a3f5f"
            },
            "error_y":{
             "color":"#2a3f5f"
            },
            "marker":{
             "line":{
              "color":"#E5ECF6",
              "width":0.5
             },
             "pattern":{
              "fillmode":"overlay",
              "size":10,
              "solidity":0.2
             }
            },
            "type":"bar"
           }
          ],
          "scattergeo":[
           {
            "type":"scattergeo",
            "marker":{
             "colorbar":{
              "outlinewidth":0,
              "ticks":""
             }
            }
           }
          ],
          "scatterpolar":[
           {
            "type":"scatterpolar",
            "marker":{
             "colorbar":{
              "outlinewidth":0,
              "ticks":""
             }
            }
           }
          ],
          "histogram":[
           {
            "marker":{
             "pattern":{
              "fillmode":"overlay",
              "size":10,
              "solidity":0.2
             }
            },
            "type":"histogram"
           }
          ],
          "scattergl":[
           {
            "type":"scattergl",
            "marker":{
             "colorbar":{
              "outlinewidth":0,
              "ticks":""
             }
            }
           }
          ],
          "scatter3d":[
           {
            "type":"scatter3d",
            "line":{
             "colorbar":{
              "outlinewidth":0,
              "ticks":""
             }
            },
            "marker":{
             "colorbar":{
              "outlinewidth":0,
              "ticks":""
             }
            }
           }
          ],
          "scattermapbox":[
           {
            "type":"scattermapbox",
            "marker":{
             "colorbar":{
              "outlinewidth":0,
              "ticks":""
             }
            }
           }
          ],
          "scatterternary":[
           {
            "type":"scatterternary",
            "marker":{
             "colorbar":{
              "outlinewidth":0,
              "ticks":""
             }
            }
           }
          ],
          "scattercarpet":[
           {
            "type":"scattercarpet",
            "marker":{
             "colorbar":{
              "outlinewidth":0,
              "ticks":""
             }
            }
           }
          ],
          "carpet":[
           {
            "aaxis":{
             "endlinecolor":"#2a3f5f",
             "gridcolor":"white",
             "linecolor":"white",
             "minorgridcolor":"white",
             "startlinecolor":"#2a3f5f"
            },
            "baxis":{
             "endlinecolor":"#2a3f5f",
             "gridcolor":"white",
             "linecolor":"white",
             "minorgridcolor":"white",
             "startlinecolor":"#2a3f5f"
            },
            "type":"carpet"
           }
          ],
          "table":[
           {
            "cells":{
             "fill":{
              "color":"#EBF0F8"
             },
             "line":{
              "color":"white"
             }
            },
            "header":{
             "fill":{
              "color":"#C8D4E3"
             },
             "line":{
              "color":"white"
             }
            },
            "type":"table"
           }
          ],
          "barpolar":[
           {
            "marker":{
             "line":{
              "color":"#E5ECF6",
              "width":0.5
             },
             "pattern":{
              "fillmode":"overlay",
              "size":10,
              "solidity":0.2
             }
            },
            "type":"barpolar"
           }
          ],
          "pie":[
           {
            "automargin":true,
            "type":"pie"
           }
          ]
         },
         "layout":{
          "autotypenumbers":"strict",
          "colorway":[
           "#636efa",
           "#EF553B",
           "#00cc96",
           "#ab63fa",
           "#FFA15A",
           "#19d3f3",
           "#FF6692",
           "#B6E880",
           "#FF97FF",
           "#FECB52"
          ],
          "font":{
           "color":"#2a3f5f"
          },
          "hovermode":"closest",
          "hoverlabel":{
           "align":"left"
          },
          "paper_bgcolor":"white",
          "plot_bgcolor":"#E5ECF6",
          "polar":{
           "bgcolor":"#E5ECF6",
           "angularaxis":{
            "gridcolor":"white",
            "linecolor":"white",
            "ticks":""
           },
           "radialaxis":{
            "gridcolor":"white",
            "linecolor":"white",
            "ticks":""
           }
          },
          "ternary":{
           "bgcolor":"#E5ECF6",
           "aaxis":{
            "gridcolor":"white",
            "linecolor":"white",
            "ticks":""
           },
           "baxis":{
            "gridcolor":"white",
            "linecolor":"white",
            "ticks":""
           },
           "caxis":{
            "gridcolor":"white",
            "linecolor":"white",
            "ticks":""
           }
          },
          "coloraxis":{
           "colorbar":{
            "outlinewidth":0,
            "ticks":""
           }
          },
          "colorscale":{
           "sequential":[
            [
             0,
             "#0d0887"
            ],
            [
             0.1111111111111111,
             "#46039f"
            ],
            [
             0.2222222222222222,
             "#7201a8"
            ],
            [
             0.3333333333333333,
             "#9c179e"
            ],
            [
             0.4444444444444444,
             "#bd3786"
            ],
            [
             0.5555555555555556,
             "#d8576b"
            ],
            [
             0.6666666666666666,
             "#ed7953"
            ],
            [
             0.7777777777777778,
             "#fb9f3a"
            ],
            [
             0.8888888888888888,
             "#fdca26"
            ],
            [
             1,
             "#f0f921"
            ]
           ],
           "sequentialminus":[
            [
             0,
             "#0d0887"
            ],
            [
             0.1111111111111111,
             "#46039f"
            ],
            [
             0.2222222222222222,
             "#7201a8"
            ],
            [
             0.3333333333333333,
             "#9c179e"
            ],
            [
             0.4444444444444444,
             "#bd3786"
            ],
            [
             0.5555555555555556,
             "#d8576b"
            ],
            [
             0.6666666666666666,
             "#ed7953"
            ],
            [
             0.7777777777777778,
             "#fb9f3a"
            ],
            [
             0.8888888888888888,
             "#fdca26"
            ],
            [
             1,
             "#f0f921"
            ]
           ],
           "diverging":[
            [
             0,
             "#8e0152"
            ],
            [
             0.1,
             "#c51b7d"
            ],
            [
             0.2,
             "#de77ae"
            ],
            [
             0.3,
             "#f1b6da"
            ],
            [
             0.4,
             "#fde0ef"
            ],
            [
             0.5,
             "#f7f7f7"
            ],
            [
             0.6,
             "#e6f5d0"
            ],
            [
             0.7,
             "#b8e186"
            ],
            [
             0.8,
             "#7fbc41"
            ],
            [
             0.9,
             "#4d9221"
            ],
            [
             1,
             "#276419"
            ]
           ]
          },
          "xaxis":{
           "gridcolor":"white",
           "linecolor":"white",
           "ticks":"",
           "title":{
            "standoff":15
           },
           "zerolinecolor":"white",
           "automargin":true,
           "zerolinewidth":2
          },
          "yaxis":{
           "gridcolor":"white",
           "linecolor":"white",
           "ticks":"",
           "title":{
            "standoff":15
           },
           "zerolinecolor":"white",
           "automargin":true,
           "zerolinewidth":2
          },
          "scene":{
           "xaxis":{
            "backgroundcolor":"#E5ECF6",
            "gridcolor":"white",
            "linecolor":"white",
            "showbackground":true,
            "ticks":"",
            "zerolinecolor":"white",
            "gridwidth":2
           },
           "yaxis":{
            "backgroundcolor":"#E5ECF6",
            "gridcolor":"white",
            "linecolor":"white",
            "showbackground":true,
            "ticks":"",
            "zerolinecolor":"white",
            "gridwidth":2
           },
           "zaxis":{
            "backgroundcolor":"#E5ECF6",
            "gridcolor":"white",
            "linecolor":"white",
            "showbackground":true,
            "ticks":"",
            "zerolinecolor":"white",
            "gridwidth":2
           }
          },
          "shapedefaults":{
           "line":{
            "color":"#2a3f5f"
           }
          },
          "annotationdefaults":{
           "arrowcolor":"#2a3f5f",
           "arrowhead":0,
           "arrowwidth":1
          },
          "geo":{
           "bgcolor":"white",
           "landcolor":"#E5ECF6",
           "subunitcolor":"white",
           "showland":true,
           "showlakes":true,
           "lakecolor":"white"
          },
          "title":{
           "x":0.05
          },
          "mapbox":{
           "style":"light"
          }
         }
        }
       },
       "config":{
        "plotlyServerURL":"https:\/\/plot.ly"
       }
      }
     },
     "metadata":{},
     "output_type":"display_data"
    }
   ],
   "metadata":{
    "datalore":{
     "node_id":"0B4GuyNt67Oq9q1JbVISdf",
     "type":"CODE",
     "hide_input_from_viewers":true,
     "hide_output_from_viewers":true
    }
   }
  },
  {
   "cell_type":"markdown",
   "source":[
    "## Box Plot\n",
    "Box ploty (alebo box-and-whisker grafy) sú užitočné na zobrazovanie distribúcie dát cez kvartily, odhalenie odľahlých hodnôt a porovnanie distribúcií medzi rôznymi skupinami."
   ],
   "attachments":{},
   "metadata":{
    "datalore":{
     "node_id":"Nrcp9aWEsyHmwbGmIx8aVI",
     "type":"MD",
     "hide_input_from_viewers":true,
     "hide_output_from_viewers":true
    }
   }
  },
  {
   "cell_type":"code",
   "source":[],
   "execution_count":28,
   "outputs":[
    {
     "data":{
      "application\/vnd.plotly.v1+json":{
       "data":[
        {
         "name":"Skupina 1",
         "y":[
          1,
          2,
          3,
          4,
          5
         ],
         "type":"box"
        },
        {
         "name":"Skupina 2",
         "y":[
          1,
          2,
          2,
          3,
          5
         ],
         "type":"box"
        }
       ],
       "layout":{
        "template":{
         "data":{
          "histogram2dcontour":[
           {
            "type":"histogram2dcontour",
            "colorbar":{
             "outlinewidth":0,
             "ticks":""
            },
            "colorscale":[
             [
              0,
              "#0d0887"
             ],
             [
              0.1111111111111111,
              "#46039f"
             ],
             [
              0.2222222222222222,
              "#7201a8"
             ],
             [
              0.3333333333333333,
              "#9c179e"
             ],
             [
              0.4444444444444444,
              "#bd3786"
             ],
             [
              0.5555555555555556,
              "#d8576b"
             ],
             [
              0.6666666666666666,
              "#ed7953"
             ],
             [
              0.7777777777777778,
              "#fb9f3a"
             ],
             [
              0.8888888888888888,
              "#fdca26"
             ],
             [
              1,
              "#f0f921"
             ]
            ]
           }
          ],
          "choropleth":[
           {
            "type":"choropleth",
            "colorbar":{
             "outlinewidth":0,
             "ticks":""
            }
           }
          ],
          "histogram2d":[
           {
            "type":"histogram2d",
            "colorbar":{
             "outlinewidth":0,
             "ticks":""
            },
            "colorscale":[
             [
              0,
              "#0d0887"
             ],
             [
              0.1111111111111111,
              "#46039f"
             ],
             [
              0.2222222222222222,
              "#7201a8"
             ],
             [
              0.3333333333333333,
              "#9c179e"
             ],
             [
              0.4444444444444444,
              "#bd3786"
             ],
             [
              0.5555555555555556,
              "#d8576b"
             ],
             [
              0.6666666666666666,
              "#ed7953"
             ],
             [
              0.7777777777777778,
              "#fb9f3a"
             ],
             [
              0.8888888888888888,
              "#fdca26"
             ],
             [
              1,
              "#f0f921"
             ]
            ]
           }
          ],
          "heatmap":[
           {
            "type":"heatmap",
            "colorbar":{
             "outlinewidth":0,
             "ticks":""
            },
            "colorscale":[
             [
              0,
              "#0d0887"
             ],
             [
              0.1111111111111111,
              "#46039f"
             ],
             [
              0.2222222222222222,
              "#7201a8"
             ],
             [
              0.3333333333333333,
              "#9c179e"
             ],
             [
              0.4444444444444444,
              "#bd3786"
             ],
             [
              0.5555555555555556,
              "#d8576b"
             ],
             [
              0.6666666666666666,
              "#ed7953"
             ],
             [
              0.7777777777777778,
              "#fb9f3a"
             ],
             [
              0.8888888888888888,
              "#fdca26"
             ],
             [
              1,
              "#f0f921"
             ]
            ]
           }
          ],
          "heatmapgl":[
           {
            "type":"heatmapgl",
            "colorbar":{
             "outlinewidth":0,
             "ticks":""
            },
            "colorscale":[
             [
              0,
              "#0d0887"
             ],
             [
              0.1111111111111111,
              "#46039f"
             ],
             [
              0.2222222222222222,
              "#7201a8"
             ],
             [
              0.3333333333333333,
              "#9c179e"
             ],
             [
              0.4444444444444444,
              "#bd3786"
             ],
             [
              0.5555555555555556,
              "#d8576b"
             ],
             [
              0.6666666666666666,
              "#ed7953"
             ],
             [
              0.7777777777777778,
              "#fb9f3a"
             ],
             [
              0.8888888888888888,
              "#fdca26"
             ],
             [
              1,
              "#f0f921"
             ]
            ]
           }
          ],
          "contourcarpet":[
           {
            "type":"contourcarpet",
            "colorbar":{
             "outlinewidth":0,
             "ticks":""
            }
           }
          ],
          "contour":[
           {
            "type":"contour",
            "colorbar":{
             "outlinewidth":0,
             "ticks":""
            },
            "colorscale":[
             [
              0,
              "#0d0887"
             ],
             [
              0.1111111111111111,
              "#46039f"
             ],
             [
              0.2222222222222222,
              "#7201a8"
             ],
             [
              0.3333333333333333,
              "#9c179e"
             ],
             [
              0.4444444444444444,
              "#bd3786"
             ],
             [
              0.5555555555555556,
              "#d8576b"
             ],
             [
              0.6666666666666666,
              "#ed7953"
             ],
             [
              0.7777777777777778,
              "#fb9f3a"
             ],
             [
              0.8888888888888888,
              "#fdca26"
             ],
             [
              1,
              "#f0f921"
             ]
            ]
           }
          ],
          "surface":[
           {
            "type":"surface",
            "colorbar":{
             "outlinewidth":0,
             "ticks":""
            },
            "colorscale":[
             [
              0,
              "#0d0887"
             ],
             [
              0.1111111111111111,
              "#46039f"
             ],
             [
              0.2222222222222222,
              "#7201a8"
             ],
             [
              0.3333333333333333,
              "#9c179e"
             ],
             [
              0.4444444444444444,
              "#bd3786"
             ],
             [
              0.5555555555555556,
              "#d8576b"
             ],
             [
              0.6666666666666666,
              "#ed7953"
             ],
             [
              0.7777777777777778,
              "#fb9f3a"
             ],
             [
              0.8888888888888888,
              "#fdca26"
             ],
             [
              1,
              "#f0f921"
             ]
            ]
           }
          ],
          "mesh3d":[
           {
            "type":"mesh3d",
            "colorbar":{
             "outlinewidth":0,
             "ticks":""
            }
           }
          ],
          "scatter":[
           {
            "fillpattern":{
             "fillmode":"overlay",
             "size":10,
             "solidity":0.2
            },
            "type":"scatter"
           }
          ],
          "parcoords":[
           {
            "type":"parcoords",
            "line":{
             "colorbar":{
              "outlinewidth":0,
              "ticks":""
             }
            }
           }
          ],
          "scatterpolargl":[
           {
            "type":"scatterpolargl",
            "marker":{
             "colorbar":{
              "outlinewidth":0,
              "ticks":""
             }
            }
           }
          ],
          "bar":[
           {
            "error_x":{
             "color":"#2a3f5f"
            },
            "error_y":{
             "color":"#2a3f5f"
            },
            "marker":{
             "line":{
              "color":"#E5ECF6",
              "width":0.5
             },
             "pattern":{
              "fillmode":"overlay",
              "size":10,
              "solidity":0.2
             }
            },
            "type":"bar"
           }
          ],
          "scattergeo":[
           {
            "type":"scattergeo",
            "marker":{
             "colorbar":{
              "outlinewidth":0,
              "ticks":""
             }
            }
           }
          ],
          "scatterpolar":[
           {
            "type":"scatterpolar",
            "marker":{
             "colorbar":{
              "outlinewidth":0,
              "ticks":""
             }
            }
           }
          ],
          "histogram":[
           {
            "marker":{
             "pattern":{
              "fillmode":"overlay",
              "size":10,
              "solidity":0.2
             }
            },
            "type":"histogram"
           }
          ],
          "scattergl":[
           {
            "type":"scattergl",
            "marker":{
             "colorbar":{
              "outlinewidth":0,
              "ticks":""
             }
            }
           }
          ],
          "scatter3d":[
           {
            "type":"scatter3d",
            "line":{
             "colorbar":{
              "outlinewidth":0,
              "ticks":""
             }
            },
            "marker":{
             "colorbar":{
              "outlinewidth":0,
              "ticks":""
             }
            }
           }
          ],
          "scattermapbox":[
           {
            "type":"scattermapbox",
            "marker":{
             "colorbar":{
              "outlinewidth":0,
              "ticks":""
             }
            }
           }
          ],
          "scatterternary":[
           {
            "type":"scatterternary",
            "marker":{
             "colorbar":{
              "outlinewidth":0,
              "ticks":""
             }
            }
           }
          ],
          "scattercarpet":[
           {
            "type":"scattercarpet",
            "marker":{
             "colorbar":{
              "outlinewidth":0,
              "ticks":""
             }
            }
           }
          ],
          "carpet":[
           {
            "aaxis":{
             "endlinecolor":"#2a3f5f",
             "gridcolor":"white",
             "linecolor":"white",
             "minorgridcolor":"white",
             "startlinecolor":"#2a3f5f"
            },
            "baxis":{
             "endlinecolor":"#2a3f5f",
             "gridcolor":"white",
             "linecolor":"white",
             "minorgridcolor":"white",
             "startlinecolor":"#2a3f5f"
            },
            "type":"carpet"
           }
          ],
          "table":[
           {
            "cells":{
             "fill":{
              "color":"#EBF0F8"
             },
             "line":{
              "color":"white"
             }
            },
            "header":{
             "fill":{
              "color":"#C8D4E3"
             },
             "line":{
              "color":"white"
             }
            },
            "type":"table"
           }
          ],
          "barpolar":[
           {
            "marker":{
             "line":{
              "color":"#E5ECF6",
              "width":0.5
             },
             "pattern":{
              "fillmode":"overlay",
              "size":10,
              "solidity":0.2
             }
            },
            "type":"barpolar"
           }
          ],
          "pie":[
           {
            "automargin":true,
            "type":"pie"
           }
          ]
         },
         "layout":{
          "autotypenumbers":"strict",
          "colorway":[
           "#636efa",
           "#EF553B",
           "#00cc96",
           "#ab63fa",
           "#FFA15A",
           "#19d3f3",
           "#FF6692",
           "#B6E880",
           "#FF97FF",
           "#FECB52"
          ],
          "font":{
           "color":"#2a3f5f"
          },
          "hovermode":"closest",
          "hoverlabel":{
           "align":"left"
          },
          "paper_bgcolor":"white",
          "plot_bgcolor":"#E5ECF6",
          "polar":{
           "bgcolor":"#E5ECF6",
           "angularaxis":{
            "gridcolor":"white",
            "linecolor":"white",
            "ticks":""
           },
           "radialaxis":{
            "gridcolor":"white",
            "linecolor":"white",
            "ticks":""
           }
          },
          "ternary":{
           "bgcolor":"#E5ECF6",
           "aaxis":{
            "gridcolor":"white",
            "linecolor":"white",
            "ticks":""
           },
           "baxis":{
            "gridcolor":"white",
            "linecolor":"white",
            "ticks":""
           },
           "caxis":{
            "gridcolor":"white",
            "linecolor":"white",
            "ticks":""
           }
          },
          "coloraxis":{
           "colorbar":{
            "outlinewidth":0,
            "ticks":""
           }
          },
          "colorscale":{
           "sequential":[
            [
             0,
             "#0d0887"
            ],
            [
             0.1111111111111111,
             "#46039f"
            ],
            [
             0.2222222222222222,
             "#7201a8"
            ],
            [
             0.3333333333333333,
             "#9c179e"
            ],
            [
             0.4444444444444444,
             "#bd3786"
            ],
            [
             0.5555555555555556,
             "#d8576b"
            ],
            [
             0.6666666666666666,
             "#ed7953"
            ],
            [
             0.7777777777777778,
             "#fb9f3a"
            ],
            [
             0.8888888888888888,
             "#fdca26"
            ],
            [
             1,
             "#f0f921"
            ]
           ],
           "sequentialminus":[
            [
             0,
             "#0d0887"
            ],
            [
             0.1111111111111111,
             "#46039f"
            ],
            [
             0.2222222222222222,
             "#7201a8"
            ],
            [
             0.3333333333333333,
             "#9c179e"
            ],
            [
             0.4444444444444444,
             "#bd3786"
            ],
            [
             0.5555555555555556,
             "#d8576b"
            ],
            [
             0.6666666666666666,
             "#ed7953"
            ],
            [
             0.7777777777777778,
             "#fb9f3a"
            ],
            [
             0.8888888888888888,
             "#fdca26"
            ],
            [
             1,
             "#f0f921"
            ]
           ],
           "diverging":[
            [
             0,
             "#8e0152"
            ],
            [
             0.1,
             "#c51b7d"
            ],
            [
             0.2,
             "#de77ae"
            ],
            [
             0.3,
             "#f1b6da"
            ],
            [
             0.4,
             "#fde0ef"
            ],
            [
             0.5,
             "#f7f7f7"
            ],
            [
             0.6,
             "#e6f5d0"
            ],
            [
             0.7,
             "#b8e186"
            ],
            [
             0.8,
             "#7fbc41"
            ],
            [
             0.9,
             "#4d9221"
            ],
            [
             1,
             "#276419"
            ]
           ]
          },
          "xaxis":{
           "gridcolor":"white",
           "linecolor":"white",
           "ticks":"",
           "title":{
            "standoff":15
           },
           "zerolinecolor":"white",
           "automargin":true,
           "zerolinewidth":2
          },
          "yaxis":{
           "gridcolor":"white",
           "linecolor":"white",
           "ticks":"",
           "title":{
            "standoff":15
           },
           "zerolinecolor":"white",
           "automargin":true,
           "zerolinewidth":2
          },
          "scene":{
           "xaxis":{
            "backgroundcolor":"#E5ECF6",
            "gridcolor":"white",
            "linecolor":"white",
            "showbackground":true,
            "ticks":"",
            "zerolinecolor":"white",
            "gridwidth":2
           },
           "yaxis":{
            "backgroundcolor":"#E5ECF6",
            "gridcolor":"white",
            "linecolor":"white",
            "showbackground":true,
            "ticks":"",
            "zerolinecolor":"white",
            "gridwidth":2
           },
           "zaxis":{
            "backgroundcolor":"#E5ECF6",
            "gridcolor":"white",
            "linecolor":"white",
            "showbackground":true,
            "ticks":"",
            "zerolinecolor":"white",
            "gridwidth":2
           }
          },
          "shapedefaults":{
           "line":{
            "color":"#2a3f5f"
           }
          },
          "annotationdefaults":{
           "arrowcolor":"#2a3f5f",
           "arrowhead":0,
           "arrowwidth":1
          },
          "geo":{
           "bgcolor":"white",
           "landcolor":"#E5ECF6",
           "subunitcolor":"white",
           "showland":true,
           "showlakes":true,
           "lakecolor":"white"
          },
          "title":{
           "x":0.05
          },
          "mapbox":{
           "style":"light"
          }
         }
        }
       },
       "config":{
        "plotlyServerURL":"https:\/\/plot.ly"
       }
      }
     },
     "metadata":{},
     "output_type":"display_data"
    }
   ],
   "metadata":{
    "datalore":{
     "node_id":"LKUx3VEl3Lv9fl4MTSkEou",
     "type":"CODE",
     "hide_input_from_viewers":true,
     "hide_output_from_viewers":true
    }
   }
  },
  {
   "cell_type":"code",
   "source":[],
   "execution_count":29,
   "outputs":[
    {
     "data":{
      "application\/vnd.plotly.v1+json":{
       "data":[
        {
         "base":1000,
         "measure":[
          "relative",
          "relative",
          "total",
          "relative",
          "total"
         ],
         "x":[
          "Štart",
          "Predaj",
          "Marketing",
          "Vývoj",
          "Zisk"
         ],
         "y":[
          0,
          400,
          -300,
          -200,
          300
         ],
         "type":"waterfall"
        }
       ],
       "layout":{
        "template":{
         "data":{
          "histogram2dcontour":[
           {
            "type":"histogram2dcontour",
            "colorbar":{
             "outlinewidth":0,
             "ticks":""
            },
            "colorscale":[
             [
              0,
              "#0d0887"
             ],
             [
              0.1111111111111111,
              "#46039f"
             ],
             [
              0.2222222222222222,
              "#7201a8"
             ],
             [
              0.3333333333333333,
              "#9c179e"
             ],
             [
              0.4444444444444444,
              "#bd3786"
             ],
             [
              0.5555555555555556,
              "#d8576b"
             ],
             [
              0.6666666666666666,
              "#ed7953"
             ],
             [
              0.7777777777777778,
              "#fb9f3a"
             ],
             [
              0.8888888888888888,
              "#fdca26"
             ],
             [
              1,
              "#f0f921"
             ]
            ]
           }
          ],
          "choropleth":[
           {
            "type":"choropleth",
            "colorbar":{
             "outlinewidth":0,
             "ticks":""
            }
           }
          ],
          "histogram2d":[
           {
            "type":"histogram2d",
            "colorbar":{
             "outlinewidth":0,
             "ticks":""
            },
            "colorscale":[
             [
              0,
              "#0d0887"
             ],
             [
              0.1111111111111111,
              "#46039f"
             ],
             [
              0.2222222222222222,
              "#7201a8"
             ],
             [
              0.3333333333333333,
              "#9c179e"
             ],
             [
              0.4444444444444444,
              "#bd3786"
             ],
             [
              0.5555555555555556,
              "#d8576b"
             ],
             [
              0.6666666666666666,
              "#ed7953"
             ],
             [
              0.7777777777777778,
              "#fb9f3a"
             ],
             [
              0.8888888888888888,
              "#fdca26"
             ],
             [
              1,
              "#f0f921"
             ]
            ]
           }
          ],
          "heatmap":[
           {
            "type":"heatmap",
            "colorbar":{
             "outlinewidth":0,
             "ticks":""
            },
            "colorscale":[
             [
              0,
              "#0d0887"
             ],
             [
              0.1111111111111111,
              "#46039f"
             ],
             [
              0.2222222222222222,
              "#7201a8"
             ],
             [
              0.3333333333333333,
              "#9c179e"
             ],
             [
              0.4444444444444444,
              "#bd3786"
             ],
             [
              0.5555555555555556,
              "#d8576b"
             ],
             [
              0.6666666666666666,
              "#ed7953"
             ],
             [
              0.7777777777777778,
              "#fb9f3a"
             ],
             [
              0.8888888888888888,
              "#fdca26"
             ],
             [
              1,
              "#f0f921"
             ]
            ]
           }
          ],
          "heatmapgl":[
           {
            "type":"heatmapgl",
            "colorbar":{
             "outlinewidth":0,
             "ticks":""
            },
            "colorscale":[
             [
              0,
              "#0d0887"
             ],
             [
              0.1111111111111111,
              "#46039f"
             ],
             [
              0.2222222222222222,
              "#7201a8"
             ],
             [
              0.3333333333333333,
              "#9c179e"
             ],
             [
              0.4444444444444444,
              "#bd3786"
             ],
             [
              0.5555555555555556,
              "#d8576b"
             ],
             [
              0.6666666666666666,
              "#ed7953"
             ],
             [
              0.7777777777777778,
              "#fb9f3a"
             ],
             [
              0.8888888888888888,
              "#fdca26"
             ],
             [
              1,
              "#f0f921"
             ]
            ]
           }
          ],
          "contourcarpet":[
           {
            "type":"contourcarpet",
            "colorbar":{
             "outlinewidth":0,
             "ticks":""
            }
           }
          ],
          "contour":[
           {
            "type":"contour",
            "colorbar":{
             "outlinewidth":0,
             "ticks":""
            },
            "colorscale":[
             [
              0,
              "#0d0887"
             ],
             [
              0.1111111111111111,
              "#46039f"
             ],
             [
              0.2222222222222222,
              "#7201a8"
             ],
             [
              0.3333333333333333,
              "#9c179e"
             ],
             [
              0.4444444444444444,
              "#bd3786"
             ],
             [
              0.5555555555555556,
              "#d8576b"
             ],
             [
              0.6666666666666666,
              "#ed7953"
             ],
             [
              0.7777777777777778,
              "#fb9f3a"
             ],
             [
              0.8888888888888888,
              "#fdca26"
             ],
             [
              1,
              "#f0f921"
             ]
            ]
           }
          ],
          "surface":[
           {
            "type":"surface",
            "colorbar":{
             "outlinewidth":0,
             "ticks":""
            },
            "colorscale":[
             [
              0,
              "#0d0887"
             ],
             [
              0.1111111111111111,
              "#46039f"
             ],
             [
              0.2222222222222222,
              "#7201a8"
             ],
             [
              0.3333333333333333,
              "#9c179e"
             ],
             [
              0.4444444444444444,
              "#bd3786"
             ],
             [
              0.5555555555555556,
              "#d8576b"
             ],
             [
              0.6666666666666666,
              "#ed7953"
             ],
             [
              0.7777777777777778,
              "#fb9f3a"
             ],
             [
              0.8888888888888888,
              "#fdca26"
             ],
             [
              1,
              "#f0f921"
             ]
            ]
           }
          ],
          "mesh3d":[
           {
            "type":"mesh3d",
            "colorbar":{
             "outlinewidth":0,
             "ticks":""
            }
           }
          ],
          "scatter":[
           {
            "fillpattern":{
             "fillmode":"overlay",
             "size":10,
             "solidity":0.2
            },
            "type":"scatter"
           }
          ],
          "parcoords":[
           {
            "type":"parcoords",
            "line":{
             "colorbar":{
              "outlinewidth":0,
              "ticks":""
             }
            }
           }
          ],
          "scatterpolargl":[
           {
            "type":"scatterpolargl",
            "marker":{
             "colorbar":{
              "outlinewidth":0,
              "ticks":""
             }
            }
           }
          ],
          "bar":[
           {
            "error_x":{
             "color":"#2a3f5f"
            },
            "error_y":{
             "color":"#2a3f5f"
            },
            "marker":{
             "line":{
              "color":"#E5ECF6",
              "width":0.5
             },
             "pattern":{
              "fillmode":"overlay",
              "size":10,
              "solidity":0.2
             }
            },
            "type":"bar"
           }
          ],
          "scattergeo":[
           {
            "type":"scattergeo",
            "marker":{
             "colorbar":{
              "outlinewidth":0,
              "ticks":""
             }
            }
           }
          ],
          "scatterpolar":[
           {
            "type":"scatterpolar",
            "marker":{
             "colorbar":{
              "outlinewidth":0,
              "ticks":""
             }
            }
           }
          ],
          "histogram":[
           {
            "marker":{
             "pattern":{
              "fillmode":"overlay",
              "size":10,
              "solidity":0.2
             }
            },
            "type":"histogram"
           }
          ],
          "scattergl":[
           {
            "type":"scattergl",
            "marker":{
             "colorbar":{
              "outlinewidth":0,
              "ticks":""
             }
            }
           }
          ],
          "scatter3d":[
           {
            "type":"scatter3d",
            "line":{
             "colorbar":{
              "outlinewidth":0,
              "ticks":""
             }
            },
            "marker":{
             "colorbar":{
              "outlinewidth":0,
              "ticks":""
             }
            }
           }
          ],
          "scattermapbox":[
           {
            "type":"scattermapbox",
            "marker":{
             "colorbar":{
              "outlinewidth":0,
              "ticks":""
             }
            }
           }
          ],
          "scatterternary":[
           {
            "type":"scatterternary",
            "marker":{
             "colorbar":{
              "outlinewidth":0,
              "ticks":""
             }
            }
           }
          ],
          "scattercarpet":[
           {
            "type":"scattercarpet",
            "marker":{
             "colorbar":{
              "outlinewidth":0,
              "ticks":""
             }
            }
           }
          ],
          "carpet":[
           {
            "aaxis":{
             "endlinecolor":"#2a3f5f",
             "gridcolor":"white",
             "linecolor":"white",
             "minorgridcolor":"white",
             "startlinecolor":"#2a3f5f"
            },
            "baxis":{
             "endlinecolor":"#2a3f5f",
             "gridcolor":"white",
             "linecolor":"white",
             "minorgridcolor":"white",
             "startlinecolor":"#2a3f5f"
            },
            "type":"carpet"
           }
          ],
          "table":[
           {
            "cells":{
             "fill":{
              "color":"#EBF0F8"
             },
             "line":{
              "color":"white"
             }
            },
            "header":{
             "fill":{
              "color":"#C8D4E3"
             },
             "line":{
              "color":"white"
             }
            },
            "type":"table"
           }
          ],
          "barpolar":[
           {
            "marker":{
             "line":{
              "color":"#E5ECF6",
              "width":0.5
             },
             "pattern":{
              "fillmode":"overlay",
              "size":10,
              "solidity":0.2
             }
            },
            "type":"barpolar"
           }
          ],
          "pie":[
           {
            "automargin":true,
            "type":"pie"
           }
          ]
         },
         "layout":{
          "autotypenumbers":"strict",
          "colorway":[
           "#636efa",
           "#EF553B",
           "#00cc96",
           "#ab63fa",
           "#FFA15A",
           "#19d3f3",
           "#FF6692",
           "#B6E880",
           "#FF97FF",
           "#FECB52"
          ],
          "font":{
           "color":"#2a3f5f"
          },
          "hovermode":"closest",
          "hoverlabel":{
           "align":"left"
          },
          "paper_bgcolor":"white",
          "plot_bgcolor":"#E5ECF6",
          "polar":{
           "bgcolor":"#E5ECF6",
           "angularaxis":{
            "gridcolor":"white",
            "linecolor":"white",
            "ticks":""
           },
           "radialaxis":{
            "gridcolor":"white",
            "linecolor":"white",
            "ticks":""
           }
          },
          "ternary":{
           "bgcolor":"#E5ECF6",
           "aaxis":{
            "gridcolor":"white",
            "linecolor":"white",
            "ticks":""
           },
           "baxis":{
            "gridcolor":"white",
            "linecolor":"white",
            "ticks":""
           },
           "caxis":{
            "gridcolor":"white",
            "linecolor":"white",
            "ticks":""
           }
          },
          "coloraxis":{
           "colorbar":{
            "outlinewidth":0,
            "ticks":""
           }
          },
          "colorscale":{
           "sequential":[
            [
             0,
             "#0d0887"
            ],
            [
             0.1111111111111111,
             "#46039f"
            ],
            [
             0.2222222222222222,
             "#7201a8"
            ],
            [
             0.3333333333333333,
             "#9c179e"
            ],
            [
             0.4444444444444444,
             "#bd3786"
            ],
            [
             0.5555555555555556,
             "#d8576b"
            ],
            [
             0.6666666666666666,
             "#ed7953"
            ],
            [
             0.7777777777777778,
             "#fb9f3a"
            ],
            [
             0.8888888888888888,
             "#fdca26"
            ],
            [
             1,
             "#f0f921"
            ]
           ],
           "sequentialminus":[
            [
             0,
             "#0d0887"
            ],
            [
             0.1111111111111111,
             "#46039f"
            ],
            [
             0.2222222222222222,
             "#7201a8"
            ],
            [
             0.3333333333333333,
             "#9c179e"
            ],
            [
             0.4444444444444444,
             "#bd3786"
            ],
            [
             0.5555555555555556,
             "#d8576b"
            ],
            [
             0.6666666666666666,
             "#ed7953"
            ],
            [
             0.7777777777777778,
             "#fb9f3a"
            ],
            [
             0.8888888888888888,
             "#fdca26"
            ],
            [
             1,
             "#f0f921"
            ]
           ],
           "diverging":[
            [
             0,
             "#8e0152"
            ],
            [
             0.1,
             "#c51b7d"
            ],
            [
             0.2,
             "#de77ae"
            ],
            [
             0.3,
             "#f1b6da"
            ],
            [
             0.4,
             "#fde0ef"
            ],
            [
             0.5,
             "#f7f7f7"
            ],
            [
             0.6,
             "#e6f5d0"
            ],
            [
             0.7,
             "#b8e186"
            ],
            [
             0.8,
             "#7fbc41"
            ],
            [
             0.9,
             "#4d9221"
            ],
            [
             1,
             "#276419"
            ]
           ]
          },
          "xaxis":{
           "gridcolor":"white",
           "linecolor":"white",
           "ticks":"",
           "title":{
            "standoff":15
           },
           "zerolinecolor":"white",
           "automargin":true,
           "zerolinewidth":2
          },
          "yaxis":{
           "gridcolor":"white",
           "linecolor":"white",
           "ticks":"",
           "title":{
            "standoff":15
           },
           "zerolinecolor":"white",
           "automargin":true,
           "zerolinewidth":2
          },
          "scene":{
           "xaxis":{
            "backgroundcolor":"#E5ECF6",
            "gridcolor":"white",
            "linecolor":"white",
            "showbackground":true,
            "ticks":"",
            "zerolinecolor":"white",
            "gridwidth":2
           },
           "yaxis":{
            "backgroundcolor":"#E5ECF6",
            "gridcolor":"white",
            "linecolor":"white",
            "showbackground":true,
            "ticks":"",
            "zerolinecolor":"white",
            "gridwidth":2
           },
           "zaxis":{
            "backgroundcolor":"#E5ECF6",
            "gridcolor":"white",
            "linecolor":"white",
            "showbackground":true,
            "ticks":"",
            "zerolinecolor":"white",
            "gridwidth":2
           }
          },
          "shapedefaults":{
           "line":{
            "color":"#2a3f5f"
           }
          },
          "annotationdefaults":{
           "arrowcolor":"#2a3f5f",
           "arrowhead":0,
           "arrowwidth":1
          },
          "geo":{
           "bgcolor":"white",
           "landcolor":"#E5ECF6",
           "subunitcolor":"white",
           "showland":true,
           "showlakes":true,
           "lakecolor":"white"
          },
          "title":{
           "x":0.05
          },
          "mapbox":{
           "style":"light"
          }
         }
        }
       },
       "config":{
        "plotlyServerURL":"https:\/\/plot.ly"
       }
      }
     },
     "metadata":{},
     "output_type":"display_data"
    }
   ],
   "metadata":{
    "datalore":{
     "node_id":"JMBrzlpzyxIMLlnjBDXvGT",
     "type":"CODE",
     "hide_input_from_viewers":true,
     "hide_output_from_viewers":true
    }
   }
  },
  {
   "cell_type":"markdown",
   "source":[
    "# Bokeh"
   ],
   "attachments":{},
   "metadata":{
    "datalore":{
     "node_id":"Bokeh",
     "type":"MD",
     "hide_input_from_viewers":false,
     "hide_output_from_viewers":false,
     "sheet_delimiter":true
    }
   }
  },
  {
   "cell_type":"code",
   "source":[
    "#!pip install bokeh\n",
    "from bokeh.plotting import figure, show\n",
    "from bokeh.io import output_notebook\n",
    "from bokeh.models import HoverTool\n",
    "from bokeh.models import Label, ImageURL, ColumnDataSource\n",
    "\n",
    "\n",
    "# Kontrola notebook\n",
    "output_notebook()\n",
    "\n",
    "# Hlupe data\n",
    "x = [1,2,3,4,5]\n",
    "y = [6,7,2,4,5]\n",
    "\n",
    "# Vytvorenie grafu\n",
    "graf = figure(\n",
    "    title = \"Jednoduchy ciarovy graf\", \n",
    "    x_axis_label = \"Os X\", \n",
    "    y_axis_label = \"Os Y\",\n",
    "    width = 800,\n",
    "    height = 400,\n",
    "    tools = \"pan, wheel_zoom, box_zoom, reset, save\"\n",
    ")\n",
    "\n",
    "# Nastavenie rozsahu osi\n",
    "graf.x_range.start = 0\n",
    "graf.y_range.start = 0\n",
    "graf.x_range.end = 6\n",
    "graf.y_range.end = 8\n",
    "\n",
    "# Mriezky\n",
    "graf.xgrid.grid_line_color = None\n",
    "graf.ygrid.grid_line_alpha = 0.8\n",
    "\n",
    "# Pridanie ciarove grafu s bodmi\n",
    "graf.line(x, y, legend_label = \"Legenda 👍\", line_width = 3)\n",
    "graf.circle(x, y, size = 10, color = \"red\", alpha = 0.8, legend_label = \"Body\")\n",
    "\n",
    "menovka = Label(x = 0, y = 4, text=\"Poznamka\", text_font_size = \"14pt\", text_color = \"red\")\n",
    "\n",
    "graf.add_layout(menovka)\n",
    "\n",
    "\n",
    "zdroj = ColumnDataSource(\n",
    "    data = dict(\n",
    "        url = [\"https:\/\/eurocc.nscc.sk\/wp-content\/uploads\/2020\/12\/CC_EURO-_logo_gold-1.png\"],\n",
    "        x = [2],\n",
    "        y = [2]\n",
    "    ))\n",
    "\n",
    "obrazok = ImageURL(url = \"url\", x = \"x\", y = \"y\", w = 2, h = 2)\n",
    "graf.add_glyph(zdroj, obrazok)\n",
    "\n",
    "graf.legend.location = \"center\"\n",
    "# graf.legend.x = 0\n",
    "# graf.legend.y = 200\n",
    "graf.legend.click_policy = \"hide\"\n",
    "graf.legend.visible = True\n",
    "\n",
    "hover = HoverTool()\n",
    "hover.tooltips = [(\"Os x\", \"@x\"), (\"Os y\", \"@y\")]\n",
    "graf.add_tools(hover)\n",
    "\n",
    "# Zobrazenie grafu\n",
    "show(graf)"
   ],
   "execution_count":50,
   "outputs":[
    {
     "data":{
      "text\/html":[
       "<style>\n",
       "        .bk-notebook-logo {\n",
       "            display: block;\n",
       "            width: 20px;\n",
       "            height: 20px;\n",
       "            background-image: url(data:image\/png;base64,iVBORw0KGgoAAAANSUhEUgAAABQAAAAUCAYAAACNiR0NAAAABHNCSVQICAgIfAhkiAAAAAlwSFlzAAALEgAACxIB0t1+\/AAAABx0RVh0U29mdHdhcmUAQWRvYmUgRmlyZXdvcmtzIENTNui8sowAAAOkSURBVDiNjZRtaJVlGMd\/1\/08zzln5zjP1LWcU9N0NkN8m2CYjpgQYQXqSs0I84OLIC0hkEKoPtiH3gmKoiJDU7QpLgoLjLIQCpEsNJ1vqUOdO7ppbuec5+V+rj4ctwzd8IIbbi6u+8f1539dt3A78eXC7QizUF7gyV1fD1Yqg4JWz84yffhm0qkFqBogB9rM8tZdtwVsPUhWhGcFJngGeWrPzHm5oaMmkfEg1usvLFyc8jLRqDOMru7AyC8saQr7GG7f5fvDeH7Ej8CM66nIF+8yngt6HWaKh7k49Soy9nXurCi1o3qUbS3zWfrYeQDTB\/Qj6kX6Ybhw4B+bOYoLKCC9H3Nu\/leUTZ1JdRWkkn2ldcCamzrcf47KKXdAJllSlxAOkRgyHsGC\/zRday5Qld9DyoM4\/q\/rUoy\/CXh3jzOu3bHUVZeU+DEn8FInkPBFlu3+nW3Nw0mk6vCDiWg8CeJaxEwuHS3+z5RgY+YBR6V1Z1nxSOfoaPa4LASWxxdNp+VWTk7+4vzaou8v8PN+xo+KY2xsw6une2frhw05CTYOmQvsEhjhWjn0bmXPjpE1+kplmmkP3suftwTubK9Vq22qKmrBhpY4jvd5afdRA3wGjFAgcnTK2s4hY0\/GPNIb0nErGMCRxWOOX64Z8RAC4oCXdklmEvcL8o0BfkNK4lUg9HTl+oPlQxdNo3Mg4Nv175e\/1LDGzZen30MEjRUtmXSfiTVu1kK8W4txyV6BMKlbgk3lMwYCiusNy9fVfvvwMxv8Ynl6vxoByANLTWplvuj\/nF9m2+PDtt1eiHPBr1oIfhCChQMBw6Aw0UulqTKZdfVvfG7VcfIqLG9bcldL\/+pdWTLxLUy8Qq38heUIjh4XlzZxzQm19lLFlr8vdQ97rjZVOLf8nclzckbcD4wxXMidpX30sFd37Fv\/GtwwhzhxGVAprjbg0gCAEeIgwCZyTV2Z1REEW8O4py0wsjeloKoMr6iCY6dP92H6Vw\/oTyICIthibxjm\/DfN9lVz8IqtqKYLUXfoKVMVQVVJOElGjrnnUt9T9wbgp8AyYKaGlqingHZU\/uG2NTZSVqwHQTWkx9hxjkpWDaCg6Ckj5qebgBVbT3V3NNXMSiWSDdGV3hrtzla7J+duwPOToIg42ChPQOQjspnSlp1V+Gjdged7+8UN5CRAV7a5EdFNwCjEaBR27b3W890TE7g24NAP\/mMDXRWrGoFPQI9ls\/MWO2dWFAar\/xcOIImbbpA3zgAAAABJRU5ErkJggg==);\n",
       "        }\n",
       "    <\/style>\n",
       "    <div>\n",
       "        <a href=\"https:\/\/bokeh.org\" target=\"_blank\" class=\"bk-notebook-logo\"><\/a>\n",
       "        <span id=\"dd68424a-165d-4dee-9b9e-eaed25c8cab3\">Loading BokehJS ...<\/span>\n",
       "    <\/div>\n"
      ]
     },
     "metadata":{},
     "output_type":"display_data"
    },
    {
     "data":{
      "text\/html":[
       "<script>(function(root) {\n",
       "  function now() {\n",
       "    return new Date();\n",
       "  }\n",
       "\n",
       "  const force = true;\n",
       "\n",
       "  if (typeof root._bokeh_onload_callbacks === \"undefined\" || force === true) {\n",
       "    root._bokeh_onload_callbacks = [];\n",
       "    root._bokeh_is_loading = undefined;\n",
       "  }\n",
       "\n",
       "const JS_MIME_TYPE = 'application\/javascript';\n",
       "  const HTML_MIME_TYPE = 'text\/html';\n",
       "  const EXEC_MIME_TYPE = 'application\/vnd.bokehjs_exec.v0+json';\n",
       "  const CLASS_NAME = 'output_bokeh rendered_html';\n",
       "\n",
       "  \/**\n",
       "   * Render data to the DOM node\n",
       "   *\/\n",
       "  function render(props, node) {\n",
       "    const script = document.createElement(\"script\");\n",
       "    node.appendChild(script);\n",
       "  }\n",
       "\n",
       "  \/**\n",
       "   * Handle when an output is cleared or removed\n",
       "   *\/\n",
       "  function handleClearOutput(event, handle) {\n",
       "    const cell = handle.cell;\n",
       "\n",
       "    const id = cell.output_area._bokeh_element_id;\n",
       "    const server_id = cell.output_area._bokeh_server_id;\n",
       "    \/\/ Clean up Bokeh references\n",
       "    if (id != null && id in Bokeh.index) {\n",
       "      Bokeh.index[id].model.document.clear();\n",
       "      delete Bokeh.index[id];\n",
       "    }\n",
       "\n",
       "    if (server_id !== undefined) {\n",
       "      \/\/ Clean up Bokeh references\n",
       "      const cmd_clean = \"from bokeh.io.state import curstate; print(curstate().uuid_to_server['\" + server_id + \"'].get_sessions()[0].document.roots[0]._id)\";\n",
       "      cell.notebook.kernel.execute(cmd_clean, {\n",
       "        iopub: {\n",
       "          output: function(msg) {\n",
       "            const id = msg.content.text.trim();\n",
       "            if (id in Bokeh.index) {\n",
       "              Bokeh.index[id].model.document.clear();\n",
       "              delete Bokeh.index[id];\n",
       "            }\n",
       "          }\n",
       "        }\n",
       "      });\n",
       "      \/\/ Destroy server and session\n",
       "      const cmd_destroy = \"import bokeh.io.notebook as ion; ion.destroy_server('\" + server_id + \"')\";\n",
       "      cell.notebook.kernel.execute(cmd_destroy);\n",
       "    }\n",
       "  }\n",
       "\n",
       "  \/**\n",
       "   * Handle when a new output is added\n",
       "   *\/\n",
       "  function handleAddOutput(event, handle) {\n",
       "    const output_area = handle.output_area;\n",
       "    const output = handle.output;\n",
       "\n",
       "    \/\/ limit handleAddOutput to display_data with EXEC_MIME_TYPE content only\n",
       "    if ((output.output_type != \"display_data\") || (!Object.prototype.hasOwnProperty.call(output.data, EXEC_MIME_TYPE))) {\n",
       "      return\n",
       "    }\n",
       "\n",
       "    const toinsert = output_area.element.find(\".\" + CLASS_NAME.split(' ')[0]);\n",
       "\n",
       "    if (output.metadata[EXEC_MIME_TYPE][\"id\"] !== undefined) {\n",
       "      toinsert[toinsert.length - 1].firstChild.textContent = output.data[JS_MIME_TYPE];\n",
       "      \/\/ store reference to embed id on output_area\n",
       "      output_area._bokeh_element_id = output.metadata[EXEC_MIME_TYPE][\"id\"];\n",
       "    }\n",
       "    if (output.metadata[EXEC_MIME_TYPE][\"server_id\"] !== undefined) {\n",
       "      const bk_div = document.createElement(\"div\");\n",
       "      bk_div.innerHTML = output.data[HTML_MIME_TYPE];\n",
       "      const script_attrs = bk_div.children[0].attributes;\n",
       "      for (let i = 0; i < script_attrs.length; i++) {\n",
       "        toinsert[toinsert.length - 1].firstChild.setAttribute(script_attrs[i].name, script_attrs[i].value);\n",
       "        toinsert[toinsert.length - 1].firstChild.textContent = bk_div.children[0].textContent\n",
       "      }\n",
       "      \/\/ store reference to server id on output_area\n",
       "      output_area._bokeh_server_id = output.metadata[EXEC_MIME_TYPE][\"server_id\"];\n",
       "    }\n",
       "  }\n",
       "\n",
       "  function register_renderer(events, OutputArea) {\n",
       "\n",
       "    function append_mime(data, metadata, element) {\n",
       "      \/\/ create a DOM node to render to\n",
       "      const toinsert = this.create_output_subarea(\n",
       "        metadata,\n",
       "        CLASS_NAME,\n",
       "        EXEC_MIME_TYPE\n",
       "      );\n",
       "      this.keyboard_manager.register_events(toinsert);\n",
       "      \/\/ Render to node\n",
       "      const props = {data: data, metadata: metadata[EXEC_MIME_TYPE]};\n",
       "      render(props, toinsert[toinsert.length - 1]);\n",
       "      element.append(toinsert);\n",
       "      return toinsert\n",
       "    }\n",
       "\n",
       "    \/* Handle when an output is cleared or removed *\/\n",
       "    events.on('clear_output.CodeCell', handleClearOutput);\n",
       "    events.on('delete.Cell', handleClearOutput);\n",
       "\n",
       "    \/* Handle when a new output is added *\/\n",
       "    events.on('output_added.OutputArea', handleAddOutput);\n",
       "\n",
       "    \/**\n",
       "     * Register the mime type and append_mime function with output_area\n",
       "     *\/\n",
       "    OutputArea.prototype.register_mime_type(EXEC_MIME_TYPE, append_mime, {\n",
       "      \/* Is output safe? *\/\n",
       "      safe: true,\n",
       "      \/* Index of renderer in `output_area.display_order` *\/\n",
       "      index: 0\n",
       "    });\n",
       "  }\n",
       "\n",
       "  \/\/ register the mime type if in Jupyter Notebook environment and previously unregistered\n",
       "  if (root.Jupyter !== undefined) {\n",
       "    const events = require('base\/js\/events');\n",
       "    const OutputArea = require('notebook\/js\/outputarea').OutputArea;\n",
       "\n",
       "    if (OutputArea.prototype.mime_types().indexOf(EXEC_MIME_TYPE) == -1) {\n",
       "      register_renderer(events, OutputArea);\n",
       "    }\n",
       "  }\n",
       "  if (typeof (root._bokeh_timeout) === \"undefined\" || force === true) {\n",
       "    root._bokeh_timeout = Date.now() + 5000;\n",
       "    root._bokeh_failed_load = false;\n",
       "  }\n",
       "\n",
       "  const NB_LOAD_WARNING = {'data': {'text\/html':\n",
       "     \"<div style='background-color: #fdd'>\\n\"+\n",
       "     \"<p>\\n\"+\n",
       "     \"BokehJS does not appear to have successfully loaded. If loading BokehJS from CDN, this \\n\"+\n",
       "     \"may be due to a slow or bad network connection. Possible fixes:\\n\"+\n",
       "     \"<\/p>\\n\"+\n",
       "     \"<ul>\\n\"+\n",
       "     \"<li>re-rerun `output_notebook()` to attempt to load from CDN again, or<\/li>\\n\"+\n",
       "     \"<li>use INLINE resources instead, as so:<\/li>\\n\"+\n",
       "     \"<\/ul>\\n\"+\n",
       "     \"<code>\\n\"+\n",
       "     \"from bokeh.resources import INLINE\\n\"+\n",
       "     \"output_notebook(resources=INLINE)\\n\"+\n",
       "     \"<\/code>\\n\"+\n",
       "     \"<\/div>\"}};\n",
       "\n",
       "  function display_loaded() {\n",
       "    const el = document.getElementById(\"dd68424a-165d-4dee-9b9e-eaed25c8cab3\");\n",
       "    if (el != null) {\n",
       "      el.textContent = \"BokehJS is loading...\";\n",
       "    }\n",
       "    if (root.Bokeh !== undefined) {\n",
       "      if (el != null) {\n",
       "        el.textContent = \"BokehJS \" + root.Bokeh.version + \" successfully loaded.\";\n",
       "      }\n",
       "    } else if (Date.now() < root._bokeh_timeout) {\n",
       "      setTimeout(display_loaded, 100)\n",
       "    }\n",
       "  }\n",
       "\n",
       "  function run_callbacks() {\n",
       "    try {\n",
       "      root._bokeh_onload_callbacks.forEach(function(callback) {\n",
       "        if (callback != null)\n",
       "          callback();\n",
       "      });\n",
       "    } finally {\n",
       "      delete root._bokeh_onload_callbacks\n",
       "    }\n",
       "    console.debug(\"Bokeh: all callbacks have finished\");\n",
       "  }\n",
       "\n",
       "  function load_libs(css_urls, js_urls, callback) {\n",
       "    if (css_urls == null) css_urls = [];\n",
       "    if (js_urls == null) js_urls = [];\n",
       "\n",
       "    root._bokeh_onload_callbacks.push(callback);\n",
       "    if (root._bokeh_is_loading > 0) {\n",
       "      console.debug(\"Bokeh: BokehJS is being loaded, scheduling callback at\", now());\n",
       "      return null;\n",
       "    }\n",
       "    if (js_urls == null || js_urls.length === 0) {\n",
       "      run_callbacks();\n",
       "      return null;\n",
       "    }\n",
       "    console.debug(\"Bokeh: BokehJS not loaded, scheduling load and callback at\", now());\n",
       "    root._bokeh_is_loading = css_urls.length + js_urls.length;\n",
       "\n",
       "    function on_load() {\n",
       "      root._bokeh_is_loading--;\n",
       "      if (root._bokeh_is_loading === 0) {\n",
       "        console.debug(\"Bokeh: all BokehJS libraries\/stylesheets loaded\");\n",
       "        run_callbacks()\n",
       "      }\n",
       "    }\n",
       "\n",
       "    function on_error(url) {\n",
       "      console.error(\"failed to load \" + url);\n",
       "    }\n",
       "\n",
       "    for (let i = 0; i < css_urls.length; i++) {\n",
       "      const url = css_urls[i];\n",
       "      const element = document.createElement(\"link\");\n",
       "      element.onload = on_load;\n",
       "      element.onerror = on_error.bind(null, url);\n",
       "      element.rel = \"stylesheet\";\n",
       "      element.type = \"text\/css\";\n",
       "      element.href = url;\n",
       "      console.debug(\"Bokeh: injecting link tag for BokehJS stylesheet: \", url);\n",
       "      document.body.appendChild(element);\n",
       "    }\n",
       "\n",
       "    for (let i = 0; i < js_urls.length; i++) {\n",
       "      const url = js_urls[i];\n",
       "      const element = document.createElement('script');\n",
       "      element.onload = on_load;\n",
       "      element.onerror = on_error.bind(null, url);\n",
       "      element.async = false;\n",
       "      element.src = url;\n",
       "      console.debug(\"Bokeh: injecting script tag for BokehJS library: \", url);\n",
       "      document.head.appendChild(element);\n",
       "    }\n",
       "  };\n",
       "\n",
       "  function inject_raw_css(css) {\n",
       "    const element = document.createElement(\"style\");\n",
       "    element.appendChild(document.createTextNode(css));\n",
       "    document.body.appendChild(element);\n",
       "  }\n",
       "\n",
       "  const js_urls = [\"https:\/\/cdn.bokeh.org\/bokeh\/release\/bokeh-3.1.1.min.js\", \"https:\/\/cdn.bokeh.org\/bokeh\/release\/bokeh-gl-3.1.1.min.js\", \"https:\/\/cdn.bokeh.org\/bokeh\/release\/bokeh-widgets-3.1.1.min.js\", \"https:\/\/cdn.bokeh.org\/bokeh\/release\/bokeh-tables-3.1.1.min.js\", \"https:\/\/cdn.bokeh.org\/bokeh\/release\/bokeh-mathjax-3.1.1.min.js\"];\n",
       "  const css_urls = [];\n",
       "\n",
       "  const inline_js = [    function(Bokeh) {\n",
       "      Bokeh.set_log_level(\"info\");\n",
       "    },\n",
       "function(Bokeh) {\n",
       "    }\n",
       "  ];\n",
       "\n",
       "  function run_inline_js() {\n",
       "    if (root.Bokeh !== undefined || force === true) {\n",
       "          for (let i = 0; i < inline_js.length; i++) {\n",
       "      inline_js[i].call(root, root.Bokeh);\n",
       "    }\n",
       "if (force === true) {\n",
       "        display_loaded();\n",
       "      }} else if (Date.now() < root._bokeh_timeout) {\n",
       "      setTimeout(run_inline_js, 100);\n",
       "    } else if (!root._bokeh_failed_load) {\n",
       "      console.log(\"Bokeh: BokehJS failed to load within specified timeout.\");\n",
       "      root._bokeh_failed_load = true;\n",
       "    } else if (force !== true) {\n",
       "      const cell = $(document.getElementById(\"dd68424a-165d-4dee-9b9e-eaed25c8cab3\")).parents('.cell').data().cell;\n",
       "      cell.output_area.append_execute_result(NB_LOAD_WARNING)\n",
       "    }\n",
       "  }\n",
       "\n",
       "  if (root._bokeh_is_loading === 0) {\n",
       "    console.debug(\"Bokeh: BokehJS loaded, going straight to plotting\");\n",
       "    run_inline_js();\n",
       "  } else {\n",
       "    load_libs(css_urls, js_urls, function() {\n",
       "      console.debug(\"Bokeh: BokehJS plotting callback run at\", now());\n",
       "      run_inline_js();\n",
       "    });\n",
       "  }\n",
       "}(window));<\/script><script>(function(root) {\n",
       "  function now() {\n",
       "    return new Date();\n",
       "  }\n",
       "\n",
       "  const force = true;\n",
       "\n",
       "  if (typeof root._bokeh_onload_callbacks === \"undefined\" || force === true) {\n",
       "    root._bokeh_onload_callbacks = [];\n",
       "    root._bokeh_is_loading = undefined;\n",
       "  }\n",
       "\n",
       "\n",
       "  if (typeof (root._bokeh_timeout) === \"undefined\" || force === true) {\n",
       "    root._bokeh_timeout = Date.now() + 5000;\n",
       "    root._bokeh_failed_load = false;\n",
       "  }\n",
       "\n",
       "  const NB_LOAD_WARNING = {'data': {'text\/html':\n",
       "     \"<div style='background-color: #fdd'>\\n\"+\n",
       "     \"<p>\\n\"+\n",
       "     \"BokehJS does not appear to have successfully loaded. If loading BokehJS from CDN, this \\n\"+\n",
       "     \"may be due to a slow or bad network connection. Possible fixes:\\n\"+\n",
       "     \"<\/p>\\n\"+\n",
       "     \"<ul>\\n\"+\n",
       "     \"<li>re-rerun `output_notebook()` to attempt to load from CDN again, or<\/li>\\n\"+\n",
       "     \"<li>use INLINE resources instead, as so:<\/li>\\n\"+\n",
       "     \"<\/ul>\\n\"+\n",
       "     \"<code>\\n\"+\n",
       "     \"from bokeh.resources import INLINE\\n\"+\n",
       "     \"output_notebook(resources=INLINE)\\n\"+\n",
       "     \"<\/code>\\n\"+\n",
       "     \"<\/div>\"}};\n",
       "\n",
       "  function display_loaded() {\n",
       "    const el = document.getElementById(\"dd68424a-165d-4dee-9b9e-eaed25c8cab3\");\n",
       "    if (el != null) {\n",
       "      el.textContent = \"BokehJS is loading...\";\n",
       "    }\n",
       "    if (root.Bokeh !== undefined) {\n",
       "      if (el != null) {\n",
       "        el.textContent = \"BokehJS \" + root.Bokeh.version + \" successfully loaded.\";\n",
       "      }\n",
       "    } else if (Date.now() < root._bokeh_timeout) {\n",
       "      setTimeout(display_loaded, 100)\n",
       "    }\n",
       "  }\n",
       "\n",
       "  function run_callbacks() {\n",
       "    try {\n",
       "      root._bokeh_onload_callbacks.forEach(function(callback) {\n",
       "        if (callback != null)\n",
       "          callback();\n",
       "      });\n",
       "    } finally {\n",
       "      delete root._bokeh_onload_callbacks\n",
       "    }\n",
       "    console.debug(\"Bokeh: all callbacks have finished\");\n",
       "  }\n",
       "\n",
       "  function load_libs(css_urls, js_urls, callback) {\n",
       "    if (css_urls == null) css_urls = [];\n",
       "    if (js_urls == null) js_urls = [];\n",
       "\n",
       "    root._bokeh_onload_callbacks.push(callback);\n",
       "    if (root._bokeh_is_loading > 0) {\n",
       "      console.debug(\"Bokeh: BokehJS is being loaded, scheduling callback at\", now());\n",
       "      return null;\n",
       "    }\n",
       "    if (js_urls == null || js_urls.length === 0) {\n",
       "      run_callbacks();\n",
       "      return null;\n",
       "    }\n",
       "    console.debug(\"Bokeh: BokehJS not loaded, scheduling load and callback at\", now());\n",
       "    root._bokeh_is_loading = css_urls.length + js_urls.length;\n",
       "\n",
       "    function on_load() {\n",
       "      root._bokeh_is_loading--;\n",
       "      if (root._bokeh_is_loading === 0) {\n",
       "        console.debug(\"Bokeh: all BokehJS libraries\/stylesheets loaded\");\n",
       "        run_callbacks()\n",
       "      }\n",
       "    }\n",
       "\n",
       "    function on_error(url) {\n",
       "      console.error(\"failed to load \" + url);\n",
       "    }\n",
       "\n",
       "    for (let i = 0; i < css_urls.length; i++) {\n",
       "      const url = css_urls[i];\n",
       "      const element = document.createElement(\"link\");\n",
       "      element.onload = on_load;\n",
       "      element.onerror = on_error.bind(null, url);\n",
       "      element.rel = \"stylesheet\";\n",
       "      element.type = \"text\/css\";\n",
       "      element.href = url;\n",
       "      console.debug(\"Bokeh: injecting link tag for BokehJS stylesheet: \", url);\n",
       "      document.body.appendChild(element);\n",
       "    }\n",
       "\n",
       "    for (let i = 0; i < js_urls.length; i++) {\n",
       "      const url = js_urls[i];\n",
       "      const element = document.createElement('script');\n",
       "      element.onload = on_load;\n",
       "      element.onerror = on_error.bind(null, url);\n",
       "      element.async = false;\n",
       "      element.src = url;\n",
       "      console.debug(\"Bokeh: injecting script tag for BokehJS library: \", url);\n",
       "      document.head.appendChild(element);\n",
       "    }\n",
       "  };\n",
       "\n",
       "  function inject_raw_css(css) {\n",
       "    const element = document.createElement(\"style\");\n",
       "    element.appendChild(document.createTextNode(css));\n",
       "    document.body.appendChild(element);\n",
       "  }\n",
       "\n",
       "  const js_urls = [\"https:\/\/cdn.bokeh.org\/bokeh\/release\/bokeh-3.1.1.min.js\", \"https:\/\/cdn.bokeh.org\/bokeh\/release\/bokeh-gl-3.1.1.min.js\", \"https:\/\/cdn.bokeh.org\/bokeh\/release\/bokeh-widgets-3.1.1.min.js\", \"https:\/\/cdn.bokeh.org\/bokeh\/release\/bokeh-tables-3.1.1.min.js\", \"https:\/\/cdn.bokeh.org\/bokeh\/release\/bokeh-mathjax-3.1.1.min.js\"];\n",
       "  const css_urls = [];\n",
       "\n",
       "  const inline_js = [    function(Bokeh) {\n",
       "      Bokeh.set_log_level(\"info\");\n",
       "    },\n",
       "function(Bokeh) {\n",
       "    }\n",
       "  ];\n",
       "\n",
       "  function run_inline_js() {\n",
       "    if (root.Bokeh !== undefined || force === true) {\n",
       "          for (let i = 0; i < inline_js.length; i++) {\n",
       "      inline_js[i].call(root, root.Bokeh);\n",
       "    }\n",
       "if (force === true) {\n",
       "        display_loaded();\n",
       "      }} else if (Date.now() < root._bokeh_timeout) {\n",
       "      setTimeout(run_inline_js, 100);\n",
       "    } else if (!root._bokeh_failed_load) {\n",
       "      console.log(\"Bokeh: BokehJS failed to load within specified timeout.\");\n",
       "      root._bokeh_failed_load = true;\n",
       "    } else if (force !== true) {\n",
       "      const cell = $(document.getElementById(\"dd68424a-165d-4dee-9b9e-eaed25c8cab3\")).parents('.cell').data().cell;\n",
       "      cell.output_area.append_execute_result(NB_LOAD_WARNING)\n",
       "    }\n",
       "  }\n",
       "\n",
       "  if (root._bokeh_is_loading === 0) {\n",
       "    console.debug(\"Bokeh: BokehJS loaded, going straight to plotting\");\n",
       "    run_inline_js();\n",
       "  } else {\n",
       "    load_libs(css_urls, js_urls, function() {\n",
       "      console.debug(\"Bokeh: BokehJS plotting callback run at\", now());\n",
       "      run_inline_js();\n",
       "    });\n",
       "  }\n",
       "}(window));<\/script>"
      ]
     },
     "metadata":{},
     "output_type":"display_data"
    },
    {
     "data":{
      "text\/html":[
       "\n",
       "  <div id=\"cc7b0d8f-2fd5-4126-8437-08d72b37c925\" data-root-id=\"p18708\" style=\"display: contents;\"><\/div>\n"
      ]
     },
     "metadata":{},
     "output_type":"display_data"
    },
    {
     "data":{
      "text\/html":[
       "<script>(function(root) {\n",
       "  function embed_document(root) {\n",
       "  const docs_json = {\"459a0bac-9a56-4e95-ae69-7f746b1a34a0\":{\"version\":\"3.1.1\",\"title\":\"Bokeh Application\",\"defs\":[],\"roots\":[{\"type\":\"object\",\"name\":\"Figure\",\"id\":\"p18708\",\"attributes\":{\"width\":800,\"height\":400,\"x_range\":{\"type\":\"object\",\"name\":\"DataRange1d\",\"id\":\"p18710\",\"attributes\":{\"start\":0,\"end\":6}},\"y_range\":{\"type\":\"object\",\"name\":\"DataRange1d\",\"id\":\"p18709\",\"attributes\":{\"start\":0,\"end\":8}},\"x_scale\":{\"type\":\"object\",\"name\":\"LinearScale\",\"id\":\"p18722\"},\"y_scale\":{\"type\":\"object\",\"name\":\"LinearScale\",\"id\":\"p18724\"},\"title\":{\"type\":\"object\",\"name\":\"Title\",\"id\":\"p18711\",\"attributes\":{\"text\":\"Jednoduchy ciarovy graf\"}},\"renderers\":[{\"type\":\"object\",\"name\":\"GlyphRenderer\",\"id\":\"p18759\",\"attributes\":{\"data_source\":{\"type\":\"object\",\"name\":\"ColumnDataSource\",\"id\":\"p18753\",\"attributes\":{\"selected\":{\"type\":\"object\",\"name\":\"Selection\",\"id\":\"p18755\",\"attributes\":{\"indices\":[],\"line_indices\":[]}},\"selection_policy\":{\"type\":\"object\",\"name\":\"UnionRenderers\",\"id\":\"p18754\"},\"data\":{\"type\":\"map\",\"entries\":[[\"x\",[1,2,3,4,5]],[\"y\",[6,7,2,4,5]]]}}},\"view\":{\"type\":\"object\",\"name\":\"CDSView\",\"id\":\"p18760\",\"attributes\":{\"filter\":{\"type\":\"object\",\"name\":\"AllIndices\",\"id\":\"p18761\"}}},\"glyph\":{\"type\":\"object\",\"name\":\"Line\",\"id\":\"p18756\",\"attributes\":{\"x\":{\"type\":\"field\",\"field\":\"x\"},\"y\":{\"type\":\"field\",\"field\":\"y\"},\"line_color\":\"#1f77b4\",\"line_width\":3}},\"nonselection_glyph\":{\"type\":\"object\",\"name\":\"Line\",\"id\":\"p18757\",\"attributes\":{\"x\":{\"type\":\"field\",\"field\":\"x\"},\"y\":{\"type\":\"field\",\"field\":\"y\"},\"line_color\":\"#1f77b4\",\"line_alpha\":0.1,\"line_width\":3}},\"muted_glyph\":{\"type\":\"object\",\"name\":\"Line\",\"id\":\"p18758\",\"attributes\":{\"x\":{\"type\":\"field\",\"field\":\"x\"},\"y\":{\"type\":\"field\",\"field\":\"y\"},\"line_color\":\"#1f77b4\",\"line_alpha\":0.2,\"line_width\":3}}}},{\"type\":\"object\",\"name\":\"GlyphRenderer\",\"id\":\"p18770\",\"attributes\":{\"data_source\":{\"type\":\"object\",\"name\":\"ColumnDataSource\",\"id\":\"p18764\",\"attributes\":{\"selected\":{\"type\":\"object\",\"name\":\"Selection\",\"id\":\"p18766\",\"attributes\":{\"indices\":[],\"line_indices\":[]}},\"selection_policy\":{\"type\":\"object\",\"name\":\"UnionRenderers\",\"id\":\"p18765\"},\"data\":{\"type\":\"map\",\"entries\":[[\"x\",[1,2,3,4,5]],[\"y\",[6,7,2,4,5]]]}}},\"view\":{\"type\":\"object\",\"name\":\"CDSView\",\"id\":\"p18771\",\"attributes\":{\"filter\":{\"type\":\"object\",\"name\":\"AllIndices\",\"id\":\"p18772\"}}},\"glyph\":{\"type\":\"object\",\"name\":\"Circle\",\"id\":\"p18767\",\"attributes\":{\"x\":{\"type\":\"field\",\"field\":\"x\"},\"y\":{\"type\":\"field\",\"field\":\"y\"},\"size\":{\"type\":\"value\",\"value\":10},\"line_color\":{\"type\":\"value\",\"value\":\"red\"},\"line_alpha\":{\"type\":\"value\",\"value\":0.8},\"fill_color\":{\"type\":\"value\",\"value\":\"red\"},\"fill_alpha\":{\"type\":\"value\",\"value\":0.8},\"hatch_color\":{\"type\":\"value\",\"value\":\"red\"},\"hatch_alpha\":{\"type\":\"value\",\"value\":0.8}}},\"nonselection_glyph\":{\"type\":\"object\",\"name\":\"Circle\",\"id\":\"p18768\",\"attributes\":{\"x\":{\"type\":\"field\",\"field\":\"x\"},\"y\":{\"type\":\"field\",\"field\":\"y\"},\"size\":{\"type\":\"value\",\"value\":10},\"line_color\":{\"type\":\"value\",\"value\":\"red\"},\"line_alpha\":{\"type\":\"value\",\"value\":0.1},\"fill_color\":{\"type\":\"value\",\"value\":\"red\"},\"fill_alpha\":{\"type\":\"value\",\"value\":0.1},\"hatch_color\":{\"type\":\"value\",\"value\":\"red\"},\"hatch_alpha\":{\"type\":\"value\",\"value\":0.1}}},\"muted_glyph\":{\"type\":\"object\",\"name\":\"Circle\",\"id\":\"p18769\",\"attributes\":{\"x\":{\"type\":\"field\",\"field\":\"x\"},\"y\":{\"type\":\"field\",\"field\":\"y\"},\"size\":{\"type\":\"value\",\"value\":10},\"line_color\":{\"type\":\"value\",\"value\":\"red\"},\"line_alpha\":{\"type\":\"value\",\"value\":0.2},\"fill_color\":{\"type\":\"value\",\"value\":\"red\"},\"fill_alpha\":{\"type\":\"value\",\"value\":0.2},\"hatch_color\":{\"type\":\"value\",\"value\":\"red\"},\"hatch_alpha\":{\"type\":\"value\",\"value\":0.2}}}}},{\"type\":\"object\",\"name\":\"GlyphRenderer\",\"id\":\"p18779\",\"attributes\":{\"data_source\":{\"type\":\"object\",\"name\":\"ColumnDataSource\",\"id\":\"p18775\",\"attributes\":{\"selected\":{\"type\":\"object\",\"name\":\"Selection\",\"id\":\"p18777\",\"attributes\":{\"indices\":[],\"line_indices\":[]}},\"selection_policy\":{\"type\":\"object\",\"name\":\"UnionRenderers\",\"id\":\"p18776\"},\"data\":{\"type\":\"map\",\"entries\":[[\"url\",[\"https:\/\/eurocc.nscc.sk\/wp-content\/uploads\/2020\/12\/CC_EURO-_logo_gold-1.png\"]],[\"x\",[2]],[\"y\",[2]]]}}},\"view\":{\"type\":\"object\",\"name\":\"CDSView\",\"id\":\"p18780\",\"attributes\":{\"filter\":{\"type\":\"object\",\"name\":\"AllIndices\",\"id\":\"p18781\"}}},\"glyph\":{\"type\":\"object\",\"name\":\"ImageURL\",\"id\":\"p18778\",\"attributes\":{\"url\":{\"type\":\"field\",\"field\":\"url\"},\"x\":{\"type\":\"field\",\"field\":\"x\"},\"y\":{\"type\":\"field\",\"field\":\"y\"},\"w\":{\"type\":\"value\",\"value\":2},\"h\":{\"type\":\"value\",\"value\":2}}}}}],\"toolbar\":{\"type\":\"object\",\"name\":\"Toolbar\",\"id\":\"p18715\",\"attributes\":{\"tools\":[{\"type\":\"object\",\"name\":\"PanTool\",\"id\":\"p18740\"},{\"type\":\"object\",\"name\":\"WheelZoomTool\",\"id\":\"p18741\"},{\"type\":\"object\",\"name\":\"BoxZoomTool\",\"id\":\"p18742\",\"attributes\":{\"overlay\":{\"type\":\"object\",\"name\":\"BoxAnnotation\",\"id\":\"p18743\",\"attributes\":{\"syncable\":false,\"level\":\"overlay\",\"visible\":false,\"left_units\":\"canvas\",\"right_units\":\"canvas\",\"bottom_units\":\"canvas\",\"top_units\":\"canvas\",\"line_color\":\"black\",\"line_alpha\":1.0,\"line_width\":2,\"line_dash\":[4,4],\"fill_color\":\"lightgrey\",\"fill_alpha\":0.5}}}},{\"type\":\"object\",\"name\":\"ResetTool\",\"id\":\"p18744\"},{\"type\":\"object\",\"name\":\"SaveTool\",\"id\":\"p18745\"},{\"type\":\"object\",\"name\":\"HoverTool\",\"id\":\"p18782\",\"attributes\":{\"renderers\":\"auto\",\"tooltips\":[[\"Os x\",\"@x\"],[\"Os y\",\"@y\"]]}}]}},\"left\":[{\"type\":\"object\",\"name\":\"LinearAxis\",\"id\":\"p18733\",\"attributes\":{\"ticker\":{\"type\":\"object\",\"name\":\"BasicTicker\",\"id\":\"p18735\",\"attributes\":{\"mantissas\":[1,2,5]}},\"formatter\":{\"type\":\"object\",\"name\":\"BasicTickFormatter\",\"id\":\"p18736\"},\"axis_label\":\"Os Y\",\"major_label_policy\":{\"type\":\"object\",\"name\":\"AllLabels\",\"id\":\"p18734\"}}}],\"below\":[{\"type\":\"object\",\"name\":\"LinearAxis\",\"id\":\"p18726\",\"attributes\":{\"ticker\":{\"type\":\"object\",\"name\":\"BasicTicker\",\"id\":\"p18728\",\"attributes\":{\"mantissas\":[1,2,5]}},\"formatter\":{\"type\":\"object\",\"name\":\"BasicTickFormatter\",\"id\":\"p18729\"},\"axis_label\":\"Os X\",\"major_label_policy\":{\"type\":\"object\",\"name\":\"AllLabels\",\"id\":\"p18727\"}}}],\"center\":[{\"type\":\"object\",\"name\":\"Grid\",\"id\":\"p18732\",\"attributes\":{\"axis\":{\"id\":\"p18726\"},\"grid_line_color\":null}},{\"type\":\"object\",\"name\":\"Grid\",\"id\":\"p18739\",\"attributes\":{\"dimension\":1,\"axis\":{\"id\":\"p18733\"},\"grid_line_alpha\":0.8}},{\"type\":\"object\",\"name\":\"Legend\",\"id\":\"p18762\",\"attributes\":{\"location\":\"center\",\"click_policy\":\"hide\",\"items\":[{\"type\":\"object\",\"name\":\"LegendItem\",\"id\":\"p18763\",\"attributes\":{\"label\":{\"type\":\"value\",\"value\":\"Legenda \\ud83d\\udc4d\"},\"renderers\":[{\"id\":\"p18759\"}]}},{\"type\":\"object\",\"name\":\"LegendItem\",\"id\":\"p18773\",\"attributes\":{\"label\":{\"type\":\"value\",\"value\":\"Body\"},\"renderers\":[{\"id\":\"p18770\"}]}}]}},{\"type\":\"object\",\"name\":\"Label\",\"id\":\"p18774\",\"attributes\":{\"text\":\"Poznamka\",\"text_color\":\"red\",\"text_font_size\":\"14pt\",\"x\":0,\"y\":4}}]}}],\"callbacks\":{\"type\":\"map\"}}};\n",
       "  const render_items = [{\"docid\":\"459a0bac-9a56-4e95-ae69-7f746b1a34a0\",\"roots\":{\"p18708\":\"cc7b0d8f-2fd5-4126-8437-08d72b37c925\"},\"root_ids\":[\"p18708\"]}];\n",
       "  root.Bokeh.embed.embed_items_notebook(docs_json, render_items);\n",
       "  }\n",
       "  if (root.Bokeh !== undefined) {\n",
       "    embed_document(root);\n",
       "  } else {\n",
       "    let attempts = 0;\n",
       "    const timer = setInterval(function(root) {\n",
       "      if (root.Bokeh !== undefined) {\n",
       "        clearInterval(timer);\n",
       "        embed_document(root);\n",
       "      } else {\n",
       "        attempts++;\n",
       "        if (attempts > 100) {\n",
       "          clearInterval(timer);\n",
       "          console.log(\"Bokeh: ERROR: Unable to run BokehJS code because BokehJS library is missing\");\n",
       "        }\n",
       "      }\n",
       "    }, 10, root)\n",
       "  }\n",
       "})(window);<\/script><script><\/script>"
      ]
     },
     "metadata":{},
     "output_type":"display_data"
    }
   ],
   "metadata":{
    "datalore":{
     "node_id":"JjZUagxCETn7EMmBg5kPrX",
     "type":"CODE",
     "hide_input_from_viewers":true,
     "hide_output_from_viewers":true
    }
   }
  },
  {
   "cell_type":"code",
   "source":[
    "from bokeh.plotting import figure, show\n",
    "from bokeh.io import output_notebook\n",
    "\n",
    "# Kontrola notebook\n",
    "output_notebook()\n",
    "\n",
    "kategorie = [\"A\", \"B\", \"C\", \"D\", \"E\"]\n",
    "hodnoty = [10,20,15,25,18]\n",
    "\n",
    "graf_ciarovy = figure(\n",
    "    x_range = kategorie,\n",
    "    title = \"Stlpcovy (Vertikalny) graf\",\n",
    "    x_axis_label = \"Kategórie\",\n",
    "    y_axis_label = \"Hodnoty\",\n",
    "    width = 800,\n",
    "    height = 400\n",
    ")\n",
    "\n",
    "graf_ciarovy.vbar(x = kategorie, top = hodnoty, width=0.5)\n",
    "\n",
    "show(graf_ciarovy)"
   ],
   "execution_count":57,
   "outputs":[
    {
     "data":{
      "text\/html":[
       "<style>\n",
       "        .bk-notebook-logo {\n",
       "            display: block;\n",
       "            width: 20px;\n",
       "            height: 20px;\n",
       "            background-image: url(data:image\/png;base64,iVBORw0KGgoAAAANSUhEUgAAABQAAAAUCAYAAACNiR0NAAAABHNCSVQICAgIfAhkiAAAAAlwSFlzAAALEgAACxIB0t1+\/AAAABx0RVh0U29mdHdhcmUAQWRvYmUgRmlyZXdvcmtzIENTNui8sowAAAOkSURBVDiNjZRtaJVlGMd\/1\/08zzln5zjP1LWcU9N0NkN8m2CYjpgQYQXqSs0I84OLIC0hkEKoPtiH3gmKoiJDU7QpLgoLjLIQCpEsNJ1vqUOdO7ppbuec5+V+rj4ctwzd8IIbbi6u+8f1539dt3A78eXC7QizUF7gyV1fD1Yqg4JWz84yffhm0qkFqBogB9rM8tZdtwVsPUhWhGcFJngGeWrPzHm5oaMmkfEg1usvLFyc8jLRqDOMru7AyC8saQr7GG7f5fvDeH7Ej8CM66nIF+8yngt6HWaKh7k49Soy9nXurCi1o3qUbS3zWfrYeQDTB\/Qj6kX6Ybhw4B+bOYoLKCC9H3Nu\/leUTZ1JdRWkkn2ldcCamzrcf47KKXdAJllSlxAOkRgyHsGC\/zRday5Qld9DyoM4\/q\/rUoy\/CXh3jzOu3bHUVZeU+DEn8FInkPBFlu3+nW3Nw0mk6vCDiWg8CeJaxEwuHS3+z5RgY+YBR6V1Z1nxSOfoaPa4LASWxxdNp+VWTk7+4vzaou8v8PN+xo+KY2xsw6une2frhw05CTYOmQvsEhjhWjn0bmXPjpE1+kplmmkP3suftwTubK9Vq22qKmrBhpY4jvd5afdRA3wGjFAgcnTK2s4hY0\/GPNIb0nErGMCRxWOOX64Z8RAC4oCXdklmEvcL8o0BfkNK4lUg9HTl+oPlQxdNo3Mg4Nv175e\/1LDGzZen30MEjRUtmXSfiTVu1kK8W4txyV6BMKlbgk3lMwYCiusNy9fVfvvwMxv8Ynl6vxoByANLTWplvuj\/nF9m2+PDtt1eiHPBr1oIfhCChQMBw6Aw0UulqTKZdfVvfG7VcfIqLG9bcldL\/+pdWTLxLUy8Qq38heUIjh4XlzZxzQm19lLFlr8vdQ97rjZVOLf8nclzckbcD4wxXMidpX30sFd37Fv\/GtwwhzhxGVAprjbg0gCAEeIgwCZyTV2Z1REEW8O4py0wsjeloKoMr6iCY6dP92H6Vw\/oTyICIthibxjm\/DfN9lVz8IqtqKYLUXfoKVMVQVVJOElGjrnnUt9T9wbgp8AyYKaGlqingHZU\/uG2NTZSVqwHQTWkx9hxjkpWDaCg6Ckj5qebgBVbT3V3NNXMSiWSDdGV3hrtzla7J+duwPOToIg42ChPQOQjspnSlp1V+Gjdged7+8UN5CRAV7a5EdFNwCjEaBR27b3W890TE7g24NAP\/mMDXRWrGoFPQI9ls\/MWO2dWFAar\/xcOIImbbpA3zgAAAABJRU5ErkJggg==);\n",
       "        }\n",
       "    <\/style>\n",
       "    <div>\n",
       "        <a href=\"https:\/\/bokeh.org\" target=\"_blank\" class=\"bk-notebook-logo\"><\/a>\n",
       "        <span id=\"e15d8ea2-83b2-4d96-8b6a-3d5eddd4d0a6\">Loading BokehJS ...<\/span>\n",
       "    <\/div>\n"
      ]
     },
     "metadata":{},
     "output_type":"display_data"
    },
    {
     "data":{
      "text\/html":[
       "<script>(function(root) {\n",
       "  function now() {\n",
       "    return new Date();\n",
       "  }\n",
       "\n",
       "  const force = true;\n",
       "\n",
       "  if (typeof root._bokeh_onload_callbacks === \"undefined\" || force === true) {\n",
       "    root._bokeh_onload_callbacks = [];\n",
       "    root._bokeh_is_loading = undefined;\n",
       "  }\n",
       "\n",
       "const JS_MIME_TYPE = 'application\/javascript';\n",
       "  const HTML_MIME_TYPE = 'text\/html';\n",
       "  const EXEC_MIME_TYPE = 'application\/vnd.bokehjs_exec.v0+json';\n",
       "  const CLASS_NAME = 'output_bokeh rendered_html';\n",
       "\n",
       "  \/**\n",
       "   * Render data to the DOM node\n",
       "   *\/\n",
       "  function render(props, node) {\n",
       "    const script = document.createElement(\"script\");\n",
       "    node.appendChild(script);\n",
       "  }\n",
       "\n",
       "  \/**\n",
       "   * Handle when an output is cleared or removed\n",
       "   *\/\n",
       "  function handleClearOutput(event, handle) {\n",
       "    const cell = handle.cell;\n",
       "\n",
       "    const id = cell.output_area._bokeh_element_id;\n",
       "    const server_id = cell.output_area._bokeh_server_id;\n",
       "    \/\/ Clean up Bokeh references\n",
       "    if (id != null && id in Bokeh.index) {\n",
       "      Bokeh.index[id].model.document.clear();\n",
       "      delete Bokeh.index[id];\n",
       "    }\n",
       "\n",
       "    if (server_id !== undefined) {\n",
       "      \/\/ Clean up Bokeh references\n",
       "      const cmd_clean = \"from bokeh.io.state import curstate; print(curstate().uuid_to_server['\" + server_id + \"'].get_sessions()[0].document.roots[0]._id)\";\n",
       "      cell.notebook.kernel.execute(cmd_clean, {\n",
       "        iopub: {\n",
       "          output: function(msg) {\n",
       "            const id = msg.content.text.trim();\n",
       "            if (id in Bokeh.index) {\n",
       "              Bokeh.index[id].model.document.clear();\n",
       "              delete Bokeh.index[id];\n",
       "            }\n",
       "          }\n",
       "        }\n",
       "      });\n",
       "      \/\/ Destroy server and session\n",
       "      const cmd_destroy = \"import bokeh.io.notebook as ion; ion.destroy_server('\" + server_id + \"')\";\n",
       "      cell.notebook.kernel.execute(cmd_destroy);\n",
       "    }\n",
       "  }\n",
       "\n",
       "  \/**\n",
       "   * Handle when a new output is added\n",
       "   *\/\n",
       "  function handleAddOutput(event, handle) {\n",
       "    const output_area = handle.output_area;\n",
       "    const output = handle.output;\n",
       "\n",
       "    \/\/ limit handleAddOutput to display_data with EXEC_MIME_TYPE content only\n",
       "    if ((output.output_type != \"display_data\") || (!Object.prototype.hasOwnProperty.call(output.data, EXEC_MIME_TYPE))) {\n",
       "      return\n",
       "    }\n",
       "\n",
       "    const toinsert = output_area.element.find(\".\" + CLASS_NAME.split(' ')[0]);\n",
       "\n",
       "    if (output.metadata[EXEC_MIME_TYPE][\"id\"] !== undefined) {\n",
       "      toinsert[toinsert.length - 1].firstChild.textContent = output.data[JS_MIME_TYPE];\n",
       "      \/\/ store reference to embed id on output_area\n",
       "      output_area._bokeh_element_id = output.metadata[EXEC_MIME_TYPE][\"id\"];\n",
       "    }\n",
       "    if (output.metadata[EXEC_MIME_TYPE][\"server_id\"] !== undefined) {\n",
       "      const bk_div = document.createElement(\"div\");\n",
       "      bk_div.innerHTML = output.data[HTML_MIME_TYPE];\n",
       "      const script_attrs = bk_div.children[0].attributes;\n",
       "      for (let i = 0; i < script_attrs.length; i++) {\n",
       "        toinsert[toinsert.length - 1].firstChild.setAttribute(script_attrs[i].name, script_attrs[i].value);\n",
       "        toinsert[toinsert.length - 1].firstChild.textContent = bk_div.children[0].textContent\n",
       "      }\n",
       "      \/\/ store reference to server id on output_area\n",
       "      output_area._bokeh_server_id = output.metadata[EXEC_MIME_TYPE][\"server_id\"];\n",
       "    }\n",
       "  }\n",
       "\n",
       "  function register_renderer(events, OutputArea) {\n",
       "\n",
       "    function append_mime(data, metadata, element) {\n",
       "      \/\/ create a DOM node to render to\n",
       "      const toinsert = this.create_output_subarea(\n",
       "        metadata,\n",
       "        CLASS_NAME,\n",
       "        EXEC_MIME_TYPE\n",
       "      );\n",
       "      this.keyboard_manager.register_events(toinsert);\n",
       "      \/\/ Render to node\n",
       "      const props = {data: data, metadata: metadata[EXEC_MIME_TYPE]};\n",
       "      render(props, toinsert[toinsert.length - 1]);\n",
       "      element.append(toinsert);\n",
       "      return toinsert\n",
       "    }\n",
       "\n",
       "    \/* Handle when an output is cleared or removed *\/\n",
       "    events.on('clear_output.CodeCell', handleClearOutput);\n",
       "    events.on('delete.Cell', handleClearOutput);\n",
       "\n",
       "    \/* Handle when a new output is added *\/\n",
       "    events.on('output_added.OutputArea', handleAddOutput);\n",
       "\n",
       "    \/**\n",
       "     * Register the mime type and append_mime function with output_area\n",
       "     *\/\n",
       "    OutputArea.prototype.register_mime_type(EXEC_MIME_TYPE, append_mime, {\n",
       "      \/* Is output safe? *\/\n",
       "      safe: true,\n",
       "      \/* Index of renderer in `output_area.display_order` *\/\n",
       "      index: 0\n",
       "    });\n",
       "  }\n",
       "\n",
       "  \/\/ register the mime type if in Jupyter Notebook environment and previously unregistered\n",
       "  if (root.Jupyter !== undefined) {\n",
       "    const events = require('base\/js\/events');\n",
       "    const OutputArea = require('notebook\/js\/outputarea').OutputArea;\n",
       "\n",
       "    if (OutputArea.prototype.mime_types().indexOf(EXEC_MIME_TYPE) == -1) {\n",
       "      register_renderer(events, OutputArea);\n",
       "    }\n",
       "  }\n",
       "  if (typeof (root._bokeh_timeout) === \"undefined\" || force === true) {\n",
       "    root._bokeh_timeout = Date.now() + 5000;\n",
       "    root._bokeh_failed_load = false;\n",
       "  }\n",
       "\n",
       "  const NB_LOAD_WARNING = {'data': {'text\/html':\n",
       "     \"<div style='background-color: #fdd'>\\n\"+\n",
       "     \"<p>\\n\"+\n",
       "     \"BokehJS does not appear to have successfully loaded. If loading BokehJS from CDN, this \\n\"+\n",
       "     \"may be due to a slow or bad network connection. Possible fixes:\\n\"+\n",
       "     \"<\/p>\\n\"+\n",
       "     \"<ul>\\n\"+\n",
       "     \"<li>re-rerun `output_notebook()` to attempt to load from CDN again, or<\/li>\\n\"+\n",
       "     \"<li>use INLINE resources instead, as so:<\/li>\\n\"+\n",
       "     \"<\/ul>\\n\"+\n",
       "     \"<code>\\n\"+\n",
       "     \"from bokeh.resources import INLINE\\n\"+\n",
       "     \"output_notebook(resources=INLINE)\\n\"+\n",
       "     \"<\/code>\\n\"+\n",
       "     \"<\/div>\"}};\n",
       "\n",
       "  function display_loaded() {\n",
       "    const el = document.getElementById(\"e15d8ea2-83b2-4d96-8b6a-3d5eddd4d0a6\");\n",
       "    if (el != null) {\n",
       "      el.textContent = \"BokehJS is loading...\";\n",
       "    }\n",
       "    if (root.Bokeh !== undefined) {\n",
       "      if (el != null) {\n",
       "        el.textContent = \"BokehJS \" + root.Bokeh.version + \" successfully loaded.\";\n",
       "      }\n",
       "    } else if (Date.now() < root._bokeh_timeout) {\n",
       "      setTimeout(display_loaded, 100)\n",
       "    }\n",
       "  }\n",
       "\n",
       "  function run_callbacks() {\n",
       "    try {\n",
       "      root._bokeh_onload_callbacks.forEach(function(callback) {\n",
       "        if (callback != null)\n",
       "          callback();\n",
       "      });\n",
       "    } finally {\n",
       "      delete root._bokeh_onload_callbacks\n",
       "    }\n",
       "    console.debug(\"Bokeh: all callbacks have finished\");\n",
       "  }\n",
       "\n",
       "  function load_libs(css_urls, js_urls, callback) {\n",
       "    if (css_urls == null) css_urls = [];\n",
       "    if (js_urls == null) js_urls = [];\n",
       "\n",
       "    root._bokeh_onload_callbacks.push(callback);\n",
       "    if (root._bokeh_is_loading > 0) {\n",
       "      console.debug(\"Bokeh: BokehJS is being loaded, scheduling callback at\", now());\n",
       "      return null;\n",
       "    }\n",
       "    if (js_urls == null || js_urls.length === 0) {\n",
       "      run_callbacks();\n",
       "      return null;\n",
       "    }\n",
       "    console.debug(\"Bokeh: BokehJS not loaded, scheduling load and callback at\", now());\n",
       "    root._bokeh_is_loading = css_urls.length + js_urls.length;\n",
       "\n",
       "    function on_load() {\n",
       "      root._bokeh_is_loading--;\n",
       "      if (root._bokeh_is_loading === 0) {\n",
       "        console.debug(\"Bokeh: all BokehJS libraries\/stylesheets loaded\");\n",
       "        run_callbacks()\n",
       "      }\n",
       "    }\n",
       "\n",
       "    function on_error(url) {\n",
       "      console.error(\"failed to load \" + url);\n",
       "    }\n",
       "\n",
       "    for (let i = 0; i < css_urls.length; i++) {\n",
       "      const url = css_urls[i];\n",
       "      const element = document.createElement(\"link\");\n",
       "      element.onload = on_load;\n",
       "      element.onerror = on_error.bind(null, url);\n",
       "      element.rel = \"stylesheet\";\n",
       "      element.type = \"text\/css\";\n",
       "      element.href = url;\n",
       "      console.debug(\"Bokeh: injecting link tag for BokehJS stylesheet: \", url);\n",
       "      document.body.appendChild(element);\n",
       "    }\n",
       "\n",
       "    for (let i = 0; i < js_urls.length; i++) {\n",
       "      const url = js_urls[i];\n",
       "      const element = document.createElement('script');\n",
       "      element.onload = on_load;\n",
       "      element.onerror = on_error.bind(null, url);\n",
       "      element.async = false;\n",
       "      element.src = url;\n",
       "      console.debug(\"Bokeh: injecting script tag for BokehJS library: \", url);\n",
       "      document.head.appendChild(element);\n",
       "    }\n",
       "  };\n",
       "\n",
       "  function inject_raw_css(css) {\n",
       "    const element = document.createElement(\"style\");\n",
       "    element.appendChild(document.createTextNode(css));\n",
       "    document.body.appendChild(element);\n",
       "  }\n",
       "\n",
       "  const js_urls = [\"https:\/\/cdn.bokeh.org\/bokeh\/release\/bokeh-3.1.1.min.js\", \"https:\/\/cdn.bokeh.org\/bokeh\/release\/bokeh-gl-3.1.1.min.js\", \"https:\/\/cdn.bokeh.org\/bokeh\/release\/bokeh-widgets-3.1.1.min.js\", \"https:\/\/cdn.bokeh.org\/bokeh\/release\/bokeh-tables-3.1.1.min.js\", \"https:\/\/cdn.bokeh.org\/bokeh\/release\/bokeh-mathjax-3.1.1.min.js\"];\n",
       "  const css_urls = [];\n",
       "\n",
       "  const inline_js = [    function(Bokeh) {\n",
       "      Bokeh.set_log_level(\"info\");\n",
       "    },\n",
       "function(Bokeh) {\n",
       "    }\n",
       "  ];\n",
       "\n",
       "  function run_inline_js() {\n",
       "    if (root.Bokeh !== undefined || force === true) {\n",
       "          for (let i = 0; i < inline_js.length; i++) {\n",
       "      inline_js[i].call(root, root.Bokeh);\n",
       "    }\n",
       "if (force === true) {\n",
       "        display_loaded();\n",
       "      }} else if (Date.now() < root._bokeh_timeout) {\n",
       "      setTimeout(run_inline_js, 100);\n",
       "    } else if (!root._bokeh_failed_load) {\n",
       "      console.log(\"Bokeh: BokehJS failed to load within specified timeout.\");\n",
       "      root._bokeh_failed_load = true;\n",
       "    } else if (force !== true) {\n",
       "      const cell = $(document.getElementById(\"e15d8ea2-83b2-4d96-8b6a-3d5eddd4d0a6\")).parents('.cell').data().cell;\n",
       "      cell.output_area.append_execute_result(NB_LOAD_WARNING)\n",
       "    }\n",
       "  }\n",
       "\n",
       "  if (root._bokeh_is_loading === 0) {\n",
       "    console.debug(\"Bokeh: BokehJS loaded, going straight to plotting\");\n",
       "    run_inline_js();\n",
       "  } else {\n",
       "    load_libs(css_urls, js_urls, function() {\n",
       "      console.debug(\"Bokeh: BokehJS plotting callback run at\", now());\n",
       "      run_inline_js();\n",
       "    });\n",
       "  }\n",
       "}(window));<\/script><script>(function(root) {\n",
       "  function now() {\n",
       "    return new Date();\n",
       "  }\n",
       "\n",
       "  const force = true;\n",
       "\n",
       "  if (typeof root._bokeh_onload_callbacks === \"undefined\" || force === true) {\n",
       "    root._bokeh_onload_callbacks = [];\n",
       "    root._bokeh_is_loading = undefined;\n",
       "  }\n",
       "\n",
       "\n",
       "  if (typeof (root._bokeh_timeout) === \"undefined\" || force === true) {\n",
       "    root._bokeh_timeout = Date.now() + 5000;\n",
       "    root._bokeh_failed_load = false;\n",
       "  }\n",
       "\n",
       "  const NB_LOAD_WARNING = {'data': {'text\/html':\n",
       "     \"<div style='background-color: #fdd'>\\n\"+\n",
       "     \"<p>\\n\"+\n",
       "     \"BokehJS does not appear to have successfully loaded. If loading BokehJS from CDN, this \\n\"+\n",
       "     \"may be due to a slow or bad network connection. Possible fixes:\\n\"+\n",
       "     \"<\/p>\\n\"+\n",
       "     \"<ul>\\n\"+\n",
       "     \"<li>re-rerun `output_notebook()` to attempt to load from CDN again, or<\/li>\\n\"+\n",
       "     \"<li>use INLINE resources instead, as so:<\/li>\\n\"+\n",
       "     \"<\/ul>\\n\"+\n",
       "     \"<code>\\n\"+\n",
       "     \"from bokeh.resources import INLINE\\n\"+\n",
       "     \"output_notebook(resources=INLINE)\\n\"+\n",
       "     \"<\/code>\\n\"+\n",
       "     \"<\/div>\"}};\n",
       "\n",
       "  function display_loaded() {\n",
       "    const el = document.getElementById(\"e15d8ea2-83b2-4d96-8b6a-3d5eddd4d0a6\");\n",
       "    if (el != null) {\n",
       "      el.textContent = \"BokehJS is loading...\";\n",
       "    }\n",
       "    if (root.Bokeh !== undefined) {\n",
       "      if (el != null) {\n",
       "        el.textContent = \"BokehJS \" + root.Bokeh.version + \" successfully loaded.\";\n",
       "      }\n",
       "    } else if (Date.now() < root._bokeh_timeout) {\n",
       "      setTimeout(display_loaded, 100)\n",
       "    }\n",
       "  }\n",
       "\n",
       "  function run_callbacks() {\n",
       "    try {\n",
       "      root._bokeh_onload_callbacks.forEach(function(callback) {\n",
       "        if (callback != null)\n",
       "          callback();\n",
       "      });\n",
       "    } finally {\n",
       "      delete root._bokeh_onload_callbacks\n",
       "    }\n",
       "    console.debug(\"Bokeh: all callbacks have finished\");\n",
       "  }\n",
       "\n",
       "  function load_libs(css_urls, js_urls, callback) {\n",
       "    if (css_urls == null) css_urls = [];\n",
       "    if (js_urls == null) js_urls = [];\n",
       "\n",
       "    root._bokeh_onload_callbacks.push(callback);\n",
       "    if (root._bokeh_is_loading > 0) {\n",
       "      console.debug(\"Bokeh: BokehJS is being loaded, scheduling callback at\", now());\n",
       "      return null;\n",
       "    }\n",
       "    if (js_urls == null || js_urls.length === 0) {\n",
       "      run_callbacks();\n",
       "      return null;\n",
       "    }\n",
       "    console.debug(\"Bokeh: BokehJS not loaded, scheduling load and callback at\", now());\n",
       "    root._bokeh_is_loading = css_urls.length + js_urls.length;\n",
       "\n",
       "    function on_load() {\n",
       "      root._bokeh_is_loading--;\n",
       "      if (root._bokeh_is_loading === 0) {\n",
       "        console.debug(\"Bokeh: all BokehJS libraries\/stylesheets loaded\");\n",
       "        run_callbacks()\n",
       "      }\n",
       "    }\n",
       "\n",
       "    function on_error(url) {\n",
       "      console.error(\"failed to load \" + url);\n",
       "    }\n",
       "\n",
       "    for (let i = 0; i < css_urls.length; i++) {\n",
       "      const url = css_urls[i];\n",
       "      const element = document.createElement(\"link\");\n",
       "      element.onload = on_load;\n",
       "      element.onerror = on_error.bind(null, url);\n",
       "      element.rel = \"stylesheet\";\n",
       "      element.type = \"text\/css\";\n",
       "      element.href = url;\n",
       "      console.debug(\"Bokeh: injecting link tag for BokehJS stylesheet: \", url);\n",
       "      document.body.appendChild(element);\n",
       "    }\n",
       "\n",
       "    for (let i = 0; i < js_urls.length; i++) {\n",
       "      const url = js_urls[i];\n",
       "      const element = document.createElement('script');\n",
       "      element.onload = on_load;\n",
       "      element.onerror = on_error.bind(null, url);\n",
       "      element.async = false;\n",
       "      element.src = url;\n",
       "      console.debug(\"Bokeh: injecting script tag for BokehJS library: \", url);\n",
       "      document.head.appendChild(element);\n",
       "    }\n",
       "  };\n",
       "\n",
       "  function inject_raw_css(css) {\n",
       "    const element = document.createElement(\"style\");\n",
       "    element.appendChild(document.createTextNode(css));\n",
       "    document.body.appendChild(element);\n",
       "  }\n",
       "\n",
       "  const js_urls = [\"https:\/\/cdn.bokeh.org\/bokeh\/release\/bokeh-3.1.1.min.js\", \"https:\/\/cdn.bokeh.org\/bokeh\/release\/bokeh-gl-3.1.1.min.js\", \"https:\/\/cdn.bokeh.org\/bokeh\/release\/bokeh-widgets-3.1.1.min.js\", \"https:\/\/cdn.bokeh.org\/bokeh\/release\/bokeh-tables-3.1.1.min.js\", \"https:\/\/cdn.bokeh.org\/bokeh\/release\/bokeh-mathjax-3.1.1.min.js\"];\n",
       "  const css_urls = [];\n",
       "\n",
       "  const inline_js = [    function(Bokeh) {\n",
       "      Bokeh.set_log_level(\"info\");\n",
       "    },\n",
       "function(Bokeh) {\n",
       "    }\n",
       "  ];\n",
       "\n",
       "  function run_inline_js() {\n",
       "    if (root.Bokeh !== undefined || force === true) {\n",
       "          for (let i = 0; i < inline_js.length; i++) {\n",
       "      inline_js[i].call(root, root.Bokeh);\n",
       "    }\n",
       "if (force === true) {\n",
       "        display_loaded();\n",
       "      }} else if (Date.now() < root._bokeh_timeout) {\n",
       "      setTimeout(run_inline_js, 100);\n",
       "    } else if (!root._bokeh_failed_load) {\n",
       "      console.log(\"Bokeh: BokehJS failed to load within specified timeout.\");\n",
       "      root._bokeh_failed_load = true;\n",
       "    } else if (force !== true) {\n",
       "      const cell = $(document.getElementById(\"e15d8ea2-83b2-4d96-8b6a-3d5eddd4d0a6\")).parents('.cell').data().cell;\n",
       "      cell.output_area.append_execute_result(NB_LOAD_WARNING)\n",
       "    }\n",
       "  }\n",
       "\n",
       "  if (root._bokeh_is_loading === 0) {\n",
       "    console.debug(\"Bokeh: BokehJS loaded, going straight to plotting\");\n",
       "    run_inline_js();\n",
       "  } else {\n",
       "    load_libs(css_urls, js_urls, function() {\n",
       "      console.debug(\"Bokeh: BokehJS plotting callback run at\", now());\n",
       "      run_inline_js();\n",
       "    });\n",
       "  }\n",
       "}(window));<\/script>"
      ]
     },
     "metadata":{},
     "output_type":"display_data"
    },
    {
     "data":{
      "text\/html":[
       "\n",
       "  <div id=\"d7841e12-ca19-498b-a815-a0c1801eeb24\" data-root-id=\"p22906\" style=\"display: contents;\"><\/div>\n"
      ]
     },
     "metadata":{},
     "output_type":"display_data"
    },
    {
     "data":{
      "text\/html":[
       "<script>(function(root) {\n",
       "  function embed_document(root) {\n",
       "  const docs_json = {\"9645663b-689a-4f54-97a7-03c4d4479094\":{\"version\":\"3.1.1\",\"title\":\"Bokeh Application\",\"defs\":[],\"roots\":[{\"type\":\"object\",\"name\":\"Figure\",\"id\":\"p22906\",\"attributes\":{\"width\":800,\"height\":400,\"x_range\":{\"type\":\"object\",\"name\":\"FactorRange\",\"id\":\"p22916\",\"attributes\":{\"factors\":[\"A\",\"B\",\"C\",\"D\",\"E\"]}},\"y_range\":{\"type\":\"object\",\"name\":\"DataRange1d\",\"id\":\"p22908\"},\"x_scale\":{\"type\":\"object\",\"name\":\"CategoricalScale\",\"id\":\"p22920\"},\"y_scale\":{\"type\":\"object\",\"name\":\"LinearScale\",\"id\":\"p22922\"},\"title\":{\"type\":\"object\",\"name\":\"Title\",\"id\":\"p22909\",\"attributes\":{\"text\":\"Stlpcovy (Vertikalny) graf\"}},\"renderers\":[{\"type\":\"object\",\"name\":\"GlyphRenderer\",\"id\":\"p22958\",\"attributes\":{\"data_source\":{\"type\":\"object\",\"name\":\"ColumnDataSource\",\"id\":\"p22952\",\"attributes\":{\"selected\":{\"type\":\"object\",\"name\":\"Selection\",\"id\":\"p22954\",\"attributes\":{\"indices\":[],\"line_indices\":[]}},\"selection_policy\":{\"type\":\"object\",\"name\":\"UnionRenderers\",\"id\":\"p22953\"},\"data\":{\"type\":\"map\",\"entries\":[[\"x\",[\"A\",\"B\",\"C\",\"D\",\"E\"]],[\"top\",[10,20,15,25,18]]]}}},\"view\":{\"type\":\"object\",\"name\":\"CDSView\",\"id\":\"p22959\",\"attributes\":{\"filter\":{\"type\":\"object\",\"name\":\"AllIndices\",\"id\":\"p22960\"}}},\"glyph\":{\"type\":\"object\",\"name\":\"VBar\",\"id\":\"p22955\",\"attributes\":{\"x\":{\"type\":\"field\",\"field\":\"x\"},\"width\":{\"type\":\"value\",\"value\":0.5},\"top\":{\"type\":\"field\",\"field\":\"top\"},\"line_color\":{\"type\":\"value\",\"value\":\"#1f77b4\"},\"fill_color\":{\"type\":\"value\",\"value\":\"#1f77b4\"}}},\"nonselection_glyph\":{\"type\":\"object\",\"name\":\"VBar\",\"id\":\"p22956\",\"attributes\":{\"x\":{\"type\":\"field\",\"field\":\"x\"},\"width\":{\"type\":\"value\",\"value\":0.5},\"top\":{\"type\":\"field\",\"field\":\"top\"},\"line_color\":{\"type\":\"value\",\"value\":\"#1f77b4\"},\"line_alpha\":{\"type\":\"value\",\"value\":0.1},\"fill_color\":{\"type\":\"value\",\"value\":\"#1f77b4\"},\"fill_alpha\":{\"type\":\"value\",\"value\":0.1},\"hatch_alpha\":{\"type\":\"value\",\"value\":0.1}}},\"muted_glyph\":{\"type\":\"object\",\"name\":\"VBar\",\"id\":\"p22957\",\"attributes\":{\"x\":{\"type\":\"field\",\"field\":\"x\"},\"width\":{\"type\":\"value\",\"value\":0.5},\"top\":{\"type\":\"field\",\"field\":\"top\"},\"line_color\":{\"type\":\"value\",\"value\":\"#1f77b4\"},\"line_alpha\":{\"type\":\"value\",\"value\":0.2},\"fill_color\":{\"type\":\"value\",\"value\":\"#1f77b4\"},\"fill_alpha\":{\"type\":\"value\",\"value\":0.2},\"hatch_alpha\":{\"type\":\"value\",\"value\":0.2}}}}}],\"toolbar\":{\"type\":\"object\",\"name\":\"Toolbar\",\"id\":\"p22913\",\"attributes\":{\"tools\":[{\"type\":\"object\",\"name\":\"PanTool\",\"id\":\"p22937\"},{\"type\":\"object\",\"name\":\"WheelZoomTool\",\"id\":\"p22938\"},{\"type\":\"object\",\"name\":\"BoxZoomTool\",\"id\":\"p22939\",\"attributes\":{\"overlay\":{\"type\":\"object\",\"name\":\"BoxAnnotation\",\"id\":\"p22940\",\"attributes\":{\"syncable\":false,\"level\":\"overlay\",\"visible\":false,\"left_units\":\"canvas\",\"right_units\":\"canvas\",\"bottom_units\":\"canvas\",\"top_units\":\"canvas\",\"line_color\":\"black\",\"line_alpha\":1.0,\"line_width\":2,\"line_dash\":[4,4],\"fill_color\":\"lightgrey\",\"fill_alpha\":0.5}}}},{\"type\":\"object\",\"name\":\"SaveTool\",\"id\":\"p22941\"},{\"type\":\"object\",\"name\":\"ResetTool\",\"id\":\"p22942\"},{\"type\":\"object\",\"name\":\"HelpTool\",\"id\":\"p22943\"}]}},\"left\":[{\"type\":\"object\",\"name\":\"LinearAxis\",\"id\":\"p22930\",\"attributes\":{\"ticker\":{\"type\":\"object\",\"name\":\"BasicTicker\",\"id\":\"p22932\",\"attributes\":{\"mantissas\":[1,2,5]}},\"formatter\":{\"type\":\"object\",\"name\":\"BasicTickFormatter\",\"id\":\"p22933\"},\"axis_label\":\"Hodnoty\",\"major_label_policy\":{\"type\":\"object\",\"name\":\"AllLabels\",\"id\":\"p22931\"}}}],\"below\":[{\"type\":\"object\",\"name\":\"CategoricalAxis\",\"id\":\"p22924\",\"attributes\":{\"ticker\":{\"type\":\"object\",\"name\":\"CategoricalTicker\",\"id\":\"p22926\"},\"formatter\":{\"type\":\"object\",\"name\":\"CategoricalTickFormatter\",\"id\":\"p22927\"},\"axis_label\":\"Kateg\\u00f3rie\",\"major_label_policy\":{\"type\":\"object\",\"name\":\"AllLabels\",\"id\":\"p22925\"}}}],\"center\":[{\"type\":\"object\",\"name\":\"Grid\",\"id\":\"p22929\",\"attributes\":{\"axis\":{\"id\":\"p22924\"}}},{\"type\":\"object\",\"name\":\"Grid\",\"id\":\"p22936\",\"attributes\":{\"dimension\":1,\"axis\":{\"id\":\"p22930\"}}}]}}],\"callbacks\":{\"type\":\"map\"}}};\n",
       "  const render_items = [{\"docid\":\"9645663b-689a-4f54-97a7-03c4d4479094\",\"roots\":{\"p22906\":\"d7841e12-ca19-498b-a815-a0c1801eeb24\"},\"root_ids\":[\"p22906\"]}];\n",
       "  root.Bokeh.embed.embed_items_notebook(docs_json, render_items);\n",
       "  }\n",
       "  if (root.Bokeh !== undefined) {\n",
       "    embed_document(root);\n",
       "  } else {\n",
       "    let attempts = 0;\n",
       "    const timer = setInterval(function(root) {\n",
       "      if (root.Bokeh !== undefined) {\n",
       "        clearInterval(timer);\n",
       "        embed_document(root);\n",
       "      } else {\n",
       "        attempts++;\n",
       "        if (attempts > 100) {\n",
       "          clearInterval(timer);\n",
       "          console.log(\"Bokeh: ERROR: Unable to run BokehJS code because BokehJS library is missing\");\n",
       "        }\n",
       "      }\n",
       "    }, 10, root)\n",
       "  }\n",
       "})(window);<\/script><script><\/script>"
      ]
     },
     "metadata":{},
     "output_type":"display_data"
    }
   ],
   "metadata":{
    "datalore":{
     "node_id":"jxwvdsIVaMDQOyc4pCJ0Qo",
     "type":"CODE",
     "hide_input_from_viewers":true,
     "hide_output_from_viewers":true
    }
   }
  },
  {
   "cell_type":"code",
   "source":[
    "from bokeh.plotting import figure, show\n",
    "from bokeh.io import output_notebook\n",
    "\n",
    "# Výstup do notebooku\n",
    "output_notebook()\n",
    "\n",
    "# Dáta\n",
    "x = [1, 2, 3, 4, 5]\n",
    "y = [6, 7, 2, 4, 5]\n",
    "sizes = [10, 20, 30, 40, 50]\n",
    "\n",
    "# Vytvorenie grafu\n",
    "p = figure(\n",
    "    title=\"Bodový graf\", \n",
    "    x_axis_label='X', \n",
    "    y_axis_label='Y'\n",
    ")\n",
    "\n",
    "# Pridanie bodov\n",
    "p.scatter(x, y, size=sizes, legend_label=\"Body\", fill_color=\"red\")\n",
    "\n",
    "# Zobrazenie grafu\n",
    "show(p)"
   ],
   "execution_count":58,
   "outputs":[
    {
     "data":{
      "text\/html":[
       "<style>\n",
       "        .bk-notebook-logo {\n",
       "            display: block;\n",
       "            width: 20px;\n",
       "            height: 20px;\n",
       "            background-image: url(data:image\/png;base64,iVBORw0KGgoAAAANSUhEUgAAABQAAAAUCAYAAACNiR0NAAAABHNCSVQICAgIfAhkiAAAAAlwSFlzAAALEgAACxIB0t1+\/AAAABx0RVh0U29mdHdhcmUAQWRvYmUgRmlyZXdvcmtzIENTNui8sowAAAOkSURBVDiNjZRtaJVlGMd\/1\/08zzln5zjP1LWcU9N0NkN8m2CYjpgQYQXqSs0I84OLIC0hkEKoPtiH3gmKoiJDU7QpLgoLjLIQCpEsNJ1vqUOdO7ppbuec5+V+rj4ctwzd8IIbbi6u+8f1539dt3A78eXC7QizUF7gyV1fD1Yqg4JWz84yffhm0qkFqBogB9rM8tZdtwVsPUhWhGcFJngGeWrPzHm5oaMmkfEg1usvLFyc8jLRqDOMru7AyC8saQr7GG7f5fvDeH7Ej8CM66nIF+8yngt6HWaKh7k49Soy9nXurCi1o3qUbS3zWfrYeQDTB\/Qj6kX6Ybhw4B+bOYoLKCC9H3Nu\/leUTZ1JdRWkkn2ldcCamzrcf47KKXdAJllSlxAOkRgyHsGC\/zRday5Qld9DyoM4\/q\/rUoy\/CXh3jzOu3bHUVZeU+DEn8FInkPBFlu3+nW3Nw0mk6vCDiWg8CeJaxEwuHS3+z5RgY+YBR6V1Z1nxSOfoaPa4LASWxxdNp+VWTk7+4vzaou8v8PN+xo+KY2xsw6une2frhw05CTYOmQvsEhjhWjn0bmXPjpE1+kplmmkP3suftwTubK9Vq22qKmrBhpY4jvd5afdRA3wGjFAgcnTK2s4hY0\/GPNIb0nErGMCRxWOOX64Z8RAC4oCXdklmEvcL8o0BfkNK4lUg9HTl+oPlQxdNo3Mg4Nv175e\/1LDGzZen30MEjRUtmXSfiTVu1kK8W4txyV6BMKlbgk3lMwYCiusNy9fVfvvwMxv8Ynl6vxoByANLTWplvuj\/nF9m2+PDtt1eiHPBr1oIfhCChQMBw6Aw0UulqTKZdfVvfG7VcfIqLG9bcldL\/+pdWTLxLUy8Qq38heUIjh4XlzZxzQm19lLFlr8vdQ97rjZVOLf8nclzckbcD4wxXMidpX30sFd37Fv\/GtwwhzhxGVAprjbg0gCAEeIgwCZyTV2Z1REEW8O4py0wsjeloKoMr6iCY6dP92H6Vw\/oTyICIthibxjm\/DfN9lVz8IqtqKYLUXfoKVMVQVVJOElGjrnnUt9T9wbgp8AyYKaGlqingHZU\/uG2NTZSVqwHQTWkx9hxjkpWDaCg6Ckj5qebgBVbT3V3NNXMSiWSDdGV3hrtzla7J+duwPOToIg42ChPQOQjspnSlp1V+Gjdged7+8UN5CRAV7a5EdFNwCjEaBR27b3W890TE7g24NAP\/mMDXRWrGoFPQI9ls\/MWO2dWFAar\/xcOIImbbpA3zgAAAABJRU5ErkJggg==);\n",
       "        }\n",
       "    <\/style>\n",
       "    <div>\n",
       "        <a href=\"https:\/\/bokeh.org\" target=\"_blank\" class=\"bk-notebook-logo\"><\/a>\n",
       "        <span id=\"e2adc097-c792-40ef-9496-dafa5a3611b0\">Loading BokehJS ...<\/span>\n",
       "    <\/div>\n"
      ]
     },
     "metadata":{},
     "output_type":"display_data"
    },
    {
     "data":{
      "text\/html":[
       "<script>(function(root) {\n",
       "  function now() {\n",
       "    return new Date();\n",
       "  }\n",
       "\n",
       "  const force = true;\n",
       "\n",
       "  if (typeof root._bokeh_onload_callbacks === \"undefined\" || force === true) {\n",
       "    root._bokeh_onload_callbacks = [];\n",
       "    root._bokeh_is_loading = undefined;\n",
       "  }\n",
       "\n",
       "const JS_MIME_TYPE = 'application\/javascript';\n",
       "  const HTML_MIME_TYPE = 'text\/html';\n",
       "  const EXEC_MIME_TYPE = 'application\/vnd.bokehjs_exec.v0+json';\n",
       "  const CLASS_NAME = 'output_bokeh rendered_html';\n",
       "\n",
       "  \/**\n",
       "   * Render data to the DOM node\n",
       "   *\/\n",
       "  function render(props, node) {\n",
       "    const script = document.createElement(\"script\");\n",
       "    node.appendChild(script);\n",
       "  }\n",
       "\n",
       "  \/**\n",
       "   * Handle when an output is cleared or removed\n",
       "   *\/\n",
       "  function handleClearOutput(event, handle) {\n",
       "    const cell = handle.cell;\n",
       "\n",
       "    const id = cell.output_area._bokeh_element_id;\n",
       "    const server_id = cell.output_area._bokeh_server_id;\n",
       "    \/\/ Clean up Bokeh references\n",
       "    if (id != null && id in Bokeh.index) {\n",
       "      Bokeh.index[id].model.document.clear();\n",
       "      delete Bokeh.index[id];\n",
       "    }\n",
       "\n",
       "    if (server_id !== undefined) {\n",
       "      \/\/ Clean up Bokeh references\n",
       "      const cmd_clean = \"from bokeh.io.state import curstate; print(curstate().uuid_to_server['\" + server_id + \"'].get_sessions()[0].document.roots[0]._id)\";\n",
       "      cell.notebook.kernel.execute(cmd_clean, {\n",
       "        iopub: {\n",
       "          output: function(msg) {\n",
       "            const id = msg.content.text.trim();\n",
       "            if (id in Bokeh.index) {\n",
       "              Bokeh.index[id].model.document.clear();\n",
       "              delete Bokeh.index[id];\n",
       "            }\n",
       "          }\n",
       "        }\n",
       "      });\n",
       "      \/\/ Destroy server and session\n",
       "      const cmd_destroy = \"import bokeh.io.notebook as ion; ion.destroy_server('\" + server_id + \"')\";\n",
       "      cell.notebook.kernel.execute(cmd_destroy);\n",
       "    }\n",
       "  }\n",
       "\n",
       "  \/**\n",
       "   * Handle when a new output is added\n",
       "   *\/\n",
       "  function handleAddOutput(event, handle) {\n",
       "    const output_area = handle.output_area;\n",
       "    const output = handle.output;\n",
       "\n",
       "    \/\/ limit handleAddOutput to display_data with EXEC_MIME_TYPE content only\n",
       "    if ((output.output_type != \"display_data\") || (!Object.prototype.hasOwnProperty.call(output.data, EXEC_MIME_TYPE))) {\n",
       "      return\n",
       "    }\n",
       "\n",
       "    const toinsert = output_area.element.find(\".\" + CLASS_NAME.split(' ')[0]);\n",
       "\n",
       "    if (output.metadata[EXEC_MIME_TYPE][\"id\"] !== undefined) {\n",
       "      toinsert[toinsert.length - 1].firstChild.textContent = output.data[JS_MIME_TYPE];\n",
       "      \/\/ store reference to embed id on output_area\n",
       "      output_area._bokeh_element_id = output.metadata[EXEC_MIME_TYPE][\"id\"];\n",
       "    }\n",
       "    if (output.metadata[EXEC_MIME_TYPE][\"server_id\"] !== undefined) {\n",
       "      const bk_div = document.createElement(\"div\");\n",
       "      bk_div.innerHTML = output.data[HTML_MIME_TYPE];\n",
       "      const script_attrs = bk_div.children[0].attributes;\n",
       "      for (let i = 0; i < script_attrs.length; i++) {\n",
       "        toinsert[toinsert.length - 1].firstChild.setAttribute(script_attrs[i].name, script_attrs[i].value);\n",
       "        toinsert[toinsert.length - 1].firstChild.textContent = bk_div.children[0].textContent\n",
       "      }\n",
       "      \/\/ store reference to server id on output_area\n",
       "      output_area._bokeh_server_id = output.metadata[EXEC_MIME_TYPE][\"server_id\"];\n",
       "    }\n",
       "  }\n",
       "\n",
       "  function register_renderer(events, OutputArea) {\n",
       "\n",
       "    function append_mime(data, metadata, element) {\n",
       "      \/\/ create a DOM node to render to\n",
       "      const toinsert = this.create_output_subarea(\n",
       "        metadata,\n",
       "        CLASS_NAME,\n",
       "        EXEC_MIME_TYPE\n",
       "      );\n",
       "      this.keyboard_manager.register_events(toinsert);\n",
       "      \/\/ Render to node\n",
       "      const props = {data: data, metadata: metadata[EXEC_MIME_TYPE]};\n",
       "      render(props, toinsert[toinsert.length - 1]);\n",
       "      element.append(toinsert);\n",
       "      return toinsert\n",
       "    }\n",
       "\n",
       "    \/* Handle when an output is cleared or removed *\/\n",
       "    events.on('clear_output.CodeCell', handleClearOutput);\n",
       "    events.on('delete.Cell', handleClearOutput);\n",
       "\n",
       "    \/* Handle when a new output is added *\/\n",
       "    events.on('output_added.OutputArea', handleAddOutput);\n",
       "\n",
       "    \/**\n",
       "     * Register the mime type and append_mime function with output_area\n",
       "     *\/\n",
       "    OutputArea.prototype.register_mime_type(EXEC_MIME_TYPE, append_mime, {\n",
       "      \/* Is output safe? *\/\n",
       "      safe: true,\n",
       "      \/* Index of renderer in `output_area.display_order` *\/\n",
       "      index: 0\n",
       "    });\n",
       "  }\n",
       "\n",
       "  \/\/ register the mime type if in Jupyter Notebook environment and previously unregistered\n",
       "  if (root.Jupyter !== undefined) {\n",
       "    const events = require('base\/js\/events');\n",
       "    const OutputArea = require('notebook\/js\/outputarea').OutputArea;\n",
       "\n",
       "    if (OutputArea.prototype.mime_types().indexOf(EXEC_MIME_TYPE) == -1) {\n",
       "      register_renderer(events, OutputArea);\n",
       "    }\n",
       "  }\n",
       "  if (typeof (root._bokeh_timeout) === \"undefined\" || force === true) {\n",
       "    root._bokeh_timeout = Date.now() + 5000;\n",
       "    root._bokeh_failed_load = false;\n",
       "  }\n",
       "\n",
       "  const NB_LOAD_WARNING = {'data': {'text\/html':\n",
       "     \"<div style='background-color: #fdd'>\\n\"+\n",
       "     \"<p>\\n\"+\n",
       "     \"BokehJS does not appear to have successfully loaded. If loading BokehJS from CDN, this \\n\"+\n",
       "     \"may be due to a slow or bad network connection. Possible fixes:\\n\"+\n",
       "     \"<\/p>\\n\"+\n",
       "     \"<ul>\\n\"+\n",
       "     \"<li>re-rerun `output_notebook()` to attempt to load from CDN again, or<\/li>\\n\"+\n",
       "     \"<li>use INLINE resources instead, as so:<\/li>\\n\"+\n",
       "     \"<\/ul>\\n\"+\n",
       "     \"<code>\\n\"+\n",
       "     \"from bokeh.resources import INLINE\\n\"+\n",
       "     \"output_notebook(resources=INLINE)\\n\"+\n",
       "     \"<\/code>\\n\"+\n",
       "     \"<\/div>\"}};\n",
       "\n",
       "  function display_loaded() {\n",
       "    const el = document.getElementById(\"e2adc097-c792-40ef-9496-dafa5a3611b0\");\n",
       "    if (el != null) {\n",
       "      el.textContent = \"BokehJS is loading...\";\n",
       "    }\n",
       "    if (root.Bokeh !== undefined) {\n",
       "      if (el != null) {\n",
       "        el.textContent = \"BokehJS \" + root.Bokeh.version + \" successfully loaded.\";\n",
       "      }\n",
       "    } else if (Date.now() < root._bokeh_timeout) {\n",
       "      setTimeout(display_loaded, 100)\n",
       "    }\n",
       "  }\n",
       "\n",
       "  function run_callbacks() {\n",
       "    try {\n",
       "      root._bokeh_onload_callbacks.forEach(function(callback) {\n",
       "        if (callback != null)\n",
       "          callback();\n",
       "      });\n",
       "    } finally {\n",
       "      delete root._bokeh_onload_callbacks\n",
       "    }\n",
       "    console.debug(\"Bokeh: all callbacks have finished\");\n",
       "  }\n",
       "\n",
       "  function load_libs(css_urls, js_urls, callback) {\n",
       "    if (css_urls == null) css_urls = [];\n",
       "    if (js_urls == null) js_urls = [];\n",
       "\n",
       "    root._bokeh_onload_callbacks.push(callback);\n",
       "    if (root._bokeh_is_loading > 0) {\n",
       "      console.debug(\"Bokeh: BokehJS is being loaded, scheduling callback at\", now());\n",
       "      return null;\n",
       "    }\n",
       "    if (js_urls == null || js_urls.length === 0) {\n",
       "      run_callbacks();\n",
       "      return null;\n",
       "    }\n",
       "    console.debug(\"Bokeh: BokehJS not loaded, scheduling load and callback at\", now());\n",
       "    root._bokeh_is_loading = css_urls.length + js_urls.length;\n",
       "\n",
       "    function on_load() {\n",
       "      root._bokeh_is_loading--;\n",
       "      if (root._bokeh_is_loading === 0) {\n",
       "        console.debug(\"Bokeh: all BokehJS libraries\/stylesheets loaded\");\n",
       "        run_callbacks()\n",
       "      }\n",
       "    }\n",
       "\n",
       "    function on_error(url) {\n",
       "      console.error(\"failed to load \" + url);\n",
       "    }\n",
       "\n",
       "    for (let i = 0; i < css_urls.length; i++) {\n",
       "      const url = css_urls[i];\n",
       "      const element = document.createElement(\"link\");\n",
       "      element.onload = on_load;\n",
       "      element.onerror = on_error.bind(null, url);\n",
       "      element.rel = \"stylesheet\";\n",
       "      element.type = \"text\/css\";\n",
       "      element.href = url;\n",
       "      console.debug(\"Bokeh: injecting link tag for BokehJS stylesheet: \", url);\n",
       "      document.body.appendChild(element);\n",
       "    }\n",
       "\n",
       "    for (let i = 0; i < js_urls.length; i++) {\n",
       "      const url = js_urls[i];\n",
       "      const element = document.createElement('script');\n",
       "      element.onload = on_load;\n",
       "      element.onerror = on_error.bind(null, url);\n",
       "      element.async = false;\n",
       "      element.src = url;\n",
       "      console.debug(\"Bokeh: injecting script tag for BokehJS library: \", url);\n",
       "      document.head.appendChild(element);\n",
       "    }\n",
       "  };\n",
       "\n",
       "  function inject_raw_css(css) {\n",
       "    const element = document.createElement(\"style\");\n",
       "    element.appendChild(document.createTextNode(css));\n",
       "    document.body.appendChild(element);\n",
       "  }\n",
       "\n",
       "  const js_urls = [\"https:\/\/cdn.bokeh.org\/bokeh\/release\/bokeh-3.1.1.min.js\", \"https:\/\/cdn.bokeh.org\/bokeh\/release\/bokeh-gl-3.1.1.min.js\", \"https:\/\/cdn.bokeh.org\/bokeh\/release\/bokeh-widgets-3.1.1.min.js\", \"https:\/\/cdn.bokeh.org\/bokeh\/release\/bokeh-tables-3.1.1.min.js\", \"https:\/\/cdn.bokeh.org\/bokeh\/release\/bokeh-mathjax-3.1.1.min.js\"];\n",
       "  const css_urls = [];\n",
       "\n",
       "  const inline_js = [    function(Bokeh) {\n",
       "      Bokeh.set_log_level(\"info\");\n",
       "    },\n",
       "function(Bokeh) {\n",
       "    }\n",
       "  ];\n",
       "\n",
       "  function run_inline_js() {\n",
       "    if (root.Bokeh !== undefined || force === true) {\n",
       "          for (let i = 0; i < inline_js.length; i++) {\n",
       "      inline_js[i].call(root, root.Bokeh);\n",
       "    }\n",
       "if (force === true) {\n",
       "        display_loaded();\n",
       "      }} else if (Date.now() < root._bokeh_timeout) {\n",
       "      setTimeout(run_inline_js, 100);\n",
       "    } else if (!root._bokeh_failed_load) {\n",
       "      console.log(\"Bokeh: BokehJS failed to load within specified timeout.\");\n",
       "      root._bokeh_failed_load = true;\n",
       "    } else if (force !== true) {\n",
       "      const cell = $(document.getElementById(\"e2adc097-c792-40ef-9496-dafa5a3611b0\")).parents('.cell').data().cell;\n",
       "      cell.output_area.append_execute_result(NB_LOAD_WARNING)\n",
       "    }\n",
       "  }\n",
       "\n",
       "  if (root._bokeh_is_loading === 0) {\n",
       "    console.debug(\"Bokeh: BokehJS loaded, going straight to plotting\");\n",
       "    run_inline_js();\n",
       "  } else {\n",
       "    load_libs(css_urls, js_urls, function() {\n",
       "      console.debug(\"Bokeh: BokehJS plotting callback run at\", now());\n",
       "      run_inline_js();\n",
       "    });\n",
       "  }\n",
       "}(window));<\/script><script>(function(root) {\n",
       "  function now() {\n",
       "    return new Date();\n",
       "  }\n",
       "\n",
       "  const force = true;\n",
       "\n",
       "  if (typeof root._bokeh_onload_callbacks === \"undefined\" || force === true) {\n",
       "    root._bokeh_onload_callbacks = [];\n",
       "    root._bokeh_is_loading = undefined;\n",
       "  }\n",
       "\n",
       "\n",
       "  if (typeof (root._bokeh_timeout) === \"undefined\" || force === true) {\n",
       "    root._bokeh_timeout = Date.now() + 5000;\n",
       "    root._bokeh_failed_load = false;\n",
       "  }\n",
       "\n",
       "  const NB_LOAD_WARNING = {'data': {'text\/html':\n",
       "     \"<div style='background-color: #fdd'>\\n\"+\n",
       "     \"<p>\\n\"+\n",
       "     \"BokehJS does not appear to have successfully loaded. If loading BokehJS from CDN, this \\n\"+\n",
       "     \"may be due to a slow or bad network connection. Possible fixes:\\n\"+\n",
       "     \"<\/p>\\n\"+\n",
       "     \"<ul>\\n\"+\n",
       "     \"<li>re-rerun `output_notebook()` to attempt to load from CDN again, or<\/li>\\n\"+\n",
       "     \"<li>use INLINE resources instead, as so:<\/li>\\n\"+\n",
       "     \"<\/ul>\\n\"+\n",
       "     \"<code>\\n\"+\n",
       "     \"from bokeh.resources import INLINE\\n\"+\n",
       "     \"output_notebook(resources=INLINE)\\n\"+\n",
       "     \"<\/code>\\n\"+\n",
       "     \"<\/div>\"}};\n",
       "\n",
       "  function display_loaded() {\n",
       "    const el = document.getElementById(\"e2adc097-c792-40ef-9496-dafa5a3611b0\");\n",
       "    if (el != null) {\n",
       "      el.textContent = \"BokehJS is loading...\";\n",
       "    }\n",
       "    if (root.Bokeh !== undefined) {\n",
       "      if (el != null) {\n",
       "        el.textContent = \"BokehJS \" + root.Bokeh.version + \" successfully loaded.\";\n",
       "      }\n",
       "    } else if (Date.now() < root._bokeh_timeout) {\n",
       "      setTimeout(display_loaded, 100)\n",
       "    }\n",
       "  }\n",
       "\n",
       "  function run_callbacks() {\n",
       "    try {\n",
       "      root._bokeh_onload_callbacks.forEach(function(callback) {\n",
       "        if (callback != null)\n",
       "          callback();\n",
       "      });\n",
       "    } finally {\n",
       "      delete root._bokeh_onload_callbacks\n",
       "    }\n",
       "    console.debug(\"Bokeh: all callbacks have finished\");\n",
       "  }\n",
       "\n",
       "  function load_libs(css_urls, js_urls, callback) {\n",
       "    if (css_urls == null) css_urls = [];\n",
       "    if (js_urls == null) js_urls = [];\n",
       "\n",
       "    root._bokeh_onload_callbacks.push(callback);\n",
       "    if (root._bokeh_is_loading > 0) {\n",
       "      console.debug(\"Bokeh: BokehJS is being loaded, scheduling callback at\", now());\n",
       "      return null;\n",
       "    }\n",
       "    if (js_urls == null || js_urls.length === 0) {\n",
       "      run_callbacks();\n",
       "      return null;\n",
       "    }\n",
       "    console.debug(\"Bokeh: BokehJS not loaded, scheduling load and callback at\", now());\n",
       "    root._bokeh_is_loading = css_urls.length + js_urls.length;\n",
       "\n",
       "    function on_load() {\n",
       "      root._bokeh_is_loading--;\n",
       "      if (root._bokeh_is_loading === 0) {\n",
       "        console.debug(\"Bokeh: all BokehJS libraries\/stylesheets loaded\");\n",
       "        run_callbacks()\n",
       "      }\n",
       "    }\n",
       "\n",
       "    function on_error(url) {\n",
       "      console.error(\"failed to load \" + url);\n",
       "    }\n",
       "\n",
       "    for (let i = 0; i < css_urls.length; i++) {\n",
       "      const url = css_urls[i];\n",
       "      const element = document.createElement(\"link\");\n",
       "      element.onload = on_load;\n",
       "      element.onerror = on_error.bind(null, url);\n",
       "      element.rel = \"stylesheet\";\n",
       "      element.type = \"text\/css\";\n",
       "      element.href = url;\n",
       "      console.debug(\"Bokeh: injecting link tag for BokehJS stylesheet: \", url);\n",
       "      document.body.appendChild(element);\n",
       "    }\n",
       "\n",
       "    for (let i = 0; i < js_urls.length; i++) {\n",
       "      const url = js_urls[i];\n",
       "      const element = document.createElement('script');\n",
       "      element.onload = on_load;\n",
       "      element.onerror = on_error.bind(null, url);\n",
       "      element.async = false;\n",
       "      element.src = url;\n",
       "      console.debug(\"Bokeh: injecting script tag for BokehJS library: \", url);\n",
       "      document.head.appendChild(element);\n",
       "    }\n",
       "  };\n",
       "\n",
       "  function inject_raw_css(css) {\n",
       "    const element = document.createElement(\"style\");\n",
       "    element.appendChild(document.createTextNode(css));\n",
       "    document.body.appendChild(element);\n",
       "  }\n",
       "\n",
       "  const js_urls = [\"https:\/\/cdn.bokeh.org\/bokeh\/release\/bokeh-3.1.1.min.js\", \"https:\/\/cdn.bokeh.org\/bokeh\/release\/bokeh-gl-3.1.1.min.js\", \"https:\/\/cdn.bokeh.org\/bokeh\/release\/bokeh-widgets-3.1.1.min.js\", \"https:\/\/cdn.bokeh.org\/bokeh\/release\/bokeh-tables-3.1.1.min.js\", \"https:\/\/cdn.bokeh.org\/bokeh\/release\/bokeh-mathjax-3.1.1.min.js\"];\n",
       "  const css_urls = [];\n",
       "\n",
       "  const inline_js = [    function(Bokeh) {\n",
       "      Bokeh.set_log_level(\"info\");\n",
       "    },\n",
       "function(Bokeh) {\n",
       "    }\n",
       "  ];\n",
       "\n",
       "  function run_inline_js() {\n",
       "    if (root.Bokeh !== undefined || force === true) {\n",
       "          for (let i = 0; i < inline_js.length; i++) {\n",
       "      inline_js[i].call(root, root.Bokeh);\n",
       "    }\n",
       "if (force === true) {\n",
       "        display_loaded();\n",
       "      }} else if (Date.now() < root._bokeh_timeout) {\n",
       "      setTimeout(run_inline_js, 100);\n",
       "    } else if (!root._bokeh_failed_load) {\n",
       "      console.log(\"Bokeh: BokehJS failed to load within specified timeout.\");\n",
       "      root._bokeh_failed_load = true;\n",
       "    } else if (force !== true) {\n",
       "      const cell = $(document.getElementById(\"e2adc097-c792-40ef-9496-dafa5a3611b0\")).parents('.cell').data().cell;\n",
       "      cell.output_area.append_execute_result(NB_LOAD_WARNING)\n",
       "    }\n",
       "  }\n",
       "\n",
       "  if (root._bokeh_is_loading === 0) {\n",
       "    console.debug(\"Bokeh: BokehJS loaded, going straight to plotting\");\n",
       "    run_inline_js();\n",
       "  } else {\n",
       "    load_libs(css_urls, js_urls, function() {\n",
       "      console.debug(\"Bokeh: BokehJS plotting callback run at\", now());\n",
       "      run_inline_js();\n",
       "    });\n",
       "  }\n",
       "}(window));<\/script>"
      ]
     },
     "metadata":{},
     "output_type":"display_data"
    },
    {
     "data":{
      "text\/html":[
       "\n",
       "  <div id=\"b3126c3e-002c-43cf-adf6-5208e0517021\" data-root-id=\"p23765\" style=\"display: contents;\"><\/div>\n"
      ]
     },
     "metadata":{},
     "output_type":"display_data"
    },
    {
     "data":{
      "text\/html":[
       "<script>(function(root) {\n",
       "  function embed_document(root) {\n",
       "  const docs_json = {\"efe8aca1-f14e-4d33-9178-b43cdc18b434\":{\"version\":\"3.1.1\",\"title\":\"Bokeh Application\",\"defs\":[],\"roots\":[{\"type\":\"object\",\"name\":\"Figure\",\"id\":\"p23765\",\"attributes\":{\"x_range\":{\"type\":\"object\",\"name\":\"DataRange1d\",\"id\":\"p23767\"},\"y_range\":{\"type\":\"object\",\"name\":\"DataRange1d\",\"id\":\"p23766\"},\"x_scale\":{\"type\":\"object\",\"name\":\"LinearScale\",\"id\":\"p23779\"},\"y_scale\":{\"type\":\"object\",\"name\":\"LinearScale\",\"id\":\"p23781\"},\"title\":{\"type\":\"object\",\"name\":\"Title\",\"id\":\"p23768\",\"attributes\":{\"text\":\"Bodov\\u00fd graf\"}},\"renderers\":[{\"type\":\"object\",\"name\":\"GlyphRenderer\",\"id\":\"p23818\",\"attributes\":{\"data_source\":{\"type\":\"object\",\"name\":\"ColumnDataSource\",\"id\":\"p23812\",\"attributes\":{\"selected\":{\"type\":\"object\",\"name\":\"Selection\",\"id\":\"p23814\",\"attributes\":{\"indices\":[],\"line_indices\":[]}},\"selection_policy\":{\"type\":\"object\",\"name\":\"UnionRenderers\",\"id\":\"p23813\"},\"data\":{\"type\":\"map\",\"entries\":[[\"size\",[10,20,30,40,50]],[\"x\",[1,2,3,4,5]],[\"y\",[6,7,2,4,5]]]}}},\"view\":{\"type\":\"object\",\"name\":\"CDSView\",\"id\":\"p23819\",\"attributes\":{\"filter\":{\"type\":\"object\",\"name\":\"AllIndices\",\"id\":\"p23820\"}}},\"glyph\":{\"type\":\"object\",\"name\":\"Scatter\",\"id\":\"p23815\",\"attributes\":{\"x\":{\"type\":\"field\",\"field\":\"x\"},\"y\":{\"type\":\"field\",\"field\":\"y\"},\"size\":{\"type\":\"field\",\"field\":\"size\"},\"line_color\":{\"type\":\"value\",\"value\":\"#1f77b4\"},\"fill_color\":{\"type\":\"value\",\"value\":\"red\"}}},\"nonselection_glyph\":{\"type\":\"object\",\"name\":\"Scatter\",\"id\":\"p23816\",\"attributes\":{\"x\":{\"type\":\"field\",\"field\":\"x\"},\"y\":{\"type\":\"field\",\"field\":\"y\"},\"size\":{\"type\":\"field\",\"field\":\"size\"},\"line_color\":{\"type\":\"value\",\"value\":\"#1f77b4\"},\"line_alpha\":{\"type\":\"value\",\"value\":0.1},\"fill_color\":{\"type\":\"value\",\"value\":\"red\"},\"fill_alpha\":{\"type\":\"value\",\"value\":0.1},\"hatch_alpha\":{\"type\":\"value\",\"value\":0.1}}},\"muted_glyph\":{\"type\":\"object\",\"name\":\"Scatter\",\"id\":\"p23817\",\"attributes\":{\"x\":{\"type\":\"field\",\"field\":\"x\"},\"y\":{\"type\":\"field\",\"field\":\"y\"},\"size\":{\"type\":\"field\",\"field\":\"size\"},\"line_color\":{\"type\":\"value\",\"value\":\"#1f77b4\"},\"line_alpha\":{\"type\":\"value\",\"value\":0.2},\"fill_color\":{\"type\":\"value\",\"value\":\"red\"},\"fill_alpha\":{\"type\":\"value\",\"value\":0.2},\"hatch_alpha\":{\"type\":\"value\",\"value\":0.2}}}}}],\"toolbar\":{\"type\":\"object\",\"name\":\"Toolbar\",\"id\":\"p23772\",\"attributes\":{\"tools\":[{\"type\":\"object\",\"name\":\"PanTool\",\"id\":\"p23797\"},{\"type\":\"object\",\"name\":\"WheelZoomTool\",\"id\":\"p23798\"},{\"type\":\"object\",\"name\":\"BoxZoomTool\",\"id\":\"p23799\",\"attributes\":{\"overlay\":{\"type\":\"object\",\"name\":\"BoxAnnotation\",\"id\":\"p23800\",\"attributes\":{\"syncable\":false,\"level\":\"overlay\",\"visible\":false,\"left_units\":\"canvas\",\"right_units\":\"canvas\",\"bottom_units\":\"canvas\",\"top_units\":\"canvas\",\"line_color\":\"black\",\"line_alpha\":1.0,\"line_width\":2,\"line_dash\":[4,4],\"fill_color\":\"lightgrey\",\"fill_alpha\":0.5}}}},{\"type\":\"object\",\"name\":\"SaveTool\",\"id\":\"p23801\"},{\"type\":\"object\",\"name\":\"ResetTool\",\"id\":\"p23802\"},{\"type\":\"object\",\"name\":\"HelpTool\",\"id\":\"p23803\"}]}},\"left\":[{\"type\":\"object\",\"name\":\"LinearAxis\",\"id\":\"p23790\",\"attributes\":{\"ticker\":{\"type\":\"object\",\"name\":\"BasicTicker\",\"id\":\"p23792\",\"attributes\":{\"mantissas\":[1,2,5]}},\"formatter\":{\"type\":\"object\",\"name\":\"BasicTickFormatter\",\"id\":\"p23793\"},\"axis_label\":\"Y\",\"major_label_policy\":{\"type\":\"object\",\"name\":\"AllLabels\",\"id\":\"p23791\"}}}],\"below\":[{\"type\":\"object\",\"name\":\"LinearAxis\",\"id\":\"p23783\",\"attributes\":{\"ticker\":{\"type\":\"object\",\"name\":\"BasicTicker\",\"id\":\"p23785\",\"attributes\":{\"mantissas\":[1,2,5]}},\"formatter\":{\"type\":\"object\",\"name\":\"BasicTickFormatter\",\"id\":\"p23786\"},\"axis_label\":\"X\",\"major_label_policy\":{\"type\":\"object\",\"name\":\"AllLabels\",\"id\":\"p23784\"}}}],\"center\":[{\"type\":\"object\",\"name\":\"Grid\",\"id\":\"p23789\",\"attributes\":{\"axis\":{\"id\":\"p23783\"}}},{\"type\":\"object\",\"name\":\"Grid\",\"id\":\"p23796\",\"attributes\":{\"dimension\":1,\"axis\":{\"id\":\"p23790\"}}},{\"type\":\"object\",\"name\":\"Legend\",\"id\":\"p23821\",\"attributes\":{\"items\":[{\"type\":\"object\",\"name\":\"LegendItem\",\"id\":\"p23822\",\"attributes\":{\"label\":{\"type\":\"value\",\"value\":\"Body\"},\"renderers\":[{\"id\":\"p23818\"}]}}]}}]}}],\"callbacks\":{\"type\":\"map\"}}};\n",
       "  const render_items = [{\"docid\":\"efe8aca1-f14e-4d33-9178-b43cdc18b434\",\"roots\":{\"p23765\":\"b3126c3e-002c-43cf-adf6-5208e0517021\"},\"root_ids\":[\"p23765\"]}];\n",
       "  root.Bokeh.embed.embed_items_notebook(docs_json, render_items);\n",
       "  }\n",
       "  if (root.Bokeh !== undefined) {\n",
       "    embed_document(root);\n",
       "  } else {\n",
       "    let attempts = 0;\n",
       "    const timer = setInterval(function(root) {\n",
       "      if (root.Bokeh !== undefined) {\n",
       "        clearInterval(timer);\n",
       "        embed_document(root);\n",
       "      } else {\n",
       "        attempts++;\n",
       "        if (attempts > 100) {\n",
       "          clearInterval(timer);\n",
       "          console.log(\"Bokeh: ERROR: Unable to run BokehJS code because BokehJS library is missing\");\n",
       "        }\n",
       "      }\n",
       "    }, 10, root)\n",
       "  }\n",
       "})(window);<\/script><script><\/script>"
      ]
     },
     "metadata":{},
     "output_type":"display_data"
    }
   ],
   "metadata":{
    "datalore":{
     "node_id":"8iqo52qJKSvzi9sjC5dz2J",
     "type":"CODE",
     "hide_input_from_viewers":true,
     "hide_output_from_viewers":true
    }
   }
  },
  {
   "cell_type":"markdown",
   "source":[
    "# Stlpcove Grafy"
   ],
   "attachments":{},
   "metadata":{
    "datalore":{
     "node_id":"Stlpcove Grafy",
     "type":"MD",
     "hide_input_from_viewers":false,
     "hide_output_from_viewers":false,
     "sheet_delimiter":true
    }
   }
  },
  {
   "cell_type":"code",
   "source":[
    "from bokeh.plotting import figure, show\n",
    "from bokeh.io import output_notebook\n",
    "from bokeh.models import HoverTool, ColumnDataSource\n",
    "from bokeh.transform import factor_cmap\n",
    "from bokeh.palettes import Spectral5\n",
    "\n",
    "\n",
    "output_notebook()\n",
    "\n",
    "kategorie = [\"Najom\", \"Potraviny\", \"Doprava\", \"Zabava\", \"Oblecenie\"]\n",
    "vydavky = [500, 250, 100, 150, 80]\n",
    "\n",
    "# Zoradovanie dat podla vydavkov\n",
    "data_zoradene = sorted(zip(kategorie, vydavky), key= lambda x : x[1], reverse = False)\n",
    "\n",
    "# Rozbalenie zoradenych dat\n",
    "kategorie, vydavky = zip(*data_zoradene)\n",
    "\n",
    "\n",
    "# Vytvorit zdroj udajov\n",
    "zdroj = ColumnDataSource(data = dict(kategorie = kategorie, vydavky = vydavky))\n",
    "\n",
    "graf_stlpcovy = figure(\n",
    "    x_range = kategorie,\n",
    "    title = \"Mesacne vydavky\",\n",
    "    height = 400,\n",
    "    width = 800\n",
    ")\n",
    "\n",
    "graf_stlpcovy.vbar(\n",
    "    x = \"kategorie\", \n",
    "    top = \"vydavky\",\n",
    "    width = 0.5,\n",
    "    source = zdroj,\n",
    "    fill_color = factor_cmap(\"kategorie\", palette = Spectral5, factors = kategorie)\n",
    ")\n",
    "\n",
    "hover = HoverTool()\n",
    "hover.tooltips = [(\"Kategorie\", \"@kategorie\"), (\"Vydavky\", \"@vydavky\")]\n",
    "\n",
    "graf_stlpcovy.add_tools(hover)\n",
    "\n",
    "show(graf_stlpcovy)\n",
    "\n"
   ],
   "execution_count":73,
   "outputs":[
    {
     "data":{
      "text\/html":[
       "<style>\n",
       "        .bk-notebook-logo {\n",
       "            display: block;\n",
       "            width: 20px;\n",
       "            height: 20px;\n",
       "            background-image: url(data:image\/png;base64,iVBORw0KGgoAAAANSUhEUgAAABQAAAAUCAYAAACNiR0NAAAABHNCSVQICAgIfAhkiAAAAAlwSFlzAAALEgAACxIB0t1+\/AAAABx0RVh0U29mdHdhcmUAQWRvYmUgRmlyZXdvcmtzIENTNui8sowAAAOkSURBVDiNjZRtaJVlGMd\/1\/08zzln5zjP1LWcU9N0NkN8m2CYjpgQYQXqSs0I84OLIC0hkEKoPtiH3gmKoiJDU7QpLgoLjLIQCpEsNJ1vqUOdO7ppbuec5+V+rj4ctwzd8IIbbi6u+8f1539dt3A78eXC7QizUF7gyV1fD1Yqg4JWz84yffhm0qkFqBogB9rM8tZdtwVsPUhWhGcFJngGeWrPzHm5oaMmkfEg1usvLFyc8jLRqDOMru7AyC8saQr7GG7f5fvDeH7Ej8CM66nIF+8yngt6HWaKh7k49Soy9nXurCi1o3qUbS3zWfrYeQDTB\/Qj6kX6Ybhw4B+bOYoLKCC9H3Nu\/leUTZ1JdRWkkn2ldcCamzrcf47KKXdAJllSlxAOkRgyHsGC\/zRday5Qld9DyoM4\/q\/rUoy\/CXh3jzOu3bHUVZeU+DEn8FInkPBFlu3+nW3Nw0mk6vCDiWg8CeJaxEwuHS3+z5RgY+YBR6V1Z1nxSOfoaPa4LASWxxdNp+VWTk7+4vzaou8v8PN+xo+KY2xsw6une2frhw05CTYOmQvsEhjhWjn0bmXPjpE1+kplmmkP3suftwTubK9Vq22qKmrBhpY4jvd5afdRA3wGjFAgcnTK2s4hY0\/GPNIb0nErGMCRxWOOX64Z8RAC4oCXdklmEvcL8o0BfkNK4lUg9HTl+oPlQxdNo3Mg4Nv175e\/1LDGzZen30MEjRUtmXSfiTVu1kK8W4txyV6BMKlbgk3lMwYCiusNy9fVfvvwMxv8Ynl6vxoByANLTWplvuj\/nF9m2+PDtt1eiHPBr1oIfhCChQMBw6Aw0UulqTKZdfVvfG7VcfIqLG9bcldL\/+pdWTLxLUy8Qq38heUIjh4XlzZxzQm19lLFlr8vdQ97rjZVOLf8nclzckbcD4wxXMidpX30sFd37Fv\/GtwwhzhxGVAprjbg0gCAEeIgwCZyTV2Z1REEW8O4py0wsjeloKoMr6iCY6dP92H6Vw\/oTyICIthibxjm\/DfN9lVz8IqtqKYLUXfoKVMVQVVJOElGjrnnUt9T9wbgp8AyYKaGlqingHZU\/uG2NTZSVqwHQTWkx9hxjkpWDaCg6Ckj5qebgBVbT3V3NNXMSiWSDdGV3hrtzla7J+duwPOToIg42ChPQOQjspnSlp1V+Gjdged7+8UN5CRAV7a5EdFNwCjEaBR27b3W890TE7g24NAP\/mMDXRWrGoFPQI9ls\/MWO2dWFAar\/xcOIImbbpA3zgAAAABJRU5ErkJggg==);\n",
       "        }\n",
       "    <\/style>\n",
       "    <div>\n",
       "        <a href=\"https:\/\/bokeh.org\" target=\"_blank\" class=\"bk-notebook-logo\"><\/a>\n",
       "        <span id=\"f9a0b600-beab-4355-8e23-e49a6657b706\">Loading BokehJS ...<\/span>\n",
       "    <\/div>\n"
      ]
     },
     "metadata":{},
     "output_type":"display_data"
    },
    {
     "data":{
      "text\/html":[
       "<script>(function(root) {\n",
       "  function now() {\n",
       "    return new Date();\n",
       "  }\n",
       "\n",
       "  const force = true;\n",
       "\n",
       "  if (typeof root._bokeh_onload_callbacks === \"undefined\" || force === true) {\n",
       "    root._bokeh_onload_callbacks = [];\n",
       "    root._bokeh_is_loading = undefined;\n",
       "  }\n",
       "\n",
       "const JS_MIME_TYPE = 'application\/javascript';\n",
       "  const HTML_MIME_TYPE = 'text\/html';\n",
       "  const EXEC_MIME_TYPE = 'application\/vnd.bokehjs_exec.v0+json';\n",
       "  const CLASS_NAME = 'output_bokeh rendered_html';\n",
       "\n",
       "  \/**\n",
       "   * Render data to the DOM node\n",
       "   *\/\n",
       "  function render(props, node) {\n",
       "    const script = document.createElement(\"script\");\n",
       "    node.appendChild(script);\n",
       "  }\n",
       "\n",
       "  \/**\n",
       "   * Handle when an output is cleared or removed\n",
       "   *\/\n",
       "  function handleClearOutput(event, handle) {\n",
       "    const cell = handle.cell;\n",
       "\n",
       "    const id = cell.output_area._bokeh_element_id;\n",
       "    const server_id = cell.output_area._bokeh_server_id;\n",
       "    \/\/ Clean up Bokeh references\n",
       "    if (id != null && id in Bokeh.index) {\n",
       "      Bokeh.index[id].model.document.clear();\n",
       "      delete Bokeh.index[id];\n",
       "    }\n",
       "\n",
       "    if (server_id !== undefined) {\n",
       "      \/\/ Clean up Bokeh references\n",
       "      const cmd_clean = \"from bokeh.io.state import curstate; print(curstate().uuid_to_server['\" + server_id + \"'].get_sessions()[0].document.roots[0]._id)\";\n",
       "      cell.notebook.kernel.execute(cmd_clean, {\n",
       "        iopub: {\n",
       "          output: function(msg) {\n",
       "            const id = msg.content.text.trim();\n",
       "            if (id in Bokeh.index) {\n",
       "              Bokeh.index[id].model.document.clear();\n",
       "              delete Bokeh.index[id];\n",
       "            }\n",
       "          }\n",
       "        }\n",
       "      });\n",
       "      \/\/ Destroy server and session\n",
       "      const cmd_destroy = \"import bokeh.io.notebook as ion; ion.destroy_server('\" + server_id + \"')\";\n",
       "      cell.notebook.kernel.execute(cmd_destroy);\n",
       "    }\n",
       "  }\n",
       "\n",
       "  \/**\n",
       "   * Handle when a new output is added\n",
       "   *\/\n",
       "  function handleAddOutput(event, handle) {\n",
       "    const output_area = handle.output_area;\n",
       "    const output = handle.output;\n",
       "\n",
       "    \/\/ limit handleAddOutput to display_data with EXEC_MIME_TYPE content only\n",
       "    if ((output.output_type != \"display_data\") || (!Object.prototype.hasOwnProperty.call(output.data, EXEC_MIME_TYPE))) {\n",
       "      return\n",
       "    }\n",
       "\n",
       "    const toinsert = output_area.element.find(\".\" + CLASS_NAME.split(' ')[0]);\n",
       "\n",
       "    if (output.metadata[EXEC_MIME_TYPE][\"id\"] !== undefined) {\n",
       "      toinsert[toinsert.length - 1].firstChild.textContent = output.data[JS_MIME_TYPE];\n",
       "      \/\/ store reference to embed id on output_area\n",
       "      output_area._bokeh_element_id = output.metadata[EXEC_MIME_TYPE][\"id\"];\n",
       "    }\n",
       "    if (output.metadata[EXEC_MIME_TYPE][\"server_id\"] !== undefined) {\n",
       "      const bk_div = document.createElement(\"div\");\n",
       "      bk_div.innerHTML = output.data[HTML_MIME_TYPE];\n",
       "      const script_attrs = bk_div.children[0].attributes;\n",
       "      for (let i = 0; i < script_attrs.length; i++) {\n",
       "        toinsert[toinsert.length - 1].firstChild.setAttribute(script_attrs[i].name, script_attrs[i].value);\n",
       "        toinsert[toinsert.length - 1].firstChild.textContent = bk_div.children[0].textContent\n",
       "      }\n",
       "      \/\/ store reference to server id on output_area\n",
       "      output_area._bokeh_server_id = output.metadata[EXEC_MIME_TYPE][\"server_id\"];\n",
       "    }\n",
       "  }\n",
       "\n",
       "  function register_renderer(events, OutputArea) {\n",
       "\n",
       "    function append_mime(data, metadata, element) {\n",
       "      \/\/ create a DOM node to render to\n",
       "      const toinsert = this.create_output_subarea(\n",
       "        metadata,\n",
       "        CLASS_NAME,\n",
       "        EXEC_MIME_TYPE\n",
       "      );\n",
       "      this.keyboard_manager.register_events(toinsert);\n",
       "      \/\/ Render to node\n",
       "      const props = {data: data, metadata: metadata[EXEC_MIME_TYPE]};\n",
       "      render(props, toinsert[toinsert.length - 1]);\n",
       "      element.append(toinsert);\n",
       "      return toinsert\n",
       "    }\n",
       "\n",
       "    \/* Handle when an output is cleared or removed *\/\n",
       "    events.on('clear_output.CodeCell', handleClearOutput);\n",
       "    events.on('delete.Cell', handleClearOutput);\n",
       "\n",
       "    \/* Handle when a new output is added *\/\n",
       "    events.on('output_added.OutputArea', handleAddOutput);\n",
       "\n",
       "    \/**\n",
       "     * Register the mime type and append_mime function with output_area\n",
       "     *\/\n",
       "    OutputArea.prototype.register_mime_type(EXEC_MIME_TYPE, append_mime, {\n",
       "      \/* Is output safe? *\/\n",
       "      safe: true,\n",
       "      \/* Index of renderer in `output_area.display_order` *\/\n",
       "      index: 0\n",
       "    });\n",
       "  }\n",
       "\n",
       "  \/\/ register the mime type if in Jupyter Notebook environment and previously unregistered\n",
       "  if (root.Jupyter !== undefined) {\n",
       "    const events = require('base\/js\/events');\n",
       "    const OutputArea = require('notebook\/js\/outputarea').OutputArea;\n",
       "\n",
       "    if (OutputArea.prototype.mime_types().indexOf(EXEC_MIME_TYPE) == -1) {\n",
       "      register_renderer(events, OutputArea);\n",
       "    }\n",
       "  }\n",
       "  if (typeof (root._bokeh_timeout) === \"undefined\" || force === true) {\n",
       "    root._bokeh_timeout = Date.now() + 5000;\n",
       "    root._bokeh_failed_load = false;\n",
       "  }\n",
       "\n",
       "  const NB_LOAD_WARNING = {'data': {'text\/html':\n",
       "     \"<div style='background-color: #fdd'>\\n\"+\n",
       "     \"<p>\\n\"+\n",
       "     \"BokehJS does not appear to have successfully loaded. If loading BokehJS from CDN, this \\n\"+\n",
       "     \"may be due to a slow or bad network connection. Possible fixes:\\n\"+\n",
       "     \"<\/p>\\n\"+\n",
       "     \"<ul>\\n\"+\n",
       "     \"<li>re-rerun `output_notebook()` to attempt to load from CDN again, or<\/li>\\n\"+\n",
       "     \"<li>use INLINE resources instead, as so:<\/li>\\n\"+\n",
       "     \"<\/ul>\\n\"+\n",
       "     \"<code>\\n\"+\n",
       "     \"from bokeh.resources import INLINE\\n\"+\n",
       "     \"output_notebook(resources=INLINE)\\n\"+\n",
       "     \"<\/code>\\n\"+\n",
       "     \"<\/div>\"}};\n",
       "\n",
       "  function display_loaded() {\n",
       "    const el = document.getElementById(\"f9a0b600-beab-4355-8e23-e49a6657b706\");\n",
       "    if (el != null) {\n",
       "      el.textContent = \"BokehJS is loading...\";\n",
       "    }\n",
       "    if (root.Bokeh !== undefined) {\n",
       "      if (el != null) {\n",
       "        el.textContent = \"BokehJS \" + root.Bokeh.version + \" successfully loaded.\";\n",
       "      }\n",
       "    } else if (Date.now() < root._bokeh_timeout) {\n",
       "      setTimeout(display_loaded, 100)\n",
       "    }\n",
       "  }\n",
       "\n",
       "  function run_callbacks() {\n",
       "    try {\n",
       "      root._bokeh_onload_callbacks.forEach(function(callback) {\n",
       "        if (callback != null)\n",
       "          callback();\n",
       "      });\n",
       "    } finally {\n",
       "      delete root._bokeh_onload_callbacks\n",
       "    }\n",
       "    console.debug(\"Bokeh: all callbacks have finished\");\n",
       "  }\n",
       "\n",
       "  function load_libs(css_urls, js_urls, callback) {\n",
       "    if (css_urls == null) css_urls = [];\n",
       "    if (js_urls == null) js_urls = [];\n",
       "\n",
       "    root._bokeh_onload_callbacks.push(callback);\n",
       "    if (root._bokeh_is_loading > 0) {\n",
       "      console.debug(\"Bokeh: BokehJS is being loaded, scheduling callback at\", now());\n",
       "      return null;\n",
       "    }\n",
       "    if (js_urls == null || js_urls.length === 0) {\n",
       "      run_callbacks();\n",
       "      return null;\n",
       "    }\n",
       "    console.debug(\"Bokeh: BokehJS not loaded, scheduling load and callback at\", now());\n",
       "    root._bokeh_is_loading = css_urls.length + js_urls.length;\n",
       "\n",
       "    function on_load() {\n",
       "      root._bokeh_is_loading--;\n",
       "      if (root._bokeh_is_loading === 0) {\n",
       "        console.debug(\"Bokeh: all BokehJS libraries\/stylesheets loaded\");\n",
       "        run_callbacks()\n",
       "      }\n",
       "    }\n",
       "\n",
       "    function on_error(url) {\n",
       "      console.error(\"failed to load \" + url);\n",
       "    }\n",
       "\n",
       "    for (let i = 0; i < css_urls.length; i++) {\n",
       "      const url = css_urls[i];\n",
       "      const element = document.createElement(\"link\");\n",
       "      element.onload = on_load;\n",
       "      element.onerror = on_error.bind(null, url);\n",
       "      element.rel = \"stylesheet\";\n",
       "      element.type = \"text\/css\";\n",
       "      element.href = url;\n",
       "      console.debug(\"Bokeh: injecting link tag for BokehJS stylesheet: \", url);\n",
       "      document.body.appendChild(element);\n",
       "    }\n",
       "\n",
       "    for (let i = 0; i < js_urls.length; i++) {\n",
       "      const url = js_urls[i];\n",
       "      const element = document.createElement('script');\n",
       "      element.onload = on_load;\n",
       "      element.onerror = on_error.bind(null, url);\n",
       "      element.async = false;\n",
       "      element.src = url;\n",
       "      console.debug(\"Bokeh: injecting script tag for BokehJS library: \", url);\n",
       "      document.head.appendChild(element);\n",
       "    }\n",
       "  };\n",
       "\n",
       "  function inject_raw_css(css) {\n",
       "    const element = document.createElement(\"style\");\n",
       "    element.appendChild(document.createTextNode(css));\n",
       "    document.body.appendChild(element);\n",
       "  }\n",
       "\n",
       "  const js_urls = [\"https:\/\/cdn.bokeh.org\/bokeh\/release\/bokeh-3.1.1.min.js\", \"https:\/\/cdn.bokeh.org\/bokeh\/release\/bokeh-gl-3.1.1.min.js\", \"https:\/\/cdn.bokeh.org\/bokeh\/release\/bokeh-widgets-3.1.1.min.js\", \"https:\/\/cdn.bokeh.org\/bokeh\/release\/bokeh-tables-3.1.1.min.js\", \"https:\/\/cdn.bokeh.org\/bokeh\/release\/bokeh-mathjax-3.1.1.min.js\"];\n",
       "  const css_urls = [];\n",
       "\n",
       "  const inline_js = [    function(Bokeh) {\n",
       "      Bokeh.set_log_level(\"info\");\n",
       "    },\n",
       "function(Bokeh) {\n",
       "    }\n",
       "  ];\n",
       "\n",
       "  function run_inline_js() {\n",
       "    if (root.Bokeh !== undefined || force === true) {\n",
       "          for (let i = 0; i < inline_js.length; i++) {\n",
       "      inline_js[i].call(root, root.Bokeh);\n",
       "    }\n",
       "if (force === true) {\n",
       "        display_loaded();\n",
       "      }} else if (Date.now() < root._bokeh_timeout) {\n",
       "      setTimeout(run_inline_js, 100);\n",
       "    } else if (!root._bokeh_failed_load) {\n",
       "      console.log(\"Bokeh: BokehJS failed to load within specified timeout.\");\n",
       "      root._bokeh_failed_load = true;\n",
       "    } else if (force !== true) {\n",
       "      const cell = $(document.getElementById(\"f9a0b600-beab-4355-8e23-e49a6657b706\")).parents('.cell').data().cell;\n",
       "      cell.output_area.append_execute_result(NB_LOAD_WARNING)\n",
       "    }\n",
       "  }\n",
       "\n",
       "  if (root._bokeh_is_loading === 0) {\n",
       "    console.debug(\"Bokeh: BokehJS loaded, going straight to plotting\");\n",
       "    run_inline_js();\n",
       "  } else {\n",
       "    load_libs(css_urls, js_urls, function() {\n",
       "      console.debug(\"Bokeh: BokehJS plotting callback run at\", now());\n",
       "      run_inline_js();\n",
       "    });\n",
       "  }\n",
       "}(window));<\/script><script>(function(root) {\n",
       "  function now() {\n",
       "    return new Date();\n",
       "  }\n",
       "\n",
       "  const force = true;\n",
       "\n",
       "  if (typeof root._bokeh_onload_callbacks === \"undefined\" || force === true) {\n",
       "    root._bokeh_onload_callbacks = [];\n",
       "    root._bokeh_is_loading = undefined;\n",
       "  }\n",
       "\n",
       "\n",
       "  if (typeof (root._bokeh_timeout) === \"undefined\" || force === true) {\n",
       "    root._bokeh_timeout = Date.now() + 5000;\n",
       "    root._bokeh_failed_load = false;\n",
       "  }\n",
       "\n",
       "  const NB_LOAD_WARNING = {'data': {'text\/html':\n",
       "     \"<div style='background-color: #fdd'>\\n\"+\n",
       "     \"<p>\\n\"+\n",
       "     \"BokehJS does not appear to have successfully loaded. If loading BokehJS from CDN, this \\n\"+\n",
       "     \"may be due to a slow or bad network connection. Possible fixes:\\n\"+\n",
       "     \"<\/p>\\n\"+\n",
       "     \"<ul>\\n\"+\n",
       "     \"<li>re-rerun `output_notebook()` to attempt to load from CDN again, or<\/li>\\n\"+\n",
       "     \"<li>use INLINE resources instead, as so:<\/li>\\n\"+\n",
       "     \"<\/ul>\\n\"+\n",
       "     \"<code>\\n\"+\n",
       "     \"from bokeh.resources import INLINE\\n\"+\n",
       "     \"output_notebook(resources=INLINE)\\n\"+\n",
       "     \"<\/code>\\n\"+\n",
       "     \"<\/div>\"}};\n",
       "\n",
       "  function display_loaded() {\n",
       "    const el = document.getElementById(\"f9a0b600-beab-4355-8e23-e49a6657b706\");\n",
       "    if (el != null) {\n",
       "      el.textContent = \"BokehJS is loading...\";\n",
       "    }\n",
       "    if (root.Bokeh !== undefined) {\n",
       "      if (el != null) {\n",
       "        el.textContent = \"BokehJS \" + root.Bokeh.version + \" successfully loaded.\";\n",
       "      }\n",
       "    } else if (Date.now() < root._bokeh_timeout) {\n",
       "      setTimeout(display_loaded, 100)\n",
       "    }\n",
       "  }\n",
       "\n",
       "  function run_callbacks() {\n",
       "    try {\n",
       "      root._bokeh_onload_callbacks.forEach(function(callback) {\n",
       "        if (callback != null)\n",
       "          callback();\n",
       "      });\n",
       "    } finally {\n",
       "      delete root._bokeh_onload_callbacks\n",
       "    }\n",
       "    console.debug(\"Bokeh: all callbacks have finished\");\n",
       "  }\n",
       "\n",
       "  function load_libs(css_urls, js_urls, callback) {\n",
       "    if (css_urls == null) css_urls = [];\n",
       "    if (js_urls == null) js_urls = [];\n",
       "\n",
       "    root._bokeh_onload_callbacks.push(callback);\n",
       "    if (root._bokeh_is_loading > 0) {\n",
       "      console.debug(\"Bokeh: BokehJS is being loaded, scheduling callback at\", now());\n",
       "      return null;\n",
       "    }\n",
       "    if (js_urls == null || js_urls.length === 0) {\n",
       "      run_callbacks();\n",
       "      return null;\n",
       "    }\n",
       "    console.debug(\"Bokeh: BokehJS not loaded, scheduling load and callback at\", now());\n",
       "    root._bokeh_is_loading = css_urls.length + js_urls.length;\n",
       "\n",
       "    function on_load() {\n",
       "      root._bokeh_is_loading--;\n",
       "      if (root._bokeh_is_loading === 0) {\n",
       "        console.debug(\"Bokeh: all BokehJS libraries\/stylesheets loaded\");\n",
       "        run_callbacks()\n",
       "      }\n",
       "    }\n",
       "\n",
       "    function on_error(url) {\n",
       "      console.error(\"failed to load \" + url);\n",
       "    }\n",
       "\n",
       "    for (let i = 0; i < css_urls.length; i++) {\n",
       "      const url = css_urls[i];\n",
       "      const element = document.createElement(\"link\");\n",
       "      element.onload = on_load;\n",
       "      element.onerror = on_error.bind(null, url);\n",
       "      element.rel = \"stylesheet\";\n",
       "      element.type = \"text\/css\";\n",
       "      element.href = url;\n",
       "      console.debug(\"Bokeh: injecting link tag for BokehJS stylesheet: \", url);\n",
       "      document.body.appendChild(element);\n",
       "    }\n",
       "\n",
       "    for (let i = 0; i < js_urls.length; i++) {\n",
       "      const url = js_urls[i];\n",
       "      const element = document.createElement('script');\n",
       "      element.onload = on_load;\n",
       "      element.onerror = on_error.bind(null, url);\n",
       "      element.async = false;\n",
       "      element.src = url;\n",
       "      console.debug(\"Bokeh: injecting script tag for BokehJS library: \", url);\n",
       "      document.head.appendChild(element);\n",
       "    }\n",
       "  };\n",
       "\n",
       "  function inject_raw_css(css) {\n",
       "    const element = document.createElement(\"style\");\n",
       "    element.appendChild(document.createTextNode(css));\n",
       "    document.body.appendChild(element);\n",
       "  }\n",
       "\n",
       "  const js_urls = [\"https:\/\/cdn.bokeh.org\/bokeh\/release\/bokeh-3.1.1.min.js\", \"https:\/\/cdn.bokeh.org\/bokeh\/release\/bokeh-gl-3.1.1.min.js\", \"https:\/\/cdn.bokeh.org\/bokeh\/release\/bokeh-widgets-3.1.1.min.js\", \"https:\/\/cdn.bokeh.org\/bokeh\/release\/bokeh-tables-3.1.1.min.js\", \"https:\/\/cdn.bokeh.org\/bokeh\/release\/bokeh-mathjax-3.1.1.min.js\"];\n",
       "  const css_urls = [];\n",
       "\n",
       "  const inline_js = [    function(Bokeh) {\n",
       "      Bokeh.set_log_level(\"info\");\n",
       "    },\n",
       "function(Bokeh) {\n",
       "    }\n",
       "  ];\n",
       "\n",
       "  function run_inline_js() {\n",
       "    if (root.Bokeh !== undefined || force === true) {\n",
       "          for (let i = 0; i < inline_js.length; i++) {\n",
       "      inline_js[i].call(root, root.Bokeh);\n",
       "    }\n",
       "if (force === true) {\n",
       "        display_loaded();\n",
       "      }} else if (Date.now() < root._bokeh_timeout) {\n",
       "      setTimeout(run_inline_js, 100);\n",
       "    } else if (!root._bokeh_failed_load) {\n",
       "      console.log(\"Bokeh: BokehJS failed to load within specified timeout.\");\n",
       "      root._bokeh_failed_load = true;\n",
       "    } else if (force !== true) {\n",
       "      const cell = $(document.getElementById(\"f9a0b600-beab-4355-8e23-e49a6657b706\")).parents('.cell').data().cell;\n",
       "      cell.output_area.append_execute_result(NB_LOAD_WARNING)\n",
       "    }\n",
       "  }\n",
       "\n",
       "  if (root._bokeh_is_loading === 0) {\n",
       "    console.debug(\"Bokeh: BokehJS loaded, going straight to plotting\");\n",
       "    run_inline_js();\n",
       "  } else {\n",
       "    load_libs(css_urls, js_urls, function() {\n",
       "      console.debug(\"Bokeh: BokehJS plotting callback run at\", now());\n",
       "      run_inline_js();\n",
       "    });\n",
       "  }\n",
       "}(window));<\/script>"
      ]
     },
     "metadata":{},
     "output_type":"display_data"
    },
    {
     "data":{
      "text\/html":[
       "\n",
       "  <div id=\"e253468e-d95f-46d8-88af-ea5107c336b6\" data-root-id=\"p38182\" style=\"display: contents;\"><\/div>\n"
      ]
     },
     "metadata":{},
     "output_type":"display_data"
    },
    {
     "data":{
      "text\/html":[
       "<script>(function(root) {\n",
       "  function embed_document(root) {\n",
       "  const docs_json = {\"42198516-4f7e-49f1-9a11-4aaf22e633d5\":{\"version\":\"3.1.1\",\"title\":\"Bokeh Application\",\"defs\":[],\"roots\":[{\"type\":\"object\",\"name\":\"Figure\",\"id\":\"p38182\",\"attributes\":{\"width\":800,\"height\":400,\"x_range\":{\"type\":\"object\",\"name\":\"FactorRange\",\"id\":\"p38192\",\"attributes\":{\"factors\":[\"Oblecenie\",\"Doprava\",\"Zabava\",\"Potraviny\",\"Najom\"]}},\"y_range\":{\"type\":\"object\",\"name\":\"DataRange1d\",\"id\":\"p38184\"},\"x_scale\":{\"type\":\"object\",\"name\":\"CategoricalScale\",\"id\":\"p38196\"},\"y_scale\":{\"type\":\"object\",\"name\":\"LinearScale\",\"id\":\"p38198\"},\"title\":{\"type\":\"object\",\"name\":\"Title\",\"id\":\"p38185\",\"attributes\":{\"text\":\"Mesacne vydavky\"}},\"renderers\":[{\"type\":\"object\",\"name\":\"GlyphRenderer\",\"id\":\"p38235\",\"attributes\":{\"data_source\":{\"type\":\"object\",\"name\":\"ColumnDataSource\",\"id\":\"p38179\",\"attributes\":{\"selected\":{\"type\":\"object\",\"name\":\"Selection\",\"id\":\"p38181\",\"attributes\":{\"indices\":[],\"line_indices\":[]}},\"selection_policy\":{\"type\":\"object\",\"name\":\"UnionRenderers\",\"id\":\"p38180\"},\"data\":{\"type\":\"map\",\"entries\":[[\"kategorie\",[\"Oblecenie\",\"Doprava\",\"Zabava\",\"Potraviny\",\"Najom\"]],[\"vydavky\",[80,100,150,250,500]]]}}},\"view\":{\"type\":\"object\",\"name\":\"CDSView\",\"id\":\"p38236\",\"attributes\":{\"filter\":{\"type\":\"object\",\"name\":\"AllIndices\",\"id\":\"p38237\"}}},\"glyph\":{\"type\":\"object\",\"name\":\"VBar\",\"id\":\"p38232\",\"attributes\":{\"x\":{\"type\":\"field\",\"field\":\"kategorie\"},\"width\":{\"type\":\"value\",\"value\":0.5},\"top\":{\"type\":\"field\",\"field\":\"vydavky\"},\"line_color\":{\"type\":\"value\",\"value\":\"#1f77b4\"},\"fill_color\":{\"type\":\"field\",\"field\":\"kategorie\",\"transform\":{\"type\":\"object\",\"name\":\"CategoricalColorMapper\",\"id\":\"p38228\",\"attributes\":{\"palette\":[\"#2b83ba\",\"#abdda4\",\"#ffffbf\",\"#fdae61\",\"#d7191c\"],\"factors\":[\"Oblecenie\",\"Doprava\",\"Zabava\",\"Potraviny\",\"Najom\"]}}}}},\"nonselection_glyph\":{\"type\":\"object\",\"name\":\"VBar\",\"id\":\"p38233\",\"attributes\":{\"x\":{\"type\":\"field\",\"field\":\"kategorie\"},\"width\":{\"type\":\"value\",\"value\":0.5},\"top\":{\"type\":\"field\",\"field\":\"vydavky\"},\"line_color\":{\"type\":\"value\",\"value\":\"#1f77b4\"},\"line_alpha\":{\"type\":\"value\",\"value\":0.1},\"fill_color\":{\"type\":\"field\",\"field\":\"kategorie\",\"transform\":{\"id\":\"p38228\"}},\"fill_alpha\":{\"type\":\"value\",\"value\":0.1},\"hatch_alpha\":{\"type\":\"value\",\"value\":0.1}}},\"muted_glyph\":{\"type\":\"object\",\"name\":\"VBar\",\"id\":\"p38234\",\"attributes\":{\"x\":{\"type\":\"field\",\"field\":\"kategorie\"},\"width\":{\"type\":\"value\",\"value\":0.5},\"top\":{\"type\":\"field\",\"field\":\"vydavky\"},\"line_color\":{\"type\":\"value\",\"value\":\"#1f77b4\"},\"line_alpha\":{\"type\":\"value\",\"value\":0.2},\"fill_color\":{\"type\":\"field\",\"field\":\"kategorie\",\"transform\":{\"id\":\"p38228\"}},\"fill_alpha\":{\"type\":\"value\",\"value\":0.2},\"hatch_alpha\":{\"type\":\"value\",\"value\":0.2}}}}}],\"toolbar\":{\"type\":\"object\",\"name\":\"Toolbar\",\"id\":\"p38189\",\"attributes\":{\"tools\":[{\"type\":\"object\",\"name\":\"PanTool\",\"id\":\"p38213\"},{\"type\":\"object\",\"name\":\"WheelZoomTool\",\"id\":\"p38214\"},{\"type\":\"object\",\"name\":\"BoxZoomTool\",\"id\":\"p38215\",\"attributes\":{\"overlay\":{\"type\":\"object\",\"name\":\"BoxAnnotation\",\"id\":\"p38216\",\"attributes\":{\"syncable\":false,\"level\":\"overlay\",\"visible\":false,\"left_units\":\"canvas\",\"right_units\":\"canvas\",\"bottom_units\":\"canvas\",\"top_units\":\"canvas\",\"line_color\":\"black\",\"line_alpha\":1.0,\"line_width\":2,\"line_dash\":[4,4],\"fill_color\":\"lightgrey\",\"fill_alpha\":0.5}}}},{\"type\":\"object\",\"name\":\"SaveTool\",\"id\":\"p38217\"},{\"type\":\"object\",\"name\":\"ResetTool\",\"id\":\"p38218\"},{\"type\":\"object\",\"name\":\"HelpTool\",\"id\":\"p38219\"},{\"type\":\"object\",\"name\":\"HoverTool\",\"id\":\"p38238\",\"attributes\":{\"renderers\":\"auto\",\"tooltips\":[[\"Kategorie\",\"@kategorie\"],[\"Vydavky\",\"@vydavky\"]]}}]}},\"left\":[{\"type\":\"object\",\"name\":\"LinearAxis\",\"id\":\"p38206\",\"attributes\":{\"ticker\":{\"type\":\"object\",\"name\":\"BasicTicker\",\"id\":\"p38208\",\"attributes\":{\"mantissas\":[1,2,5]}},\"formatter\":{\"type\":\"object\",\"name\":\"BasicTickFormatter\",\"id\":\"p38209\"},\"major_label_policy\":{\"type\":\"object\",\"name\":\"AllLabels\",\"id\":\"p38207\"}}}],\"below\":[{\"type\":\"object\",\"name\":\"CategoricalAxis\",\"id\":\"p38200\",\"attributes\":{\"ticker\":{\"type\":\"object\",\"name\":\"CategoricalTicker\",\"id\":\"p38202\"},\"formatter\":{\"type\":\"object\",\"name\":\"CategoricalTickFormatter\",\"id\":\"p38203\"},\"major_label_policy\":{\"type\":\"object\",\"name\":\"AllLabels\",\"id\":\"p38201\"}}}],\"center\":[{\"type\":\"object\",\"name\":\"Grid\",\"id\":\"p38205\",\"attributes\":{\"axis\":{\"id\":\"p38200\"}}},{\"type\":\"object\",\"name\":\"Grid\",\"id\":\"p38212\",\"attributes\":{\"dimension\":1,\"axis\":{\"id\":\"p38206\"}}}]}}],\"callbacks\":{\"type\":\"map\"}}};\n",
       "  const render_items = [{\"docid\":\"42198516-4f7e-49f1-9a11-4aaf22e633d5\",\"roots\":{\"p38182\":\"e253468e-d95f-46d8-88af-ea5107c336b6\"},\"root_ids\":[\"p38182\"]}];\n",
       "  root.Bokeh.embed.embed_items_notebook(docs_json, render_items);\n",
       "  }\n",
       "  if (root.Bokeh !== undefined) {\n",
       "    embed_document(root);\n",
       "  } else {\n",
       "    let attempts = 0;\n",
       "    const timer = setInterval(function(root) {\n",
       "      if (root.Bokeh !== undefined) {\n",
       "        clearInterval(timer);\n",
       "        embed_document(root);\n",
       "      } else {\n",
       "        attempts++;\n",
       "        if (attempts > 100) {\n",
       "          clearInterval(timer);\n",
       "          console.log(\"Bokeh: ERROR: Unable to run BokehJS code because BokehJS library is missing\");\n",
       "        }\n",
       "      }\n",
       "    }, 10, root)\n",
       "  }\n",
       "})(window);<\/script><script><\/script>"
      ]
     },
     "metadata":{},
     "output_type":"display_data"
    }
   ],
   "metadata":{
    "datalore":{
     "node_id":"DGWtCV7aQvUU8eybjhSoEt",
     "type":"CODE",
     "hide_input_from_viewers":true,
     "hide_output_from_viewers":true
    }
   }
  },
  {
   "cell_type":"code",
   "source":[
    "from bokeh.plotting import figure, show\n",
    "from bokeh.io import output_notebook\n",
    "from bokeh.models import HoverTool, ColumnDataSource\n",
    "from bokeh.transform import linear_cmap\n",
    "from bokeh.palettes import Magma7\n",
    "\n",
    "\n",
    "output_notebook()\n",
    "\n",
    "dni = [\"Pondelok\", \"Utorok\", \"Streda\", \"Stvrtok\", \"Piatok\", \"Sobota\", \"Nedela\"]\n",
    "teploty = [15, 17, 14, 18, 21, 22, 19]\n",
    "\n",
    "zdroj = ColumnDataSource(\n",
    "    data = dict(\n",
    "        dni = dni,  \n",
    "        teploty = teploty)\n",
    ")\n",
    "\n",
    "# Vytvorenie farebne mapovanie podla teploty\n",
    "color_mapper = linear_cmap(\n",
    "    field_name=\"teploty\", \n",
    "    palette=Magma7,\n",
    "    low = min(teploty),\n",
    "    high = max(teploty)\n",
    ")\n",
    "\n",
    "graf_stlpcovy_teploty = figure(\n",
    "    x_range = dni,\n",
    "    title = \"Teploty pocas tyzdna\"\n",
    ")\n",
    "\n",
    "\n",
    "graf_stlpcovy_teploty.vbar(\n",
    "    x = \"dni\",\n",
    "    top = \"teploty\",\n",
    "    width = 0.7,\n",
    "    source = zdroj,\n",
    "    fill_color = color_mapper\n",
    ")\n",
    "\n",
    "graf_stlpcovy_teploty.xgrid.grid_line_color = None\n",
    "graf_stlpcovy_teploty.y_range.start = 0\n",
    "graf_stlpcovy_teploty.y_range.end = 30\n",
    "\n",
    "show(graf_stlpcovy_teploty)"
   ],
   "execution_count":84,
   "outputs":[
    {
     "data":{
      "text\/html":[
       "<style>\n",
       "        .bk-notebook-logo {\n",
       "            display: block;\n",
       "            width: 20px;\n",
       "            height: 20px;\n",
       "            background-image: url(data:image\/png;base64,iVBORw0KGgoAAAANSUhEUgAAABQAAAAUCAYAAACNiR0NAAAABHNCSVQICAgIfAhkiAAAAAlwSFlzAAALEgAACxIB0t1+\/AAAABx0RVh0U29mdHdhcmUAQWRvYmUgRmlyZXdvcmtzIENTNui8sowAAAOkSURBVDiNjZRtaJVlGMd\/1\/08zzln5zjP1LWcU9N0NkN8m2CYjpgQYQXqSs0I84OLIC0hkEKoPtiH3gmKoiJDU7QpLgoLjLIQCpEsNJ1vqUOdO7ppbuec5+V+rj4ctwzd8IIbbi6u+8f1539dt3A78eXC7QizUF7gyV1fD1Yqg4JWz84yffhm0qkFqBogB9rM8tZdtwVsPUhWhGcFJngGeWrPzHm5oaMmkfEg1usvLFyc8jLRqDOMru7AyC8saQr7GG7f5fvDeH7Ej8CM66nIF+8yngt6HWaKh7k49Soy9nXurCi1o3qUbS3zWfrYeQDTB\/Qj6kX6Ybhw4B+bOYoLKCC9H3Nu\/leUTZ1JdRWkkn2ldcCamzrcf47KKXdAJllSlxAOkRgyHsGC\/zRday5Qld9DyoM4\/q\/rUoy\/CXh3jzOu3bHUVZeU+DEn8FInkPBFlu3+nW3Nw0mk6vCDiWg8CeJaxEwuHS3+z5RgY+YBR6V1Z1nxSOfoaPa4LASWxxdNp+VWTk7+4vzaou8v8PN+xo+KY2xsw6une2frhw05CTYOmQvsEhjhWjn0bmXPjpE1+kplmmkP3suftwTubK9Vq22qKmrBhpY4jvd5afdRA3wGjFAgcnTK2s4hY0\/GPNIb0nErGMCRxWOOX64Z8RAC4oCXdklmEvcL8o0BfkNK4lUg9HTl+oPlQxdNo3Mg4Nv175e\/1LDGzZen30MEjRUtmXSfiTVu1kK8W4txyV6BMKlbgk3lMwYCiusNy9fVfvvwMxv8Ynl6vxoByANLTWplvuj\/nF9m2+PDtt1eiHPBr1oIfhCChQMBw6Aw0UulqTKZdfVvfG7VcfIqLG9bcldL\/+pdWTLxLUy8Qq38heUIjh4XlzZxzQm19lLFlr8vdQ97rjZVOLf8nclzckbcD4wxXMidpX30sFd37Fv\/GtwwhzhxGVAprjbg0gCAEeIgwCZyTV2Z1REEW8O4py0wsjeloKoMr6iCY6dP92H6Vw\/oTyICIthibxjm\/DfN9lVz8IqtqKYLUXfoKVMVQVVJOElGjrnnUt9T9wbgp8AyYKaGlqingHZU\/uG2NTZSVqwHQTWkx9hxjkpWDaCg6Ckj5qebgBVbT3V3NNXMSiWSDdGV3hrtzla7J+duwPOToIg42ChPQOQjspnSlp1V+Gjdged7+8UN5CRAV7a5EdFNwCjEaBR27b3W890TE7g24NAP\/mMDXRWrGoFPQI9ls\/MWO2dWFAar\/xcOIImbbpA3zgAAAABJRU5ErkJggg==);\n",
       "        }\n",
       "    <\/style>\n",
       "    <div>\n",
       "        <a href=\"https:\/\/bokeh.org\" target=\"_blank\" class=\"bk-notebook-logo\"><\/a>\n",
       "        <span id=\"f805d017-008d-4aac-b123-d6a07c397176\">Loading BokehJS ...<\/span>\n",
       "    <\/div>\n"
      ]
     },
     "metadata":{},
     "output_type":"display_data"
    },
    {
     "data":{
      "text\/html":[
       "<script>(function(root) {\n",
       "  function now() {\n",
       "    return new Date();\n",
       "  }\n",
       "\n",
       "  const force = true;\n",
       "\n",
       "  if (typeof root._bokeh_onload_callbacks === \"undefined\" || force === true) {\n",
       "    root._bokeh_onload_callbacks = [];\n",
       "    root._bokeh_is_loading = undefined;\n",
       "  }\n",
       "\n",
       "const JS_MIME_TYPE = 'application\/javascript';\n",
       "  const HTML_MIME_TYPE = 'text\/html';\n",
       "  const EXEC_MIME_TYPE = 'application\/vnd.bokehjs_exec.v0+json';\n",
       "  const CLASS_NAME = 'output_bokeh rendered_html';\n",
       "\n",
       "  \/**\n",
       "   * Render data to the DOM node\n",
       "   *\/\n",
       "  function render(props, node) {\n",
       "    const script = document.createElement(\"script\");\n",
       "    node.appendChild(script);\n",
       "  }\n",
       "\n",
       "  \/**\n",
       "   * Handle when an output is cleared or removed\n",
       "   *\/\n",
       "  function handleClearOutput(event, handle) {\n",
       "    const cell = handle.cell;\n",
       "\n",
       "    const id = cell.output_area._bokeh_element_id;\n",
       "    const server_id = cell.output_area._bokeh_server_id;\n",
       "    \/\/ Clean up Bokeh references\n",
       "    if (id != null && id in Bokeh.index) {\n",
       "      Bokeh.index[id].model.document.clear();\n",
       "      delete Bokeh.index[id];\n",
       "    }\n",
       "\n",
       "    if (server_id !== undefined) {\n",
       "      \/\/ Clean up Bokeh references\n",
       "      const cmd_clean = \"from bokeh.io.state import curstate; print(curstate().uuid_to_server['\" + server_id + \"'].get_sessions()[0].document.roots[0]._id)\";\n",
       "      cell.notebook.kernel.execute(cmd_clean, {\n",
       "        iopub: {\n",
       "          output: function(msg) {\n",
       "            const id = msg.content.text.trim();\n",
       "            if (id in Bokeh.index) {\n",
       "              Bokeh.index[id].model.document.clear();\n",
       "              delete Bokeh.index[id];\n",
       "            }\n",
       "          }\n",
       "        }\n",
       "      });\n",
       "      \/\/ Destroy server and session\n",
       "      const cmd_destroy = \"import bokeh.io.notebook as ion; ion.destroy_server('\" + server_id + \"')\";\n",
       "      cell.notebook.kernel.execute(cmd_destroy);\n",
       "    }\n",
       "  }\n",
       "\n",
       "  \/**\n",
       "   * Handle when a new output is added\n",
       "   *\/\n",
       "  function handleAddOutput(event, handle) {\n",
       "    const output_area = handle.output_area;\n",
       "    const output = handle.output;\n",
       "\n",
       "    \/\/ limit handleAddOutput to display_data with EXEC_MIME_TYPE content only\n",
       "    if ((output.output_type != \"display_data\") || (!Object.prototype.hasOwnProperty.call(output.data, EXEC_MIME_TYPE))) {\n",
       "      return\n",
       "    }\n",
       "\n",
       "    const toinsert = output_area.element.find(\".\" + CLASS_NAME.split(' ')[0]);\n",
       "\n",
       "    if (output.metadata[EXEC_MIME_TYPE][\"id\"] !== undefined) {\n",
       "      toinsert[toinsert.length - 1].firstChild.textContent = output.data[JS_MIME_TYPE];\n",
       "      \/\/ store reference to embed id on output_area\n",
       "      output_area._bokeh_element_id = output.metadata[EXEC_MIME_TYPE][\"id\"];\n",
       "    }\n",
       "    if (output.metadata[EXEC_MIME_TYPE][\"server_id\"] !== undefined) {\n",
       "      const bk_div = document.createElement(\"div\");\n",
       "      bk_div.innerHTML = output.data[HTML_MIME_TYPE];\n",
       "      const script_attrs = bk_div.children[0].attributes;\n",
       "      for (let i = 0; i < script_attrs.length; i++) {\n",
       "        toinsert[toinsert.length - 1].firstChild.setAttribute(script_attrs[i].name, script_attrs[i].value);\n",
       "        toinsert[toinsert.length - 1].firstChild.textContent = bk_div.children[0].textContent\n",
       "      }\n",
       "      \/\/ store reference to server id on output_area\n",
       "      output_area._bokeh_server_id = output.metadata[EXEC_MIME_TYPE][\"server_id\"];\n",
       "    }\n",
       "  }\n",
       "\n",
       "  function register_renderer(events, OutputArea) {\n",
       "\n",
       "    function append_mime(data, metadata, element) {\n",
       "      \/\/ create a DOM node to render to\n",
       "      const toinsert = this.create_output_subarea(\n",
       "        metadata,\n",
       "        CLASS_NAME,\n",
       "        EXEC_MIME_TYPE\n",
       "      );\n",
       "      this.keyboard_manager.register_events(toinsert);\n",
       "      \/\/ Render to node\n",
       "      const props = {data: data, metadata: metadata[EXEC_MIME_TYPE]};\n",
       "      render(props, toinsert[toinsert.length - 1]);\n",
       "      element.append(toinsert);\n",
       "      return toinsert\n",
       "    }\n",
       "\n",
       "    \/* Handle when an output is cleared or removed *\/\n",
       "    events.on('clear_output.CodeCell', handleClearOutput);\n",
       "    events.on('delete.Cell', handleClearOutput);\n",
       "\n",
       "    \/* Handle when a new output is added *\/\n",
       "    events.on('output_added.OutputArea', handleAddOutput);\n",
       "\n",
       "    \/**\n",
       "     * Register the mime type and append_mime function with output_area\n",
       "     *\/\n",
       "    OutputArea.prototype.register_mime_type(EXEC_MIME_TYPE, append_mime, {\n",
       "      \/* Is output safe? *\/\n",
       "      safe: true,\n",
       "      \/* Index of renderer in `output_area.display_order` *\/\n",
       "      index: 0\n",
       "    });\n",
       "  }\n",
       "\n",
       "  \/\/ register the mime type if in Jupyter Notebook environment and previously unregistered\n",
       "  if (root.Jupyter !== undefined) {\n",
       "    const events = require('base\/js\/events');\n",
       "    const OutputArea = require('notebook\/js\/outputarea').OutputArea;\n",
       "\n",
       "    if (OutputArea.prototype.mime_types().indexOf(EXEC_MIME_TYPE) == -1) {\n",
       "      register_renderer(events, OutputArea);\n",
       "    }\n",
       "  }\n",
       "  if (typeof (root._bokeh_timeout) === \"undefined\" || force === true) {\n",
       "    root._bokeh_timeout = Date.now() + 5000;\n",
       "    root._bokeh_failed_load = false;\n",
       "  }\n",
       "\n",
       "  const NB_LOAD_WARNING = {'data': {'text\/html':\n",
       "     \"<div style='background-color: #fdd'>\\n\"+\n",
       "     \"<p>\\n\"+\n",
       "     \"BokehJS does not appear to have successfully loaded. If loading BokehJS from CDN, this \\n\"+\n",
       "     \"may be due to a slow or bad network connection. Possible fixes:\\n\"+\n",
       "     \"<\/p>\\n\"+\n",
       "     \"<ul>\\n\"+\n",
       "     \"<li>re-rerun `output_notebook()` to attempt to load from CDN again, or<\/li>\\n\"+\n",
       "     \"<li>use INLINE resources instead, as so:<\/li>\\n\"+\n",
       "     \"<\/ul>\\n\"+\n",
       "     \"<code>\\n\"+\n",
       "     \"from bokeh.resources import INLINE\\n\"+\n",
       "     \"output_notebook(resources=INLINE)\\n\"+\n",
       "     \"<\/code>\\n\"+\n",
       "     \"<\/div>\"}};\n",
       "\n",
       "  function display_loaded() {\n",
       "    const el = document.getElementById(\"f805d017-008d-4aac-b123-d6a07c397176\");\n",
       "    if (el != null) {\n",
       "      el.textContent = \"BokehJS is loading...\";\n",
       "    }\n",
       "    if (root.Bokeh !== undefined) {\n",
       "      if (el != null) {\n",
       "        el.textContent = \"BokehJS \" + root.Bokeh.version + \" successfully loaded.\";\n",
       "      }\n",
       "    } else if (Date.now() < root._bokeh_timeout) {\n",
       "      setTimeout(display_loaded, 100)\n",
       "    }\n",
       "  }\n",
       "\n",
       "  function run_callbacks() {\n",
       "    try {\n",
       "      root._bokeh_onload_callbacks.forEach(function(callback) {\n",
       "        if (callback != null)\n",
       "          callback();\n",
       "      });\n",
       "    } finally {\n",
       "      delete root._bokeh_onload_callbacks\n",
       "    }\n",
       "    console.debug(\"Bokeh: all callbacks have finished\");\n",
       "  }\n",
       "\n",
       "  function load_libs(css_urls, js_urls, callback) {\n",
       "    if (css_urls == null) css_urls = [];\n",
       "    if (js_urls == null) js_urls = [];\n",
       "\n",
       "    root._bokeh_onload_callbacks.push(callback);\n",
       "    if (root._bokeh_is_loading > 0) {\n",
       "      console.debug(\"Bokeh: BokehJS is being loaded, scheduling callback at\", now());\n",
       "      return null;\n",
       "    }\n",
       "    if (js_urls == null || js_urls.length === 0) {\n",
       "      run_callbacks();\n",
       "      return null;\n",
       "    }\n",
       "    console.debug(\"Bokeh: BokehJS not loaded, scheduling load and callback at\", now());\n",
       "    root._bokeh_is_loading = css_urls.length + js_urls.length;\n",
       "\n",
       "    function on_load() {\n",
       "      root._bokeh_is_loading--;\n",
       "      if (root._bokeh_is_loading === 0) {\n",
       "        console.debug(\"Bokeh: all BokehJS libraries\/stylesheets loaded\");\n",
       "        run_callbacks()\n",
       "      }\n",
       "    }\n",
       "\n",
       "    function on_error(url) {\n",
       "      console.error(\"failed to load \" + url);\n",
       "    }\n",
       "\n",
       "    for (let i = 0; i < css_urls.length; i++) {\n",
       "      const url = css_urls[i];\n",
       "      const element = document.createElement(\"link\");\n",
       "      element.onload = on_load;\n",
       "      element.onerror = on_error.bind(null, url);\n",
       "      element.rel = \"stylesheet\";\n",
       "      element.type = \"text\/css\";\n",
       "      element.href = url;\n",
       "      console.debug(\"Bokeh: injecting link tag for BokehJS stylesheet: \", url);\n",
       "      document.body.appendChild(element);\n",
       "    }\n",
       "\n",
       "    for (let i = 0; i < js_urls.length; i++) {\n",
       "      const url = js_urls[i];\n",
       "      const element = document.createElement('script');\n",
       "      element.onload = on_load;\n",
       "      element.onerror = on_error.bind(null, url);\n",
       "      element.async = false;\n",
       "      element.src = url;\n",
       "      console.debug(\"Bokeh: injecting script tag for BokehJS library: \", url);\n",
       "      document.head.appendChild(element);\n",
       "    }\n",
       "  };\n",
       "\n",
       "  function inject_raw_css(css) {\n",
       "    const element = document.createElement(\"style\");\n",
       "    element.appendChild(document.createTextNode(css));\n",
       "    document.body.appendChild(element);\n",
       "  }\n",
       "\n",
       "  const js_urls = [\"https:\/\/cdn.bokeh.org\/bokeh\/release\/bokeh-3.1.1.min.js\", \"https:\/\/cdn.bokeh.org\/bokeh\/release\/bokeh-gl-3.1.1.min.js\", \"https:\/\/cdn.bokeh.org\/bokeh\/release\/bokeh-widgets-3.1.1.min.js\", \"https:\/\/cdn.bokeh.org\/bokeh\/release\/bokeh-tables-3.1.1.min.js\", \"https:\/\/cdn.bokeh.org\/bokeh\/release\/bokeh-mathjax-3.1.1.min.js\"];\n",
       "  const css_urls = [];\n",
       "\n",
       "  const inline_js = [    function(Bokeh) {\n",
       "      Bokeh.set_log_level(\"info\");\n",
       "    },\n",
       "function(Bokeh) {\n",
       "    }\n",
       "  ];\n",
       "\n",
       "  function run_inline_js() {\n",
       "    if (root.Bokeh !== undefined || force === true) {\n",
       "          for (let i = 0; i < inline_js.length; i++) {\n",
       "      inline_js[i].call(root, root.Bokeh);\n",
       "    }\n",
       "if (force === true) {\n",
       "        display_loaded();\n",
       "      }} else if (Date.now() < root._bokeh_timeout) {\n",
       "      setTimeout(run_inline_js, 100);\n",
       "    } else if (!root._bokeh_failed_load) {\n",
       "      console.log(\"Bokeh: BokehJS failed to load within specified timeout.\");\n",
       "      root._bokeh_failed_load = true;\n",
       "    } else if (force !== true) {\n",
       "      const cell = $(document.getElementById(\"f805d017-008d-4aac-b123-d6a07c397176\")).parents('.cell').data().cell;\n",
       "      cell.output_area.append_execute_result(NB_LOAD_WARNING)\n",
       "    }\n",
       "  }\n",
       "\n",
       "  if (root._bokeh_is_loading === 0) {\n",
       "    console.debug(\"Bokeh: BokehJS loaded, going straight to plotting\");\n",
       "    run_inline_js();\n",
       "  } else {\n",
       "    load_libs(css_urls, js_urls, function() {\n",
       "      console.debug(\"Bokeh: BokehJS plotting callback run at\", now());\n",
       "      run_inline_js();\n",
       "    });\n",
       "  }\n",
       "}(window));<\/script><script>(function(root) {\n",
       "  function now() {\n",
       "    return new Date();\n",
       "  }\n",
       "\n",
       "  const force = true;\n",
       "\n",
       "  if (typeof root._bokeh_onload_callbacks === \"undefined\" || force === true) {\n",
       "    root._bokeh_onload_callbacks = [];\n",
       "    root._bokeh_is_loading = undefined;\n",
       "  }\n",
       "\n",
       "\n",
       "  if (typeof (root._bokeh_timeout) === \"undefined\" || force === true) {\n",
       "    root._bokeh_timeout = Date.now() + 5000;\n",
       "    root._bokeh_failed_load = false;\n",
       "  }\n",
       "\n",
       "  const NB_LOAD_WARNING = {'data': {'text\/html':\n",
       "     \"<div style='background-color: #fdd'>\\n\"+\n",
       "     \"<p>\\n\"+\n",
       "     \"BokehJS does not appear to have successfully loaded. If loading BokehJS from CDN, this \\n\"+\n",
       "     \"may be due to a slow or bad network connection. Possible fixes:\\n\"+\n",
       "     \"<\/p>\\n\"+\n",
       "     \"<ul>\\n\"+\n",
       "     \"<li>re-rerun `output_notebook()` to attempt to load from CDN again, or<\/li>\\n\"+\n",
       "     \"<li>use INLINE resources instead, as so:<\/li>\\n\"+\n",
       "     \"<\/ul>\\n\"+\n",
       "     \"<code>\\n\"+\n",
       "     \"from bokeh.resources import INLINE\\n\"+\n",
       "     \"output_notebook(resources=INLINE)\\n\"+\n",
       "     \"<\/code>\\n\"+\n",
       "     \"<\/div>\"}};\n",
       "\n",
       "  function display_loaded() {\n",
       "    const el = document.getElementById(\"f805d017-008d-4aac-b123-d6a07c397176\");\n",
       "    if (el != null) {\n",
       "      el.textContent = \"BokehJS is loading...\";\n",
       "    }\n",
       "    if (root.Bokeh !== undefined) {\n",
       "      if (el != null) {\n",
       "        el.textContent = \"BokehJS \" + root.Bokeh.version + \" successfully loaded.\";\n",
       "      }\n",
       "    } else if (Date.now() < root._bokeh_timeout) {\n",
       "      setTimeout(display_loaded, 100)\n",
       "    }\n",
       "  }\n",
       "\n",
       "  function run_callbacks() {\n",
       "    try {\n",
       "      root._bokeh_onload_callbacks.forEach(function(callback) {\n",
       "        if (callback != null)\n",
       "          callback();\n",
       "      });\n",
       "    } finally {\n",
       "      delete root._bokeh_onload_callbacks\n",
       "    }\n",
       "    console.debug(\"Bokeh: all callbacks have finished\");\n",
       "  }\n",
       "\n",
       "  function load_libs(css_urls, js_urls, callback) {\n",
       "    if (css_urls == null) css_urls = [];\n",
       "    if (js_urls == null) js_urls = [];\n",
       "\n",
       "    root._bokeh_onload_callbacks.push(callback);\n",
       "    if (root._bokeh_is_loading > 0) {\n",
       "      console.debug(\"Bokeh: BokehJS is being loaded, scheduling callback at\", now());\n",
       "      return null;\n",
       "    }\n",
       "    if (js_urls == null || js_urls.length === 0) {\n",
       "      run_callbacks();\n",
       "      return null;\n",
       "    }\n",
       "    console.debug(\"Bokeh: BokehJS not loaded, scheduling load and callback at\", now());\n",
       "    root._bokeh_is_loading = css_urls.length + js_urls.length;\n",
       "\n",
       "    function on_load() {\n",
       "      root._bokeh_is_loading--;\n",
       "      if (root._bokeh_is_loading === 0) {\n",
       "        console.debug(\"Bokeh: all BokehJS libraries\/stylesheets loaded\");\n",
       "        run_callbacks()\n",
       "      }\n",
       "    }\n",
       "\n",
       "    function on_error(url) {\n",
       "      console.error(\"failed to load \" + url);\n",
       "    }\n",
       "\n",
       "    for (let i = 0; i < css_urls.length; i++) {\n",
       "      const url = css_urls[i];\n",
       "      const element = document.createElement(\"link\");\n",
       "      element.onload = on_load;\n",
       "      element.onerror = on_error.bind(null, url);\n",
       "      element.rel = \"stylesheet\";\n",
       "      element.type = \"text\/css\";\n",
       "      element.href = url;\n",
       "      console.debug(\"Bokeh: injecting link tag for BokehJS stylesheet: \", url);\n",
       "      document.body.appendChild(element);\n",
       "    }\n",
       "\n",
       "    for (let i = 0; i < js_urls.length; i++) {\n",
       "      const url = js_urls[i];\n",
       "      const element = document.createElement('script');\n",
       "      element.onload = on_load;\n",
       "      element.onerror = on_error.bind(null, url);\n",
       "      element.async = false;\n",
       "      element.src = url;\n",
       "      console.debug(\"Bokeh: injecting script tag for BokehJS library: \", url);\n",
       "      document.head.appendChild(element);\n",
       "    }\n",
       "  };\n",
       "\n",
       "  function inject_raw_css(css) {\n",
       "    const element = document.createElement(\"style\");\n",
       "    element.appendChild(document.createTextNode(css));\n",
       "    document.body.appendChild(element);\n",
       "  }\n",
       "\n",
       "  const js_urls = [\"https:\/\/cdn.bokeh.org\/bokeh\/release\/bokeh-3.1.1.min.js\", \"https:\/\/cdn.bokeh.org\/bokeh\/release\/bokeh-gl-3.1.1.min.js\", \"https:\/\/cdn.bokeh.org\/bokeh\/release\/bokeh-widgets-3.1.1.min.js\", \"https:\/\/cdn.bokeh.org\/bokeh\/release\/bokeh-tables-3.1.1.min.js\", \"https:\/\/cdn.bokeh.org\/bokeh\/release\/bokeh-mathjax-3.1.1.min.js\"];\n",
       "  const css_urls = [];\n",
       "\n",
       "  const inline_js = [    function(Bokeh) {\n",
       "      Bokeh.set_log_level(\"info\");\n",
       "    },\n",
       "function(Bokeh) {\n",
       "    }\n",
       "  ];\n",
       "\n",
       "  function run_inline_js() {\n",
       "    if (root.Bokeh !== undefined || force === true) {\n",
       "          for (let i = 0; i < inline_js.length; i++) {\n",
       "      inline_js[i].call(root, root.Bokeh);\n",
       "    }\n",
       "if (force === true) {\n",
       "        display_loaded();\n",
       "      }} else if (Date.now() < root._bokeh_timeout) {\n",
       "      setTimeout(run_inline_js, 100);\n",
       "    } else if (!root._bokeh_failed_load) {\n",
       "      console.log(\"Bokeh: BokehJS failed to load within specified timeout.\");\n",
       "      root._bokeh_failed_load = true;\n",
       "    } else if (force !== true) {\n",
       "      const cell = $(document.getElementById(\"f805d017-008d-4aac-b123-d6a07c397176\")).parents('.cell').data().cell;\n",
       "      cell.output_area.append_execute_result(NB_LOAD_WARNING)\n",
       "    }\n",
       "  }\n",
       "\n",
       "  if (root._bokeh_is_loading === 0) {\n",
       "    console.debug(\"Bokeh: BokehJS loaded, going straight to plotting\");\n",
       "    run_inline_js();\n",
       "  } else {\n",
       "    load_libs(css_urls, js_urls, function() {\n",
       "      console.debug(\"Bokeh: BokehJS plotting callback run at\", now());\n",
       "      run_inline_js();\n",
       "    });\n",
       "  }\n",
       "}(window));<\/script>"
      ]
     },
     "metadata":{},
     "output_type":"display_data"
    },
    {
     "data":{
      "text\/html":[
       "\n",
       "  <div id=\"e131cc5c-a850-409a-a2b0-abcc2e3c25ea\" data-root-id=\"p49346\" style=\"display: contents;\"><\/div>\n"
      ]
     },
     "metadata":{},
     "output_type":"display_data"
    },
    {
     "data":{
      "text\/html":[
       "<script>(function(root) {\n",
       "  function embed_document(root) {\n",
       "  const docs_json = {\"7a8efdb2-41b4-4c6d-a66d-9974ee5c6c2a\":{\"version\":\"3.1.1\",\"title\":\"Bokeh Application\",\"defs\":[],\"roots\":[{\"type\":\"object\",\"name\":\"Figure\",\"id\":\"p49346\",\"attributes\":{\"x_range\":{\"type\":\"object\",\"name\":\"FactorRange\",\"id\":\"p49356\",\"attributes\":{\"factors\":[\"Pondelok\",\"Utorok\",\"Streda\",\"Stvrtok\",\"Piatok\",\"Sobota\",\"Nedela\"]}},\"y_range\":{\"type\":\"object\",\"name\":\"DataRange1d\",\"id\":\"p49348\",\"attributes\":{\"start\":0,\"end\":30}},\"x_scale\":{\"type\":\"object\",\"name\":\"CategoricalScale\",\"id\":\"p49360\"},\"y_scale\":{\"type\":\"object\",\"name\":\"LinearScale\",\"id\":\"p49362\"},\"title\":{\"type\":\"object\",\"name\":\"Title\",\"id\":\"p49349\",\"attributes\":{\"text\":\"Teploty pocas tyzdna\"}},\"renderers\":[{\"type\":\"object\",\"name\":\"GlyphRenderer\",\"id\":\"p49398\",\"attributes\":{\"data_source\":{\"type\":\"object\",\"name\":\"ColumnDataSource\",\"id\":\"p49342\",\"attributes\":{\"selected\":{\"type\":\"object\",\"name\":\"Selection\",\"id\":\"p49344\",\"attributes\":{\"indices\":[],\"line_indices\":[]}},\"selection_policy\":{\"type\":\"object\",\"name\":\"UnionRenderers\",\"id\":\"p49343\"},\"data\":{\"type\":\"map\",\"entries\":[[\"dni\",[\"Pondelok\",\"Utorok\",\"Streda\",\"Stvrtok\",\"Piatok\",\"Sobota\",\"Nedela\"]],[\"teploty\",[15,17,14,18,21,22,19]]]}}},\"view\":{\"type\":\"object\",\"name\":\"CDSView\",\"id\":\"p49399\",\"attributes\":{\"filter\":{\"type\":\"object\",\"name\":\"AllIndices\",\"id\":\"p49400\"}}},\"glyph\":{\"type\":\"object\",\"name\":\"VBar\",\"id\":\"p49395\",\"attributes\":{\"x\":{\"type\":\"field\",\"field\":\"dni\"},\"width\":{\"type\":\"value\",\"value\":0.7},\"top\":{\"type\":\"field\",\"field\":\"teploty\"},\"line_color\":{\"type\":\"value\",\"value\":\"#1f77b4\"},\"fill_color\":{\"type\":\"field\",\"field\":\"teploty\",\"transform\":{\"type\":\"object\",\"name\":\"LinearColorMapper\",\"id\":\"p49345\",\"attributes\":{\"palette\":[\"#000003\",\"#2B115E\",\"#711F81\",\"#B53679\",\"#F0605D\",\"#FEAE76\",\"#FBFCBF\"],\"low\":14,\"high\":22}}}}},\"nonselection_glyph\":{\"type\":\"object\",\"name\":\"VBar\",\"id\":\"p49396\",\"attributes\":{\"x\":{\"type\":\"field\",\"field\":\"dni\"},\"width\":{\"type\":\"value\",\"value\":0.7},\"top\":{\"type\":\"field\",\"field\":\"teploty\"},\"line_color\":{\"type\":\"value\",\"value\":\"#1f77b4\"},\"line_alpha\":{\"type\":\"value\",\"value\":0.1},\"fill_color\":{\"type\":\"field\",\"field\":\"teploty\",\"transform\":{\"id\":\"p49345\"}},\"fill_alpha\":{\"type\":\"value\",\"value\":0.1},\"hatch_alpha\":{\"type\":\"value\",\"value\":0.1}}},\"muted_glyph\":{\"type\":\"object\",\"name\":\"VBar\",\"id\":\"p49397\",\"attributes\":{\"x\":{\"type\":\"field\",\"field\":\"dni\"},\"width\":{\"type\":\"value\",\"value\":0.7},\"top\":{\"type\":\"field\",\"field\":\"teploty\"},\"line_color\":{\"type\":\"value\",\"value\":\"#1f77b4\"},\"line_alpha\":{\"type\":\"value\",\"value\":0.2},\"fill_color\":{\"type\":\"field\",\"field\":\"teploty\",\"transform\":{\"id\":\"p49345\"}},\"fill_alpha\":{\"type\":\"value\",\"value\":0.2},\"hatch_alpha\":{\"type\":\"value\",\"value\":0.2}}}}}],\"toolbar\":{\"type\":\"object\",\"name\":\"Toolbar\",\"id\":\"p49353\",\"attributes\":{\"tools\":[{\"type\":\"object\",\"name\":\"PanTool\",\"id\":\"p49377\"},{\"type\":\"object\",\"name\":\"WheelZoomTool\",\"id\":\"p49378\"},{\"type\":\"object\",\"name\":\"BoxZoomTool\",\"id\":\"p49379\",\"attributes\":{\"overlay\":{\"type\":\"object\",\"name\":\"BoxAnnotation\",\"id\":\"p49380\",\"attributes\":{\"syncable\":false,\"level\":\"overlay\",\"visible\":false,\"left_units\":\"canvas\",\"right_units\":\"canvas\",\"bottom_units\":\"canvas\",\"top_units\":\"canvas\",\"line_color\":\"black\",\"line_alpha\":1.0,\"line_width\":2,\"line_dash\":[4,4],\"fill_color\":\"lightgrey\",\"fill_alpha\":0.5}}}},{\"type\":\"object\",\"name\":\"SaveTool\",\"id\":\"p49381\"},{\"type\":\"object\",\"name\":\"ResetTool\",\"id\":\"p49382\"},{\"type\":\"object\",\"name\":\"HelpTool\",\"id\":\"p49383\"}]}},\"left\":[{\"type\":\"object\",\"name\":\"LinearAxis\",\"id\":\"p49370\",\"attributes\":{\"ticker\":{\"type\":\"object\",\"name\":\"BasicTicker\",\"id\":\"p49372\",\"attributes\":{\"mantissas\":[1,2,5]}},\"formatter\":{\"type\":\"object\",\"name\":\"BasicTickFormatter\",\"id\":\"p49373\"},\"major_label_policy\":{\"type\":\"object\",\"name\":\"AllLabels\",\"id\":\"p49371\"}}}],\"below\":[{\"type\":\"object\",\"name\":\"CategoricalAxis\",\"id\":\"p49364\",\"attributes\":{\"ticker\":{\"type\":\"object\",\"name\":\"CategoricalTicker\",\"id\":\"p49366\"},\"formatter\":{\"type\":\"object\",\"name\":\"CategoricalTickFormatter\",\"id\":\"p49367\"},\"major_label_policy\":{\"type\":\"object\",\"name\":\"AllLabels\",\"id\":\"p49365\"}}}],\"center\":[{\"type\":\"object\",\"name\":\"Grid\",\"id\":\"p49369\",\"attributes\":{\"axis\":{\"id\":\"p49364\"},\"grid_line_color\":null}},{\"type\":\"object\",\"name\":\"Grid\",\"id\":\"p49376\",\"attributes\":{\"dimension\":1,\"axis\":{\"id\":\"p49370\"}}}]}}],\"callbacks\":{\"type\":\"map\"}}};\n",
       "  const render_items = [{\"docid\":\"7a8efdb2-41b4-4c6d-a66d-9974ee5c6c2a\",\"roots\":{\"p49346\":\"e131cc5c-a850-409a-a2b0-abcc2e3c25ea\"},\"root_ids\":[\"p49346\"]}];\n",
       "  root.Bokeh.embed.embed_items_notebook(docs_json, render_items);\n",
       "  }\n",
       "  if (root.Bokeh !== undefined) {\n",
       "    embed_document(root);\n",
       "  } else {\n",
       "    let attempts = 0;\n",
       "    const timer = setInterval(function(root) {\n",
       "      if (root.Bokeh !== undefined) {\n",
       "        clearInterval(timer);\n",
       "        embed_document(root);\n",
       "      } else {\n",
       "        attempts++;\n",
       "        if (attempts > 100) {\n",
       "          clearInterval(timer);\n",
       "          console.log(\"Bokeh: ERROR: Unable to run BokehJS code because BokehJS library is missing\");\n",
       "        }\n",
       "      }\n",
       "    }, 10, root)\n",
       "  }\n",
       "})(window);<\/script><script><\/script>"
      ]
     },
     "metadata":{},
     "output_type":"display_data"
    }
   ],
   "metadata":{
    "datalore":{
     "node_id":"I0Pdkn00qmxYXBiNu8ssGX",
     "type":"CODE",
     "hide_input_from_viewers":true,
     "hide_output_from_viewers":true
    }
   }
  },
  {
   "cell_type":"markdown",
   "source":[
    "# Ciarove grafy"
   ],
   "attachments":{},
   "metadata":{
    "datalore":{
     "node_id":"Ciarove grafy",
     "type":"MD",
     "hide_input_from_viewers":false,
     "hide_output_from_viewers":false,
     "sheet_delimiter":true
    }
   }
  },
  {
   "cell_type":"code",
   "source":[
    "from bokeh.plotting import figure, show\n",
    "from bokeh.io import output_notebook\n",
    "from bokeh.models import ColumnDataSource, DatetimeTickFormatter\n",
    "import pandas as pd\n",
    "\n",
    "# Výstup do notebooku\n",
    "output_notebook()\n",
    "\n",
    "# Dáta pre celý rok 2024\n",
    "data = {\n",
    "    'dni': pd.to_datetime(['2024-01-02', '2024-02-15', '2024-03-10', '2024-04-20', '2024-07-10', '2024-10-12']),\n",
    "    'cena': [150.25, 160.37, 158.12, 172.88, 191.75, 164.33]\n",
    "}\n",
    "df = pd.DataFrame(data)\n",
    "\n",
    "# Vytvorenie zdroja dát\n",
    "source = ColumnDataSource(df)\n",
    "\n",
    "graf_ciarovy_google = figure (\n",
    "    title = \"Vyvoj ceny akcii Google (Aplhabet Inc) 2024\",\n",
    "    x_axis_label = \"Datum\",\n",
    "    y_axis_label = \"Cena akcii v USD\",\n",
    "    tools = \"pan, box_zoom, reset\",\n",
    "    x_axis_type = \"datetime\"\n",
    ")\n",
    "\n",
    "graf_ciarovy_google.xaxis.formatter = DatetimeTickFormatter(\n",
    "    days=\"%d.%m.%Y\",\n",
    "    months = \"%b %Y\",\n",
    "    years = \"%Y\"\n",
    ")\n",
    "\n",
    "graf_ciarovy_google.line(\n",
    "    x = \"dni\",\n",
    "    y = \"cena\",\n",
    "    source = source,\n",
    "    line_width = 3,\n",
    "    color = \"green\",\n",
    "    legend_label = \"Cena akcii Google\"\n",
    ")\n",
    "\n",
    "graf_ciarovy_google.legend.location = \"top_left\"\n",
    "graf_ciarovy_google.grid.grid_line_alpha = 0.5\n",
    "\n",
    "show(graf_ciarovy_google)"
   ],
   "execution_count":98,
   "outputs":[
    {
     "data":{
      "text\/html":[
       "<style>\n",
       "        .bk-notebook-logo {\n",
       "            display: block;\n",
       "            width: 20px;\n",
       "            height: 20px;\n",
       "            background-image: url(data:image\/png;base64,iVBORw0KGgoAAAANSUhEUgAAABQAAAAUCAYAAACNiR0NAAAABHNCSVQICAgIfAhkiAAAAAlwSFlzAAALEgAACxIB0t1+\/AAAABx0RVh0U29mdHdhcmUAQWRvYmUgRmlyZXdvcmtzIENTNui8sowAAAOkSURBVDiNjZRtaJVlGMd\/1\/08zzln5zjP1LWcU9N0NkN8m2CYjpgQYQXqSs0I84OLIC0hkEKoPtiH3gmKoiJDU7QpLgoLjLIQCpEsNJ1vqUOdO7ppbuec5+V+rj4ctwzd8IIbbi6u+8f1539dt3A78eXC7QizUF7gyV1fD1Yqg4JWz84yffhm0qkFqBogB9rM8tZdtwVsPUhWhGcFJngGeWrPzHm5oaMmkfEg1usvLFyc8jLRqDOMru7AyC8saQr7GG7f5fvDeH7Ej8CM66nIF+8yngt6HWaKh7k49Soy9nXurCi1o3qUbS3zWfrYeQDTB\/Qj6kX6Ybhw4B+bOYoLKCC9H3Nu\/leUTZ1JdRWkkn2ldcCamzrcf47KKXdAJllSlxAOkRgyHsGC\/zRday5Qld9DyoM4\/q\/rUoy\/CXh3jzOu3bHUVZeU+DEn8FInkPBFlu3+nW3Nw0mk6vCDiWg8CeJaxEwuHS3+z5RgY+YBR6V1Z1nxSOfoaPa4LASWxxdNp+VWTk7+4vzaou8v8PN+xo+KY2xsw6une2frhw05CTYOmQvsEhjhWjn0bmXPjpE1+kplmmkP3suftwTubK9Vq22qKmrBhpY4jvd5afdRA3wGjFAgcnTK2s4hY0\/GPNIb0nErGMCRxWOOX64Z8RAC4oCXdklmEvcL8o0BfkNK4lUg9HTl+oPlQxdNo3Mg4Nv175e\/1LDGzZen30MEjRUtmXSfiTVu1kK8W4txyV6BMKlbgk3lMwYCiusNy9fVfvvwMxv8Ynl6vxoByANLTWplvuj\/nF9m2+PDtt1eiHPBr1oIfhCChQMBw6Aw0UulqTKZdfVvfG7VcfIqLG9bcldL\/+pdWTLxLUy8Qq38heUIjh4XlzZxzQm19lLFlr8vdQ97rjZVOLf8nclzckbcD4wxXMidpX30sFd37Fv\/GtwwhzhxGVAprjbg0gCAEeIgwCZyTV2Z1REEW8O4py0wsjeloKoMr6iCY6dP92H6Vw\/oTyICIthibxjm\/DfN9lVz8IqtqKYLUXfoKVMVQVVJOElGjrnnUt9T9wbgp8AyYKaGlqingHZU\/uG2NTZSVqwHQTWkx9hxjkpWDaCg6Ckj5qebgBVbT3V3NNXMSiWSDdGV3hrtzla7J+duwPOToIg42ChPQOQjspnSlp1V+Gjdged7+8UN5CRAV7a5EdFNwCjEaBR27b3W890TE7g24NAP\/mMDXRWrGoFPQI9ls\/MWO2dWFAar\/xcOIImbbpA3zgAAAABJRU5ErkJggg==);\n",
       "        }\n",
       "    <\/style>\n",
       "    <div>\n",
       "        <a href=\"https:\/\/bokeh.org\" target=\"_blank\" class=\"bk-notebook-logo\"><\/a>\n",
       "        <span id=\"db3880b9-9cce-4c7c-add1-91084bd4c9dc\">Loading BokehJS ...<\/span>\n",
       "    <\/div>\n"
      ]
     },
     "metadata":{},
     "output_type":"display_data"
    },
    {
     "data":{
      "text\/html":[
       "<script>(function(root) {\n",
       "  function now() {\n",
       "    return new Date();\n",
       "  }\n",
       "\n",
       "  const force = true;\n",
       "\n",
       "  if (typeof root._bokeh_onload_callbacks === \"undefined\" || force === true) {\n",
       "    root._bokeh_onload_callbacks = [];\n",
       "    root._bokeh_is_loading = undefined;\n",
       "  }\n",
       "\n",
       "const JS_MIME_TYPE = 'application\/javascript';\n",
       "  const HTML_MIME_TYPE = 'text\/html';\n",
       "  const EXEC_MIME_TYPE = 'application\/vnd.bokehjs_exec.v0+json';\n",
       "  const CLASS_NAME = 'output_bokeh rendered_html';\n",
       "\n",
       "  \/**\n",
       "   * Render data to the DOM node\n",
       "   *\/\n",
       "  function render(props, node) {\n",
       "    const script = document.createElement(\"script\");\n",
       "    node.appendChild(script);\n",
       "  }\n",
       "\n",
       "  \/**\n",
       "   * Handle when an output is cleared or removed\n",
       "   *\/\n",
       "  function handleClearOutput(event, handle) {\n",
       "    const cell = handle.cell;\n",
       "\n",
       "    const id = cell.output_area._bokeh_element_id;\n",
       "    const server_id = cell.output_area._bokeh_server_id;\n",
       "    \/\/ Clean up Bokeh references\n",
       "    if (id != null && id in Bokeh.index) {\n",
       "      Bokeh.index[id].model.document.clear();\n",
       "      delete Bokeh.index[id];\n",
       "    }\n",
       "\n",
       "    if (server_id !== undefined) {\n",
       "      \/\/ Clean up Bokeh references\n",
       "      const cmd_clean = \"from bokeh.io.state import curstate; print(curstate().uuid_to_server['\" + server_id + \"'].get_sessions()[0].document.roots[0]._id)\";\n",
       "      cell.notebook.kernel.execute(cmd_clean, {\n",
       "        iopub: {\n",
       "          output: function(msg) {\n",
       "            const id = msg.content.text.trim();\n",
       "            if (id in Bokeh.index) {\n",
       "              Bokeh.index[id].model.document.clear();\n",
       "              delete Bokeh.index[id];\n",
       "            }\n",
       "          }\n",
       "        }\n",
       "      });\n",
       "      \/\/ Destroy server and session\n",
       "      const cmd_destroy = \"import bokeh.io.notebook as ion; ion.destroy_server('\" + server_id + \"')\";\n",
       "      cell.notebook.kernel.execute(cmd_destroy);\n",
       "    }\n",
       "  }\n",
       "\n",
       "  \/**\n",
       "   * Handle when a new output is added\n",
       "   *\/\n",
       "  function handleAddOutput(event, handle) {\n",
       "    const output_area = handle.output_area;\n",
       "    const output = handle.output;\n",
       "\n",
       "    \/\/ limit handleAddOutput to display_data with EXEC_MIME_TYPE content only\n",
       "    if ((output.output_type != \"display_data\") || (!Object.prototype.hasOwnProperty.call(output.data, EXEC_MIME_TYPE))) {\n",
       "      return\n",
       "    }\n",
       "\n",
       "    const toinsert = output_area.element.find(\".\" + CLASS_NAME.split(' ')[0]);\n",
       "\n",
       "    if (output.metadata[EXEC_MIME_TYPE][\"id\"] !== undefined) {\n",
       "      toinsert[toinsert.length - 1].firstChild.textContent = output.data[JS_MIME_TYPE];\n",
       "      \/\/ store reference to embed id on output_area\n",
       "      output_area._bokeh_element_id = output.metadata[EXEC_MIME_TYPE][\"id\"];\n",
       "    }\n",
       "    if (output.metadata[EXEC_MIME_TYPE][\"server_id\"] !== undefined) {\n",
       "      const bk_div = document.createElement(\"div\");\n",
       "      bk_div.innerHTML = output.data[HTML_MIME_TYPE];\n",
       "      const script_attrs = bk_div.children[0].attributes;\n",
       "      for (let i = 0; i < script_attrs.length; i++) {\n",
       "        toinsert[toinsert.length - 1].firstChild.setAttribute(script_attrs[i].name, script_attrs[i].value);\n",
       "        toinsert[toinsert.length - 1].firstChild.textContent = bk_div.children[0].textContent\n",
       "      }\n",
       "      \/\/ store reference to server id on output_area\n",
       "      output_area._bokeh_server_id = output.metadata[EXEC_MIME_TYPE][\"server_id\"];\n",
       "    }\n",
       "  }\n",
       "\n",
       "  function register_renderer(events, OutputArea) {\n",
       "\n",
       "    function append_mime(data, metadata, element) {\n",
       "      \/\/ create a DOM node to render to\n",
       "      const toinsert = this.create_output_subarea(\n",
       "        metadata,\n",
       "        CLASS_NAME,\n",
       "        EXEC_MIME_TYPE\n",
       "      );\n",
       "      this.keyboard_manager.register_events(toinsert);\n",
       "      \/\/ Render to node\n",
       "      const props = {data: data, metadata: metadata[EXEC_MIME_TYPE]};\n",
       "      render(props, toinsert[toinsert.length - 1]);\n",
       "      element.append(toinsert);\n",
       "      return toinsert\n",
       "    }\n",
       "\n",
       "    \/* Handle when an output is cleared or removed *\/\n",
       "    events.on('clear_output.CodeCell', handleClearOutput);\n",
       "    events.on('delete.Cell', handleClearOutput);\n",
       "\n",
       "    \/* Handle when a new output is added *\/\n",
       "    events.on('output_added.OutputArea', handleAddOutput);\n",
       "\n",
       "    \/**\n",
       "     * Register the mime type and append_mime function with output_area\n",
       "     *\/\n",
       "    OutputArea.prototype.register_mime_type(EXEC_MIME_TYPE, append_mime, {\n",
       "      \/* Is output safe? *\/\n",
       "      safe: true,\n",
       "      \/* Index of renderer in `output_area.display_order` *\/\n",
       "      index: 0\n",
       "    });\n",
       "  }\n",
       "\n",
       "  \/\/ register the mime type if in Jupyter Notebook environment and previously unregistered\n",
       "  if (root.Jupyter !== undefined) {\n",
       "    const events = require('base\/js\/events');\n",
       "    const OutputArea = require('notebook\/js\/outputarea').OutputArea;\n",
       "\n",
       "    if (OutputArea.prototype.mime_types().indexOf(EXEC_MIME_TYPE) == -1) {\n",
       "      register_renderer(events, OutputArea);\n",
       "    }\n",
       "  }\n",
       "  if (typeof (root._bokeh_timeout) === \"undefined\" || force === true) {\n",
       "    root._bokeh_timeout = Date.now() + 5000;\n",
       "    root._bokeh_failed_load = false;\n",
       "  }\n",
       "\n",
       "  const NB_LOAD_WARNING = {'data': {'text\/html':\n",
       "     \"<div style='background-color: #fdd'>\\n\"+\n",
       "     \"<p>\\n\"+\n",
       "     \"BokehJS does not appear to have successfully loaded. If loading BokehJS from CDN, this \\n\"+\n",
       "     \"may be due to a slow or bad network connection. Possible fixes:\\n\"+\n",
       "     \"<\/p>\\n\"+\n",
       "     \"<ul>\\n\"+\n",
       "     \"<li>re-rerun `output_notebook()` to attempt to load from CDN again, or<\/li>\\n\"+\n",
       "     \"<li>use INLINE resources instead, as so:<\/li>\\n\"+\n",
       "     \"<\/ul>\\n\"+\n",
       "     \"<code>\\n\"+\n",
       "     \"from bokeh.resources import INLINE\\n\"+\n",
       "     \"output_notebook(resources=INLINE)\\n\"+\n",
       "     \"<\/code>\\n\"+\n",
       "     \"<\/div>\"}};\n",
       "\n",
       "  function display_loaded() {\n",
       "    const el = document.getElementById(\"db3880b9-9cce-4c7c-add1-91084bd4c9dc\");\n",
       "    if (el != null) {\n",
       "      el.textContent = \"BokehJS is loading...\";\n",
       "    }\n",
       "    if (root.Bokeh !== undefined) {\n",
       "      if (el != null) {\n",
       "        el.textContent = \"BokehJS \" + root.Bokeh.version + \" successfully loaded.\";\n",
       "      }\n",
       "    } else if (Date.now() < root._bokeh_timeout) {\n",
       "      setTimeout(display_loaded, 100)\n",
       "    }\n",
       "  }\n",
       "\n",
       "  function run_callbacks() {\n",
       "    try {\n",
       "      root._bokeh_onload_callbacks.forEach(function(callback) {\n",
       "        if (callback != null)\n",
       "          callback();\n",
       "      });\n",
       "    } finally {\n",
       "      delete root._bokeh_onload_callbacks\n",
       "    }\n",
       "    console.debug(\"Bokeh: all callbacks have finished\");\n",
       "  }\n",
       "\n",
       "  function load_libs(css_urls, js_urls, callback) {\n",
       "    if (css_urls == null) css_urls = [];\n",
       "    if (js_urls == null) js_urls = [];\n",
       "\n",
       "    root._bokeh_onload_callbacks.push(callback);\n",
       "    if (root._bokeh_is_loading > 0) {\n",
       "      console.debug(\"Bokeh: BokehJS is being loaded, scheduling callback at\", now());\n",
       "      return null;\n",
       "    }\n",
       "    if (js_urls == null || js_urls.length === 0) {\n",
       "      run_callbacks();\n",
       "      return null;\n",
       "    }\n",
       "    console.debug(\"Bokeh: BokehJS not loaded, scheduling load and callback at\", now());\n",
       "    root._bokeh_is_loading = css_urls.length + js_urls.length;\n",
       "\n",
       "    function on_load() {\n",
       "      root._bokeh_is_loading--;\n",
       "      if (root._bokeh_is_loading === 0) {\n",
       "        console.debug(\"Bokeh: all BokehJS libraries\/stylesheets loaded\");\n",
       "        run_callbacks()\n",
       "      }\n",
       "    }\n",
       "\n",
       "    function on_error(url) {\n",
       "      console.error(\"failed to load \" + url);\n",
       "    }\n",
       "\n",
       "    for (let i = 0; i < css_urls.length; i++) {\n",
       "      const url = css_urls[i];\n",
       "      const element = document.createElement(\"link\");\n",
       "      element.onload = on_load;\n",
       "      element.onerror = on_error.bind(null, url);\n",
       "      element.rel = \"stylesheet\";\n",
       "      element.type = \"text\/css\";\n",
       "      element.href = url;\n",
       "      console.debug(\"Bokeh: injecting link tag for BokehJS stylesheet: \", url);\n",
       "      document.body.appendChild(element);\n",
       "    }\n",
       "\n",
       "    for (let i = 0; i < js_urls.length; i++) {\n",
       "      const url = js_urls[i];\n",
       "      const element = document.createElement('script');\n",
       "      element.onload = on_load;\n",
       "      element.onerror = on_error.bind(null, url);\n",
       "      element.async = false;\n",
       "      element.src = url;\n",
       "      console.debug(\"Bokeh: injecting script tag for BokehJS library: \", url);\n",
       "      document.head.appendChild(element);\n",
       "    }\n",
       "  };\n",
       "\n",
       "  function inject_raw_css(css) {\n",
       "    const element = document.createElement(\"style\");\n",
       "    element.appendChild(document.createTextNode(css));\n",
       "    document.body.appendChild(element);\n",
       "  }\n",
       "\n",
       "  const js_urls = [\"https:\/\/cdn.bokeh.org\/bokeh\/release\/bokeh-3.1.1.min.js\", \"https:\/\/cdn.bokeh.org\/bokeh\/release\/bokeh-gl-3.1.1.min.js\", \"https:\/\/cdn.bokeh.org\/bokeh\/release\/bokeh-widgets-3.1.1.min.js\", \"https:\/\/cdn.bokeh.org\/bokeh\/release\/bokeh-tables-3.1.1.min.js\", \"https:\/\/cdn.bokeh.org\/bokeh\/release\/bokeh-mathjax-3.1.1.min.js\"];\n",
       "  const css_urls = [];\n",
       "\n",
       "  const inline_js = [    function(Bokeh) {\n",
       "      Bokeh.set_log_level(\"info\");\n",
       "    },\n",
       "function(Bokeh) {\n",
       "    }\n",
       "  ];\n",
       "\n",
       "  function run_inline_js() {\n",
       "    if (root.Bokeh !== undefined || force === true) {\n",
       "          for (let i = 0; i < inline_js.length; i++) {\n",
       "      inline_js[i].call(root, root.Bokeh);\n",
       "    }\n",
       "if (force === true) {\n",
       "        display_loaded();\n",
       "      }} else if (Date.now() < root._bokeh_timeout) {\n",
       "      setTimeout(run_inline_js, 100);\n",
       "    } else if (!root._bokeh_failed_load) {\n",
       "      console.log(\"Bokeh: BokehJS failed to load within specified timeout.\");\n",
       "      root._bokeh_failed_load = true;\n",
       "    } else if (force !== true) {\n",
       "      const cell = $(document.getElementById(\"db3880b9-9cce-4c7c-add1-91084bd4c9dc\")).parents('.cell').data().cell;\n",
       "      cell.output_area.append_execute_result(NB_LOAD_WARNING)\n",
       "    }\n",
       "  }\n",
       "\n",
       "  if (root._bokeh_is_loading === 0) {\n",
       "    console.debug(\"Bokeh: BokehJS loaded, going straight to plotting\");\n",
       "    run_inline_js();\n",
       "  } else {\n",
       "    load_libs(css_urls, js_urls, function() {\n",
       "      console.debug(\"Bokeh: BokehJS plotting callback run at\", now());\n",
       "      run_inline_js();\n",
       "    });\n",
       "  }\n",
       "}(window));<\/script><script>(function(root) {\n",
       "  function now() {\n",
       "    return new Date();\n",
       "  }\n",
       "\n",
       "  const force = true;\n",
       "\n",
       "  if (typeof root._bokeh_onload_callbacks === \"undefined\" || force === true) {\n",
       "    root._bokeh_onload_callbacks = [];\n",
       "    root._bokeh_is_loading = undefined;\n",
       "  }\n",
       "\n",
       "\n",
       "  if (typeof (root._bokeh_timeout) === \"undefined\" || force === true) {\n",
       "    root._bokeh_timeout = Date.now() + 5000;\n",
       "    root._bokeh_failed_load = false;\n",
       "  }\n",
       "\n",
       "  const NB_LOAD_WARNING = {'data': {'text\/html':\n",
       "     \"<div style='background-color: #fdd'>\\n\"+\n",
       "     \"<p>\\n\"+\n",
       "     \"BokehJS does not appear to have successfully loaded. If loading BokehJS from CDN, this \\n\"+\n",
       "     \"may be due to a slow or bad network connection. Possible fixes:\\n\"+\n",
       "     \"<\/p>\\n\"+\n",
       "     \"<ul>\\n\"+\n",
       "     \"<li>re-rerun `output_notebook()` to attempt to load from CDN again, or<\/li>\\n\"+\n",
       "     \"<li>use INLINE resources instead, as so:<\/li>\\n\"+\n",
       "     \"<\/ul>\\n\"+\n",
       "     \"<code>\\n\"+\n",
       "     \"from bokeh.resources import INLINE\\n\"+\n",
       "     \"output_notebook(resources=INLINE)\\n\"+\n",
       "     \"<\/code>\\n\"+\n",
       "     \"<\/div>\"}};\n",
       "\n",
       "  function display_loaded() {\n",
       "    const el = document.getElementById(\"db3880b9-9cce-4c7c-add1-91084bd4c9dc\");\n",
       "    if (el != null) {\n",
       "      el.textContent = \"BokehJS is loading...\";\n",
       "    }\n",
       "    if (root.Bokeh !== undefined) {\n",
       "      if (el != null) {\n",
       "        el.textContent = \"BokehJS \" + root.Bokeh.version + \" successfully loaded.\";\n",
       "      }\n",
       "    } else if (Date.now() < root._bokeh_timeout) {\n",
       "      setTimeout(display_loaded, 100)\n",
       "    }\n",
       "  }\n",
       "\n",
       "  function run_callbacks() {\n",
       "    try {\n",
       "      root._bokeh_onload_callbacks.forEach(function(callback) {\n",
       "        if (callback != null)\n",
       "          callback();\n",
       "      });\n",
       "    } finally {\n",
       "      delete root._bokeh_onload_callbacks\n",
       "    }\n",
       "    console.debug(\"Bokeh: all callbacks have finished\");\n",
       "  }\n",
       "\n",
       "  function load_libs(css_urls, js_urls, callback) {\n",
       "    if (css_urls == null) css_urls = [];\n",
       "    if (js_urls == null) js_urls = [];\n",
       "\n",
       "    root._bokeh_onload_callbacks.push(callback);\n",
       "    if (root._bokeh_is_loading > 0) {\n",
       "      console.debug(\"Bokeh: BokehJS is being loaded, scheduling callback at\", now());\n",
       "      return null;\n",
       "    }\n",
       "    if (js_urls == null || js_urls.length === 0) {\n",
       "      run_callbacks();\n",
       "      return null;\n",
       "    }\n",
       "    console.debug(\"Bokeh: BokehJS not loaded, scheduling load and callback at\", now());\n",
       "    root._bokeh_is_loading = css_urls.length + js_urls.length;\n",
       "\n",
       "    function on_load() {\n",
       "      root._bokeh_is_loading--;\n",
       "      if (root._bokeh_is_loading === 0) {\n",
       "        console.debug(\"Bokeh: all BokehJS libraries\/stylesheets loaded\");\n",
       "        run_callbacks()\n",
       "      }\n",
       "    }\n",
       "\n",
       "    function on_error(url) {\n",
       "      console.error(\"failed to load \" + url);\n",
       "    }\n",
       "\n",
       "    for (let i = 0; i < css_urls.length; i++) {\n",
       "      const url = css_urls[i];\n",
       "      const element = document.createElement(\"link\");\n",
       "      element.onload = on_load;\n",
       "      element.onerror = on_error.bind(null, url);\n",
       "      element.rel = \"stylesheet\";\n",
       "      element.type = \"text\/css\";\n",
       "      element.href = url;\n",
       "      console.debug(\"Bokeh: injecting link tag for BokehJS stylesheet: \", url);\n",
       "      document.body.appendChild(element);\n",
       "    }\n",
       "\n",
       "    for (let i = 0; i < js_urls.length; i++) {\n",
       "      const url = js_urls[i];\n",
       "      const element = document.createElement('script');\n",
       "      element.onload = on_load;\n",
       "      element.onerror = on_error.bind(null, url);\n",
       "      element.async = false;\n",
       "      element.src = url;\n",
       "      console.debug(\"Bokeh: injecting script tag for BokehJS library: \", url);\n",
       "      document.head.appendChild(element);\n",
       "    }\n",
       "  };\n",
       "\n",
       "  function inject_raw_css(css) {\n",
       "    const element = document.createElement(\"style\");\n",
       "    element.appendChild(document.createTextNode(css));\n",
       "    document.body.appendChild(element);\n",
       "  }\n",
       "\n",
       "  const js_urls = [\"https:\/\/cdn.bokeh.org\/bokeh\/release\/bokeh-3.1.1.min.js\", \"https:\/\/cdn.bokeh.org\/bokeh\/release\/bokeh-gl-3.1.1.min.js\", \"https:\/\/cdn.bokeh.org\/bokeh\/release\/bokeh-widgets-3.1.1.min.js\", \"https:\/\/cdn.bokeh.org\/bokeh\/release\/bokeh-tables-3.1.1.min.js\", \"https:\/\/cdn.bokeh.org\/bokeh\/release\/bokeh-mathjax-3.1.1.min.js\"];\n",
       "  const css_urls = [];\n",
       "\n",
       "  const inline_js = [    function(Bokeh) {\n",
       "      Bokeh.set_log_level(\"info\");\n",
       "    },\n",
       "function(Bokeh) {\n",
       "    }\n",
       "  ];\n",
       "\n",
       "  function run_inline_js() {\n",
       "    if (root.Bokeh !== undefined || force === true) {\n",
       "          for (let i = 0; i < inline_js.length; i++) {\n",
       "      inline_js[i].call(root, root.Bokeh);\n",
       "    }\n",
       "if (force === true) {\n",
       "        display_loaded();\n",
       "      }} else if (Date.now() < root._bokeh_timeout) {\n",
       "      setTimeout(run_inline_js, 100);\n",
       "    } else if (!root._bokeh_failed_load) {\n",
       "      console.log(\"Bokeh: BokehJS failed to load within specified timeout.\");\n",
       "      root._bokeh_failed_load = true;\n",
       "    } else if (force !== true) {\n",
       "      const cell = $(document.getElementById(\"db3880b9-9cce-4c7c-add1-91084bd4c9dc\")).parents('.cell').data().cell;\n",
       "      cell.output_area.append_execute_result(NB_LOAD_WARNING)\n",
       "    }\n",
       "  }\n",
       "\n",
       "  if (root._bokeh_is_loading === 0) {\n",
       "    console.debug(\"Bokeh: BokehJS loaded, going straight to plotting\");\n",
       "    run_inline_js();\n",
       "  } else {\n",
       "    load_libs(css_urls, js_urls, function() {\n",
       "      console.debug(\"Bokeh: BokehJS plotting callback run at\", now());\n",
       "      run_inline_js();\n",
       "    });\n",
       "  }\n",
       "}(window));<\/script>"
      ]
     },
     "metadata":{},
     "output_type":"display_data"
    },
    {
     "data":{
      "text\/html":[
       "\n",
       "  <div id=\"e31db06b-d251-4893-bc30-6c726c63e36a\" data-root-id=\"p64082\" style=\"display: contents;\"><\/div>\n"
      ]
     },
     "metadata":{},
     "output_type":"display_data"
    },
    {
     "data":{
      "text\/html":[
       "<script>(function(root) {\n",
       "  function embed_document(root) {\n",
       "  const docs_json = {\"69b407d9-f830-4c0c-b761-78f65c64464f\":{\"version\":\"3.1.1\",\"title\":\"Bokeh Application\",\"defs\":[],\"roots\":[{\"type\":\"object\",\"name\":\"Figure\",\"id\":\"p64082\",\"attributes\":{\"x_range\":{\"type\":\"object\",\"name\":\"DataRange1d\",\"id\":\"p64084\"},\"y_range\":{\"type\":\"object\",\"name\":\"DataRange1d\",\"id\":\"p64083\"},\"x_scale\":{\"type\":\"object\",\"name\":\"LinearScale\",\"id\":\"p64096\"},\"y_scale\":{\"type\":\"object\",\"name\":\"LinearScale\",\"id\":\"p64098\"},\"title\":{\"type\":\"object\",\"name\":\"Title\",\"id\":\"p64085\",\"attributes\":{\"text\":\"Vyvoj ceny akcii Google (Aplhabet Inc) 2024\"}},\"renderers\":[{\"type\":\"object\",\"name\":\"GlyphRenderer\",\"id\":\"p64167\",\"attributes\":{\"data_source\":{\"type\":\"object\",\"name\":\"ColumnDataSource\",\"id\":\"p64079\",\"attributes\":{\"selected\":{\"type\":\"object\",\"name\":\"Selection\",\"id\":\"p64081\",\"attributes\":{\"indices\":[],\"line_indices\":[]}},\"selection_policy\":{\"type\":\"object\",\"name\":\"UnionRenderers\",\"id\":\"p64080\"},\"data\":{\"type\":\"map\",\"entries\":[[\"index\",{\"type\":\"ndarray\",\"array\":{\"type\":\"bytes\",\"data\":\"AAAAAAEAAAACAAAAAwAAAAQAAAAFAAAA\"},\"shape\":[6],\"dtype\":\"int32\",\"order\":\"little\"}],[\"dni\",{\"type\":\"ndarray\",\"array\":{\"type\":\"bytes\",\"data\":\"AAAAhXfMeEIAAAACodp4QgAAAIxa4nhCAADA14zveEIAAIAJnwl5QgAAAGbgJ3lC\"},\"shape\":[6],\"dtype\":\"float64\",\"order\":\"little\"}],[\"cena\",{\"type\":\"ndarray\",\"array\":{\"type\":\"bytes\",\"data\":\"AAAAAADIYkCkcD0K1wtkQKRwPQrXw2NAXI\/C9SicZUAAAAAAAPhnQMP1KFyPimRA\"},\"shape\":[6],\"dtype\":\"float64\",\"order\":\"little\"}]]}}},\"view\":{\"type\":\"object\",\"name\":\"CDSView\",\"id\":\"p64168\",\"attributes\":{\"filter\":{\"type\":\"object\",\"name\":\"AllIndices\",\"id\":\"p64169\"}}},\"glyph\":{\"type\":\"object\",\"name\":\"Line\",\"id\":\"p64164\",\"attributes\":{\"x\":{\"type\":\"field\",\"field\":\"dni\"},\"y\":{\"type\":\"field\",\"field\":\"cena\"},\"line_color\":\"green\",\"line_width\":3}},\"nonselection_glyph\":{\"type\":\"object\",\"name\":\"Line\",\"id\":\"p64165\",\"attributes\":{\"x\":{\"type\":\"field\",\"field\":\"dni\"},\"y\":{\"type\":\"field\",\"field\":\"cena\"},\"line_color\":\"green\",\"line_alpha\":0.1,\"line_width\":3}},\"muted_glyph\":{\"type\":\"object\",\"name\":\"Line\",\"id\":\"p64166\",\"attributes\":{\"x\":{\"type\":\"field\",\"field\":\"dni\"},\"y\":{\"type\":\"field\",\"field\":\"cena\"},\"line_color\":\"green\",\"line_alpha\":0.2,\"line_width\":3}}}}],\"toolbar\":{\"type\":\"object\",\"name\":\"Toolbar\",\"id\":\"p64089\",\"attributes\":{\"tools\":[{\"type\":\"object\",\"name\":\"PanTool\",\"id\":\"p64150\"},{\"type\":\"object\",\"name\":\"BoxZoomTool\",\"id\":\"p64151\",\"attributes\":{\"overlay\":{\"type\":\"object\",\"name\":\"BoxAnnotation\",\"id\":\"p64152\",\"attributes\":{\"syncable\":false,\"level\":\"overlay\",\"visible\":false,\"left_units\":\"canvas\",\"right_units\":\"canvas\",\"bottom_units\":\"canvas\",\"top_units\":\"canvas\",\"line_color\":\"black\",\"line_alpha\":1.0,\"line_width\":2,\"line_dash\":[4,4],\"fill_color\":\"lightgrey\",\"fill_alpha\":0.5}}}},{\"type\":\"object\",\"name\":\"ResetTool\",\"id\":\"p64153\"}]}},\"left\":[{\"type\":\"object\",\"name\":\"LinearAxis\",\"id\":\"p64143\",\"attributes\":{\"ticker\":{\"type\":\"object\",\"name\":\"BasicTicker\",\"id\":\"p64145\",\"attributes\":{\"mantissas\":[1,2,5]}},\"formatter\":{\"type\":\"object\",\"name\":\"BasicTickFormatter\",\"id\":\"p64146\"},\"axis_label\":\"Cena akcii v USD\",\"major_label_policy\":{\"type\":\"object\",\"name\":\"AllLabels\",\"id\":\"p64144\"}}}],\"below\":[{\"type\":\"object\",\"name\":\"DatetimeAxis\",\"id\":\"p64100\",\"attributes\":{\"ticker\":{\"type\":\"object\",\"name\":\"DatetimeTicker\",\"id\":\"p64102\",\"attributes\":{\"num_minor_ticks\":5,\"tickers\":[{\"type\":\"object\",\"name\":\"AdaptiveTicker\",\"id\":\"p64103\",\"attributes\":{\"num_minor_ticks\":0,\"mantissas\":[1,2,5],\"max_interval\":500.0}},{\"type\":\"object\",\"name\":\"AdaptiveTicker\",\"id\":\"p64104\",\"attributes\":{\"num_minor_ticks\":0,\"base\":60,\"mantissas\":[1,2,5,10,15,20,30],\"min_interval\":1000.0,\"max_interval\":1800000.0}},{\"type\":\"object\",\"name\":\"AdaptiveTicker\",\"id\":\"p64105\",\"attributes\":{\"num_minor_ticks\":0,\"base\":24,\"mantissas\":[1,2,4,6,8,12],\"min_interval\":3600000.0,\"max_interval\":43200000.0}},{\"type\":\"object\",\"name\":\"DaysTicker\",\"id\":\"p64106\",\"attributes\":{\"days\":[1,2,3,4,5,6,7,8,9,10,11,12,13,14,15,16,17,18,19,20,21,22,23,24,25,26,27,28,29,30,31]}},{\"type\":\"object\",\"name\":\"DaysTicker\",\"id\":\"p64107\",\"attributes\":{\"days\":[1,4,7,10,13,16,19,22,25,28]}},{\"type\":\"object\",\"name\":\"DaysTicker\",\"id\":\"p64108\",\"attributes\":{\"days\":[1,8,15,22]}},{\"type\":\"object\",\"name\":\"DaysTicker\",\"id\":\"p64109\",\"attributes\":{\"days\":[1,15]}},{\"type\":\"object\",\"name\":\"MonthsTicker\",\"id\":\"p64110\",\"attributes\":{\"months\":[0,1,2,3,4,5,6,7,8,9,10,11]}},{\"type\":\"object\",\"name\":\"MonthsTicker\",\"id\":\"p64111\",\"attributes\":{\"months\":[0,2,4,6,8,10]}},{\"type\":\"object\",\"name\":\"MonthsTicker\",\"id\":\"p64112\",\"attributes\":{\"months\":[0,4,8]}},{\"type\":\"object\",\"name\":\"MonthsTicker\",\"id\":\"p64113\",\"attributes\":{\"months\":[0,6]}},{\"type\":\"object\",\"name\":\"YearsTicker\",\"id\":\"p64114\"}]}},\"formatter\":{\"type\":\"object\",\"name\":\"DatetimeTickFormatter\",\"id\":\"p64159\",\"attributes\":{\"days\":\"%d.%m.%Y\",\"months\":\"%b-%Y\"}},\"axis_label\":\"Datum\",\"major_label_policy\":{\"type\":\"object\",\"name\":\"AllLabels\",\"id\":\"p64101\"}}}],\"center\":[{\"type\":\"object\",\"name\":\"Grid\",\"id\":\"p64142\",\"attributes\":{\"axis\":{\"id\":\"p64100\"},\"grid_line_alpha\":0.5}},{\"type\":\"object\",\"name\":\"Grid\",\"id\":\"p64149\",\"attributes\":{\"dimension\":1,\"axis\":{\"id\":\"p64143\"},\"grid_line_alpha\":0.5}},{\"type\":\"object\",\"name\":\"Legend\",\"id\":\"p64170\",\"attributes\":{\"location\":\"top_left\",\"items\":[{\"type\":\"object\",\"name\":\"LegendItem\",\"id\":\"p64171\",\"attributes\":{\"label\":{\"type\":\"value\",\"value\":\"Cena akcii Google\"},\"renderers\":[{\"id\":\"p64167\"}]}}]}}]}}],\"callbacks\":{\"type\":\"map\"}}};\n",
       "  const render_items = [{\"docid\":\"69b407d9-f830-4c0c-b761-78f65c64464f\",\"roots\":{\"p64082\":\"e31db06b-d251-4893-bc30-6c726c63e36a\"},\"root_ids\":[\"p64082\"]}];\n",
       "  root.Bokeh.embed.embed_items_notebook(docs_json, render_items);\n",
       "  }\n",
       "  if (root.Bokeh !== undefined) {\n",
       "    embed_document(root);\n",
       "  } else {\n",
       "    let attempts = 0;\n",
       "    const timer = setInterval(function(root) {\n",
       "      if (root.Bokeh !== undefined) {\n",
       "        clearInterval(timer);\n",
       "        embed_document(root);\n",
       "      } else {\n",
       "        attempts++;\n",
       "        if (attempts > 100) {\n",
       "          clearInterval(timer);\n",
       "          console.log(\"Bokeh: ERROR: Unable to run BokehJS code because BokehJS library is missing\");\n",
       "        }\n",
       "      }\n",
       "    }, 10, root)\n",
       "  }\n",
       "})(window);<\/script><script><\/script>"
      ]
     },
     "metadata":{},
     "output_type":"display_data"
    }
   ],
   "metadata":{
    "datalore":{
     "node_id":"SmCWFXlrUy4Or1Jr0LSNHA",
     "type":"CODE",
     "hide_input_from_viewers":true,
     "hide_output_from_viewers":true
    }
   }
  },
  {
   "cell_type":"markdown",
   "source":[
    "# Mapy"
   ],
   "attachments":{},
   "metadata":{
    "datalore":{
     "node_id":"Mapy",
     "type":"MD",
     "hide_input_from_viewers":false,
     "hide_output_from_viewers":false,
     "sheet_delimiter":true
    }
   }
  },
  {
   "cell_type":"code",
   "source":[
    "from bokeh.plotting import figure, show\n",
    "from bokeh.io import output_notebook\n",
    "from bokeh.models import ColorBar, LinearColorMapper\n",
    "import numpy as np\n",
    "\n",
    "output_notebook()\n",
    "\n",
    "# Teploty 0-40 stupnov\n",
    "data = np.random.rand(10, 10) * 40\n",
    "\n",
    "# Farebne mapovanie so farbonou skalou Inferno256\n",
    "mapper = LinearColorMapper(\n",
    "    palette= \"Inferno256\",\n",
    "    low = data.min(),\n",
    "    high = data.max()\n",
    ")\n",
    "\n",
    "# Vytvorenie heatmap\n",
    "heatmap = figure(\n",
    "    title = \"Heatmap teplotne data\",\n",
    "    x_range = (0, 10),\n",
    "    y_range = (0, 10),\n",
    "    toolbar_location = None\n",
    ")\n",
    "\n",
    "heatmap.image(\n",
    "    image = [data],\n",
    "    x = 0,\n",
    "    y = 0,\n",
    "    dw = 10,\n",
    "    dh = 10,\n",
    "    color_mapper = mapper\n",
    ")\n",
    "\n",
    "color_bar = ColorBar(\n",
    "    color_mapper = mapper,\n",
    "    location = (0, 0),\n",
    "    title = \"Teplota v C\"\n",
    ") \n",
    "\n",
    "heatmap.add_layout(color_bar, \"right\")\n",
    "\n",
    "show(heatmap)"
   ],
   "execution_count":116,
   "outputs":[
    {
     "data":{
      "text\/html":[
       "<style>\n",
       "        .bk-notebook-logo {\n",
       "            display: block;\n",
       "            width: 20px;\n",
       "            height: 20px;\n",
       "            background-image: url(data:image\/png;base64,iVBORw0KGgoAAAANSUhEUgAAABQAAAAUCAYAAACNiR0NAAAABHNCSVQICAgIfAhkiAAAAAlwSFlzAAALEgAACxIB0t1+\/AAAABx0RVh0U29mdHdhcmUAQWRvYmUgRmlyZXdvcmtzIENTNui8sowAAAOkSURBVDiNjZRtaJVlGMd\/1\/08zzln5zjP1LWcU9N0NkN8m2CYjpgQYQXqSs0I84OLIC0hkEKoPtiH3gmKoiJDU7QpLgoLjLIQCpEsNJ1vqUOdO7ppbuec5+V+rj4ctwzd8IIbbi6u+8f1539dt3A78eXC7QizUF7gyV1fD1Yqg4JWz84yffhm0qkFqBogB9rM8tZdtwVsPUhWhGcFJngGeWrPzHm5oaMmkfEg1usvLFyc8jLRqDOMru7AyC8saQr7GG7f5fvDeH7Ej8CM66nIF+8yngt6HWaKh7k49Soy9nXurCi1o3qUbS3zWfrYeQDTB\/Qj6kX6Ybhw4B+bOYoLKCC9H3Nu\/leUTZ1JdRWkkn2ldcCamzrcf47KKXdAJllSlxAOkRgyHsGC\/zRday5Qld9DyoM4\/q\/rUoy\/CXh3jzOu3bHUVZeU+DEn8FInkPBFlu3+nW3Nw0mk6vCDiWg8CeJaxEwuHS3+z5RgY+YBR6V1Z1nxSOfoaPa4LASWxxdNp+VWTk7+4vzaou8v8PN+xo+KY2xsw6une2frhw05CTYOmQvsEhjhWjn0bmXPjpE1+kplmmkP3suftwTubK9Vq22qKmrBhpY4jvd5afdRA3wGjFAgcnTK2s4hY0\/GPNIb0nErGMCRxWOOX64Z8RAC4oCXdklmEvcL8o0BfkNK4lUg9HTl+oPlQxdNo3Mg4Nv175e\/1LDGzZen30MEjRUtmXSfiTVu1kK8W4txyV6BMKlbgk3lMwYCiusNy9fVfvvwMxv8Ynl6vxoByANLTWplvuj\/nF9m2+PDtt1eiHPBr1oIfhCChQMBw6Aw0UulqTKZdfVvfG7VcfIqLG9bcldL\/+pdWTLxLUy8Qq38heUIjh4XlzZxzQm19lLFlr8vdQ97rjZVOLf8nclzckbcD4wxXMidpX30sFd37Fv\/GtwwhzhxGVAprjbg0gCAEeIgwCZyTV2Z1REEW8O4py0wsjeloKoMr6iCY6dP92H6Vw\/oTyICIthibxjm\/DfN9lVz8IqtqKYLUXfoKVMVQVVJOElGjrnnUt9T9wbgp8AyYKaGlqingHZU\/uG2NTZSVqwHQTWkx9hxjkpWDaCg6Ckj5qebgBVbT3V3NNXMSiWSDdGV3hrtzla7J+duwPOToIg42ChPQOQjspnSlp1V+Gjdged7+8UN5CRAV7a5EdFNwCjEaBR27b3W890TE7g24NAP\/mMDXRWrGoFPQI9ls\/MWO2dWFAar\/xcOIImbbpA3zgAAAABJRU5ErkJggg==);\n",
       "        }\n",
       "    <\/style>\n",
       "    <div>\n",
       "        <a href=\"https:\/\/bokeh.org\" target=\"_blank\" class=\"bk-notebook-logo\"><\/a>\n",
       "        <span id=\"c258e319-3193-40f2-9c8b-157fc7bd55a8\">Loading BokehJS ...<\/span>\n",
       "    <\/div>\n"
      ]
     },
     "metadata":{},
     "output_type":"display_data"
    },
    {
     "data":{
      "text\/html":[
       "<script>(function(root) {\n",
       "  function now() {\n",
       "    return new Date();\n",
       "  }\n",
       "\n",
       "  const force = true;\n",
       "\n",
       "  if (typeof root._bokeh_onload_callbacks === \"undefined\" || force === true) {\n",
       "    root._bokeh_onload_callbacks = [];\n",
       "    root._bokeh_is_loading = undefined;\n",
       "  }\n",
       "\n",
       "const JS_MIME_TYPE = 'application\/javascript';\n",
       "  const HTML_MIME_TYPE = 'text\/html';\n",
       "  const EXEC_MIME_TYPE = 'application\/vnd.bokehjs_exec.v0+json';\n",
       "  const CLASS_NAME = 'output_bokeh rendered_html';\n",
       "\n",
       "  \/**\n",
       "   * Render data to the DOM node\n",
       "   *\/\n",
       "  function render(props, node) {\n",
       "    const script = document.createElement(\"script\");\n",
       "    node.appendChild(script);\n",
       "  }\n",
       "\n",
       "  \/**\n",
       "   * Handle when an output is cleared or removed\n",
       "   *\/\n",
       "  function handleClearOutput(event, handle) {\n",
       "    const cell = handle.cell;\n",
       "\n",
       "    const id = cell.output_area._bokeh_element_id;\n",
       "    const server_id = cell.output_area._bokeh_server_id;\n",
       "    \/\/ Clean up Bokeh references\n",
       "    if (id != null && id in Bokeh.index) {\n",
       "      Bokeh.index[id].model.document.clear();\n",
       "      delete Bokeh.index[id];\n",
       "    }\n",
       "\n",
       "    if (server_id !== undefined) {\n",
       "      \/\/ Clean up Bokeh references\n",
       "      const cmd_clean = \"from bokeh.io.state import curstate; print(curstate().uuid_to_server['\" + server_id + \"'].get_sessions()[0].document.roots[0]._id)\";\n",
       "      cell.notebook.kernel.execute(cmd_clean, {\n",
       "        iopub: {\n",
       "          output: function(msg) {\n",
       "            const id = msg.content.text.trim();\n",
       "            if (id in Bokeh.index) {\n",
       "              Bokeh.index[id].model.document.clear();\n",
       "              delete Bokeh.index[id];\n",
       "            }\n",
       "          }\n",
       "        }\n",
       "      });\n",
       "      \/\/ Destroy server and session\n",
       "      const cmd_destroy = \"import bokeh.io.notebook as ion; ion.destroy_server('\" + server_id + \"')\";\n",
       "      cell.notebook.kernel.execute(cmd_destroy);\n",
       "    }\n",
       "  }\n",
       "\n",
       "  \/**\n",
       "   * Handle when a new output is added\n",
       "   *\/\n",
       "  function handleAddOutput(event, handle) {\n",
       "    const output_area = handle.output_area;\n",
       "    const output = handle.output;\n",
       "\n",
       "    \/\/ limit handleAddOutput to display_data with EXEC_MIME_TYPE content only\n",
       "    if ((output.output_type != \"display_data\") || (!Object.prototype.hasOwnProperty.call(output.data, EXEC_MIME_TYPE))) {\n",
       "      return\n",
       "    }\n",
       "\n",
       "    const toinsert = output_area.element.find(\".\" + CLASS_NAME.split(' ')[0]);\n",
       "\n",
       "    if (output.metadata[EXEC_MIME_TYPE][\"id\"] !== undefined) {\n",
       "      toinsert[toinsert.length - 1].firstChild.textContent = output.data[JS_MIME_TYPE];\n",
       "      \/\/ store reference to embed id on output_area\n",
       "      output_area._bokeh_element_id = output.metadata[EXEC_MIME_TYPE][\"id\"];\n",
       "    }\n",
       "    if (output.metadata[EXEC_MIME_TYPE][\"server_id\"] !== undefined) {\n",
       "      const bk_div = document.createElement(\"div\");\n",
       "      bk_div.innerHTML = output.data[HTML_MIME_TYPE];\n",
       "      const script_attrs = bk_div.children[0].attributes;\n",
       "      for (let i = 0; i < script_attrs.length; i++) {\n",
       "        toinsert[toinsert.length - 1].firstChild.setAttribute(script_attrs[i].name, script_attrs[i].value);\n",
       "        toinsert[toinsert.length - 1].firstChild.textContent = bk_div.children[0].textContent\n",
       "      }\n",
       "      \/\/ store reference to server id on output_area\n",
       "      output_area._bokeh_server_id = output.metadata[EXEC_MIME_TYPE][\"server_id\"];\n",
       "    }\n",
       "  }\n",
       "\n",
       "  function register_renderer(events, OutputArea) {\n",
       "\n",
       "    function append_mime(data, metadata, element) {\n",
       "      \/\/ create a DOM node to render to\n",
       "      const toinsert = this.create_output_subarea(\n",
       "        metadata,\n",
       "        CLASS_NAME,\n",
       "        EXEC_MIME_TYPE\n",
       "      );\n",
       "      this.keyboard_manager.register_events(toinsert);\n",
       "      \/\/ Render to node\n",
       "      const props = {data: data, metadata: metadata[EXEC_MIME_TYPE]};\n",
       "      render(props, toinsert[toinsert.length - 1]);\n",
       "      element.append(toinsert);\n",
       "      return toinsert\n",
       "    }\n",
       "\n",
       "    \/* Handle when an output is cleared or removed *\/\n",
       "    events.on('clear_output.CodeCell', handleClearOutput);\n",
       "    events.on('delete.Cell', handleClearOutput);\n",
       "\n",
       "    \/* Handle when a new output is added *\/\n",
       "    events.on('output_added.OutputArea', handleAddOutput);\n",
       "\n",
       "    \/**\n",
       "     * Register the mime type and append_mime function with output_area\n",
       "     *\/\n",
       "    OutputArea.prototype.register_mime_type(EXEC_MIME_TYPE, append_mime, {\n",
       "      \/* Is output safe? *\/\n",
       "      safe: true,\n",
       "      \/* Index of renderer in `output_area.display_order` *\/\n",
       "      index: 0\n",
       "    });\n",
       "  }\n",
       "\n",
       "  \/\/ register the mime type if in Jupyter Notebook environment and previously unregistered\n",
       "  if (root.Jupyter !== undefined) {\n",
       "    const events = require('base\/js\/events');\n",
       "    const OutputArea = require('notebook\/js\/outputarea').OutputArea;\n",
       "\n",
       "    if (OutputArea.prototype.mime_types().indexOf(EXEC_MIME_TYPE) == -1) {\n",
       "      register_renderer(events, OutputArea);\n",
       "    }\n",
       "  }\n",
       "  if (typeof (root._bokeh_timeout) === \"undefined\" || force === true) {\n",
       "    root._bokeh_timeout = Date.now() + 5000;\n",
       "    root._bokeh_failed_load = false;\n",
       "  }\n",
       "\n",
       "  const NB_LOAD_WARNING = {'data': {'text\/html':\n",
       "     \"<div style='background-color: #fdd'>\\n\"+\n",
       "     \"<p>\\n\"+\n",
       "     \"BokehJS does not appear to have successfully loaded. If loading BokehJS from CDN, this \\n\"+\n",
       "     \"may be due to a slow or bad network connection. Possible fixes:\\n\"+\n",
       "     \"<\/p>\\n\"+\n",
       "     \"<ul>\\n\"+\n",
       "     \"<li>re-rerun `output_notebook()` to attempt to load from CDN again, or<\/li>\\n\"+\n",
       "     \"<li>use INLINE resources instead, as so:<\/li>\\n\"+\n",
       "     \"<\/ul>\\n\"+\n",
       "     \"<code>\\n\"+\n",
       "     \"from bokeh.resources import INLINE\\n\"+\n",
       "     \"output_notebook(resources=INLINE)\\n\"+\n",
       "     \"<\/code>\\n\"+\n",
       "     \"<\/div>\"}};\n",
       "\n",
       "  function display_loaded() {\n",
       "    const el = document.getElementById(\"c258e319-3193-40f2-9c8b-157fc7bd55a8\");\n",
       "    if (el != null) {\n",
       "      el.textContent = \"BokehJS is loading...\";\n",
       "    }\n",
       "    if (root.Bokeh !== undefined) {\n",
       "      if (el != null) {\n",
       "        el.textContent = \"BokehJS \" + root.Bokeh.version + \" successfully loaded.\";\n",
       "      }\n",
       "    } else if (Date.now() < root._bokeh_timeout) {\n",
       "      setTimeout(display_loaded, 100)\n",
       "    }\n",
       "  }\n",
       "\n",
       "  function run_callbacks() {\n",
       "    try {\n",
       "      root._bokeh_onload_callbacks.forEach(function(callback) {\n",
       "        if (callback != null)\n",
       "          callback();\n",
       "      });\n",
       "    } finally {\n",
       "      delete root._bokeh_onload_callbacks\n",
       "    }\n",
       "    console.debug(\"Bokeh: all callbacks have finished\");\n",
       "  }\n",
       "\n",
       "  function load_libs(css_urls, js_urls, callback) {\n",
       "    if (css_urls == null) css_urls = [];\n",
       "    if (js_urls == null) js_urls = [];\n",
       "\n",
       "    root._bokeh_onload_callbacks.push(callback);\n",
       "    if (root._bokeh_is_loading > 0) {\n",
       "      console.debug(\"Bokeh: BokehJS is being loaded, scheduling callback at\", now());\n",
       "      return null;\n",
       "    }\n",
       "    if (js_urls == null || js_urls.length === 0) {\n",
       "      run_callbacks();\n",
       "      return null;\n",
       "    }\n",
       "    console.debug(\"Bokeh: BokehJS not loaded, scheduling load and callback at\", now());\n",
       "    root._bokeh_is_loading = css_urls.length + js_urls.length;\n",
       "\n",
       "    function on_load() {\n",
       "      root._bokeh_is_loading--;\n",
       "      if (root._bokeh_is_loading === 0) {\n",
       "        console.debug(\"Bokeh: all BokehJS libraries\/stylesheets loaded\");\n",
       "        run_callbacks()\n",
       "      }\n",
       "    }\n",
       "\n",
       "    function on_error(url) {\n",
       "      console.error(\"failed to load \" + url);\n",
       "    }\n",
       "\n",
       "    for (let i = 0; i < css_urls.length; i++) {\n",
       "      const url = css_urls[i];\n",
       "      const element = document.createElement(\"link\");\n",
       "      element.onload = on_load;\n",
       "      element.onerror = on_error.bind(null, url);\n",
       "      element.rel = \"stylesheet\";\n",
       "      element.type = \"text\/css\";\n",
       "      element.href = url;\n",
       "      console.debug(\"Bokeh: injecting link tag for BokehJS stylesheet: \", url);\n",
       "      document.body.appendChild(element);\n",
       "    }\n",
       "\n",
       "    for (let i = 0; i < js_urls.length; i++) {\n",
       "      const url = js_urls[i];\n",
       "      const element = document.createElement('script');\n",
       "      element.onload = on_load;\n",
       "      element.onerror = on_error.bind(null, url);\n",
       "      element.async = false;\n",
       "      element.src = url;\n",
       "      console.debug(\"Bokeh: injecting script tag for BokehJS library: \", url);\n",
       "      document.head.appendChild(element);\n",
       "    }\n",
       "  };\n",
       "\n",
       "  function inject_raw_css(css) {\n",
       "    const element = document.createElement(\"style\");\n",
       "    element.appendChild(document.createTextNode(css));\n",
       "    document.body.appendChild(element);\n",
       "  }\n",
       "\n",
       "  const js_urls = [\"https:\/\/cdn.bokeh.org\/bokeh\/release\/bokeh-3.1.1.min.js\", \"https:\/\/cdn.bokeh.org\/bokeh\/release\/bokeh-gl-3.1.1.min.js\", \"https:\/\/cdn.bokeh.org\/bokeh\/release\/bokeh-widgets-3.1.1.min.js\", \"https:\/\/cdn.bokeh.org\/bokeh\/release\/bokeh-tables-3.1.1.min.js\", \"https:\/\/cdn.bokeh.org\/bokeh\/release\/bokeh-mathjax-3.1.1.min.js\"];\n",
       "  const css_urls = [];\n",
       "\n",
       "  const inline_js = [    function(Bokeh) {\n",
       "      Bokeh.set_log_level(\"info\");\n",
       "    },\n",
       "function(Bokeh) {\n",
       "    }\n",
       "  ];\n",
       "\n",
       "  function run_inline_js() {\n",
       "    if (root.Bokeh !== undefined || force === true) {\n",
       "          for (let i = 0; i < inline_js.length; i++) {\n",
       "      inline_js[i].call(root, root.Bokeh);\n",
       "    }\n",
       "if (force === true) {\n",
       "        display_loaded();\n",
       "      }} else if (Date.now() < root._bokeh_timeout) {\n",
       "      setTimeout(run_inline_js, 100);\n",
       "    } else if (!root._bokeh_failed_load) {\n",
       "      console.log(\"Bokeh: BokehJS failed to load within specified timeout.\");\n",
       "      root._bokeh_failed_load = true;\n",
       "    } else if (force !== true) {\n",
       "      const cell = $(document.getElementById(\"c258e319-3193-40f2-9c8b-157fc7bd55a8\")).parents('.cell').data().cell;\n",
       "      cell.output_area.append_execute_result(NB_LOAD_WARNING)\n",
       "    }\n",
       "  }\n",
       "\n",
       "  if (root._bokeh_is_loading === 0) {\n",
       "    console.debug(\"Bokeh: BokehJS loaded, going straight to plotting\");\n",
       "    run_inline_js();\n",
       "  } else {\n",
       "    load_libs(css_urls, js_urls, function() {\n",
       "      console.debug(\"Bokeh: BokehJS plotting callback run at\", now());\n",
       "      run_inline_js();\n",
       "    });\n",
       "  }\n",
       "}(window));<\/script><script>(function(root) {\n",
       "  function now() {\n",
       "    return new Date();\n",
       "  }\n",
       "\n",
       "  const force = true;\n",
       "\n",
       "  if (typeof root._bokeh_onload_callbacks === \"undefined\" || force === true) {\n",
       "    root._bokeh_onload_callbacks = [];\n",
       "    root._bokeh_is_loading = undefined;\n",
       "  }\n",
       "\n",
       "\n",
       "  if (typeof (root._bokeh_timeout) === \"undefined\" || force === true) {\n",
       "    root._bokeh_timeout = Date.now() + 5000;\n",
       "    root._bokeh_failed_load = false;\n",
       "  }\n",
       "\n",
       "  const NB_LOAD_WARNING = {'data': {'text\/html':\n",
       "     \"<div style='background-color: #fdd'>\\n\"+\n",
       "     \"<p>\\n\"+\n",
       "     \"BokehJS does not appear to have successfully loaded. If loading BokehJS from CDN, this \\n\"+\n",
       "     \"may be due to a slow or bad network connection. Possible fixes:\\n\"+\n",
       "     \"<\/p>\\n\"+\n",
       "     \"<ul>\\n\"+\n",
       "     \"<li>re-rerun `output_notebook()` to attempt to load from CDN again, or<\/li>\\n\"+\n",
       "     \"<li>use INLINE resources instead, as so:<\/li>\\n\"+\n",
       "     \"<\/ul>\\n\"+\n",
       "     \"<code>\\n\"+\n",
       "     \"from bokeh.resources import INLINE\\n\"+\n",
       "     \"output_notebook(resources=INLINE)\\n\"+\n",
       "     \"<\/code>\\n\"+\n",
       "     \"<\/div>\"}};\n",
       "\n",
       "  function display_loaded() {\n",
       "    const el = document.getElementById(\"c258e319-3193-40f2-9c8b-157fc7bd55a8\");\n",
       "    if (el != null) {\n",
       "      el.textContent = \"BokehJS is loading...\";\n",
       "    }\n",
       "    if (root.Bokeh !== undefined) {\n",
       "      if (el != null) {\n",
       "        el.textContent = \"BokehJS \" + root.Bokeh.version + \" successfully loaded.\";\n",
       "      }\n",
       "    } else if (Date.now() < root._bokeh_timeout) {\n",
       "      setTimeout(display_loaded, 100)\n",
       "    }\n",
       "  }\n",
       "\n",
       "  function run_callbacks() {\n",
       "    try {\n",
       "      root._bokeh_onload_callbacks.forEach(function(callback) {\n",
       "        if (callback != null)\n",
       "          callback();\n",
       "      });\n",
       "    } finally {\n",
       "      delete root._bokeh_onload_callbacks\n",
       "    }\n",
       "    console.debug(\"Bokeh: all callbacks have finished\");\n",
       "  }\n",
       "\n",
       "  function load_libs(css_urls, js_urls, callback) {\n",
       "    if (css_urls == null) css_urls = [];\n",
       "    if (js_urls == null) js_urls = [];\n",
       "\n",
       "    root._bokeh_onload_callbacks.push(callback);\n",
       "    if (root._bokeh_is_loading > 0) {\n",
       "      console.debug(\"Bokeh: BokehJS is being loaded, scheduling callback at\", now());\n",
       "      return null;\n",
       "    }\n",
       "    if (js_urls == null || js_urls.length === 0) {\n",
       "      run_callbacks();\n",
       "      return null;\n",
       "    }\n",
       "    console.debug(\"Bokeh: BokehJS not loaded, scheduling load and callback at\", now());\n",
       "    root._bokeh_is_loading = css_urls.length + js_urls.length;\n",
       "\n",
       "    function on_load() {\n",
       "      root._bokeh_is_loading--;\n",
       "      if (root._bokeh_is_loading === 0) {\n",
       "        console.debug(\"Bokeh: all BokehJS libraries\/stylesheets loaded\");\n",
       "        run_callbacks()\n",
       "      }\n",
       "    }\n",
       "\n",
       "    function on_error(url) {\n",
       "      console.error(\"failed to load \" + url);\n",
       "    }\n",
       "\n",
       "    for (let i = 0; i < css_urls.length; i++) {\n",
       "      const url = css_urls[i];\n",
       "      const element = document.createElement(\"link\");\n",
       "      element.onload = on_load;\n",
       "      element.onerror = on_error.bind(null, url);\n",
       "      element.rel = \"stylesheet\";\n",
       "      element.type = \"text\/css\";\n",
       "      element.href = url;\n",
       "      console.debug(\"Bokeh: injecting link tag for BokehJS stylesheet: \", url);\n",
       "      document.body.appendChild(element);\n",
       "    }\n",
       "\n",
       "    for (let i = 0; i < js_urls.length; i++) {\n",
       "      const url = js_urls[i];\n",
       "      const element = document.createElement('script');\n",
       "      element.onload = on_load;\n",
       "      element.onerror = on_error.bind(null, url);\n",
       "      element.async = false;\n",
       "      element.src = url;\n",
       "      console.debug(\"Bokeh: injecting script tag for BokehJS library: \", url);\n",
       "      document.head.appendChild(element);\n",
       "    }\n",
       "  };\n",
       "\n",
       "  function inject_raw_css(css) {\n",
       "    const element = document.createElement(\"style\");\n",
       "    element.appendChild(document.createTextNode(css));\n",
       "    document.body.appendChild(element);\n",
       "  }\n",
       "\n",
       "  const js_urls = [\"https:\/\/cdn.bokeh.org\/bokeh\/release\/bokeh-3.1.1.min.js\", \"https:\/\/cdn.bokeh.org\/bokeh\/release\/bokeh-gl-3.1.1.min.js\", \"https:\/\/cdn.bokeh.org\/bokeh\/release\/bokeh-widgets-3.1.1.min.js\", \"https:\/\/cdn.bokeh.org\/bokeh\/release\/bokeh-tables-3.1.1.min.js\", \"https:\/\/cdn.bokeh.org\/bokeh\/release\/bokeh-mathjax-3.1.1.min.js\"];\n",
       "  const css_urls = [];\n",
       "\n",
       "  const inline_js = [    function(Bokeh) {\n",
       "      Bokeh.set_log_level(\"info\");\n",
       "    },\n",
       "function(Bokeh) {\n",
       "    }\n",
       "  ];\n",
       "\n",
       "  function run_inline_js() {\n",
       "    if (root.Bokeh !== undefined || force === true) {\n",
       "          for (let i = 0; i < inline_js.length; i++) {\n",
       "      inline_js[i].call(root, root.Bokeh);\n",
       "    }\n",
       "if (force === true) {\n",
       "        display_loaded();\n",
       "      }} else if (Date.now() < root._bokeh_timeout) {\n",
       "      setTimeout(run_inline_js, 100);\n",
       "    } else if (!root._bokeh_failed_load) {\n",
       "      console.log(\"Bokeh: BokehJS failed to load within specified timeout.\");\n",
       "      root._bokeh_failed_load = true;\n",
       "    } else if (force !== true) {\n",
       "      const cell = $(document.getElementById(\"c258e319-3193-40f2-9c8b-157fc7bd55a8\")).parents('.cell').data().cell;\n",
       "      cell.output_area.append_execute_result(NB_LOAD_WARNING)\n",
       "    }\n",
       "  }\n",
       "\n",
       "  if (root._bokeh_is_loading === 0) {\n",
       "    console.debug(\"Bokeh: BokehJS loaded, going straight to plotting\");\n",
       "    run_inline_js();\n",
       "  } else {\n",
       "    load_libs(css_urls, js_urls, function() {\n",
       "      console.debug(\"Bokeh: BokehJS plotting callback run at\", now());\n",
       "      run_inline_js();\n",
       "    });\n",
       "  }\n",
       "}(window));<\/script>"
      ]
     },
     "metadata":{},
     "output_type":"display_data"
    },
    {
     "data":{
      "text\/html":[
       "\n",
       "  <div id=\"b76d33ed-d944-4929-b5a0-093719e94c26\" data-root-id=\"p79461\" style=\"display: contents;\"><\/div>\n"
      ]
     },
     "metadata":{},
     "output_type":"display_data"
    },
    {
     "data":{
      "text\/html":[
       "<script>(function(root) {\n",
       "  function embed_document(root) {\n",
       "  const docs_json = {\"bfd5988b-d1df-4bf4-86ee-900e5cee80cc\":{\"version\":\"3.1.1\",\"title\":\"Bokeh Application\",\"defs\":[],\"roots\":[{\"type\":\"object\",\"name\":\"Figure\",\"id\":\"p79461\",\"attributes\":{\"x_range\":{\"type\":\"object\",\"name\":\"Range1d\",\"id\":\"p79471\",\"attributes\":{\"end\":10}},\"y_range\":{\"type\":\"object\",\"name\":\"Range1d\",\"id\":\"p79473\",\"attributes\":{\"end\":10}},\"x_scale\":{\"type\":\"object\",\"name\":\"LinearScale\",\"id\":\"p79475\"},\"y_scale\":{\"type\":\"object\",\"name\":\"LinearScale\",\"id\":\"p79477\"},\"title\":{\"type\":\"object\",\"name\":\"Title\",\"id\":\"p79464\",\"attributes\":{\"text\":\"Heatmap teplotne data\"}},\"renderers\":[{\"type\":\"object\",\"name\":\"GlyphRenderer\",\"id\":\"p79517\",\"attributes\":{\"data_source\":{\"type\":\"object\",\"name\":\"ColumnDataSource\",\"id\":\"p79508\",\"attributes\":{\"selected\":{\"type\":\"object\",\"name\":\"Selection\",\"id\":\"p79510\",\"attributes\":{\"indices\":[],\"line_indices\":[]}},\"selection_policy\":{\"type\":\"object\",\"name\":\"UnionRenderers\",\"id\":\"p79509\"},\"data\":{\"type\":\"map\",\"entries\":[[\"image\",[{\"type\":\"ndarray\",\"array\":{\"type\":\"bytes\",\"data\":\"\/GM\/XcNXH0B+6ucOGMUgQPtVzj5niTBA46Nd+kD\/F0Ba4to6KA8\/QIHKlmMR+TxACf6aTMH4FUCsy8fX8kQlQPyFdw6GWzdA\/KUTsVNpKkA3vnb5VJ4wQKksGNylOT5Amxx\/3HlGE0DTuFD60TUiQOC463qq5zFAME2p7NVVLkDAm91zCYoyQAyw6gh9pUJA97XvAiU3OEB9jB192ZYoQL663VhqeCtA4K6TOrJeQECno5YyLYw4QBwpBAKNaxtAA55XMCCAN0DHhmBUpv46QAIORLri1QVAGNLTFEF\/Q0BoTVecvdA\/QCO37ea0wTJANAXlg06Y8j+GD+RxrFtCQF\/EaNGlBTBAoEqDnwQEPEDoZiRKyJIzQAdcN3VV4zJAnBlw2jJBQ0D1zJfIjEA+QOHmmVjNB0BADlz8p6lSOkCi+LicaERDQDBs\/A8\/5zVAtEjuRjzC9T+8KYhbT1IxQLe9IwtyujFAbiik9njYQUDBLPd8\/EofQCg8JG6anzxA3CzWmgofFkCuFTQ4PX1BQMA3m63r5kBA5hj6v2ZELkDgS13EqAdAQL5qzYa+wjRAhBpS4iTQMkCedDgf7b4LQBuBn7P68yJAW1De4L3kH0BVtleLfg5AQD4Yyi+z6C1AjE60IXV2HUDd7\/+Z0rEeQDrRnpE\/CzZALBvm6JVeK0CpRRKRqKY\/QJwnAjP0YzBAId0iqhyrPEDJ5DnAg2c4QLlpaJ4CszdArMIoObibNkCmMXQ\/nOMCQMzYMD8XAgNABl7VpF2LQEB+T4XkT5RDQOthaYI6FjdAlYZn54oXMEDMg5zLyao6QOgmn78uMjpAKi2x8apaQUDvu1TRFFE+QBKSDWmjuEFAqOfQzG6fDkD4c9bUN34uQPXDO+92yC1AO5zjWxQEM0DzSYcwgAU8QBj+QDtovD5Ad9HZkQG9GUAS5JZaW65AQLER7S3kDSxAWlv7J4cQIkBoRaNfeRk9QCjMOM6oVwNAQTVM+\/4LLkA89wiDmN4uQJe94Ezjh0JAZB28K3FpEUAD3tUf\/JMhQDjeKXjESDpAB2rXukB5NEA=\"},\"shape\":[10,10],\"dtype\":\"float64\",\"order\":\"little\"}]]]}}},\"view\":{\"type\":\"object\",\"name\":\"CDSView\",\"id\":\"p79518\",\"attributes\":{\"filter\":{\"type\":\"object\",\"name\":\"AllIndices\",\"id\":\"p79519\"}}},\"glyph\":{\"type\":\"object\",\"name\":\"Image\",\"id\":\"p79511\",\"attributes\":{\"x\":{\"type\":\"value\",\"value\":0},\"y\":{\"type\":\"value\",\"value\":0},\"dw\":{\"type\":\"value\",\"value\":10},\"dh\":{\"type\":\"value\",\"value\":10},\"image\":{\"type\":\"field\",\"field\":\"image\"},\"color_mapper\":{\"type\":\"object\",\"name\":\"LinearColorMapper\",\"id\":\"p79460\",\"attributes\":{\"palette\":[\"#000003\",\"#000004\",\"#000006\",\"#010007\",\"#010109\",\"#01010B\",\"#02010E\",\"#020210\",\"#030212\",\"#040314\",\"#040316\",\"#050418\",\"#06041B\",\"#07051D\",\"#08061F\",\"#090621\",\"#0A0723\",\"#0B0726\",\"#0D0828\",\"#0E082A\",\"#0F092D\",\"#10092F\",\"#120A32\",\"#130A34\",\"#140B36\",\"#160B39\",\"#170B3B\",\"#190B3E\",\"#1A0B40\",\"#1C0C43\",\"#1D0C45\",\"#1F0C47\",\"#200C4A\",\"#220B4C\",\"#240B4E\",\"#260B50\",\"#270B52\",\"#290B54\",\"#2B0A56\",\"#2D0A58\",\"#2E0A5A\",\"#300A5C\",\"#32095D\",\"#34095F\",\"#350960\",\"#370961\",\"#390962\",\"#3B0964\",\"#3C0965\",\"#3E0966\",\"#400966\",\"#410967\",\"#430A68\",\"#450A69\",\"#460A69\",\"#480B6A\",\"#4A0B6A\",\"#4B0C6B\",\"#4D0C6B\",\"#4F0D6C\",\"#500D6C\",\"#520E6C\",\"#530E6D\",\"#550F6D\",\"#570F6D\",\"#58106D\",\"#5A116D\",\"#5B116E\",\"#5D126E\",\"#5F126E\",\"#60136E\",\"#62146E\",\"#63146E\",\"#65156E\",\"#66156E\",\"#68166E\",\"#6A176E\",\"#6B176E\",\"#6D186E\",\"#6E186E\",\"#70196E\",\"#72196D\",\"#731A6D\",\"#751B6D\",\"#761B6D\",\"#781C6D\",\"#7A1C6D\",\"#7B1D6C\",\"#7D1D6C\",\"#7E1E6C\",\"#801F6B\",\"#811F6B\",\"#83206B\",\"#85206A\",\"#86216A\",\"#88216A\",\"#892269\",\"#8B2269\",\"#8D2369\",\"#8E2468\",\"#902468\",\"#912567\",\"#932567\",\"#952666\",\"#962666\",\"#982765\",\"#992864\",\"#9B2864\",\"#9C2963\",\"#9E2963\",\"#A02A62\",\"#A12B61\",\"#A32B61\",\"#A42C60\",\"#A62C5F\",\"#A72D5F\",\"#A92E5E\",\"#AB2E5D\",\"#AC2F5C\",\"#AE305B\",\"#AF315B\",\"#B1315A\",\"#B23259\",\"#B43358\",\"#B53357\",\"#B73456\",\"#B83556\",\"#BA3655\",\"#BB3754\",\"#BD3753\",\"#BE3852\",\"#BF3951\",\"#C13A50\",\"#C23B4F\",\"#C43C4E\",\"#C53D4D\",\"#C73E4C\",\"#C83E4B\",\"#C93F4A\",\"#CB4049\",\"#CC4148\",\"#CD4247\",\"#CF4446\",\"#D04544\",\"#D14643\",\"#D24742\",\"#D44841\",\"#D54940\",\"#D64A3F\",\"#D74B3E\",\"#D94D3D\",\"#DA4E3B\",\"#DB4F3A\",\"#DC5039\",\"#DD5238\",\"#DE5337\",\"#DF5436\",\"#E05634\",\"#E25733\",\"#E35832\",\"#E45A31\",\"#E55B30\",\"#E65C2E\",\"#E65E2D\",\"#E75F2C\",\"#E8612B\",\"#E9622A\",\"#EA6428\",\"#EB6527\",\"#EC6726\",\"#ED6825\",\"#ED6A23\",\"#EE6C22\",\"#EF6D21\",\"#F06F1F\",\"#F0701E\",\"#F1721D\",\"#F2741C\",\"#F2751A\",\"#F37719\",\"#F37918\",\"#F47A16\",\"#F57C15\",\"#F57E14\",\"#F68012\",\"#F68111\",\"#F78310\",\"#F7850E\",\"#F8870D\",\"#F8880C\",\"#F88A0B\",\"#F98C09\",\"#F98E08\",\"#F99008\",\"#FA9107\",\"#FA9306\",\"#FA9506\",\"#FA9706\",\"#FB9906\",\"#FB9B06\",\"#FB9D06\",\"#FB9E07\",\"#FBA007\",\"#FBA208\",\"#FBA40A\",\"#FBA60B\",\"#FBA80D\",\"#FBAA0E\",\"#FBAC10\",\"#FBAE12\",\"#FBB014\",\"#FBB116\",\"#FBB318\",\"#FBB51A\",\"#FBB71C\",\"#FBB91E\",\"#FABB21\",\"#FABD23\",\"#FABF25\",\"#FAC128\",\"#F9C32A\",\"#F9C52C\",\"#F9C72F\",\"#F8C931\",\"#F8CB34\",\"#F8CD37\",\"#F7CF3A\",\"#F7D13C\",\"#F6D33F\",\"#F6D542\",\"#F5D745\",\"#F5D948\",\"#F4DB4B\",\"#F4DC4F\",\"#F3DE52\",\"#F3E056\",\"#F3E259\",\"#F2E45D\",\"#F2E660\",\"#F1E864\",\"#F1E968\",\"#F1EB6C\",\"#F1ED70\",\"#F1EE74\",\"#F1F079\",\"#F1F27D\",\"#F2F381\",\"#F2F485\",\"#F3F689\",\"#F4F78D\",\"#F5F891\",\"#F6FA95\",\"#F7FB99\",\"#F9FC9D\",\"#FAFDA0\",\"#FCFEA4\"],\"low\":1.1621842529423931,\"high\":39.15868813046744}}}},\"nonselection_glyph\":{\"type\":\"object\",\"name\":\"Image\",\"id\":\"p79513\",\"attributes\":{\"x\":{\"type\":\"value\",\"value\":0},\"y\":{\"type\":\"value\",\"value\":0},\"dw\":{\"type\":\"value\",\"value\":10},\"dh\":{\"type\":\"value\",\"value\":10},\"global_alpha\":{\"type\":\"value\",\"value\":0.1},\"image\":{\"type\":\"field\",\"field\":\"image\"},\"color_mapper\":{\"id\":\"p79460\"}}},\"muted_glyph\":{\"type\":\"object\",\"name\":\"Image\",\"id\":\"p79515\",\"attributes\":{\"x\":{\"type\":\"value\",\"value\":0},\"y\":{\"type\":\"value\",\"value\":0},\"dw\":{\"type\":\"value\",\"value\":10},\"dh\":{\"type\":\"value\",\"value\":10},\"global_alpha\":{\"type\":\"value\",\"value\":0.2},\"image\":{\"type\":\"field\",\"field\":\"image\"},\"color_mapper\":{\"id\":\"p79460\"}}}}}],\"toolbar\":{\"type\":\"object\",\"name\":\"Toolbar\",\"id\":\"p79468\",\"attributes\":{\"tools\":[{\"type\":\"object\",\"name\":\"PanTool\",\"id\":\"p79493\"},{\"type\":\"object\",\"name\":\"WheelZoomTool\",\"id\":\"p79494\"},{\"type\":\"object\",\"name\":\"BoxZoomTool\",\"id\":\"p79495\",\"attributes\":{\"overlay\":{\"type\":\"object\",\"name\":\"BoxAnnotation\",\"id\":\"p79496\",\"attributes\":{\"syncable\":false,\"level\":\"overlay\",\"visible\":false,\"left_units\":\"canvas\",\"right_units\":\"canvas\",\"bottom_units\":\"canvas\",\"top_units\":\"canvas\",\"line_color\":\"black\",\"line_alpha\":1.0,\"line_width\":2,\"line_dash\":[4,4],\"fill_color\":\"lightgrey\",\"fill_alpha\":0.5}}}},{\"type\":\"object\",\"name\":\"SaveTool\",\"id\":\"p79497\"},{\"type\":\"object\",\"name\":\"ResetTool\",\"id\":\"p79498\"},{\"type\":\"object\",\"name\":\"HelpTool\",\"id\":\"p79499\"}]}},\"toolbar_location\":null,\"left\":[{\"type\":\"object\",\"name\":\"LinearAxis\",\"id\":\"p79486\",\"attributes\":{\"ticker\":{\"type\":\"object\",\"name\":\"BasicTicker\",\"id\":\"p79488\",\"attributes\":{\"mantissas\":[1,2,5]}},\"formatter\":{\"type\":\"object\",\"name\":\"BasicTickFormatter\",\"id\":\"p79489\"},\"major_label_policy\":{\"type\":\"object\",\"name\":\"AllLabels\",\"id\":\"p79487\"}}}],\"right\":[{\"type\":\"object\",\"name\":\"ColorBar\",\"id\":\"p79520\",\"attributes\":{\"location\":[0,0],\"title\":\"Teplota v C\",\"major_label_policy\":{\"type\":\"object\",\"name\":\"NoOverlap\",\"id\":\"p79521\"},\"color_mapper\":{\"id\":\"p79460\"}}}],\"below\":[{\"type\":\"object\",\"name\":\"LinearAxis\",\"id\":\"p79479\",\"attributes\":{\"ticker\":{\"type\":\"object\",\"name\":\"BasicTicker\",\"id\":\"p79481\",\"attributes\":{\"mantissas\":[1,2,5]}},\"formatter\":{\"type\":\"object\",\"name\":\"BasicTickFormatter\",\"id\":\"p79482\"},\"major_label_policy\":{\"type\":\"object\",\"name\":\"AllLabels\",\"id\":\"p79480\"}}}],\"center\":[{\"type\":\"object\",\"name\":\"Grid\",\"id\":\"p79485\",\"attributes\":{\"axis\":{\"id\":\"p79479\"}}},{\"type\":\"object\",\"name\":\"Grid\",\"id\":\"p79492\",\"attributes\":{\"dimension\":1,\"axis\":{\"id\":\"p79486\"}}}]}}],\"callbacks\":{\"type\":\"map\"}}};\n",
       "  const render_items = [{\"docid\":\"bfd5988b-d1df-4bf4-86ee-900e5cee80cc\",\"roots\":{\"p79461\":\"b76d33ed-d944-4929-b5a0-093719e94c26\"},\"root_ids\":[\"p79461\"]}];\n",
       "  root.Bokeh.embed.embed_items_notebook(docs_json, render_items);\n",
       "  }\n",
       "  if (root.Bokeh !== undefined) {\n",
       "    embed_document(root);\n",
       "  } else {\n",
       "    let attempts = 0;\n",
       "    const timer = setInterval(function(root) {\n",
       "      if (root.Bokeh !== undefined) {\n",
       "        clearInterval(timer);\n",
       "        embed_document(root);\n",
       "      } else {\n",
       "        attempts++;\n",
       "        if (attempts > 100) {\n",
       "          clearInterval(timer);\n",
       "          console.log(\"Bokeh: ERROR: Unable to run BokehJS code because BokehJS library is missing\");\n",
       "        }\n",
       "      }\n",
       "    }, 10, root)\n",
       "  }\n",
       "})(window);<\/script><script><\/script>"
      ]
     },
     "metadata":{},
     "output_type":"display_data"
    }
   ],
   "metadata":{
    "datalore":{
     "node_id":"Bpa6Fs7iogxr9s06n84drq",
     "type":"CODE",
     "hide_input_from_viewers":true,
     "hide_output_from_viewers":true
    }
   }
  },
  {
   "cell_type":"code",
   "source":[
    "from bokeh.io import output_notebook, show\n",
    "from bokeh.plotting import figure\n",
    "from bokeh.tile_providers import Vendors\n",
    "from bokeh.models import ColumnDataSource\n",
    "import numpy as np\n",
    "\n",
    "# Zobrazíme výstup priamo v Jupyter notebooku\n",
    "output_notebook()\n",
    "\n",
    "# Definícia súradníc slovenských miest (lat a lon)\n",
    "slovak_cities = {\n",
    "    'mesto': ['Bratislava', 'Košice', 'Prešov', 'Žilina', 'Nitra', 'Banská Bystrica', 'Trnava'],\n",
    "    'lat': [48.14816, 48.716385, 49.000, 49.223, 48.306, 48.738, 48.377],\n",
    "    'lon': [17.10674, 21.261074, 21.239, 18.742, 18.086, 19.149, 17.588]\n",
    "}\n",
    "\n",
    "# Prevod geografických súradníc (lat, lon) na meter (potrebné pre použitie v Bokeh mapách)\n",
    "def wgs84_to_web_mercator(lat, lon):\n",
    "    k = 6378137\n",
    "    x = lon * (k * np.pi \/ 180.0)\n",
    "    y = np.log(np.tan((90 + lat) * np.pi \/ 360.0)) * k\n",
    "    return x, y\n",
    "\n",
    "merc_x, merc_y = wgs84_to_web_mercator(np.array(slovak_cities['lat']), np.array(slovak_cities['lon']))\n",
    "\n",
    "# Zdroj dát pre mapu\n",
    "source = ColumnDataSource(data=dict(lat=merc_y, lon=merc_x, mesto=slovak_cities['mesto']))\n",
    "\n",
    "# Vytvorenie mapy\n",
    "p = figure(\n",
    "    title=\"Mapa slovenských miest\", \n",
    "    x_range=(merc_x.min()-100000, \n",
    "    merc_x.max()+100000),\n",
    "    y_range=(merc_y.min()-100000, \n",
    "    merc_y.max()+100000), \n",
    "    x_axis_type=\"mercator\", \n",
    "    y_axis_type=\"mercator\"\n",
    ")\n",
    "\n",
    "# Pridanie dlaždicovej mapy (napríklad CARTODBPOSITRON alebo OSM)\n",
    "p.add_tile(Vendors.CARTODBPOSITRON)\n",
    "\n",
    "# Pridanie bodov do mapy\n",
    "p.circle(\n",
    "    x='lon', \n",
    "    y='lat', \n",
    "    size=20, \n",
    "    fill_color=\"blue\", \n",
    "    fill_alpha=0.8, \n",
    "    source=source\n",
    ")\n",
    "\n",
    "# Zobrazenie grafu\n",
    "show(p)"
   ],
   "execution_count":119,
   "outputs":[
    {
     "data":{
      "text\/html":[
       "<style>\n",
       "        .bk-notebook-logo {\n",
       "            display: block;\n",
       "            width: 20px;\n",
       "            height: 20px;\n",
       "            background-image: url(data:image\/png;base64,iVBORw0KGgoAAAANSUhEUgAAABQAAAAUCAYAAACNiR0NAAAABHNCSVQICAgIfAhkiAAAAAlwSFlzAAALEgAACxIB0t1+\/AAAABx0RVh0U29mdHdhcmUAQWRvYmUgRmlyZXdvcmtzIENTNui8sowAAAOkSURBVDiNjZRtaJVlGMd\/1\/08zzln5zjP1LWcU9N0NkN8m2CYjpgQYQXqSs0I84OLIC0hkEKoPtiH3gmKoiJDU7QpLgoLjLIQCpEsNJ1vqUOdO7ppbuec5+V+rj4ctwzd8IIbbi6u+8f1539dt3A78eXC7QizUF7gyV1fD1Yqg4JWz84yffhm0qkFqBogB9rM8tZdtwVsPUhWhGcFJngGeWrPzHm5oaMmkfEg1usvLFyc8jLRqDOMru7AyC8saQr7GG7f5fvDeH7Ej8CM66nIF+8yngt6HWaKh7k49Soy9nXurCi1o3qUbS3zWfrYeQDTB\/Qj6kX6Ybhw4B+bOYoLKCC9H3Nu\/leUTZ1JdRWkkn2ldcCamzrcf47KKXdAJllSlxAOkRgyHsGC\/zRday5Qld9DyoM4\/q\/rUoy\/CXh3jzOu3bHUVZeU+DEn8FInkPBFlu3+nW3Nw0mk6vCDiWg8CeJaxEwuHS3+z5RgY+YBR6V1Z1nxSOfoaPa4LASWxxdNp+VWTk7+4vzaou8v8PN+xo+KY2xsw6une2frhw05CTYOmQvsEhjhWjn0bmXPjpE1+kplmmkP3suftwTubK9Vq22qKmrBhpY4jvd5afdRA3wGjFAgcnTK2s4hY0\/GPNIb0nErGMCRxWOOX64Z8RAC4oCXdklmEvcL8o0BfkNK4lUg9HTl+oPlQxdNo3Mg4Nv175e\/1LDGzZen30MEjRUtmXSfiTVu1kK8W4txyV6BMKlbgk3lMwYCiusNy9fVfvvwMxv8Ynl6vxoByANLTWplvuj\/nF9m2+PDtt1eiHPBr1oIfhCChQMBw6Aw0UulqTKZdfVvfG7VcfIqLG9bcldL\/+pdWTLxLUy8Qq38heUIjh4XlzZxzQm19lLFlr8vdQ97rjZVOLf8nclzckbcD4wxXMidpX30sFd37Fv\/GtwwhzhxGVAprjbg0gCAEeIgwCZyTV2Z1REEW8O4py0wsjeloKoMr6iCY6dP92H6Vw\/oTyICIthibxjm\/DfN9lVz8IqtqKYLUXfoKVMVQVVJOElGjrnnUt9T9wbgp8AyYKaGlqingHZU\/uG2NTZSVqwHQTWkx9hxjkpWDaCg6Ckj5qebgBVbT3V3NNXMSiWSDdGV3hrtzla7J+duwPOToIg42ChPQOQjspnSlp1V+Gjdged7+8UN5CRAV7a5EdFNwCjEaBR27b3W890TE7g24NAP\/mMDXRWrGoFPQI9ls\/MWO2dWFAar\/xcOIImbbpA3zgAAAABJRU5ErkJggg==);\n",
       "        }\n",
       "    <\/style>\n",
       "    <div>\n",
       "        <a href=\"https:\/\/bokeh.org\" target=\"_blank\" class=\"bk-notebook-logo\"><\/a>\n",
       "        <span id=\"e75addf0-c931-42f6-8ed2-430bdcd0788b\">Loading BokehJS ...<\/span>\n",
       "    <\/div>\n"
      ]
     },
     "metadata":{},
     "output_type":"display_data"
    },
    {
     "data":{
      "text\/html":[
       "<script>(function(root) {\n",
       "  function now() {\n",
       "    return new Date();\n",
       "  }\n",
       "\n",
       "  const force = true;\n",
       "\n",
       "  if (typeof root._bokeh_onload_callbacks === \"undefined\" || force === true) {\n",
       "    root._bokeh_onload_callbacks = [];\n",
       "    root._bokeh_is_loading = undefined;\n",
       "  }\n",
       "\n",
       "const JS_MIME_TYPE = 'application\/javascript';\n",
       "  const HTML_MIME_TYPE = 'text\/html';\n",
       "  const EXEC_MIME_TYPE = 'application\/vnd.bokehjs_exec.v0+json';\n",
       "  const CLASS_NAME = 'output_bokeh rendered_html';\n",
       "\n",
       "  \/**\n",
       "   * Render data to the DOM node\n",
       "   *\/\n",
       "  function render(props, node) {\n",
       "    const script = document.createElement(\"script\");\n",
       "    node.appendChild(script);\n",
       "  }\n",
       "\n",
       "  \/**\n",
       "   * Handle when an output is cleared or removed\n",
       "   *\/\n",
       "  function handleClearOutput(event, handle) {\n",
       "    const cell = handle.cell;\n",
       "\n",
       "    const id = cell.output_area._bokeh_element_id;\n",
       "    const server_id = cell.output_area._bokeh_server_id;\n",
       "    \/\/ Clean up Bokeh references\n",
       "    if (id != null && id in Bokeh.index) {\n",
       "      Bokeh.index[id].model.document.clear();\n",
       "      delete Bokeh.index[id];\n",
       "    }\n",
       "\n",
       "    if (server_id !== undefined) {\n",
       "      \/\/ Clean up Bokeh references\n",
       "      const cmd_clean = \"from bokeh.io.state import curstate; print(curstate().uuid_to_server['\" + server_id + \"'].get_sessions()[0].document.roots[0]._id)\";\n",
       "      cell.notebook.kernel.execute(cmd_clean, {\n",
       "        iopub: {\n",
       "          output: function(msg) {\n",
       "            const id = msg.content.text.trim();\n",
       "            if (id in Bokeh.index) {\n",
       "              Bokeh.index[id].model.document.clear();\n",
       "              delete Bokeh.index[id];\n",
       "            }\n",
       "          }\n",
       "        }\n",
       "      });\n",
       "      \/\/ Destroy server and session\n",
       "      const cmd_destroy = \"import bokeh.io.notebook as ion; ion.destroy_server('\" + server_id + \"')\";\n",
       "      cell.notebook.kernel.execute(cmd_destroy);\n",
       "    }\n",
       "  }\n",
       "\n",
       "  \/**\n",
       "   * Handle when a new output is added\n",
       "   *\/\n",
       "  function handleAddOutput(event, handle) {\n",
       "    const output_area = handle.output_area;\n",
       "    const output = handle.output;\n",
       "\n",
       "    \/\/ limit handleAddOutput to display_data with EXEC_MIME_TYPE content only\n",
       "    if ((output.output_type != \"display_data\") || (!Object.prototype.hasOwnProperty.call(output.data, EXEC_MIME_TYPE))) {\n",
       "      return\n",
       "    }\n",
       "\n",
       "    const toinsert = output_area.element.find(\".\" + CLASS_NAME.split(' ')[0]);\n",
       "\n",
       "    if (output.metadata[EXEC_MIME_TYPE][\"id\"] !== undefined) {\n",
       "      toinsert[toinsert.length - 1].firstChild.textContent = output.data[JS_MIME_TYPE];\n",
       "      \/\/ store reference to embed id on output_area\n",
       "      output_area._bokeh_element_id = output.metadata[EXEC_MIME_TYPE][\"id\"];\n",
       "    }\n",
       "    if (output.metadata[EXEC_MIME_TYPE][\"server_id\"] !== undefined) {\n",
       "      const bk_div = document.createElement(\"div\");\n",
       "      bk_div.innerHTML = output.data[HTML_MIME_TYPE];\n",
       "      const script_attrs = bk_div.children[0].attributes;\n",
       "      for (let i = 0; i < script_attrs.length; i++) {\n",
       "        toinsert[toinsert.length - 1].firstChild.setAttribute(script_attrs[i].name, script_attrs[i].value);\n",
       "        toinsert[toinsert.length - 1].firstChild.textContent = bk_div.children[0].textContent\n",
       "      }\n",
       "      \/\/ store reference to server id on output_area\n",
       "      output_area._bokeh_server_id = output.metadata[EXEC_MIME_TYPE][\"server_id\"];\n",
       "    }\n",
       "  }\n",
       "\n",
       "  function register_renderer(events, OutputArea) {\n",
       "\n",
       "    function append_mime(data, metadata, element) {\n",
       "      \/\/ create a DOM node to render to\n",
       "      const toinsert = this.create_output_subarea(\n",
       "        metadata,\n",
       "        CLASS_NAME,\n",
       "        EXEC_MIME_TYPE\n",
       "      );\n",
       "      this.keyboard_manager.register_events(toinsert);\n",
       "      \/\/ Render to node\n",
       "      const props = {data: data, metadata: metadata[EXEC_MIME_TYPE]};\n",
       "      render(props, toinsert[toinsert.length - 1]);\n",
       "      element.append(toinsert);\n",
       "      return toinsert\n",
       "    }\n",
       "\n",
       "    \/* Handle when an output is cleared or removed *\/\n",
       "    events.on('clear_output.CodeCell', handleClearOutput);\n",
       "    events.on('delete.Cell', handleClearOutput);\n",
       "\n",
       "    \/* Handle when a new output is added *\/\n",
       "    events.on('output_added.OutputArea', handleAddOutput);\n",
       "\n",
       "    \/**\n",
       "     * Register the mime type and append_mime function with output_area\n",
       "     *\/\n",
       "    OutputArea.prototype.register_mime_type(EXEC_MIME_TYPE, append_mime, {\n",
       "      \/* Is output safe? *\/\n",
       "      safe: true,\n",
       "      \/* Index of renderer in `output_area.display_order` *\/\n",
       "      index: 0\n",
       "    });\n",
       "  }\n",
       "\n",
       "  \/\/ register the mime type if in Jupyter Notebook environment and previously unregistered\n",
       "  if (root.Jupyter !== undefined) {\n",
       "    const events = require('base\/js\/events');\n",
       "    const OutputArea = require('notebook\/js\/outputarea').OutputArea;\n",
       "\n",
       "    if (OutputArea.prototype.mime_types().indexOf(EXEC_MIME_TYPE) == -1) {\n",
       "      register_renderer(events, OutputArea);\n",
       "    }\n",
       "  }\n",
       "  if (typeof (root._bokeh_timeout) === \"undefined\" || force === true) {\n",
       "    root._bokeh_timeout = Date.now() + 5000;\n",
       "    root._bokeh_failed_load = false;\n",
       "  }\n",
       "\n",
       "  const NB_LOAD_WARNING = {'data': {'text\/html':\n",
       "     \"<div style='background-color: #fdd'>\\n\"+\n",
       "     \"<p>\\n\"+\n",
       "     \"BokehJS does not appear to have successfully loaded. If loading BokehJS from CDN, this \\n\"+\n",
       "     \"may be due to a slow or bad network connection. Possible fixes:\\n\"+\n",
       "     \"<\/p>\\n\"+\n",
       "     \"<ul>\\n\"+\n",
       "     \"<li>re-rerun `output_notebook()` to attempt to load from CDN again, or<\/li>\\n\"+\n",
       "     \"<li>use INLINE resources instead, as so:<\/li>\\n\"+\n",
       "     \"<\/ul>\\n\"+\n",
       "     \"<code>\\n\"+\n",
       "     \"from bokeh.resources import INLINE\\n\"+\n",
       "     \"output_notebook(resources=INLINE)\\n\"+\n",
       "     \"<\/code>\\n\"+\n",
       "     \"<\/div>\"}};\n",
       "\n",
       "  function display_loaded() {\n",
       "    const el = document.getElementById(\"e75addf0-c931-42f6-8ed2-430bdcd0788b\");\n",
       "    if (el != null) {\n",
       "      el.textContent = \"BokehJS is loading...\";\n",
       "    }\n",
       "    if (root.Bokeh !== undefined) {\n",
       "      if (el != null) {\n",
       "        el.textContent = \"BokehJS \" + root.Bokeh.version + \" successfully loaded.\";\n",
       "      }\n",
       "    } else if (Date.now() < root._bokeh_timeout) {\n",
       "      setTimeout(display_loaded, 100)\n",
       "    }\n",
       "  }\n",
       "\n",
       "  function run_callbacks() {\n",
       "    try {\n",
       "      root._bokeh_onload_callbacks.forEach(function(callback) {\n",
       "        if (callback != null)\n",
       "          callback();\n",
       "      });\n",
       "    } finally {\n",
       "      delete root._bokeh_onload_callbacks\n",
       "    }\n",
       "    console.debug(\"Bokeh: all callbacks have finished\");\n",
       "  }\n",
       "\n",
       "  function load_libs(css_urls, js_urls, callback) {\n",
       "    if (css_urls == null) css_urls = [];\n",
       "    if (js_urls == null) js_urls = [];\n",
       "\n",
       "    root._bokeh_onload_callbacks.push(callback);\n",
       "    if (root._bokeh_is_loading > 0) {\n",
       "      console.debug(\"Bokeh: BokehJS is being loaded, scheduling callback at\", now());\n",
       "      return null;\n",
       "    }\n",
       "    if (js_urls == null || js_urls.length === 0) {\n",
       "      run_callbacks();\n",
       "      return null;\n",
       "    }\n",
       "    console.debug(\"Bokeh: BokehJS not loaded, scheduling load and callback at\", now());\n",
       "    root._bokeh_is_loading = css_urls.length + js_urls.length;\n",
       "\n",
       "    function on_load() {\n",
       "      root._bokeh_is_loading--;\n",
       "      if (root._bokeh_is_loading === 0) {\n",
       "        console.debug(\"Bokeh: all BokehJS libraries\/stylesheets loaded\");\n",
       "        run_callbacks()\n",
       "      }\n",
       "    }\n",
       "\n",
       "    function on_error(url) {\n",
       "      console.error(\"failed to load \" + url);\n",
       "    }\n",
       "\n",
       "    for (let i = 0; i < css_urls.length; i++) {\n",
       "      const url = css_urls[i];\n",
       "      const element = document.createElement(\"link\");\n",
       "      element.onload = on_load;\n",
       "      element.onerror = on_error.bind(null, url);\n",
       "      element.rel = \"stylesheet\";\n",
       "      element.type = \"text\/css\";\n",
       "      element.href = url;\n",
       "      console.debug(\"Bokeh: injecting link tag for BokehJS stylesheet: \", url);\n",
       "      document.body.appendChild(element);\n",
       "    }\n",
       "\n",
       "    for (let i = 0; i < js_urls.length; i++) {\n",
       "      const url = js_urls[i];\n",
       "      const element = document.createElement('script');\n",
       "      element.onload = on_load;\n",
       "      element.onerror = on_error.bind(null, url);\n",
       "      element.async = false;\n",
       "      element.src = url;\n",
       "      console.debug(\"Bokeh: injecting script tag for BokehJS library: \", url);\n",
       "      document.head.appendChild(element);\n",
       "    }\n",
       "  };\n",
       "\n",
       "  function inject_raw_css(css) {\n",
       "    const element = document.createElement(\"style\");\n",
       "    element.appendChild(document.createTextNode(css));\n",
       "    document.body.appendChild(element);\n",
       "  }\n",
       "\n",
       "  const js_urls = [\"https:\/\/cdn.bokeh.org\/bokeh\/release\/bokeh-3.1.1.min.js\", \"https:\/\/cdn.bokeh.org\/bokeh\/release\/bokeh-gl-3.1.1.min.js\", \"https:\/\/cdn.bokeh.org\/bokeh\/release\/bokeh-widgets-3.1.1.min.js\", \"https:\/\/cdn.bokeh.org\/bokeh\/release\/bokeh-tables-3.1.1.min.js\", \"https:\/\/cdn.bokeh.org\/bokeh\/release\/bokeh-mathjax-3.1.1.min.js\"];\n",
       "  const css_urls = [];\n",
       "\n",
       "  const inline_js = [    function(Bokeh) {\n",
       "      Bokeh.set_log_level(\"info\");\n",
       "    },\n",
       "function(Bokeh) {\n",
       "    }\n",
       "  ];\n",
       "\n",
       "  function run_inline_js() {\n",
       "    if (root.Bokeh !== undefined || force === true) {\n",
       "          for (let i = 0; i < inline_js.length; i++) {\n",
       "      inline_js[i].call(root, root.Bokeh);\n",
       "    }\n",
       "if (force === true) {\n",
       "        display_loaded();\n",
       "      }} else if (Date.now() < root._bokeh_timeout) {\n",
       "      setTimeout(run_inline_js, 100);\n",
       "    } else if (!root._bokeh_failed_load) {\n",
       "      console.log(\"Bokeh: BokehJS failed to load within specified timeout.\");\n",
       "      root._bokeh_failed_load = true;\n",
       "    } else if (force !== true) {\n",
       "      const cell = $(document.getElementById(\"e75addf0-c931-42f6-8ed2-430bdcd0788b\")).parents('.cell').data().cell;\n",
       "      cell.output_area.append_execute_result(NB_LOAD_WARNING)\n",
       "    }\n",
       "  }\n",
       "\n",
       "  if (root._bokeh_is_loading === 0) {\n",
       "    console.debug(\"Bokeh: BokehJS loaded, going straight to plotting\");\n",
       "    run_inline_js();\n",
       "  } else {\n",
       "    load_libs(css_urls, js_urls, function() {\n",
       "      console.debug(\"Bokeh: BokehJS plotting callback run at\", now());\n",
       "      run_inline_js();\n",
       "    });\n",
       "  }\n",
       "}(window));<\/script><script>(function(root) {\n",
       "  function now() {\n",
       "    return new Date();\n",
       "  }\n",
       "\n",
       "  const force = true;\n",
       "\n",
       "  if (typeof root._bokeh_onload_callbacks === \"undefined\" || force === true) {\n",
       "    root._bokeh_onload_callbacks = [];\n",
       "    root._bokeh_is_loading = undefined;\n",
       "  }\n",
       "\n",
       "\n",
       "  if (typeof (root._bokeh_timeout) === \"undefined\" || force === true) {\n",
       "    root._bokeh_timeout = Date.now() + 5000;\n",
       "    root._bokeh_failed_load = false;\n",
       "  }\n",
       "\n",
       "  const NB_LOAD_WARNING = {'data': {'text\/html':\n",
       "     \"<div style='background-color: #fdd'>\\n\"+\n",
       "     \"<p>\\n\"+\n",
       "     \"BokehJS does not appear to have successfully loaded. If loading BokehJS from CDN, this \\n\"+\n",
       "     \"may be due to a slow or bad network connection. Possible fixes:\\n\"+\n",
       "     \"<\/p>\\n\"+\n",
       "     \"<ul>\\n\"+\n",
       "     \"<li>re-rerun `output_notebook()` to attempt to load from CDN again, or<\/li>\\n\"+\n",
       "     \"<li>use INLINE resources instead, as so:<\/li>\\n\"+\n",
       "     \"<\/ul>\\n\"+\n",
       "     \"<code>\\n\"+\n",
       "     \"from bokeh.resources import INLINE\\n\"+\n",
       "     \"output_notebook(resources=INLINE)\\n\"+\n",
       "     \"<\/code>\\n\"+\n",
       "     \"<\/div>\"}};\n",
       "\n",
       "  function display_loaded() {\n",
       "    const el = document.getElementById(\"e75addf0-c931-42f6-8ed2-430bdcd0788b\");\n",
       "    if (el != null) {\n",
       "      el.textContent = \"BokehJS is loading...\";\n",
       "    }\n",
       "    if (root.Bokeh !== undefined) {\n",
       "      if (el != null) {\n",
       "        el.textContent = \"BokehJS \" + root.Bokeh.version + \" successfully loaded.\";\n",
       "      }\n",
       "    } else if (Date.now() < root._bokeh_timeout) {\n",
       "      setTimeout(display_loaded, 100)\n",
       "    }\n",
       "  }\n",
       "\n",
       "  function run_callbacks() {\n",
       "    try {\n",
       "      root._bokeh_onload_callbacks.forEach(function(callback) {\n",
       "        if (callback != null)\n",
       "          callback();\n",
       "      });\n",
       "    } finally {\n",
       "      delete root._bokeh_onload_callbacks\n",
       "    }\n",
       "    console.debug(\"Bokeh: all callbacks have finished\");\n",
       "  }\n",
       "\n",
       "  function load_libs(css_urls, js_urls, callback) {\n",
       "    if (css_urls == null) css_urls = [];\n",
       "    if (js_urls == null) js_urls = [];\n",
       "\n",
       "    root._bokeh_onload_callbacks.push(callback);\n",
       "    if (root._bokeh_is_loading > 0) {\n",
       "      console.debug(\"Bokeh: BokehJS is being loaded, scheduling callback at\", now());\n",
       "      return null;\n",
       "    }\n",
       "    if (js_urls == null || js_urls.length === 0) {\n",
       "      run_callbacks();\n",
       "      return null;\n",
       "    }\n",
       "    console.debug(\"Bokeh: BokehJS not loaded, scheduling load and callback at\", now());\n",
       "    root._bokeh_is_loading = css_urls.length + js_urls.length;\n",
       "\n",
       "    function on_load() {\n",
       "      root._bokeh_is_loading--;\n",
       "      if (root._bokeh_is_loading === 0) {\n",
       "        console.debug(\"Bokeh: all BokehJS libraries\/stylesheets loaded\");\n",
       "        run_callbacks()\n",
       "      }\n",
       "    }\n",
       "\n",
       "    function on_error(url) {\n",
       "      console.error(\"failed to load \" + url);\n",
       "    }\n",
       "\n",
       "    for (let i = 0; i < css_urls.length; i++) {\n",
       "      const url = css_urls[i];\n",
       "      const element = document.createElement(\"link\");\n",
       "      element.onload = on_load;\n",
       "      element.onerror = on_error.bind(null, url);\n",
       "      element.rel = \"stylesheet\";\n",
       "      element.type = \"text\/css\";\n",
       "      element.href = url;\n",
       "      console.debug(\"Bokeh: injecting link tag for BokehJS stylesheet: \", url);\n",
       "      document.body.appendChild(element);\n",
       "    }\n",
       "\n",
       "    for (let i = 0; i < js_urls.length; i++) {\n",
       "      const url = js_urls[i];\n",
       "      const element = document.createElement('script');\n",
       "      element.onload = on_load;\n",
       "      element.onerror = on_error.bind(null, url);\n",
       "      element.async = false;\n",
       "      element.src = url;\n",
       "      console.debug(\"Bokeh: injecting script tag for BokehJS library: \", url);\n",
       "      document.head.appendChild(element);\n",
       "    }\n",
       "  };\n",
       "\n",
       "  function inject_raw_css(css) {\n",
       "    const element = document.createElement(\"style\");\n",
       "    element.appendChild(document.createTextNode(css));\n",
       "    document.body.appendChild(element);\n",
       "  }\n",
       "\n",
       "  const js_urls = [\"https:\/\/cdn.bokeh.org\/bokeh\/release\/bokeh-3.1.1.min.js\", \"https:\/\/cdn.bokeh.org\/bokeh\/release\/bokeh-gl-3.1.1.min.js\", \"https:\/\/cdn.bokeh.org\/bokeh\/release\/bokeh-widgets-3.1.1.min.js\", \"https:\/\/cdn.bokeh.org\/bokeh\/release\/bokeh-tables-3.1.1.min.js\", \"https:\/\/cdn.bokeh.org\/bokeh\/release\/bokeh-mathjax-3.1.1.min.js\"];\n",
       "  const css_urls = [];\n",
       "\n",
       "  const inline_js = [    function(Bokeh) {\n",
       "      Bokeh.set_log_level(\"info\");\n",
       "    },\n",
       "function(Bokeh) {\n",
       "    }\n",
       "  ];\n",
       "\n",
       "  function run_inline_js() {\n",
       "    if (root.Bokeh !== undefined || force === true) {\n",
       "          for (let i = 0; i < inline_js.length; i++) {\n",
       "      inline_js[i].call(root, root.Bokeh);\n",
       "    }\n",
       "if (force === true) {\n",
       "        display_loaded();\n",
       "      }} else if (Date.now() < root._bokeh_timeout) {\n",
       "      setTimeout(run_inline_js, 100);\n",
       "    } else if (!root._bokeh_failed_load) {\n",
       "      console.log(\"Bokeh: BokehJS failed to load within specified timeout.\");\n",
       "      root._bokeh_failed_load = true;\n",
       "    } else if (force !== true) {\n",
       "      const cell = $(document.getElementById(\"e75addf0-c931-42f6-8ed2-430bdcd0788b\")).parents('.cell').data().cell;\n",
       "      cell.output_area.append_execute_result(NB_LOAD_WARNING)\n",
       "    }\n",
       "  }\n",
       "\n",
       "  if (root._bokeh_is_loading === 0) {\n",
       "    console.debug(\"Bokeh: BokehJS loaded, going straight to plotting\");\n",
       "    run_inline_js();\n",
       "  } else {\n",
       "    load_libs(css_urls, js_urls, function() {\n",
       "      console.debug(\"Bokeh: BokehJS plotting callback run at\", now());\n",
       "      run_inline_js();\n",
       "    });\n",
       "  }\n",
       "}(window));<\/script>"
      ]
     },
     "metadata":{},
     "output_type":"display_data"
    },
    {
     "data":{
      "text\/html":[
       "\n",
       "  <div id=\"bac2fff1-2670-4f9a-b29d-455bacbf78a5\" data-root-id=\"p84259\" style=\"display: contents;\"><\/div>\n"
      ]
     },
     "metadata":{},
     "output_type":"display_data"
    },
    {
     "data":{
      "text\/html":[
       "<script>(function(root) {\n",
       "  function embed_document(root) {\n",
       "  const docs_json = {\"66bcf6a8-3bd3-4f39-b55f-67e88c584cc7\":{\"version\":\"3.1.1\",\"title\":\"Bokeh Application\",\"defs\":[],\"roots\":[{\"type\":\"object\",\"name\":\"Figure\",\"id\":\"p84259\",\"attributes\":{\"x_range\":{\"type\":\"object\",\"name\":\"Range1d\",\"id\":\"p84269\",\"attributes\":{\"start\":1804313.5859329246,\"end\":2466771.9313981086}},\"y_range\":{\"type\":\"object\",\"name\":\"Range1d\",\"id\":\"p84271\",\"attributes\":{\"start\":6031538.8694153745,\"end\":6412784.885634715}},\"x_scale\":{\"type\":\"object\",\"name\":\"LinearScale\",\"id\":\"p84273\"},\"y_scale\":{\"type\":\"object\",\"name\":\"LinearScale\",\"id\":\"p84275\"},\"title\":{\"type\":\"object\",\"name\":\"Title\",\"id\":\"p84262\",\"attributes\":{\"text\":\"Mapa slovensk\\u00fdch miest\"}},\"renderers\":[{\"type\":\"object\",\"name\":\"TileRenderer\",\"id\":\"p84315\",\"attributes\":{\"tile_source\":{\"type\":\"object\",\"name\":\"WMTSTileSource\",\"id\":\"p84314\",\"attributes\":{\"url\":\"https:\/\/a.basemaps.cartocdn.com\/light_all\/{z}\/{x}\/{y}.png\",\"max_zoom\":20,\"attribution\":\"&copy; <a href=\\\"https:\/\/www.openstreetmap.org\/copyright\\\">OpenStreetMap<\/a> contributors &copy; <a href=\\\"https:\/\/carto.com\/attributions\\\">CARTO<\/a>\"}}}},{\"type\":\"object\",\"name\":\"GlyphRenderer\",\"id\":\"p84323\",\"attributes\":{\"data_source\":{\"type\":\"object\",\"name\":\"ColumnDataSource\",\"id\":\"p84256\",\"attributes\":{\"selected\":{\"type\":\"object\",\"name\":\"Selection\",\"id\":\"p84258\",\"attributes\":{\"indices\":[],\"line_indices\":[]}},\"selection_policy\":{\"type\":\"object\",\"name\":\"UnionRenderers\",\"id\":\"p84257\"},\"data\":{\"type\":\"map\",\"entries\":[[\"lat\",{\"type\":\"ndarray\",\"array\":{\"type\":\"bytes\",\"data\":\"YoCkt9RjV0EqPJSK7sBXQVtnN1nL71dBOj2uONQUWEEICMqJln1XQewTynV+xFdBMo22PDOJV0E=\"},\"shape\":[7],\"dtype\":\"float64\",\"order\":\"little\"}],[\"lon\",{\"type\":\"ndarray\",\"array\":{\"type\":\"bytes\",\"data\":\"PbP\/lbkOPUGgDTj3mQ5CQdVaHVXNCUJB55V95c3VP0HpFXxPjLg+QeAJ8HZkQ0BBohE+NP\/fPUE=\"},\"shape\":[7],\"dtype\":\"float64\",\"order\":\"little\"}],[\"mesto\",[\"Bratislava\",\"Ko\\u0161ice\",\"Pre\\u0161ov\",\"\\u017dilina\",\"Nitra\",\"Bansk\\u00e1 Bystrica\",\"Trnava\"]]]}}},\"view\":{\"type\":\"object\",\"name\":\"CDSView\",\"id\":\"p84324\",\"attributes\":{\"filter\":{\"type\":\"object\",\"name\":\"AllIndices\",\"id\":\"p84325\"}}},\"glyph\":{\"type\":\"object\",\"name\":\"Circle\",\"id\":\"p84320\",\"attributes\":{\"x\":{\"type\":\"field\",\"field\":\"lon\"},\"y\":{\"type\":\"field\",\"field\":\"lat\"},\"size\":{\"type\":\"value\",\"value\":20},\"line_color\":{\"type\":\"value\",\"value\":\"#1f77b4\"},\"fill_color\":{\"type\":\"value\",\"value\":\"blue\"},\"fill_alpha\":{\"type\":\"value\",\"value\":0.8}}},\"nonselection_glyph\":{\"type\":\"object\",\"name\":\"Circle\",\"id\":\"p84321\",\"attributes\":{\"x\":{\"type\":\"field\",\"field\":\"lon\"},\"y\":{\"type\":\"field\",\"field\":\"lat\"},\"size\":{\"type\":\"value\",\"value\":20},\"line_color\":{\"type\":\"value\",\"value\":\"#1f77b4\"},\"line_alpha\":{\"type\":\"value\",\"value\":0.1},\"fill_color\":{\"type\":\"value\",\"value\":\"blue\"},\"fill_alpha\":{\"type\":\"value\",\"value\":0.1},\"hatch_alpha\":{\"type\":\"value\",\"value\":0.1}}},\"muted_glyph\":{\"type\":\"object\",\"name\":\"Circle\",\"id\":\"p84322\",\"attributes\":{\"x\":{\"type\":\"field\",\"field\":\"lon\"},\"y\":{\"type\":\"field\",\"field\":\"lat\"},\"size\":{\"type\":\"value\",\"value\":20},\"line_color\":{\"type\":\"value\",\"value\":\"#1f77b4\"},\"line_alpha\":{\"type\":\"value\",\"value\":0.2},\"fill_color\":{\"type\":\"value\",\"value\":\"blue\"},\"fill_alpha\":{\"type\":\"value\",\"value\":0.2},\"hatch_alpha\":{\"type\":\"value\",\"value\":0.2}}}}}],\"toolbar\":{\"type\":\"object\",\"name\":\"Toolbar\",\"id\":\"p84266\",\"attributes\":{\"tools\":[{\"type\":\"object\",\"name\":\"PanTool\",\"id\":\"p84299\"},{\"type\":\"object\",\"name\":\"WheelZoomTool\",\"id\":\"p84300\"},{\"type\":\"object\",\"name\":\"BoxZoomTool\",\"id\":\"p84301\",\"attributes\":{\"overlay\":{\"type\":\"object\",\"name\":\"BoxAnnotation\",\"id\":\"p84302\",\"attributes\":{\"syncable\":false,\"level\":\"overlay\",\"visible\":false,\"left_units\":\"canvas\",\"right_units\":\"canvas\",\"bottom_units\":\"canvas\",\"top_units\":\"canvas\",\"line_color\":\"black\",\"line_alpha\":1.0,\"line_width\":2,\"line_dash\":[4,4],\"fill_color\":\"lightgrey\",\"fill_alpha\":0.5}}}},{\"type\":\"object\",\"name\":\"SaveTool\",\"id\":\"p84303\"},{\"type\":\"object\",\"name\":\"ResetTool\",\"id\":\"p84304\"},{\"type\":\"object\",\"name\":\"HelpTool\",\"id\":\"p84305\"}]}},\"left\":[{\"type\":\"object\",\"name\":\"MercatorAxis\",\"id\":\"p84288\",\"attributes\":{\"ticker\":{\"type\":\"object\",\"name\":\"MercatorTicker\",\"id\":\"p84290\",\"attributes\":{\"mantissas\":[1,2,5],\"dimension\":\"lat\"}},\"formatter\":{\"type\":\"object\",\"name\":\"MercatorTickFormatter\",\"id\":\"p84291\",\"attributes\":{\"dimension\":\"lat\"}},\"major_label_policy\":{\"type\":\"object\",\"name\":\"AllLabels\",\"id\":\"p84289\"}}}],\"below\":[{\"type\":\"object\",\"name\":\"MercatorAxis\",\"id\":\"p84277\",\"attributes\":{\"ticker\":{\"type\":\"object\",\"name\":\"MercatorTicker\",\"id\":\"p84279\",\"attributes\":{\"mantissas\":[1,2,5],\"dimension\":\"lon\"}},\"formatter\":{\"type\":\"object\",\"name\":\"MercatorTickFormatter\",\"id\":\"p84280\",\"attributes\":{\"dimension\":\"lon\"}},\"major_label_policy\":{\"type\":\"object\",\"name\":\"AllLabels\",\"id\":\"p84278\"}}}],\"center\":[{\"type\":\"object\",\"name\":\"Grid\",\"id\":\"p84287\",\"attributes\":{\"axis\":{\"id\":\"p84277\"}}},{\"type\":\"object\",\"name\":\"Grid\",\"id\":\"p84298\",\"attributes\":{\"dimension\":1,\"axis\":{\"id\":\"p84288\"}}}]}}],\"callbacks\":{\"type\":\"map\"}}};\n",
       "  const render_items = [{\"docid\":\"66bcf6a8-3bd3-4f39-b55f-67e88c584cc7\",\"roots\":{\"p84259\":\"bac2fff1-2670-4f9a-b29d-455bacbf78a5\"},\"root_ids\":[\"p84259\"]}];\n",
       "  root.Bokeh.embed.embed_items_notebook(docs_json, render_items);\n",
       "  }\n",
       "  if (root.Bokeh !== undefined) {\n",
       "    embed_document(root);\n",
       "  } else {\n",
       "    let attempts = 0;\n",
       "    const timer = setInterval(function(root) {\n",
       "      if (root.Bokeh !== undefined) {\n",
       "        clearInterval(timer);\n",
       "        embed_document(root);\n",
       "      } else {\n",
       "        attempts++;\n",
       "        if (attempts > 100) {\n",
       "          clearInterval(timer);\n",
       "          console.log(\"Bokeh: ERROR: Unable to run BokehJS code because BokehJS library is missing\");\n",
       "        }\n",
       "      }\n",
       "    }, 10, root)\n",
       "  }\n",
       "})(window);<\/script><script><\/script>"
      ]
     },
     "metadata":{},
     "output_type":"display_data"
    }
   ],
   "metadata":{
    "datalore":{
     "node_id":"JmMbgQn2UXf7S5ces8DMhX",
     "type":"CODE",
     "hide_input_from_viewers":true,
     "hide_output_from_viewers":true
    }
   }
  }
 ],
 "metadata":{
  "kernelspec":{
   "display_name":"Python",
   "language":"python",
   "name":"python"
  },
  "datalore":{
   "computation_mode":"JUPYTER",
   "package_manager":"pip",
   "base_environment":"default",
   "packages":[],
   "report_row_ids":[
    "BuaxZHVowM1NDgIm5SGTW6",
    "nT01gqoCPDuxVxR1lZEjaG",
    "HnEJbqSEA5YeuN0S9J1MeG",
    "dt5hnZzXUFlltVlRnzQ6cE",
    "iF77wHN3KjirO3UBNMvq29",
    "fkCSJJhXTqtJ0foV4CZkjt",
    "E9cX2hSUAeBjar0TwM5syB",
    "csTaUBzwY1G6f6IoNz36lu",
    "WBOAojo2SfYR7FtzUsMDna",
    "4Ml2nJBg3YA5b888QcDtvX",
    "OUKhS7mp8fwrY3964Ez5y2",
    "m2yJ0WSWZS9uU0PymTdk79",
    "g0B6TRajuZsVSDETVtF4XR",
    "dLyUYYqxeb0pGMnsTKYOJk",
    "XmrrntkpfqpOEv14b1AWu4",
    "xdvYR1r5V3JHEb1AKLtndL",
    "2Bx7dAyMwfFgln8QkHrpJq",
    "YLZVSgnIbSmavWbowrdS8q",
    "g7KfLAHAMyhSnO4Na3rtV2",
    "xS8HaGjyVIprXoHLzaZeG6",
    "yDnUZRdNbM8mTn9X47mDZP",
    "DDn7df11BmiRIZOvOfmH3x",
    "S0Db82KeEH6AMyZTsAzoNq",
    "OtQfIcnqT3bqgAGqS1GBrC",
    "ODTjgljc4F3gclXmhwTVSu",
    "U8WIV4tF0QEKHBplKZyDbc",
    "9nUi8dnJaJs1hA8dxPH3Hl",
    "PFqY3pQMHxzDThg6JKK739",
    "FMUGO3BhTNVzCt2y6deLRi",
    "RgqbOcIgNklcFGM46c39fN",
    "6V665QJ9YOu9wzx7OCKIhb",
    "myhhnezgQ0zvYlWpblthei",
    "y4aNfeuepxv0VtxamAA5vR",
    "micetiPPogLZ8yu6ioRsxF",
    "jBbIE1LidcCwStSAPH686f",
    "FHLb1t5D4UzHBPFKU8z9be",
    "HILTdb7mG4v80s6SHesxY7",
    "piFepyW9JQBjGesRNWdPHa",
    "X6nqi3oJwt16DJftTl0Z0q",
    "05Cu7Nw9CpGsa9aW93eKFA",
    "CJU41iHhNU085OV3ueY0PG",
    "OOGPy5OMyaVQSFQgwsNSSK",
    "CjgWXCSVrTczqlFotxVOXu",
    "djVznlnjdEwp9DpWqJCd58",
    "XNnoBuYVjp4XptuOzsnllh",
    "SZ4tB7Mrwqg6y4Ep90mk03",
    "SEP0IYSTXURbeKKiUMzukE",
    "mbdbzZklzOhFA9VaNO2LuF",
    "L7c9OdwRdJCrVIJjBI9FTE",
    "rruqSWkjmMnZ2BIvB3MSgX",
    "titqCmfkhMtEm1p8NjaGqC",
    "p9DgjhAmfNTcIvw8PlvEvn",
    "1AGXVeheUwlx0CoYOKaVos",
    "qTSjJR9z2qsSoz8xBd2Ixz",
    "MiCZDHRulYDa8k83MEERnW",
    "q6WzQrLyYicFIz3mhHX9rh",
    "uCjThPLnrYKsUJWnC8Rdbc",
    "0YQg2poAuoghVGOMNpoiNy",
    "G7EWHNHgoSNB0QBANJfxs3",
    "S8iYHru66vQ4dKnsKHWIqm",
    "5kv1w4O5BsIKftFfvTYt9R",
    "QVcZYHEOXcko9BWCtk55bz",
    "aJP3y2yXBzjJFE1t5NJMIN",
    "JW6knZSqV20BbILMOudfR1",
    "PCzzRbx4j9O16J55u6XezX",
    "lIsaieeolgRO4Vobl2iJSN",
    "aTu6IdH6uXEwUIlBHYhTcy"
   ],
   "version":3
  }
 },
 "nbformat":4,
 "nbformat_minor":4
}